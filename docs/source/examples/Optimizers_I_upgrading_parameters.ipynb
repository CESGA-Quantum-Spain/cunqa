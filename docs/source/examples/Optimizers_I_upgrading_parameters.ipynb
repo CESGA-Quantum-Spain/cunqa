{
 "cells": [
  {
   "cell_type": "code",
   "execution_count": null,
   "id": "c532632a",
   "metadata": {},
   "outputs": [],
   "source": [
    "import os, sys\n",
    "\n",
    "# path to access c++ files\n",
    "sys.path.append(os.getenv(\"HOME\"))"
   ]
  },
  {
   "cell_type": "code",
   "execution_count": 2,
   "id": "c2d0c54e",
   "metadata": {},
   "outputs": [
    {
     "name": "stdout",
     "output_type": "stream",
     "text": [
      "QPU 0, backend: BasicAer, simulator: AerSimulator, version: 0.0.1.\n",
      "QPU 1, backend: BasicAer, simulator: AerSimulator, version: 0.0.1.\n",
      "QPU 2, backend: BasicAer, simulator: AerSimulator, version: 0.0.1.\n",
      "QPU 3, backend: BasicAer, simulator: AerSimulator, version: 0.0.1.\n",
      "QPU 4, backend: BasicAer, simulator: AerSimulator, version: 0.0.1.\n"
     ]
    }
   ],
   "source": [
    "from cunqa import getQPUs\n",
    "\n",
    "qpus  = getQPUs()\n",
    "\n",
    "for q in qpus:\n",
    "    print(f\"QPU {q.id}, backend: {q.backend.name}, simulator: {q.backend.simulator}, version: {q.backend.version}.\")\n"
   ]
  },
  {
   "cell_type": "markdown",
   "id": "5db7e8c6",
   "metadata": {},
   "source": [
    "# Examples for optimizations"
   ]
  },
  {
   "cell_type": "markdown",
   "id": "4faa81e1",
   "metadata": {},
   "source": [
    "Before sending a circuit to the QClient, a transpilation process occurs (if not, it is done by the user). This process, in some cases, can take much time and resources, in addition to the sending cost itself. If we were to execute a single circuit once, it shouldn´t be a big problem, but it is when it comes to variational algorithms.\n",
    "\n",
    "This quantum-classical algorithms require several executions of the same circuit but changing the value of the parameters, which are optimized in the classical part. In order to optimize this, we developed a functionallity that allows the user to upgrade the circuit parameters with no extra transpilations of the circuit, sending to the `QClient` the list of the parameters **ONLY**. This is of much advantage to speed up the computation in the cases in which transpilation takes a significant part of the total time of the simulation.\n",
    "\n",
    "Let´s see how to work with this feature taking as an example a _Variational Quantum Algorithm_ for state preparation.\n",
    "\n",
    "We start from a _Hardware Efficient Ansatz_ to build our parametrized circuit:"
   ]
  },
  {
   "cell_type": "code",
   "execution_count": 3,
   "id": "b0a68703",
   "metadata": {},
   "outputs": [],
   "source": [
    "from qiskit import QuantumCircuit\n",
    "from qiskit.circuit import Parameter\n",
    "\n",
    "def hardware_efficient_ansatz(num_qubits, num_layers):\n",
    "    qc = QuantumCircuit(num_qubits)\n",
    "    param_idx = 0\n",
    "    for _ in range(num_layers):\n",
    "        for qubit in range(num_qubits):\n",
    "            phi = Parameter(f'phi_{param_idx}_{qubit}')\n",
    "            lam = Parameter(f'lam_{param_idx}_{qubit}')\n",
    "            qc.ry(phi, qubit)\n",
    "            qc.rz(lam, qubit)\n",
    "        param_idx += 1\n",
    "        for qubit in range(num_qubits - 1):\n",
    "            qc.cx(qubit, qubit + 1)\n",
    "    qc.measure_all()\n",
    "    return qc"
   ]
  },
  {
   "cell_type": "markdown",
   "id": "6b9f1aa6",
   "metadata": {},
   "source": [
    "The we need a cost function. We will define a target distribution and measure how far we are from it. We choose to prepare a normal distribution among all the $2^n$ possible outcomes of the circuit."
   ]
  },
  {
   "cell_type": "code",
   "execution_count": 4,
   "id": "4e4b9c38",
   "metadata": {},
   "outputs": [],
   "source": [
    "def target_distribution(num_qubits):\n",
    "    # Define a normal distribution over the states\n",
    "    num_states = 2 ** num_qubits\n",
    "    states = np.arange(num_states)\n",
    "    mean = num_states / 2\n",
    "    std_dev = num_states / 4\n",
    "    target_probs = norm.pdf(states, mean, std_dev)\n",
    "    target_probs /= target_probs.sum()  # Normalize to make it a valid probability distribution\n",
    "    target_dist = {format(i, f'0{num_qubits}b'): target_probs[i] for i in range(num_states)}\n",
    "    return target_dist\n",
    "\n",
    "import pandas as pd\n",
    "from scipy.stats import entropy, norm\n",
    "\n",
    "def KL_divergence(counts, n_shots, target_dist):\n",
    "    # Convert counts to probabilities\n",
    "    pdf = pd.DataFrame.from_dict(counts, orient=\"index\").reset_index()\n",
    "    pdf.rename(columns={\"index\": \"state\", 0: \"counts\"}, inplace=True)\n",
    "    pdf[\"probability\"] = pdf[\"counts\"] / n_shots\n",
    "    \n",
    "    # Create a dictionary for the obtained distribution\n",
    "    obtained_dist = pdf.set_index(\"state\")[\"probability\"].to_dict()\n",
    "    \n",
    "    # Ensure all states are present in the obtained distribution\n",
    "    for state in target_dist:\n",
    "        if state not in obtained_dist:\n",
    "            obtained_dist[state] = 0.0\n",
    "    \n",
    "    # Convert distributions to lists for KL divergence calculation\n",
    "    target_probs = [target_dist[state] for state in sorted(target_dist)]\n",
    "    obtained_probs = [obtained_dist[state] for state in sorted(obtained_dist)]\n",
    "    \n",
    "    # Calculate KL divergence\n",
    "    kl_divergence = entropy(obtained_probs, target_probs)\n",
    "    \n",
    "    return kl_divergence\n",
    "    "
   ]
  },
  {
   "cell_type": "code",
   "execution_count": 5,
   "id": "c74e1438",
   "metadata": {},
   "outputs": [],
   "source": [
    "num_qubits = 6\n",
    "\n",
    "num_layers = 3\n",
    "\n",
    "n_shots = 1e5"
   ]
  },
  {
   "cell_type": "markdown",
   "id": "d23f13db",
   "metadata": {},
   "source": [
    "### Simply using the `QPU.run()` method"
   ]
  },
  {
   "cell_type": "markdown",
   "id": "fa26a3eb",
   "metadata": {},
   "source": [
    "At first we should try the intiutive alternative: upgrading parameters at the QClient, transpiling and sending the whole circuit to the QPU."
   ]
  },
  {
   "cell_type": "code",
   "execution_count": 6,
   "id": "5398907b",
   "metadata": {},
   "outputs": [],
   "source": [
    "def cost_function_run(params):\n",
    "    n_shots = 1e5\n",
    "    target_dist = target_distribution(num_qubits)\n",
    "    \n",
    "    circuit = ansatz.assign_parameters(params)\n",
    "    \n",
    "    result = qpu.run(circuit, transpile = True, opt_level = 0, shots = n_shots).result()\n",
    "    \n",
    "    counts = result.get_counts()\n",
    "    \n",
    "    return KL_divergence(counts, n_shots, target_dist)"
   ]
  },
  {
   "cell_type": "markdown",
   "id": "d3ec8a31",
   "metadata": {},
   "source": [
    "Our cost function updates the parameters given by the optimizer, asigns them to the ansatz and sends the circuit with the transpilation option set `True`. Let´s choose a QPU to work with and go ahead with the optimization:"
   ]
  },
  {
   "cell_type": "code",
   "execution_count": 7,
   "id": "6e2d80b8",
   "metadata": {},
   "outputs": [],
   "source": [
    "import numpy as np\n",
    "import time\n",
    "\n",
    "qpu = qpus[0]"
   ]
  },
  {
   "cell_type": "code",
   "execution_count": 8,
   "id": "052a5b83",
   "metadata": {
    "scrolled": true
   },
   "outputs": [
    {
     "name": "stdout",
     "output_type": "stream",
     "text": [
      "Iteration step 0: f(x) = 5.644885693319627\n",
      "Iteration step 20: f(x) = 3.2445195698171907\n",
      "Iteration step 40: f(x) = 0.6966290427761286\n",
      "Iteration step 60: f(x) = 0.5163598407043049\n",
      "Iteration step 80: f(x) = 0.44852083459660524\n",
      "Iteration step 100: f(x) = 0.38505451594736056\n",
      "Iteration step 120: f(x) = 0.17479915421919842\n",
      "Iteration step 140: f(x) = 0.1511853513109766\n",
      "Iteration step 160: f(x) = 0.13348275797727643\n",
      "Iteration step 180: f(x) = 0.11725829882821526\n",
      "Iteration step 200: f(x) = 0.09629509929195565\n",
      "Iteration step 220: f(x) = 0.09371148655873274\n",
      "Iteration step 240: f(x) = 0.08307941565006814\n",
      "Iteration step 260: f(x) = 0.08037262815685492\n",
      "Iteration step 280: f(x) = 0.07056386232882396\n",
      "Iteration step 300: f(x) = 0.06440830643687238\n",
      "Iteration step 320: f(x) = 0.056024271864987436\n",
      "Iteration step 340: f(x) = 0.051716060968955695\n",
      "Iteration step 360: f(x) = 0.04994929260411999\n",
      "Iteration step 380: f(x) = 0.043279654006247587\n",
      "Iteration step 400: f(x) = 0.04165219341000945\n",
      "Iteration step 420: f(x) = 0.03974008119898327\n",
      "Iteration step 440: f(x) = 0.03898574222140005\n",
      "Iteration step 460: f(x) = 0.03609695539835919\n",
      "Iteration step 480: f(x) = 0.0357186556700089\n",
      "Iteration step 500: f(x) = 0.03396639170375039\n",
      "Iteration step 520: f(x) = 0.032924421241943995\n",
      "Iteration step 540: f(x) = 0.031949132184171614\n",
      "Iteration step 560: f(x) = 0.0299792630203667\n",
      "Iteration step 580: f(x) = 0.029445010409240337\n",
      "Iteration step 600: f(x) = 0.029291780302537533\n",
      "Iteration step 620: f(x) = 0.027952763802502334\n",
      "Iteration step 640: f(x) = 0.02776411392367933\n",
      "Iteration step 660: f(x) = 0.027534960652997712\n",
      "Iteration step 680: f(x) = 0.026318087793771733\n",
      "Iteration step 700: f(x) = 0.026055551120457814\n",
      "Iteration step 720: f(x) = 0.025381724226244937\n",
      "Iteration step 740: f(x) = 0.024930805728908736\n",
      "Iteration step 760: f(x) = 0.024756273034879796\n",
      "Iteration step 780: f(x) = 0.024917699833493408\n",
      "Iteration step 800: f(x) = 0.024519497099077338\n",
      "Iteration step 820: f(x) = 0.024280194256843274\n",
      "Iteration step 840: f(x) = 0.02401759589285833\n",
      "\n",
      "   Normal return from subroutine COBYLA\n",
      "\n",
      "   NFVALS =  853   F = 2.405536E-02    MAXCV = 0.000000E+00\n",
      "   X = 1.533561E-01  -1.701791E-01   1.040790E+00   5.155684E-01   7.327611E-01\n",
      "       2.754832E-02   1.295213E-01   7.521480E-02   7.435753E-01  -2.792473E-01\n",
      "       6.166424E-01   7.980617E-01   5.164768E-01   1.923278E-01  -1.354031E-01\n",
      "      -2.263873E-02   1.852080E-01  -1.039656E+00   3.676586E-01   2.506704E-01\n",
      "       5.966658E-01   9.388681E-01   7.721258E-01   7.624576E-01   1.454144E+00\n",
      "      -1.187910E-01   1.217946E+00  -5.867870E-01   9.166965E-01  -1.611112E-01\n",
      "      -3.606313E-01   1.426909E+00   1.264951E-01   1.676557E+00  -3.401569E-01\n",
      "       1.681520E+00\n",
      "\n",
      "Total optimization time:  130.29288744926453  s\n",
      "\n"
     ]
    }
   ],
   "source": [
    "ansatz = hardware_efficient_ansatz(num_qubits, num_layers)\n",
    "\n",
    "num_parameters = ansatz.num_parameters\n",
    "\n",
    "initial_parameters = np.zeros(num_parameters)\n",
    "\n",
    "from scipy.optimize import minimize\n",
    "\n",
    "i = 0\n",
    "\n",
    "cost_run = []\n",
    "individuals_run = []\n",
    "\n",
    "def callback(xk):\n",
    "    global i\n",
    "    e = cost_function_run(xk)\n",
    "    individuals_run.append(xk)\n",
    "    cost_run.append(e)\n",
    "    if i%20 == 0:\n",
    "        print(f\"Iteration step {i}: f(x) = {e}\")\n",
    "    i+=1\n",
    "\n",
    "tick = time.time()\n",
    "optimization_result_run = minimize(cost_function_run, initial_parameters, method='COBYLA',\n",
    "        callback=callback, tol = 0.01,\n",
    "        options={\n",
    "        'disp': True,     # Print info at the end\n",
    "        'maxiter': 4000   # Limit the number of iterations\n",
    "    })\n",
    "tack = time.time()\n",
    "time_run = tack-tick\n",
    "print()\n",
    "print(\"Total optimization time: \", time_run, \" s\")\n",
    "print()"
   ]
  },
  {
   "cell_type": "code",
   "execution_count": 9,
   "id": "bcc4cf95",
   "metadata": {},
   "outputs": [
    {
     "data": {
      "image/png": "[encoded data removed]",
      "text/plain": [
       "<Figure size 432x288 with 1 Axes>"
      ]
     },
     "metadata": {
      "needs_background": "light"
     },
     "output_type": "display_data"
    }
   ],
   "source": [
    "%matplotlib inline\n",
    "\n",
    "import matplotlib.pyplot as plt\n",
    "plt.clf()\n",
    "plt.plot(np.linspace(0, optimization_result_run.nfev, optimization_result_run.nfev), cost_run, label=\"Optimization path (run())\")\n",
    "upper_bound = optimization_result_run.nfev\n",
    "plt.plot(np.linspace(0, upper_bound, upper_bound), np.zeros(upper_bound), \"--\", label=\"Target cost\")\n",
    "plt.xlabel(\"Step\"); plt.ylabel(\"Cost\"); plt.legend(loc=\"upper right\"); plt.title(f\"n = {num_qubits}, l = {num_layers}, # params = {num_parameters}\")\n",
    "plt.grid(True)\n",
    "plt.show()\n",
    "# plt.savefig(f\"optimization_run_n_{num_qubits}_p_{num_parameters}.png\", dpi=200)"
   ]
  },
  {
   "cell_type": "markdown",
   "id": "bdbc16b7",
   "metadata": {},
   "source": [
    "### Using `QJob.upgrade_parameters()`"
   ]
  },
  {
   "cell_type": "markdown",
   "id": "9113393a",
   "metadata": {},
   "source": [
    "The first step now is to create the `qjob.QJob` object that which parameters we are going to upgrade in each step of the optimization; for that, we must run a circuit with initial parameters in a QPU, the procedure is as we explained above:"
   ]
  },
  {
   "cell_type": "code",
   "execution_count": 10,
   "id": "d44dbc23",
   "metadata": {},
   "outputs": [],
   "source": [
    "ansatz = hardware_efficient_ansatz(num_qubits, num_layers)\n",
    "\n",
    "num_parameters = ansatz.num_parameters\n",
    "\n",
    "initial_parameters = np.zeros(num_parameters)\n",
    "\n",
    "circuit = ansatz.assign_parameters(initial_parameters)\n",
    "\n",
    "qjob = qpu.run(circuit, transpile = True, opt_level = 0, shots = n_shots)"
   ]
  },
  {
   "cell_type": "markdown",
   "id": "e90da639",
   "metadata": {},
   "source": [
    "Now that we have sent to the virtual QPU the transpiled circuit, we can use the method `qjob.QJob.upgrade_parameters()` to change the rotations of the gates:"
   ]
  },
  {
   "cell_type": "code",
   "execution_count": 11,
   "id": "ec54866c",
   "metadata": {
    "scrolled": false
   },
   "outputs": [
    {
     "name": "stdout",
     "output_type": "stream",
     "text": [
      "Result with initial_parameters: \n",
      "{'000000': 100000}\n",
      "\n",
      "Result with random_parameters: \n",
      "{'000000': 4991, '000001': 733, '010000': 1207, '010001': 966, '010010': 717, '010011': 4846, '010100': 303, '010101': 11928, '010110': 3464, '010111': 1300, '011000': 494, '011001': 1767, '011010': 75, '011011': 87, '011100': 1705, '011101': 645, '011110': 114, '011111': 1587, '000010': 2473, '100000': 3741, '100001': 251, '100010': 1330, '100011': 305, '100100': 74, '100101': 1010, '100110': 62, '100111': 484, '101000': 4464, '101001': 894, '101010': 6530, '101011': 1612, '101100': 615, '101101': 1137, '101110': 117, '101111': 5168, '000011': 803, '110000': 132, '110001': 184, '110010': 322, '110011': 1306, '110100': 60, '110101': 1098, '110110': 287, '110111': 135, '111000': 2673, '111001': 7841, '111010': 378, '111011': 393, '111100': 2894, '111101': 472, '111110': 170, '111111': 3048, '000100': 214, '000101': 4464, '000110': 339, '000111': 2031, '001000': 352, '001001': 42, '001010': 572, '001011': 134, '001100': 266, '001101': 409, '001110': 62, '001111': 1723}\n"
     ]
    }
   ],
   "source": [
    "print(\"Result with initial_parameters: \")\n",
    "print(qjob.result().get_counts())\n",
    "\n",
    "random_parameters = np.random.uniform(0, 2 * np.pi, num_parameters).tolist()\n",
    "qjob.upgrade_parameters(random_parameters)\n",
    "\n",
    "print()\n",
    "print(\"Result with random_parameters: \")\n",
    "print(qjob.result().get_counts())"
   ]
  },
  {
   "cell_type": "markdown",
   "id": "ada125fd",
   "metadata": {},
   "source": [
    "**Important considerations:**\n",
    "\n",
    "- The method acepts parameters in a `list`, if you have a `numpy.array`, simply apply `.tolist()` to transform it.\n",
    "\n",
    "- When sending the circuit and setting `transpile=True`, we should be carefull that the transpilation process doesn't condense gates and combine parameters, therefore, if the user wants `cunqa`to transpile, they must set `opt_level=0`.\n",
    "\n",
    "Note that `qjob.QJob.upgrade_parameters()` is a non-blocking call, as it was `qpu.QPU.run()`."
   ]
  },
  {
   "cell_type": "markdown",
   "id": "c2f430de",
   "metadata": {},
   "source": [
    "Now that we are familiar with the procedure, we can design a cost funtion that takes a set of parameters, upgrades the `qjob.QJob`, gets the result and calculates the divergence from the desired distribution:"
   ]
  },
  {
   "cell_type": "code",
   "execution_count": 12,
   "id": "8c416b9b",
   "metadata": {},
   "outputs": [],
   "source": [
    "def cost_function(params):\n",
    "    n_shots = 100000\n",
    "    target_dist = target_distribution(num_qubits)\n",
    "    \n",
    "    result = qjob.upgrade_parameters(params.tolist()).result()\n",
    "    \n",
    "    counts = result.get_counts()\n",
    "    \n",
    "    return KL_divergence(counts, n_shots, target_dist)\n"
   ]
  },
  {
   "cell_type": "markdown",
   "id": "a4f3a056",
   "metadata": {},
   "source": [
    "Now we are ready to start our optimization. We will use `scipy.optimize` to minimize the divergence of our result distribution from the target one:"
   ]
  },
  {
   "cell_type": "code",
   "execution_count": 13,
   "id": "3f9016ca",
   "metadata": {
    "scrolled": true
   },
   "outputs": [
    {
     "name": "stdout",
     "output_type": "stream",
     "text": [
      "Iteration step 0: f(x) = 4.80575155259839\n",
      "Iteration step 10: f(x) = 2.970696095355457\n",
      "Iteration step 20: f(x) = 1.4895029742719816\n",
      "Iteration step 30: f(x) = 0.7682504360329634\n",
      "Iteration step 40: f(x) = 0.6136147280902352\n",
      "Iteration step 50: f(x) = 0.5050298801455128\n",
      "Iteration step 60: f(x) = 0.42322370261946995\n",
      "Iteration step 70: f(x) = 0.4921064893896492\n",
      "Iteration step 80: f(x) = 0.43834989707739025\n",
      "Iteration step 90: f(x) = 0.35972438627667014\n",
      "Iteration step 100: f(x) = 0.18442798997495824\n",
      "Iteration step 110: f(x) = 0.11190454555348284\n",
      "Iteration step 120: f(x) = 0.09816158141688647\n",
      "Iteration step 130: f(x) = 0.10854489710323317\n",
      "Iteration step 140: f(x) = 0.08408709754512673\n",
      "Iteration step 150: f(x) = 0.06278778790384507\n",
      "Iteration step 160: f(x) = 0.055076771396215814\n",
      "Iteration step 170: f(x) = 0.061488076452479716\n",
      "Iteration step 180: f(x) = 0.06198163653722114\n",
      "Iteration step 190: f(x) = 0.04581740668492353\n",
      "Iteration step 200: f(x) = 0.04035067690695984\n",
      "Iteration step 210: f(x) = 0.03353840624350499\n",
      "Iteration step 220: f(x) = 0.030001756619225817\n",
      "Iteration step 230: f(x) = 0.02656678977932427\n",
      "Iteration step 240: f(x) = 0.021915630680191138\n",
      "Iteration step 250: f(x) = 0.022085362181411737\n",
      "Iteration step 260: f(x) = 0.017899308209855712\n",
      "Iteration step 270: f(x) = 0.017124397078635962\n",
      "Iteration step 280: f(x) = 0.016609798140761904\n",
      "Iteration step 290: f(x) = 0.017848905237468172\n",
      "Iteration step 300: f(x) = 0.015667013284778788\n",
      "Iteration step 310: f(x) = 0.01414388325998234\n",
      "Iteration step 320: f(x) = 0.012098985420504832\n",
      "Iteration step 330: f(x) = 0.011832285743107164\n",
      "Iteration step 340: f(x) = 0.01085926692587589\n",
      "Iteration step 350: f(x) = 0.00998199097187\n",
      "Iteration step 360: f(x) = 0.010500828239777051\n",
      "Iteration step 370: f(x) = 0.009854283099973755\n",
      "Iteration step 380: f(x) = 0.010084289183607615\n",
      "Iteration step 390: f(x) = 0.009062825178404834\n",
      "Iteration step 400: f(x) = 0.008552167337404683\n",
      "Iteration step 410: f(x) = 0.007869120189383825\n",
      "Iteration step 420: f(x) = 0.007702752844359475\n",
      "Iteration step 430: f(x) = 0.007670805967873796\n",
      "Iteration step 440: f(x) = 0.0079036692343098\n",
      "Iteration step 450: f(x) = 0.007738619456949466\n",
      "Iteration step 460: f(x) = 0.007815600688371869\n",
      "Iteration step 470: f(x) = 0.0074655775041248115\n",
      "Iteration step 480: f(x) = 0.007377589631907516\n",
      "Iteration step 490: f(x) = 0.007574482537390764\n",
      "Iteration step 500: f(x) = 0.007482500187220223\n",
      "\n",
      "   Normal return from subroutine COBYLA\n",
      "\n",
      "   NFVALS =  505   F = 7.361907E-03    MAXCV = 0.000000E+00\n",
      "   X = 1.004882E+00   4.522244E-01   1.094640E+00   3.770425E-01   1.056523E+00\n",
      "       4.520917E-01   1.051447E+00   7.831542E-02   8.528699E-01  -1.127748E+00\n",
      "      -4.652593E-01  -9.197391E-01   8.574894E-02   9.957523E-01   1.549311E+00\n",
      "      -7.998291E-02   1.169143E+00   4.050085E-01   6.214128E-01  -1.232217E-01\n",
      "       1.366169E-03  -2.292089E-01  -7.927004E-01  -1.129375E-01   1.548356E+00\n",
      "      -5.376423E-02   9.417224E-01  -3.955934E-02   7.812193E-01   1.895751E-02\n",
      "       4.913835E-01   1.023279E+00  -3.757206E-02  -8.044427E-01   1.205093E+00\n",
      "       1.399021E-01\n",
      "\n",
      "Total optimization time:  72.13052248954773  s\n"
     ]
    }
   ],
   "source": [
    "from scipy.optimize import minimize\n",
    "import time\n",
    "\n",
    "i = 0\n",
    "\n",
    "initial_parameters = np.zeros(num_parameters)\n",
    "\n",
    "cost = []\n",
    "individuals = []\n",
    "\n",
    "def callback(xk):\n",
    "    global i\n",
    "    e = cost_function(xk)\n",
    "    individuals.append(xk)\n",
    "    cost.append(e)\n",
    "    if i%10 == 0:\n",
    "        print(f\"Iteration step {i}: f(x) = {e}\")\n",
    "    i+=1\n",
    "\n",
    "tick = time.time()\n",
    "optimization_result = minimize(cost_function, initial_parameters, method='COBYLA',\n",
    "        callback=callback, tol = 0.01,\n",
    "        options={\n",
    "        'disp': True,     # Print info during iterations\n",
    "        'maxiter': 4000     # Limit the number of iterations\n",
    "    })\n",
    "tack = time.time()\n",
    "time_up = tack-tick\n",
    "print()\n",
    "print(\"Total optimization time: \", time_up, \" s\")"
   ]
  },
  {
   "cell_type": "markdown",
   "id": "82f8a67e",
   "metadata": {},
   "source": [
    "We can plot the evolution of the cost function during the optimization:"
   ]
  },
  {
   "cell_type": "code",
   "execution_count": 14,
   "id": "0f269cf9",
   "metadata": {},
   "outputs": [
    {
     "data": {
      "image/png": "[encoded data removed]",
      "text/plain": [
       "<Figure size 432x288 with 1 Axes>"
      ]
     },
     "metadata": {
      "needs_background": "light"
     },
     "output_type": "display_data"
    }
   ],
   "source": [
    "%matplotlib inline\n",
    "\n",
    "import matplotlib.pyplot as plt\n",
    "plt.clf()\n",
    "plt.plot(np.linspace(0, optimization_result.nfev, optimization_result.nfev), cost, label=\"Optimization path (upgrade_params())\")\n",
    "plt.plot(np.linspace(0, optimization_result_run.nfev, optimization_result_run.nfev), cost_run, label=\"Optimization path (run())\")\n",
    "upper_bound = max(optimization_result_run.nfev, optimization_result.nfev)\n",
    "plt.plot(np.linspace(0, upper_bound, upper_bound), np.zeros(upper_bound), \"--\", label=\"Target cost\")\n",
    "plt.xlabel(\"Step\"); plt.ylabel(\"Cost\"); plt.legend(loc=\"upper right\"); plt.title(f\"n = {num_qubits}, l = {num_layers}, # params = {num_parameters}\")\n",
    "plt.grid(True)\n",
    "plt.show()\n",
    "# plt.savefig(f\"optimization_n_{num_qubits}_p_{num_parameters}.png\", dpi=200)"
   ]
  }
 ],
 "metadata": {
  "kernelspec": {
   "display_name": "Python 3 (ipykernel)",
   "language": "python",
   "name": "python3"
  },
  "language_info": {
   "codemirror_mode": {
    "name": "ipython",
    "version": 3
   },
   "file_extension": ".py",
   "mimetype": "text/x-python",
   "name": "python",
   "nbconvert_exporter": "python",
   "pygments_lexer": "ipython3",
   "version": "3.9.9"
  }
 },
 "nbformat": 4,
 "nbformat_minor": 5
}
