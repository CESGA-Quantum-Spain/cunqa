{
 "cells": [
  {
   "cell_type": "code",
   "execution_count": null,
   "id": "c532632a",
   "metadata": {},
   "outputs": [],
   "source": [
    "import os, sys\n",
    "import numpy as np\n",
    "# path to access c++ files\n",
    "installation_path = os.getenv(\"INSTALL_PATH\")\n",
    "sys.path.append(installation_path)"
   ]
  },
  {
   "cell_type": "code",
   "execution_count": null,
   "id": "c2d0c54e",
   "metadata": {
    "scrolled": false
   },
   "outputs": [],
   "source": [
    "from cunqa import getQPUs\n",
    "\n",
    "qpus  = getQPUs()\n",
    "\n",
    "for q in qpus:\n",
    "    print(f\"QPU {q.id}, backend: {q.backend.name}, simulator: {q.backend.simulator}, version: {q.backend.version}.\")\n"
   ]
  },
  {
   "cell_type": "markdown",
   "id": "b827504d",
   "metadata": {},
   "source": [
    "# Paralelization for gradient-free optimizers: Differential Evolution"
   ]
  },
  {
   "cell_type": "markdown",
   "id": "671d0d64",
   "metadata": {},
   "source": [
    "#TODO: _Introduction and explanation_"
   ]
  },
  {
   "cell_type": "markdown",
   "id": "1a4f94f9",
   "metadata": {},
   "source": [
    "We recover the variational circuit used before:"
   ]
  },
  {
   "cell_type": "code",
   "execution_count": null,
   "id": "723a8b1b",
   "metadata": {},
   "outputs": [],
   "source": [
    "from qiskit import QuantumCircuit\n",
    "from qiskit.circuit import Parameter\n",
    "\n",
    "def hardware_efficient_ansatz(num_qubits, num_layers):\n",
    "    qc = QuantumCircuit(num_qubits)\n",
    "    param_idx = 0\n",
    "    for _ in range(num_layers):\n",
    "        for qubit in range(num_qubits):\n",
    "            phi = Parameter(f'phi_{param_idx}_{qubit}')\n",
    "            lam = Parameter(f'lam_{param_idx}_{qubit}')\n",
    "            qc.ry(phi, qubit)\n",
    "            qc.rz(lam, qubit)\n",
    "        param_idx += 1\n",
    "        for qubit in range(num_qubits - 1):\n",
    "            qc.cx(qubit, qubit + 1)\n",
    "    qc.measure_all()\n",
    "    return qc"
   ]
  },
  {
   "cell_type": "code",
   "execution_count": null,
   "id": "e95e1817",
   "metadata": {},
   "outputs": [],
   "source": [
    "def target_distribution(num_qubits):\n",
    "    # Define a normal distribution over the states\n",
    "    num_states = 2 ** num_qubits\n",
    "    states = np.arange(num_states)\n",
    "    mean = num_states / 2\n",
    "    std_dev = num_states / 4\n",
    "    target_probs = norm.pdf(states, mean, std_dev)\n",
    "    target_probs /= target_probs.sum()  # Normalize to make it a valid probability distribution\n",
    "    target_dist = {format(i, f'0{num_qubits}b'): target_probs[i] for i in range(num_states)}\n",
    "    return target_dist\n",
    "\n",
    "import pandas as pd\n",
    "from scipy.stats import entropy, norm\n",
    "\n",
    "def KL_divergence(counts, n_shots, target_dist):\n",
    "    # Convert counts to probabilities\n",
    "    pdf = pd.DataFrame.from_dict(counts, orient=\"index\").reset_index()\n",
    "    pdf.rename(columns={\"index\": \"state\", 0: \"counts\"}, inplace=True)\n",
    "    pdf[\"probability\"] = pdf[\"counts\"] / n_shots\n",
    "    \n",
    "    # Create a dictionary for the obtained distribution\n",
    "    obtained_dist = pdf.set_index(\"state\")[\"probability\"].to_dict()\n",
    "    \n",
    "    # Ensure all states are present in the obtained distribution\n",
    "    for state in target_dist:\n",
    "        if state not in obtained_dist:\n",
    "            obtained_dist[state] = 0.0\n",
    "    \n",
    "    # Convert distributions to lists for KL divergence calculation\n",
    "    target_probs = [target_dist[state] for state in sorted(target_dist)]\n",
    "    obtained_probs = [obtained_dist[state] for state in sorted(obtained_dist)]\n",
    "    \n",
    "    # Calculate KL divergence\n",
    "    kl_divergence = entropy(obtained_probs, target_probs)\n",
    "    \n",
    "    return kl_divergence\n",
    "    "
   ]
  },
  {
   "cell_type": "code",
   "execution_count": null,
   "id": "6169da1e",
   "metadata": {},
   "outputs": [],
   "source": [
    "num_qubits = 6\n",
    "\n",
    "num_layers = 3\n",
    "\n",
    "n_shots = 999\n",
    "\n",
    "target_dist = target_distribution(num_qubits)"
   ]
  },
  {
   "cell_type": "code",
   "execution_count": null,
   "id": "2118dbd4",
   "metadata": {},
   "outputs": [],
   "source": [
    "def cost_function(result):\n",
    "    \n",
    "    global target_dist\n",
    "    \n",
    "    counts = result.get_counts()\n",
    "    \n",
    "    return KL_divergence(counts, n_shots, target_dist)"
   ]
  },
  {
   "cell_type": "code",
   "execution_count": null,
   "id": "a64f3484",
   "metadata": {},
   "outputs": [],
   "source": [
    "ansatz = hardware_efficient_ansatz(num_qubits, num_layers)\n",
    "\n",
    "num_parameters = ansatz.num_parameters; print(num_parameters)\n",
    "\n",
    "initial_parameters = np.zeros(num_parameters)"
   ]
  },
  {
   "cell_type": "markdown",
   "id": "0629a4c6",
   "metadata": {},
   "source": [
    "### QJobMapper"
   ]
  },
  {
   "cell_type": "code",
   "execution_count": null,
   "id": "27d6e57f",
   "metadata": {
    "scrolled": true
   },
   "outputs": [],
   "source": [
    "init_qjobs = []\n",
    "init_params = np.zeros(num_parameters)\n",
    "for i in range(1*num_parameters):# we set pop=1 as the population size is pop*num_parameters\n",
    "    qpu = qpus[i%len(qpus)]# we select the qpu\n",
    "    init_qjobs.append(qpu.run(ansatz.assign_parameters(init_params), transpile=False, shots=n_shots))\n",
    "\n",
    "from cunqa import QJobMapper\n",
    "mapper = QJobMapper(init_qjobs)"
   ]
  },
  {
   "cell_type": "code",
   "execution_count": null,
   "id": "a2400382",
   "metadata": {
    "scrolled": true
   },
   "outputs": [],
   "source": [
    "pop=[]\n",
    "total_pop=1*num_parameters\n",
    "for j in range(total_pop):\n",
    "    initial_point=np.random.uniform(-np.pi, np.pi, num_parameters)\n",
    "    pop.append(initial_point)\n",
    "\n",
    "bounds=[]\n",
    "for i in range(0,num_parameters):\n",
    "    bounds.append((-np.pi,np.pi))\n",
    "\n",
    "print(\"Bounds:\", len(bounds))\n",
    "print(\"Initial population:\", len(pop))\n",
    "\n",
    "best_individual = []\n",
    "energies = []\n",
    "\n",
    "def cb(xk,convergence=1e-8):\n",
    "    best_individual.append(xk)\n",
    "    energy = mapper(cost_function, [xk])[0]\n",
    "    energies.append(energy)\n",
    "\n",
    "from scipy.optimize import differential_evolution\n",
    "import time\n",
    "\n",
    "tick = time.time()\n",
    "result = differential_evolution(cost_function, bounds, maxiter=1000, disp=True, workers=mapper, updating='deferred',strategy='best1bin', init=pop, polish = False, callback=cb)\n",
    "tack = time.time()\n",
    "print(result)\n",
    "\n",
    "\n",
    "print(\"Time:\", tack-tick)"
   ]
  },
  {
   "cell_type": "markdown",
   "id": "abd7a7e6",
   "metadata": {},
   "source": [
    "### QPUCircuitMapper"
   ]
  },
  {
   "cell_type": "code",
   "execution_count": null,
   "id": "b1b08cf9",
   "metadata": {},
   "outputs": [],
   "source": [
    "from cunqa import QJobMapper, QPUCircuitMapper\n",
    "mapper = QPUCircuitMapper(qpus, ansatz, transpile=False, shots=n_shots)"
   ]
  },
  {
   "cell_type": "code",
   "execution_count": null,
   "id": "dfdeb42c",
   "metadata": {},
   "outputs": [],
   "source": [
    "pop=[]\n",
    "total_pop=1*num_parameters\n",
    "for j in range(total_pop):\n",
    "    initial_point=np.random.uniform(-np.pi, np.pi, num_parameters)\n",
    "    pop.append(initial_point)\n",
    "\n",
    "bounds=[]\n",
    "for i in range(0,num_parameters):\n",
    "    bounds.append((-np.pi,np.pi))\n",
    "\n",
    "print(\"Bounds:\", len(bounds))\n",
    "print(\"Initial population:\", len(pop))\n",
    "\n",
    "best_individual_ = []\n",
    "energies_ = []\n",
    "\n",
    "def cb(xk,convergence=1e-8):\n",
    "    best_individual_.append(xk)\n",
    "    energy = mapper(cost_function, [xk])[0]\n",
    "    energies_.append(energy)\n",
    "\n",
    "from scipy.optimize import differential_evolution\n",
    "import time\n",
    "\n",
    "tick = time.time()\n",
    "result_ = differential_evolution(cost_function, bounds, maxiter=1000, disp=True, workers=mapper, updating='deferred',strategy='best1bin', init=pop, polish = False, callback=cb)\n",
    "tack = time.time()\n",
    "print(result_)\n",
    "\n",
    "\n",
    "print(\"Time:\", tack-tick)"
   ]
  },
  {
   "cell_type": "code",
   "execution_count": null,
   "id": "bbaf8976",
   "metadata": {},
   "outputs": [],
   "source": [
    "%matplotlib inline\n",
    "\n",
    "import matplotlib.pyplot as plt\n",
    "plt.clf()\n",
    "plt.plot(np.linspace(0, result.nit, result.nit), energies, label=\"Optimization path (QJobMapper)\")\n",
    "upper_bound = result.nit\n",
    "plt.plot(np.linspace(0, result_.nit, result_.nit), energies_, label=\"Optimization path (QPUCircuitMapper)\")\n",
    "plt.plot(np.linspace(0, upper_bound, upper_bound), np.zeros(upper_bound), \"--\", label=\"Target cost\")\n",
    "plt.xlabel(\"Step\"); plt.ylabel(\"Cost\"); plt.legend(loc=\"upper right\"); plt.title(f\"n = {num_qubits}, l = {num_layers}, # params = {num_parameters}\")\n",
    "plt.grid(True)\n",
    "plt.show()\n",
    "# plt.savefig(f\"optimization_de_n_{num_qubits}_p_{num_parameters}.png\", dpi=200)"
   ]
  },
  {
   "cell_type": "markdown",
   "id": "138ab7f9",
   "metadata": {},
   "source": [
    "# Paralelization of expectation value terms"
   ]
  },
  {
   "cell_type": "code",
   "execution_count": null,
   "id": "0ff7f237",
   "metadata": {},
   "outputs": [],
   "source": [
    "# TODO"
   ]
  },
  {
   "cell_type": "markdown",
   "id": "1910dbed",
   "metadata": {},
   "source": [
    "# Paralelization for gradient optimizers"
   ]
  },
  {
   "cell_type": "code",
   "execution_count": null,
   "id": "5b7dc77d",
   "metadata": {},
   "outputs": [],
   "source": [
    "# TODO"
   ]
  }
 ],
 "metadata": {
  "kernelspec": {
   "display_name": "Python 3 (ipykernel)",
   "language": "python",
   "name": "python3"
  },
  "language_info": {
   "codemirror_mode": {
    "name": "ipython",
    "version": 3
   },
   "file_extension": ".py",
   "mimetype": "text/x-python",
   "name": "python",
   "nbconvert_exporter": "python",
   "pygments_lexer": "ipython3",
   "version": "3.9.9"
  }
 },
 "nbformat": 4,
 "nbformat_minor": 5
}
