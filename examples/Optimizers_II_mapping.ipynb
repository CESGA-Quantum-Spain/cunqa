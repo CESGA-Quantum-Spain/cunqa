{
 "cells": [
  {
   "cell_type": "code",
   "execution_count": 1,
   "id": "c532632a",
   "metadata": {},
   "outputs": [],
   "source": [
    "import os, sys\n",
    "import numpy as np\n",
    "# path to access c++ files\n",
    "installation_path = os.getenv(\"INSTALL_PATH\")\n",
    "sys.path.append(installation_path)"
   ]
  },
  {
   "cell_type": "code",
   "execution_count": 2,
   "id": "c2d0c54e",
   "metadata": {},
   "outputs": [
    {
     "name": "stdout",
     "output_type": "stream",
     "text": [
      "QPU 0, backend: BasicMunich, simulator: MunichSimulator, version: 0.0.1.\n",
      "QPU 1, backend: BasicMunich, simulator: MunichSimulator, version: 0.0.1.\n",
      "QPU 2, backend: BasicMunich, simulator: MunichSimulator, version: 0.0.1.\n",
      "QPU 3, backend: BasicMunich, simulator: MunichSimulator, version: 0.0.1.\n",
      "QPU 4, backend: BasicMunich, simulator: MunichSimulator, version: 0.0.1.\n",
      "QPU 5, backend: BasicMunich, simulator: MunichSimulator, version: 0.0.1.\n",
      "QPU 6, backend: BasicMunich, simulator: MunichSimulator, version: 0.0.1.\n",
      "QPU 7, backend: BasicMunich, simulator: MunichSimulator, version: 0.0.1.\n",
      "QPU 8, backend: BasicMunich, simulator: MunichSimulator, version: 0.0.1.\n",
      "QPU 9, backend: BasicMunich, simulator: MunichSimulator, version: 0.0.1.\n",
      "QPU 10, backend: BasicMunich, simulator: MunichSimulator, version: 0.0.1.\n",
      "QPU 11, backend: BasicMunich, simulator: MunichSimulator, version: 0.0.1.\n",
      "QPU 12, backend: BasicMunich, simulator: MunichSimulator, version: 0.0.1.\n",
      "QPU 13, backend: BasicMunich, simulator: MunichSimulator, version: 0.0.1.\n",
      "QPU 14, backend: BasicMunich, simulator: MunichSimulator, version: 0.0.1.\n",
      "QPU 15, backend: BasicMunich, simulator: MunichSimulator, version: 0.0.1.\n",
      "QPU 16, backend: BasicMunich, simulator: MunichSimulator, version: 0.0.1.\n",
      "QPU 17, backend: BasicMunich, simulator: MunichSimulator, version: 0.0.1.\n",
      "QPU 18, backend: BasicMunich, simulator: MunichSimulator, version: 0.0.1.\n",
      "QPU 19, backend: BasicMunich, simulator: MunichSimulator, version: 0.0.1.\n",
      "QPU 20, backend: BasicMunich, simulator: MunichSimulator, version: 0.0.1.\n",
      "QPU 21, backend: BasicMunich, simulator: MunichSimulator, version: 0.0.1.\n",
      "QPU 22, backend: BasicMunich, simulator: MunichSimulator, version: 0.0.1.\n",
      "QPU 23, backend: BasicMunich, simulator: MunichSimulator, version: 0.0.1.\n",
      "QPU 24, backend: BasicMunich, simulator: MunichSimulator, version: 0.0.1.\n",
      "QPU 25, backend: BasicMunich, simulator: MunichSimulator, version: 0.0.1.\n",
      "QPU 26, backend: BasicMunich, simulator: MunichSimulator, version: 0.0.1.\n",
      "QPU 27, backend: BasicMunich, simulator: MunichSimulator, version: 0.0.1.\n",
      "QPU 28, backend: BasicMunich, simulator: MunichSimulator, version: 0.0.1.\n",
      "QPU 29, backend: BasicMunich, simulator: MunichSimulator, version: 0.0.1.\n"
     ]
    }
   ],
   "source": [
    "from cunqa import getQPUs\n",
    "\n",
    "qpus  = getQPUs()\n",
    "\n",
    "for q in qpus:\n",
    "    print(f\"QPU {q.id}, backend: {q.backend.name}, simulator: {q.backend.simulator}, version: {q.backend.version}.\")\n"
   ]
  },
  {
   "cell_type": "markdown",
   "id": "b827504d",
   "metadata": {},
   "source": [
    "# Paralelization for gradient-free optimizers: Differential Evolution"
   ]
  },
  {
   "cell_type": "markdown",
   "id": "671d0d64",
   "metadata": {},
   "source": [
    "_Introduction and explanation_"
   ]
  },
  {
   "cell_type": "markdown",
   "id": "1a4f94f9",
   "metadata": {},
   "source": [
    "We recover the variational circuit used before:"
   ]
  },
  {
   "cell_type": "code",
   "execution_count": 3,
   "id": "723a8b1b",
   "metadata": {},
   "outputs": [],
   "source": [
    "from qiskit import QuantumCircuit\n",
    "from qiskit.circuit import Parameter\n",
    "\n",
    "def hardware_efficient_ansatz(num_qubits, num_layers):\n",
    "    qc = QuantumCircuit(num_qubits)\n",
    "    param_idx = 0\n",
    "    for _ in range(num_layers):\n",
    "        for qubit in range(num_qubits):\n",
    "            phi = Parameter(f'phi_{param_idx}_{qubit}')\n",
    "            lam = Parameter(f'lam_{param_idx}_{qubit}')\n",
    "            qc.ry(phi, qubit)\n",
    "            qc.rz(lam, qubit)\n",
    "        param_idx += 1\n",
    "        for qubit in range(num_qubits - 1):\n",
    "            qc.cx(qubit, qubit + 1)\n",
    "    qc.measure_all()\n",
    "    return qc"
   ]
  },
  {
   "cell_type": "code",
   "execution_count": 4,
   "id": "e95e1817",
   "metadata": {},
   "outputs": [],
   "source": [
    "def target_distribution(num_qubits):\n",
    "    # Define a normal distribution over the states\n",
    "    num_states = 2 ** num_qubits\n",
    "    states = np.arange(num_states)\n",
    "    mean = num_states / 2\n",
    "    std_dev = num_states / 4\n",
    "    target_probs = norm.pdf(states, mean, std_dev)\n",
    "    target_probs /= target_probs.sum()  # Normalize to make it a valid probability distribution\n",
    "    target_dist = {format(i, f'0{num_qubits}b'): target_probs[i] for i in range(num_states)}\n",
    "    return target_dist\n",
    "\n",
    "import pandas as pd\n",
    "from scipy.stats import entropy, norm\n",
    "\n",
    "def KL_divergence(counts, n_shots, target_dist):\n",
    "    # Convert counts to probabilities\n",
    "    pdf = pd.DataFrame.from_dict(counts, orient=\"index\").reset_index()\n",
    "    pdf.rename(columns={\"index\": \"state\", 0: \"counts\"}, inplace=True)\n",
    "    pdf[\"probability\"] = pdf[\"counts\"] / n_shots\n",
    "    \n",
    "    # Create a dictionary for the obtained distribution\n",
    "    obtained_dist = pdf.set_index(\"state\")[\"probability\"].to_dict()\n",
    "    \n",
    "    # Ensure all states are present in the obtained distribution\n",
    "    for state in target_dist:\n",
    "        if state not in obtained_dist:\n",
    "            obtained_dist[state] = 0.0\n",
    "    \n",
    "    # Convert distributions to lists for KL divergence calculation\n",
    "    target_probs = [target_dist[state] for state in sorted(target_dist)]\n",
    "    obtained_probs = [obtained_dist[state] for state in sorted(obtained_dist)]\n",
    "    \n",
    "    # Calculate KL divergence\n",
    "    kl_divergence = entropy(obtained_probs, target_probs)\n",
    "    \n",
    "    return kl_divergence\n",
    "    "
   ]
  },
  {
   "cell_type": "code",
   "execution_count": 5,
   "id": "6169da1e",
   "metadata": {},
   "outputs": [],
   "source": [
    "num_qubits = 6\n",
    "\n",
    "num_layers = 3\n",
    "\n",
    "n_shots = 100000\n",
    "\n",
    "target_dist = target_distribution(num_qubits)"
   ]
  },
  {
   "cell_type": "code",
   "execution_count": 6,
   "id": "2118dbd4",
   "metadata": {},
   "outputs": [],
   "source": [
    "def cost_function(result):\n",
    "    \n",
    "    global target_dist\n",
    "    \n",
    "    counts = result.get_counts()\n",
    "    \n",
    "    return KL_divergence(counts, n_shots, target_dist)"
   ]
  },
  {
   "cell_type": "code",
   "execution_count": 7,
   "id": "a64f3484",
   "metadata": {},
   "outputs": [],
   "source": [
    "ansatz = hardware_efficient_ansatz(num_qubits, num_layers)\n",
    "\n",
    "num_parameters = ansatz.num_parameters\n",
    "\n",
    "initial_parameters = np.zeros(num_parameters)"
   ]
  },
  {
   "cell_type": "code",
   "execution_count": 8,
   "id": "27d6e57f",
   "metadata": {
    "scrolled": true
   },
   "outputs": [],
   "source": [
    "init_qjobs = []\n",
    "init_params = np.zeros(num_parameters)\n",
    "for q in qpus:\n",
    "    init_qjobs.append(q.run(ansatz.assign_parameters(init_params), transpile=False, shots=n_shots))\n",
    "\n",
    "from cunqa import QJobMapper\n",
    "mapper = QJobMapper(init_qjobs)"
   ]
  },
  {
   "cell_type": "code",
   "execution_count": 9,
   "id": "a2400382",
   "metadata": {
    "scrolled": false
   },
   "outputs": [
    {
     "name": "stdout",
     "output_type": "stream",
     "text": [
      "Bounds: 36\n",
      "Initial population: 36\n",
      "/mnt/netapp1/Store_CESGA/home/cesga/mlosada/api/api-simulator/installation/cunqa/qjob.py:81\n",
      "\u001b[31m\u001b[1m\terror: Error during simulation, please check availability of QPUs, run arguments sintax and circuit sintax: Error updating qasm parameters.\u001b[0m\n",
      "/mnt/netapp1/Store_CESGA/home/cesga/mlosada/api/api-simulator/installation/cunqa/qjob.py:381\n",
      "\u001b[31m\u001b[1m\terror: Error while creating Results object [QJobError]\u001b[0m\n"
     ]
    },
    {
     "name": "stderr",
     "output_type": "stream",
     "text": [
      "/opt/cesga/qmio/hpc/software/Compiler/gcc/12.3.0/scipy/1.13.0-python-3.9.9/lib/python3.9/site-packages/scipy/optimize/_differentialevolution.py:487: UserWarning: differential_evolution: the 'workers' keyword has overridden updating='immediate' to updating='deferred'\n",
      "  with DifferentialEvolutionSolver(func, bounds, args=args,\n"
     ]
    },
    {
     "ename": "QJobError",
     "evalue": "",
     "output_type": "error",
     "traceback": [
      "\u001b[0;31m---------------------------------------------------------------------------\u001b[0m",
      "\u001b[0;31mQJobError\u001b[0m                                 Traceback (most recent call last)",
      "\u001b[0;32m/scratch/111714/ipykernel_1593060/1547447612.py\u001b[0m in \u001b[0;36m<module>\u001b[0;34m\u001b[0m\n\u001b[1;32m     21\u001b[0m \u001b[0;34m\u001b[0m\u001b[0m\n\u001b[1;32m     22\u001b[0m \u001b[0mtick\u001b[0m \u001b[0;34m=\u001b[0m \u001b[0mtime\u001b[0m\u001b[0;34m.\u001b[0m\u001b[0mtime\u001b[0m\u001b[0;34m(\u001b[0m\u001b[0;34m)\u001b[0m\u001b[0;34m\u001b[0m\u001b[0;34m\u001b[0m\u001b[0m\n\u001b[0;32m---> 23\u001b[0;31m \u001b[0mresult\u001b[0m \u001b[0;34m=\u001b[0m \u001b[0mdifferential_evolution\u001b[0m\u001b[0;34m(\u001b[0m\u001b[0mcost_function\u001b[0m\u001b[0;34m,\u001b[0m \u001b[0mbounds\u001b[0m\u001b[0;34m,\u001b[0m \u001b[0mmaxiter\u001b[0m\u001b[0;34m=\u001b[0m\u001b[0;36m500\u001b[0m\u001b[0;34m,\u001b[0m \u001b[0mdisp\u001b[0m\u001b[0;34m=\u001b[0m\u001b[0;32mTrue\u001b[0m\u001b[0;34m,\u001b[0m \u001b[0mworkers\u001b[0m\u001b[0;34m=\u001b[0m\u001b[0mmapper\u001b[0m\u001b[0;34m,\u001b[0m \u001b[0mstrategy\u001b[0m\u001b[0;34m=\u001b[0m\u001b[0;34m'best1bin'\u001b[0m\u001b[0;34m,\u001b[0m \u001b[0minit\u001b[0m\u001b[0;34m=\u001b[0m\u001b[0mpop\u001b[0m\u001b[0;34m,\u001b[0m \u001b[0mpolish\u001b[0m \u001b[0;34m=\u001b[0m \u001b[0;32mFalse\u001b[0m\u001b[0;34m,\u001b[0m \u001b[0mcallback\u001b[0m\u001b[0;34m=\u001b[0m\u001b[0mcb\u001b[0m\u001b[0;34m)\u001b[0m\u001b[0;34m\u001b[0m\u001b[0;34m\u001b[0m\u001b[0m\n\u001b[0m\u001b[1;32m     24\u001b[0m \u001b[0mtack\u001b[0m \u001b[0;34m=\u001b[0m \u001b[0mtime\u001b[0m\u001b[0;34m.\u001b[0m\u001b[0mtime\u001b[0m\u001b[0;34m(\u001b[0m\u001b[0;34m)\u001b[0m\u001b[0;34m\u001b[0m\u001b[0;34m\u001b[0m\u001b[0m\n\u001b[1;32m     25\u001b[0m \u001b[0mprint\u001b[0m\u001b[0;34m(\u001b[0m\u001b[0mresult\u001b[0m\u001b[0;34m)\u001b[0m\u001b[0;34m\u001b[0m\u001b[0;34m\u001b[0m\u001b[0m\n",
      "\u001b[0;32m/opt/cesga/qmio/hpc/software/Compiler/gcc/12.3.0/scipy/1.13.0-python-3.9.9/lib/python3.9/site-packages/scipy/optimize/_differentialevolution.py\u001b[0m in \u001b[0;36mdifferential_evolution\u001b[0;34m(func, bounds, args, strategy, maxiter, popsize, tol, mutation, recombination, seed, callback, disp, polish, init, atol, updating, workers, constraints, x0, integrality, vectorized)\u001b[0m\n\u001b[1;32m    500\u001b[0m                                      \u001b[0mintegrality\u001b[0m\u001b[0;34m=\u001b[0m\u001b[0mintegrality\u001b[0m\u001b[0;34m,\u001b[0m\u001b[0;34m\u001b[0m\u001b[0;34m\u001b[0m\u001b[0m\n\u001b[1;32m    501\u001b[0m                                      vectorized=vectorized) as solver:\n\u001b[0;32m--> 502\u001b[0;31m         \u001b[0mret\u001b[0m \u001b[0;34m=\u001b[0m \u001b[0msolver\u001b[0m\u001b[0;34m.\u001b[0m\u001b[0msolve\u001b[0m\u001b[0;34m(\u001b[0m\u001b[0;34m)\u001b[0m\u001b[0;34m\u001b[0m\u001b[0;34m\u001b[0m\u001b[0m\n\u001b[0m\u001b[1;32m    503\u001b[0m \u001b[0;34m\u001b[0m\u001b[0m\n\u001b[1;32m    504\u001b[0m     \u001b[0;32mreturn\u001b[0m \u001b[0mret\u001b[0m\u001b[0;34m\u001b[0m\u001b[0;34m\u001b[0m\u001b[0m\n",
      "\u001b[0;32m/opt/cesga/qmio/hpc/software/Compiler/gcc/12.3.0/scipy/1.13.0-python-3.9.9/lib/python3.9/site-packages/scipy/optimize/_differentialevolution.py\u001b[0m in \u001b[0;36msolve\u001b[0;34m(self)\u001b[0m\n\u001b[1;32m   1153\u001b[0m             \u001b[0;31m# only work out population energies for feasible solutions\u001b[0m\u001b[0;34m\u001b[0m\u001b[0;34m\u001b[0m\u001b[0m\n\u001b[1;32m   1154\u001b[0m             self.population_energies[self.feasible] = (\n\u001b[0;32m-> 1155\u001b[0;31m                 self._calculate_population_energies(\n\u001b[0m\u001b[1;32m   1156\u001b[0m                     self.population[self.feasible]))\n\u001b[1;32m   1157\u001b[0m \u001b[0;34m\u001b[0m\u001b[0m\n",
      "\u001b[0;32m/opt/cesga/qmio/hpc/software/Compiler/gcc/12.3.0/scipy/1.13.0-python-3.9.9/lib/python3.9/site-packages/scipy/optimize/_differentialevolution.py\u001b[0m in \u001b[0;36m_calculate_population_energies\u001b[0;34m(self, population)\u001b[0m\n\u001b[1;32m   1314\u001b[0m         \u001b[0;32mtry\u001b[0m\u001b[0;34m:\u001b[0m\u001b[0;34m\u001b[0m\u001b[0;34m\u001b[0m\u001b[0m\n\u001b[1;32m   1315\u001b[0m             calc_energies = list(\n\u001b[0;32m-> 1316\u001b[0;31m                 \u001b[0mself\u001b[0m\u001b[0;34m.\u001b[0m\u001b[0m_mapwrapper\u001b[0m\u001b[0;34m(\u001b[0m\u001b[0mself\u001b[0m\u001b[0;34m.\u001b[0m\u001b[0mfunc\u001b[0m\u001b[0;34m,\u001b[0m \u001b[0mparameters_pop\u001b[0m\u001b[0;34m[\u001b[0m\u001b[0;36m0\u001b[0m\u001b[0;34m:\u001b[0m\u001b[0mS\u001b[0m\u001b[0;34m]\u001b[0m\u001b[0;34m)\u001b[0m\u001b[0;34m\u001b[0m\u001b[0;34m\u001b[0m\u001b[0m\n\u001b[0m\u001b[1;32m   1317\u001b[0m             )\n\u001b[1;32m   1318\u001b[0m             \u001b[0mcalc_energies\u001b[0m \u001b[0;34m=\u001b[0m \u001b[0mnp\u001b[0m\u001b[0;34m.\u001b[0m\u001b[0msqueeze\u001b[0m\u001b[0;34m(\u001b[0m\u001b[0mcalc_energies\u001b[0m\u001b[0;34m)\u001b[0m\u001b[0;34m\u001b[0m\u001b[0;34m\u001b[0m\u001b[0m\n",
      "\u001b[0;32m/opt/cesga/qmio/hpc/software/Compiler/gcc/12.3.0/scipy/1.13.0-python-3.9.9/lib/python3.9/site-packages/scipy/_lib/_util.py\u001b[0m in \u001b[0;36m__call__\u001b[0;34m(self, func, iterable)\u001b[0m\n\u001b[1;32m    509\u001b[0m         \u001b[0;31m# only accept one iterable because that's all Pool.map accepts\u001b[0m\u001b[0;34m\u001b[0m\u001b[0;34m\u001b[0m\u001b[0m\n\u001b[1;32m    510\u001b[0m         \u001b[0;32mtry\u001b[0m\u001b[0;34m:\u001b[0m\u001b[0;34m\u001b[0m\u001b[0;34m\u001b[0m\u001b[0m\n\u001b[0;32m--> 511\u001b[0;31m             \u001b[0;32mreturn\u001b[0m \u001b[0mself\u001b[0m\u001b[0;34m.\u001b[0m\u001b[0m_mapfunc\u001b[0m\u001b[0;34m(\u001b[0m\u001b[0mfunc\u001b[0m\u001b[0;34m,\u001b[0m \u001b[0miterable\u001b[0m\u001b[0;34m)\u001b[0m\u001b[0;34m\u001b[0m\u001b[0;34m\u001b[0m\u001b[0m\n\u001b[0m\u001b[1;32m    512\u001b[0m         \u001b[0;32mexcept\u001b[0m \u001b[0mTypeError\u001b[0m \u001b[0;32mas\u001b[0m \u001b[0me\u001b[0m\u001b[0;34m:\u001b[0m\u001b[0;34m\u001b[0m\u001b[0;34m\u001b[0m\u001b[0m\n\u001b[1;32m    513\u001b[0m             \u001b[0;31m# wrong number of arguments\u001b[0m\u001b[0;34m\u001b[0m\u001b[0;34m\u001b[0m\u001b[0m\n",
      "\u001b[0;32m/mnt/netapp1/Store_CESGA/home/cesga/mlosada/api/api-simulator/installation/cunqa/mappers.py\u001b[0m in \u001b[0;36m__call__\u001b[0;34m(self, func, population)\u001b[0m\n\u001b[1;32m     49\u001b[0m \u001b[0;34m\u001b[0m\u001b[0m\n\u001b[1;32m     50\u001b[0m         \u001b[0mlogger\u001b[0m\u001b[0;34m.\u001b[0m\u001b[0mdebug\u001b[0m\u001b[0;34m(\u001b[0m\u001b[0;34m\"About to gather results ...\"\u001b[0m\u001b[0;34m)\u001b[0m\u001b[0;34m\u001b[0m\u001b[0;34m\u001b[0m\u001b[0m\n\u001b[0;32m---> 51\u001b[0;31m         \u001b[0mresults\u001b[0m \u001b[0;34m=\u001b[0m \u001b[0mgather\u001b[0m\u001b[0;34m(\u001b[0m\u001b[0mqjobs\u001b[0m\u001b[0;34m)\u001b[0m\u001b[0;34m\u001b[0m\u001b[0;34m\u001b[0m\u001b[0m\n\u001b[0m\u001b[1;32m     52\u001b[0m         \u001b[0mself\u001b[0m\u001b[0;34m.\u001b[0m\u001b[0mi\u001b[0m \u001b[0;34m=\u001b[0m \u001b[0;36m0\u001b[0m\u001b[0;34m\u001b[0m\u001b[0;34m\u001b[0m\u001b[0m\n\u001b[1;32m     53\u001b[0m         \u001b[0;32mreturn\u001b[0m \u001b[0;34m[\u001b[0m\u001b[0mfunc\u001b[0m\u001b[0;34m(\u001b[0m\u001b[0mresult\u001b[0m\u001b[0;34m)\u001b[0m \u001b[0;32mfor\u001b[0m \u001b[0mresult\u001b[0m \u001b[0;32min\u001b[0m \u001b[0mresults\u001b[0m\u001b[0;34m]\u001b[0m\u001b[0;34m\u001b[0m\u001b[0;34m\u001b[0m\u001b[0m\n",
      "\u001b[0;32m/mnt/netapp1/Store_CESGA/home/cesga/mlosada/api/api-simulator/installation/cunqa/qjob.py\u001b[0m in \u001b[0;36mgather\u001b[0;34m(qjobs)\u001b[0m\n\u001b[1;32m    421\u001b[0m     \u001b[0;32mif\u001b[0m \u001b[0misinstance\u001b[0m\u001b[0;34m(\u001b[0m\u001b[0mqjobs\u001b[0m\u001b[0;34m,\u001b[0m \u001b[0mlist\u001b[0m\u001b[0;34m)\u001b[0m\u001b[0;34m:\u001b[0m\u001b[0;34m\u001b[0m\u001b[0;34m\u001b[0m\u001b[0m\n\u001b[1;32m    422\u001b[0m         \u001b[0;32mif\u001b[0m \u001b[0mall\u001b[0m\u001b[0;34m(\u001b[0m\u001b[0;34m[\u001b[0m\u001b[0misinstance\u001b[0m\u001b[0;34m(\u001b[0m\u001b[0mq\u001b[0m\u001b[0;34m,\u001b[0m \u001b[0mQJob\u001b[0m\u001b[0;34m)\u001b[0m \u001b[0;32mfor\u001b[0m \u001b[0mq\u001b[0m \u001b[0;32min\u001b[0m \u001b[0mqjobs\u001b[0m\u001b[0;34m]\u001b[0m\u001b[0;34m)\u001b[0m\u001b[0;34m:\u001b[0m\u001b[0;34m\u001b[0m\u001b[0;34m\u001b[0m\u001b[0m\n\u001b[0;32m--> 423\u001b[0;31m             \u001b[0;32mreturn\u001b[0m \u001b[0;34m[\u001b[0m\u001b[0mq\u001b[0m\u001b[0;34m.\u001b[0m\u001b[0mresult\u001b[0m\u001b[0;34m(\u001b[0m\u001b[0;34m)\u001b[0m \u001b[0;32mfor\u001b[0m \u001b[0mq\u001b[0m \u001b[0;32min\u001b[0m \u001b[0mqjobs\u001b[0m\u001b[0;34m]\u001b[0m\u001b[0;34m\u001b[0m\u001b[0;34m\u001b[0m\u001b[0m\n\u001b[0m\u001b[1;32m    424\u001b[0m         \u001b[0;32melse\u001b[0m\u001b[0;34m:\u001b[0m\u001b[0;34m\u001b[0m\u001b[0;34m\u001b[0m\u001b[0m\n\u001b[1;32m    425\u001b[0m             \u001b[0mlogger\u001b[0m\u001b[0;34m.\u001b[0m\u001b[0merror\u001b[0m\u001b[0;34m(\u001b[0m\u001b[0;34mf\"Objects of the list must be <class 'qjob.QJob'> [{TypeError.__name__}].\"\u001b[0m\u001b[0;34m)\u001b[0m\u001b[0;34m\u001b[0m\u001b[0;34m\u001b[0m\u001b[0m\n",
      "\u001b[0;32m/mnt/netapp1/Store_CESGA/home/cesga/mlosada/api/api-simulator/installation/cunqa/qjob.py\u001b[0m in \u001b[0;36m<listcomp>\u001b[0;34m(.0)\u001b[0m\n\u001b[1;32m    421\u001b[0m     \u001b[0;32mif\u001b[0m \u001b[0misinstance\u001b[0m\u001b[0;34m(\u001b[0m\u001b[0mqjobs\u001b[0m\u001b[0;34m,\u001b[0m \u001b[0mlist\u001b[0m\u001b[0;34m)\u001b[0m\u001b[0;34m:\u001b[0m\u001b[0;34m\u001b[0m\u001b[0;34m\u001b[0m\u001b[0m\n\u001b[1;32m    422\u001b[0m         \u001b[0;32mif\u001b[0m \u001b[0mall\u001b[0m\u001b[0;34m(\u001b[0m\u001b[0;34m[\u001b[0m\u001b[0misinstance\u001b[0m\u001b[0;34m(\u001b[0m\u001b[0mq\u001b[0m\u001b[0;34m,\u001b[0m \u001b[0mQJob\u001b[0m\u001b[0;34m)\u001b[0m \u001b[0;32mfor\u001b[0m \u001b[0mq\u001b[0m \u001b[0;32min\u001b[0m \u001b[0mqjobs\u001b[0m\u001b[0;34m]\u001b[0m\u001b[0;34m)\u001b[0m\u001b[0;34m:\u001b[0m\u001b[0;34m\u001b[0m\u001b[0;34m\u001b[0m\u001b[0m\n\u001b[0;32m--> 423\u001b[0;31m             \u001b[0;32mreturn\u001b[0m \u001b[0;34m[\u001b[0m\u001b[0mq\u001b[0m\u001b[0;34m.\u001b[0m\u001b[0mresult\u001b[0m\u001b[0;34m(\u001b[0m\u001b[0;34m)\u001b[0m \u001b[0;32mfor\u001b[0m \u001b[0mq\u001b[0m \u001b[0;32min\u001b[0m \u001b[0mqjobs\u001b[0m\u001b[0;34m]\u001b[0m\u001b[0;34m\u001b[0m\u001b[0;34m\u001b[0m\u001b[0m\n\u001b[0m\u001b[1;32m    424\u001b[0m         \u001b[0;32melse\u001b[0m\u001b[0;34m:\u001b[0m\u001b[0;34m\u001b[0m\u001b[0;34m\u001b[0m\u001b[0m\n\u001b[1;32m    425\u001b[0m             \u001b[0mlogger\u001b[0m\u001b[0;34m.\u001b[0m\u001b[0merror\u001b[0m\u001b[0;34m(\u001b[0m\u001b[0;34mf\"Objects of the list must be <class 'qjob.QJob'> [{TypeError.__name__}].\"\u001b[0m\u001b[0;34m)\u001b[0m\u001b[0;34m\u001b[0m\u001b[0;34m\u001b[0m\u001b[0m\n",
      "\u001b[0;32m/mnt/netapp1/Store_CESGA/home/cesga/mlosada/api/api-simulator/installation/cunqa/qjob.py\u001b[0m in \u001b[0;36mresult\u001b[0;34m(self)\u001b[0m\n\u001b[1;32m    380\u001b[0m             \u001b[0;32mexcept\u001b[0m \u001b[0mException\u001b[0m \u001b[0;32mas\u001b[0m \u001b[0merror\u001b[0m\u001b[0;34m:\u001b[0m\u001b[0;34m\u001b[0m\u001b[0;34m\u001b[0m\u001b[0m\n\u001b[1;32m    381\u001b[0m                 \u001b[0mlogger\u001b[0m\u001b[0;34m.\u001b[0m\u001b[0merror\u001b[0m\u001b[0;34m(\u001b[0m\u001b[0;34mf\"Error while creating Results object [{type(error).__name__}]\"\u001b[0m\u001b[0;34m)\u001b[0m\u001b[0;34m\u001b[0m\u001b[0;34m\u001b[0m\u001b[0m\n\u001b[0;32m--> 382\u001b[0;31m                 \u001b[0;32mraise\u001b[0m \u001b[0merror\u001b[0m \u001b[0;31m# User's level\u001b[0m\u001b[0;34m\u001b[0m\u001b[0;34m\u001b[0m\u001b[0m\n\u001b[0m\u001b[1;32m    383\u001b[0m \u001b[0;34m\u001b[0m\u001b[0m\n\u001b[1;32m    384\u001b[0m         \u001b[0;32mreturn\u001b[0m \u001b[0mself\u001b[0m\u001b[0;34m.\u001b[0m\u001b[0m_result\u001b[0m\u001b[0;34m\u001b[0m\u001b[0;34m\u001b[0m\u001b[0m\n",
      "\u001b[0;32m/mnt/netapp1/Store_CESGA/home/cesga/mlosada/api/api-simulator/installation/cunqa/qjob.py\u001b[0m in \u001b[0;36mresult\u001b[0;34m(self)\u001b[0m\n\u001b[1;32m    376\u001b[0m                 \u001b[0;32melse\u001b[0m\u001b[0;34m:\u001b[0m\u001b[0;34m\u001b[0m\u001b[0;34m\u001b[0m\u001b[0m\n\u001b[1;32m    377\u001b[0m                     \u001b[0mres\u001b[0m \u001b[0;34m=\u001b[0m \u001b[0mself\u001b[0m\u001b[0;34m.\u001b[0m\u001b[0m_future\u001b[0m\u001b[0;34m.\u001b[0m\u001b[0mget\u001b[0m\u001b[0;34m(\u001b[0m\u001b[0;34m)\u001b[0m\u001b[0;34m\u001b[0m\u001b[0;34m\u001b[0m\u001b[0m\n\u001b[0;32m--> 378\u001b[0;31m                     \u001b[0mself\u001b[0m\u001b[0;34m.\u001b[0m\u001b[0m_result\u001b[0m \u001b[0;34m=\u001b[0m \u001b[0mResult\u001b[0m\u001b[0;34m(\u001b[0m\u001b[0mjson\u001b[0m\u001b[0;34m.\u001b[0m\u001b[0mloads\u001b[0m\u001b[0;34m(\u001b[0m\u001b[0mres\u001b[0m\u001b[0;34m)\u001b[0m\u001b[0;34m,\u001b[0m \u001b[0mregisters\u001b[0m\u001b[0;34m=\u001b[0m\u001b[0mself\u001b[0m\u001b[0;34m.\u001b[0m\u001b[0m_cregisters\u001b[0m\u001b[0;34m)\u001b[0m\u001b[0;34m\u001b[0m\u001b[0;34m\u001b[0m\u001b[0m\n\u001b[0m\u001b[1;32m    379\u001b[0m                     \u001b[0mself\u001b[0m\u001b[0;34m.\u001b[0m\u001b[0m_updated\u001b[0m \u001b[0;34m=\u001b[0m \u001b[0;32mTrue\u001b[0m\u001b[0;34m\u001b[0m\u001b[0;34m\u001b[0m\u001b[0m\n\u001b[1;32m    380\u001b[0m             \u001b[0;32mexcept\u001b[0m \u001b[0mException\u001b[0m \u001b[0;32mas\u001b[0m \u001b[0merror\u001b[0m\u001b[0;34m:\u001b[0m\u001b[0;34m\u001b[0m\u001b[0;34m\u001b[0m\u001b[0m\n",
      "\u001b[0;32m/mnt/netapp1/Store_CESGA/home/cesga/mlosada/api/api-simulator/installation/cunqa/qjob.py\u001b[0m in \u001b[0;36m__init__\u001b[0;34m(self, result, registers)\u001b[0m\n\u001b[1;32m     80\u001b[0m             \u001b[0mmessage\u001b[0m \u001b[0;34m=\u001b[0m \u001b[0mresult\u001b[0m\u001b[0;34m[\u001b[0m\u001b[0;34m\"ERROR\"\u001b[0m\u001b[0;34m]\u001b[0m\u001b[0;34m\u001b[0m\u001b[0;34m\u001b[0m\u001b[0m\n\u001b[1;32m     81\u001b[0m             \u001b[0mlogger\u001b[0m\u001b[0;34m.\u001b[0m\u001b[0merror\u001b[0m\u001b[0;34m(\u001b[0m\u001b[0;34mf\"Error during simulation, please check availability of QPUs, run arguments sintax and circuit sintax: {message}\"\u001b[0m\u001b[0;34m)\u001b[0m\u001b[0;34m\u001b[0m\u001b[0;34m\u001b[0m\u001b[0m\n\u001b[0;32m---> 82\u001b[0;31m             \u001b[0;32mraise\u001b[0m \u001b[0mQJobError\u001b[0m\u001b[0;34m\u001b[0m\u001b[0;34m\u001b[0m\u001b[0m\n\u001b[0m\u001b[1;32m     83\u001b[0m \u001b[0;34m\u001b[0m\u001b[0m\n\u001b[1;32m     84\u001b[0m         \u001b[0;32melse\u001b[0m\u001b[0;34m:\u001b[0m\u001b[0;34m\u001b[0m\u001b[0;34m\u001b[0m\u001b[0m\n",
      "\u001b[0;31mQJobError\u001b[0m: "
     ]
    }
   ],
   "source": [
    "pop=[]\n",
    "total_pop=1*num_parameters\n",
    "for j in range(total_pop):\n",
    "    initial_point=np.random.uniform(-np.pi, np.pi, num_parameters)\n",
    "    pop.append(initial_point)\n",
    "\n",
    "bounds=[]\n",
    "for i in range(0,num_parameters):\n",
    "    bounds.append((-np.pi,np.pi))\n",
    "\n",
    "print(\"Bounds:\", len(bounds))\n",
    "print(\"Initial population:\", len(pop))\n",
    "\n",
    "best_individual = []\n",
    "\n",
    "def cb(xk,convergence=1e-8):\n",
    "     best_individual.append(xk)\n",
    "\n",
    "from scipy.optimize import differential_evolution\n",
    "import time\n",
    "\n",
    "tick = time.time()\n",
    "result = differential_evolution(cost_function, bounds, maxiter=500, disp=True, workers=mapper, strategy='best1bin', init=pop, polish = False, callback=cb)\n",
    "tack = time.time()\n",
    "print(result)\n",
    "\n",
    "energies = mapper(cost_function, best_individual)\n",
    "\n",
    "\n",
    "\n",
    "print(\"Time:\", tack-tick)"
   ]
  },
  {
   "cell_type": "code",
   "execution_count": 10,
   "id": "159937b1",
   "metadata": {},
   "outputs": [
    {
     "data": {
      "text/plain": [
       "array([-0.73469769,  1.17418177, -1.45503937, -2.20013398, -0.47013537,\n",
       "       -2.22694554, -2.12828819, -1.42853008, -0.08819974, -1.36653995,\n",
       "       -1.32538102, -0.87326058, -1.69217034, -2.09175855,  0.33660399,\n",
       "        3.11309142, -0.0447022 ,  0.12230347,  0.08543365, -0.45315688,\n",
       "        1.95021447,  1.35692285,  0.59755266,  0.49048743,  1.92368871,\n",
       "       -0.59651135,  1.41554646,  0.46922337,  1.54441668, -2.60716695,\n",
       "       -0.73254089, -0.86024541, -1.45114305, -2.49992884, -1.43344119,\n",
       "       -0.43577026])"
      ]
     },
     "execution_count": 10,
     "metadata": {},
     "output_type": "execute_result"
    }
   ],
   "source": [
    "result.x"
   ]
  },
  {
   "cell_type": "code",
   "execution_count": 11,
   "id": "67ef2dac",
   "metadata": {},
   "outputs": [
    {
     "data": {
      "text/plain": [
       "0.1867568794416486"
      ]
     },
     "execution_count": 11,
     "metadata": {},
     "output_type": "execute_result"
    }
   ],
   "source": [
    "result.fun"
   ]
  },
  {
   "cell_type": "code",
   "execution_count": 12,
   "id": "25dcc810",
   "metadata": {},
   "outputs": [
    {
     "data": {
      "text/plain": [
       "array([0.18675688, 0.30652199, 0.33058087, 0.30690289, 0.3275122 ,\n",
       "       0.30742431, 0.22954697, 0.30879715, 0.28473121, 0.27076335,\n",
       "       0.3048595 , 0.29648775, 0.27187809, 0.29838232, 0.25908089,\n",
       "       0.3163563 , 0.29306996, 0.22312884, 0.25812829, 0.22867409,\n",
       "       0.26686759, 0.32642521, 0.26276147, 0.25293143, 0.27340118,\n",
       "       0.28361295, 0.28241051, 0.2929356 , 0.23705092, 0.27105013,\n",
       "       0.27116754, 0.30652199, 0.33058087, 0.30690289, 0.3275122 ,\n",
       "       0.30742431])"
      ]
     },
     "execution_count": 12,
     "metadata": {},
     "output_type": "execute_result"
    }
   ],
   "source": [
    "result.population_energies"
   ]
  },
  {
   "cell_type": "code",
   "execution_count": 13,
   "id": "2f2e5bdd",
   "metadata": {},
   "outputs": [],
   "source": [
    "circ = ansatz.assign_parameters(result.x)"
   ]
  },
  {
   "cell_type": "code",
   "execution_count": 18,
   "id": "a59d42ed",
   "metadata": {},
   "outputs": [
    {
     "name": "stdout",
     "output_type": "stream",
     "text": [
      "BasicAer\n",
      "<cunqa.qjob.Result object at 0x1494f5bc1df0>\n",
      "BasicAer\n",
      "<cunqa.qjob.Result object at 0x1494efef7f40>\n",
      "BasicAer\n",
      "<cunqa.qjob.Result object at 0x1494efef74c0>\n",
      "BasicAer\n",
      "<cunqa.qjob.Result object at 0x1494efef7f40>\n",
      "BasicAer\n",
      "<cunqa.qjob.Result object at 0x1494efef74c0>\n",
      "BasicAer\n",
      "<cunqa.qjob.Result object at 0x1494efef7f40>\n",
      "BasicAer\n",
      "<cunqa.qjob.Result object at 0x1494f011d130>\n",
      "BasicAer\n",
      "<cunqa.qjob.Result object at 0x1494efef70a0>\n",
      "BasicAer\n",
      "<cunqa.qjob.Result object at 0x1494f5bc1df0>\n",
      "BasicAer\n",
      "<cunqa.qjob.Result object at 0x1494efef7e80>\n"
     ]
    }
   ],
   "source": [
    "for i in range(10):\n",
    "    print(qpus[0].backend.name)\n",
    "    counts = qpus[0].run(circ, shots = n_shots, seed = 8).result()\n",
    "    print(counts)"
   ]
  },
  {
   "cell_type": "code",
   "execution_count": 22,
   "id": "1000eb67",
   "metadata": {},
   "outputs": [
    {
     "name": "stdout",
     "output_type": "stream",
     "text": [
      "BasicAer\n",
      "{'00': 99, '01': 1034, '10': 1039, '11': 826}\n",
      "BasicAer\n",
      "{'00': 73, '01': 996, '10': 1024, '11': 821}\n",
      "BasicAer\n",
      "{'00': 104, '01': 1001, '10': 958, '11': 868}\n",
      "BasicAer\n",
      "{'00': 82, '01': 1056, '10': 970, '11': 742}\n",
      "BasicAer\n",
      "{'00': 79, '01': 1066, '10': 1001, '11': 796}\n",
      "BasicAer\n",
      "{'00': 93, '01': 1026, '10': 977, '11': 768}\n",
      "BasicAer\n",
      "{'00': 97, '01': 989, '10': 985, '11': 893}\n",
      "BasicAer\n",
      "{'00': 83, '01': 1004, '10': 973, '11': 801}\n",
      "BasicAer\n",
      "{'00': 87, '01': 975, '10': 930, '11': 848}\n",
      "BasicAer\n",
      "{'00': 79, '01': 988, '10': 1028, '11': 847}\n"
     ]
    }
   ],
   "source": [
    "from qiskit import QuantumCircuit\n",
    "qc = QuantumCircuit(2)\n",
    "qc.rx(1.77, 0)\n",
    "qc.measure_all()\n",
    "\n",
    "for i in range(10):\n",
    "    print(qpus[0].backend.name)\n",
    "    counts = qpus[0].run(qc, shots = n_shots, seed = 8).result().get_counts()\n",
    "    print(counts)"
   ]
  },
  {
   "cell_type": "code",
   "execution_count": 14,
   "id": "bbaf8976",
   "metadata": {},
   "outputs": [],
   "source": [
    "import matplotlib.pyplot as plt\n",
    "plt.clf()\n",
    "plt.plot(np.linspace(0, result.nit, result.nit), energies, label=\"Optimization path (run())\")\n",
    "upper_bound = result.nit\n",
    "plt.plot(np.linspace(0, upper_bound, upper_bound), np.zeros(upper_bound), \"--\", label=\"Target cost\")\n",
    "plt.xlabel(\"Step\"); plt.ylabel(\"Cost\"); plt.legend(loc=\"upper right\"); plt.title(f\"n = {num_qubits}, l = {num_layers}, # params = {num_parameters}\")\n",
    "plt.grid(True)\n",
    "plt.show()\n",
    "plt.savefig(f\"optimization_de_n_{num_qubits}_p_{num_parameters}.png\", dpi=200)"
   ]
  },
  {
   "cell_type": "markdown",
   "id": "138ab7f9",
   "metadata": {},
   "source": [
    "# Paralelization of expectation value terms"
   ]
  },
  {
   "cell_type": "code",
   "execution_count": 25,
   "id": "0ff7f237",
   "metadata": {},
   "outputs": [],
   "source": [
    "# TODO"
   ]
  },
  {
   "cell_type": "markdown",
   "id": "1910dbed",
   "metadata": {},
   "source": [
    "# Paralelization for gradient optimizers"
   ]
  },
  {
   "cell_type": "code",
   "execution_count": 26,
   "id": "5b7dc77d",
   "metadata": {},
   "outputs": [],
   "source": [
    "# TODO"
   ]
  }
 ],
 "metadata": {
  "kernelspec": {
   "display_name": "Python 3 (ipykernel)",
   "language": "python",
   "name": "python3"
  },
  "language_info": {
   "codemirror_mode": {
    "name": "ipython",
    "version": 3
   },
   "file_extension": ".py",
   "mimetype": "text/x-python",
   "name": "python",
   "nbconvert_exporter": "python",
   "pygments_lexer": "ipython3",
   "version": "3.9.9"
  }
 },
 "nbformat": 4,
 "nbformat_minor": 5
}
