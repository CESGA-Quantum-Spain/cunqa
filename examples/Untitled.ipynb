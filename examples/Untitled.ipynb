{
 "cells": [
  {
   "cell_type": "code",
   "execution_count": 2,
   "id": "95f898e3-5621-4b4f-9aec-3edcf3dcbe8b",
   "metadata": {},
   "outputs": [
    {
     "name": "stdout",
     "output_type": "stream",
     "text": [
      "None\n"
     ]
    }
   ],
   "source": [
    "import os\n",
    "import sys\n",
    "import json\n",
    "import time\n",
    "\n",
    "install_path = os.getenv(\"INSTALL_PATH\")\n",
    "print(install_path)# como no me lo pilla pues lo pongo a mano\n",
    "sys.path.insert(0, \"/mnt/netapp1/Store_CESGA/home/cesga/mlosada/api/api-simulator/installation\")\n",
    "\n",
    "from python.qclient import QClient"
   ]
  },
  {
   "cell_type": "code",
   "execution_count": 3,
   "id": "111c24cf-74ea-45ad-aaa5-135594da1899",
   "metadata": {},
   "outputs": [
    {
     "name": "stdout",
     "output_type": "stream",
     "text": [
      "QPUs disponibles:\n",
      "<python.qclient.QClient object at 0x14c058c01030>\n",
      "<python.qclient.QClient object at 0x14c058e56670>\n",
      "<python.qclient.QClient object at 0x14c058c011b0>\n",
      "<python.qclient.QClient object at 0x14c058c01170>\n",
      "<python.qclient.QClient object at 0x14c058c012f0>\n"
     ]
    }
   ],
   "source": [
    "# accedo al archivo json con información sobre las QPUs levantadas\n",
    "STORE = os.getenv(\"STORE\")\n",
    "conf_file = STORE + \"/.api_simulator/qpu.json\"\n",
    "\n",
    "client = QClient(conf_file)\n",
    "\n",
    "with open(conf_file, 'r', encoding='utf-8') as archivo:\n",
    "    datos = json.load(archivo)\n",
    "\n",
    "# hago una lista de las rutas de las QPUs\n",
    "\n",
    "QPUs = []\n",
    "\n",
    "if isinstance(datos, dict):\n",
    "    for k in datos.keys():\n",
    "        client  = QClient(conf_file)\n",
    "        client.connect(k)\n",
    "        QPUs.append(client)\n",
    "        \n",
    "\n",
    "print(\"QPUs disponibles:\")\n",
    "for q in QPUs:\n",
    "    print(q)"
   ]
  },
  {
   "cell_type": "code",
   "execution_count": null,
   "id": "2e9a700d-c0c0-401a-8d89-c0c7c1443fd7",
   "metadata": {},
   "outputs": [],
   "source": []
  }
 ],
 "metadata": {
  "kernelspec": {
   "display_name": "Python 3 (ipykernel)",
   "language": "python",
   "name": "python3"
  },
  "language_info": {
   "codemirror_mode": {
    "name": "ipython",
    "version": 3
   },
   "file_extension": ".py",
   "mimetype": "text/x-python",
   "name": "python",
   "nbconvert_exporter": "python",
   "pygments_lexer": "ipython3",
   "version": "3.9.9"
  }
 },
 "nbformat": 4,
 "nbformat_minor": 5
}
