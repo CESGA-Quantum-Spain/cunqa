{
 "cells": [
  {
   "cell_type": "code",
   "execution_count": 1,
   "id": "95f898e3-5621-4b4f-9aec-3edcf3dcbe8b",
   "metadata": {},
   "outputs": [
    {
     "name": "stdout",
     "output_type": "stream",
     "text": [
      "/mnt/netapp1/Store_CESGA/home/cesga/mlosada/api/api-simulator/installation\n"
     ]
    }
   ],
   "source": [
    "import os\n",
    "import sys\n",
    "import json\n",
    "import time\n",
    "import logging\n",
    "\n",
    "# Crear un manejador personalizado\n",
    "class CustomFormatter(logging.Formatter):\n",
    "    def format(self, record):\n",
    "        # Usar el método getMessage() y agregar la hora formateada\n",
    "        formatted_time = self.formatTime(record, datefmt='%Y-%m-%d %H:%M:%S')\n",
    "        return f\"{formatted_time} - {record.getMessage()}\"\n",
    "\n",
    "# Crear un logger\n",
    "logger = logging.getLogger()\n",
    "logger.setLevel(logging.INFO)\n",
    "\n",
    "# Crear un manejador que imprime en stdout\n",
    "handler = logging.StreamHandler(stream=sys.stdout)\n",
    "formatter = CustomFormatter()  # Usar el CustomFormatter\n",
    "handler.setFormatter(formatter)\n",
    "\n",
    "# Limpiar manejadores previos si los hay\n",
    "if logger.hasHandlers():\n",
    "    logger.handlers.clear()\n",
    "\n",
    "# Agregar el nuevo manejador\n",
    "logger.addHandler(handler)\n",
    "\n",
    "install_path = os.getenv(\"INSTALL_PATH\")\n",
    "print(install_path)# como no me lo pilla pues lo pongo a mano\n",
    "sys.path.insert(0, \"/mnt/netapp1/Store_CESGA/home/cesga/mlosada/api/api-simulator/installation\")\n",
    "sys.path.insert(0, \"/mnt/netapp1/Store_CESGA/home/cesga/mlosada/api/api-simulator/python\")"
   ]
  },
  {
   "cell_type": "code",
   "execution_count": 2,
   "id": "9838bcbf",
   "metadata": {},
   "outputs": [],
   "source": [
    "from qpu import QPU, getQPUs\n",
    "from qjob import gather"
   ]
  },
  {
   "cell_type": "code",
   "execution_count": 3,
   "id": "111c24cf-74ea-45ad-aaa5-135594da1899",
   "metadata": {},
   "outputs": [
    {
     "name": "stdout",
     "output_type": "stream",
     "text": [
      "QPUs disponibles:\n",
      "QPU 0, backend FakeQmio.\n"
     ]
    }
   ],
   "source": [
    "qpus = getQPUs()\n",
    "print(\"QPUs disponibles:\")\n",
    "for q in qpus:\n",
    "    print(f\"QPU {q.id_}, backend {q.backend.name}.\")"
   ]
  },
  {
   "cell_type": "code",
   "execution_count": null,
   "id": "b4863f34",
   "metadata": {},
   "outputs": [],
   "source": [
    "from qiskit import QuantumCircuit\n",
    "qc = QuantumCircuit(2,2)"
   ]
  },
  {
   "cell_type": "code",
   "execution_count": null,
   "id": "4c64fce0",
   "metadata": {},
   "outputs": [],
   "source": []
  },
  {
   "cell_type": "code",
   "execution_count": null,
   "id": "3a189691",
   "metadata": {},
   "outputs": [],
   "source": []
  },
  {
   "cell_type": "code",
   "execution_count": null,
   "id": "85def8e4",
   "metadata": {},
   "outputs": [],
   "source": []
  },
  {
   "cell_type": "code",
   "execution_count": null,
   "id": "f8c985ed",
   "metadata": {},
   "outputs": [],
   "source": []
  },
  {
   "cell_type": "code",
   "execution_count": null,
   "id": "d03208c7",
   "metadata": {},
   "outputs": [],
   "source": []
  },
  {
   "cell_type": "code",
   "execution_count": null,
   "id": "1971ffb3",
   "metadata": {},
   "outputs": [],
   "source": []
  },
  {
   "cell_type": "code",
   "execution_count": null,
   "id": "d2f94202",
   "metadata": {},
   "outputs": [],
   "source": []
  },
  {
   "cell_type": "code",
   "execution_count": 156,
   "id": "97aea737",
   "metadata": {},
   "outputs": [],
   "source": [
    "with open(\"circuit_15qubits_10layers.json\", \"r\") as file:\n",
    "    circuit = json.load(file)"
   ]
  },
  {
   "cell_type": "markdown",
   "id": "cd969ea3",
   "metadata": {},
   "source": [
    "Mandando los circuitos así funciona perfecto."
   ]
  },
  {
   "cell_type": "code",
   "execution_count": 158,
   "id": "355d8dc3",
   "metadata": {},
   "outputs": [
    {
     "name": "stdout",
     "output_type": "stream",
     "text": [
      "2025-01-23 10:50:14 - Enviado a QPU 0\n",
      "2025-01-23 10:50:14 - Enviado a QPU 1\n",
      "2025-01-23 10:50:14 - Enviado a QPU 2\n",
      "2025-01-23 10:50:14 - Enviado a QPU 3\n",
      "2025-01-23 10:50:14 - Enviado a QPU 4\n",
      "2025-01-23 10:50:14 - Dentro gather: \n",
      "Terminó en : 74.73958396911621  s\n",
      "For QPU 0: 74.677205631 s\n",
      "For QPU 1: 74.617190847 s\n",
      "For QPU 2: 74.623033808 s\n",
      "For QPU 3: 74.652475401 s\n",
      "For QPU 4: 74.640246529 s\n"
     ]
    }
   ],
   "source": [
    "qjobs = []\n",
    "\n",
    "tick = time.time()\n",
    "for q in qpus:\n",
    "    qjobs.append(q.run(circ = circuit, shots=222))\n",
    "    logger.info(f\"Enviado a QPU {q.id_}\")\n",
    "\n",
    "logger.info(\"Dentro gather: \")\n",
    "\n",
    "resultados = gather(qjobs)\n",
    "\n",
    "tack = time.time()\n",
    "\n",
    "print(\"Terminó en :\", tack-tick, \" s\")\n",
    "\n",
    "for i,r in enumerate(resultados):\n",
    "    tiempo = r.get_dict()[\"results\"][0][\"time_taken\"]\n",
    "    print(f\"For QPU {i}: {tiempo} s\")"
   ]
  },
  {
   "cell_type": "code",
   "execution_count": 272,
   "id": "7fc8c7cc",
   "metadata": {},
   "outputs": [
    {
     "data": {
      "text/plain": [
       "{'10000101100001000000101100011': 1,\n",
       " '10000110011001000000101111101': 1,\n",
       " '10001010100011000000000010011': 1,\n",
       " '10110001001010000000011110011': 1,\n",
       " '10110001010100000000011111001': 1,\n",
       " '10110011000001000000001010011': 1,\n",
       " '10110011011101000001101111111': 1,\n",
       " '10110100010111000000111111011': 1,\n",
       " '10110101010001000000110110011': 1,\n",
       " '10110101010011000001001111011': 1,\n",
       " '10110110001000000000101001111': 1,\n",
       " '10110110010101000000101111001': 1,\n",
       " '10110110100101000001000011001': 1,\n",
       " '10111010100000000000001010101': 1,\n",
       " '10111011010001000000011111011': 1,\n",
       " '10111100110011000000111010001': 1,\n",
       " '10111110001111000001100110011': 1,\n",
       " '10111110010100000000100111001': 1,\n",
       " '10111110010100000001100111011': 1,\n",
       " '11000000100011000000010100111': 1,\n",
       " '11000000110100000000011101111': 1,\n",
       " '11000001010011000001111110101': 1,\n",
       " '11000001011100000000001110111': 1,\n",
       " '11000001110100000000011011001': 1,\n",
       " '11000001110100000000111011011': 1,\n",
       " '11000010010010000000000110001': 1,\n",
       " '11000010110000000001100110011': 1,\n",
       " '11000011010101000000011110001': 1,\n",
       " '11000100011000000000110111001': 1,\n",
       " '11000101010111000000111111011': 1,\n",
       " '11001001010000000000011111111': 1,\n",
       " '11001001010011000000010110011': 1,\n",
       " '11001100010111000000110111001': 1,\n",
       " '11001101000100000000101011101': 1,\n",
       " '11001101010100000001011101011': 1,\n",
       " '11001101010100000001111111011': 1,\n",
       " '11001111010111000000101111001': 1,\n",
       " '11001111100100000000101100001': 1,\n",
       " '11010100011111000001010010111': 1,\n",
       " '11010110010111000000100111011': 1,\n",
       " '11011010010001000000100110011': 1,\n",
       " '11011101010011000001001111111': 1,\n",
       " '11100000011011000000010111011': 1,\n",
       " '11100001001000000000011101101': 1,\n",
       " '11110000001101000000010110101': 1,\n",
       " '11110000100000000000011101011': 1,\n",
       " '11110000111011000000110111111': 1,\n",
       " '11110001011011000000011111101': 1,\n",
       " '11110001100111000000011101011': 1,\n",
       " '11110010001000000000001111111': 1,\n",
       " '11110010010000000000001110011': 1,\n",
       " '11110010010111000000000110011': 1,\n",
       " '11110010011000000000000111011': 1,\n",
       " '11110010100011000000001100011': 1,\n",
       " '11110101010000000000111110011': 1,\n",
       " '11110101100100000000111101001': 1,\n",
       " '11110101110111000001010011011': 1,\n",
       " '11110110001011000001101111011': 1,\n",
       " '11110110100111000001000101001': 1,\n",
       " '11110111100111000000101101011': 1,\n",
       " '11111000010010000000011111001': 1,\n",
       " '11111000011101000000010110111': 1,\n",
       " '11111001011111000000011110111': 1,\n",
       " '11111010000001000000000000011': 1,\n",
       " '11111010011011000000000111001': 1,\n",
       " '11111010011011000001100110011': 1,\n",
       " '11111010011111000000001110111': 1,\n",
       " '11111010100011000000000100111': 1,\n",
       " '11111010100111000000000100011': 1,\n",
       " '11111010111111000000001110111': 1,\n",
       " '11111100000111000000110110011': 1,\n",
       " '11111100011111000001010110101': 1,\n",
       " '11111100011111000001110110111': 1,\n",
       " '11111100100001000000111011001': 1,\n",
       " '11111100100100000000110101011': 1,\n",
       " '11111100100110000001010101001': 1,\n",
       " '11111100101001000001001011001': 1,\n",
       " '11111101001000000001011000011': 1,\n",
       " '11111101001011000000110110011': 1,\n",
       " '11111101010111000000111111011': 1,\n",
       " '11111101011011000000111111111': 1,\n",
       " '11111101101100000001011100101': 1,\n",
       " '11111110011001000000100111001': 1,\n",
       " '11111110101001000000100101001': 1,\n",
       " '11111110110111000001000011011': 1,\n",
       " '11111111010000000000101110011': 1,\n",
       " '11111111100100000000101011111': 1,\n",
       " '11111111110000000000101111011': 1,\n",
       " '100110010111101000001100010101': 1,\n",
       " '100111110111111000001001110111': 1,\n",
       " '101000000111011000000010011101': 1,\n",
       " '101000010000101000000000001011': 1,\n",
       " '101000101100111000001011101011': 1,\n",
       " '101000111100011000001001100111': 1,\n",
       " '101001001001101000000010010111': 1,\n",
       " '101001101010011000000110110011': 1,\n",
       " '101001101010111000000111110011': 1,\n",
       " '101001101111111000001011100111': 1,\n",
       " '101001110000011000001001110011': 1,\n",
       " '101001110100011000001000110011': 1,\n",
       " '101110000100000000001110100011': 1,\n",
       " '101110000100100000000011101011': 1,\n",
       " '101110000100111000000010101011': 1,\n",
       " '101110001011000000000010110011': 1,\n",
       " '101110010010000000000101110011': 1,\n",
       " '101110010010100000000000010011': 1,\n",
       " '101110101010111000000111111011': 1,\n",
       " '101110110011011000000100111011': 1,\n",
       " '101110110100011000000100010011': 1,\n",
       " '101111000101011000000010101011': 1,\n",
       " '101111001000000000000011001011': 1,\n",
       " '101111010010100000001001111001': 1,\n",
       " '101111100010100000000110111011': 1,\n",
       " '101111101010001000000111111001': 1,\n",
       " '101111101010100000000100110001': 1,\n",
       " '101111110100001000000100110011': 1,\n",
       " '101111111010000000000111110101': 1,\n",
       " '110001000010101000000110111011': 1,\n",
       " '110110001100000000000011100011': 1,\n",
       " '110110010000010000000001000011': 1,\n",
       " '111000100001011000000110001111': 1,\n",
       " '111000100010100000000110110011': 1,\n",
       " '111000100110100000000100011001': 1,\n",
       " '111000101001000000000110001011': 1,\n",
       " '111001010111011000000000011011': 1,\n",
       " '111001100100101000000110010101': 1,\n",
       " '111001100100111000000110111011': 1,\n",
       " '111100010011101000000000110101': 1,\n",
       " '111110001111100000000010010101': 1,\n",
       " '111110010110100000000000111001': 1,\n",
       " '111110100011010000000110111001': 1,\n",
       " '111110100110111000000010111011': 1,\n",
       " '111110101010011000000110111011': 1,\n",
       " '111110110010000000000100101111': 1,\n",
       " '111110110111001000000100010001': 1,\n",
       " '111111010010000000000000110011': 1,\n",
       " '111111110011011000000101110011': 1,\n",
       " '111111111111111000001100110111': 1,\n",
       " '10111100000000001010101': 1,\n",
       " '110100000100000000110111011': 1,\n",
       " '110100010011000000110110011': 1,\n",
       " '111010010101000000001111001': 1,\n",
       " '1000000010100000000010011001': 1,\n",
       " '1000001111000000000011101011': 1,\n",
       " '1000010011011000000001110111': 1,\n",
       " '1000010100011000001100100011': 1,\n",
       " '1000100111101000001011100101': 1,\n",
       " '1000101010011000000110111011': 1,\n",
       " '1000101110101000000111011011': 1,\n",
       " '1000110001101000001001000111': 1,\n",
       " '1000110010100000000101111011': 1,\n",
       " '1000110011100000000101110111': 1,\n",
       " '1000111110100000000111011011': 1,\n",
       " '1001000010111000000011110111': 1,\n",
       " '1001000100111000000010101001': 1,\n",
       " '1001010010100000000001111001': 1,\n",
       " '1001010010101000000001110011': 1,\n",
       " '1001100010101000000111111001': 1,\n",
       " '1001100010111000000110101001': 1,\n",
       " '1001100110101000001110101001': 1,\n",
       " '1001101111001000000110011101': 1,\n",
       " '1001110010000000000100110001': 1,\n",
       " '1001110010001000001001111001': 1,\n",
       " '1001110010100000000100111011': 1,\n",
       " '1001110111000000000101111111': 1,\n",
       " '1010110000100000001001001011': 1,\n",
       " '1010110010100000000100111011': 1,\n",
       " '1011110110101000000101011011': 1,\n",
       " '1100010101000000000101101101': 1,\n",
       " '1101110011100000000100110101': 1,\n",
       " '1110000000000000000010011011': 1,\n",
       " '1110000000111000000010001011': 1,\n",
       " '1110000010011000000010111011': 1,\n",
       " '1110001010000000000011110001': 1,\n",
       " '1110001010100000000010111011': 1,\n",
       " '1110001011011000001111110001': 1,\n",
       " '1110001110111000001111101111': 1,\n",
       " '1110010011001000000000111001': 1,\n",
       " '1110010011100000000000110111': 1,\n",
       " '1110010011101000000000110101': 1,\n",
       " '1110010110011000000000010001': 1,\n",
       " '1110011101000000000001100011': 1,\n",
       " '1110100010001000000110110001': 1,\n",
       " '1110100010010000000110110101': 1,\n",
       " '1110100010111000000111111011': 1,\n",
       " '1110100100101000000110101011': 1,\n",
       " '1110100111011000001011010011': 1,\n",
       " '1110100111011000001011011011': 1,\n",
       " '1110101011000000000111110011': 1,\n",
       " '1110110010111000000000101011': 1,\n",
       " '1110110010111000001001111001': 1,\n",
       " '1110110011010000001001110001': 1,\n",
       " '1110110101011000000101101011': 1,\n",
       " '1110110101111000000100010111': 1,\n",
       " '1110110110100000000100101011': 1,\n",
       " '1110111010111000000101111011': 1,\n",
       " '1110111011110000000101110101': 1,\n",
       " '1111000011001000000001110011': 1,\n",
       " '1111000100000000000010100011': 1,\n",
       " '1111000110000000000010110011': 1,\n",
       " '1111001000111000001111111011': 1,\n",
       " '1111001010000000000011111011': 1,\n",
       " '1111001011001000000001110011': 1,\n",
       " '1111001100001000000010100001': 1,\n",
       " '1111001110011000000011100011': 1,\n",
       " '1111010000011000000000110011': 1,\n",
       " '1111010000100000000000001011': 1,\n",
       " '1111010111011000000000011011': 1,\n",
       " '1111100000011000000010111011': 1,\n",
       " '1111100010000000000110111011': 1,\n",
       " '1111100010111000001010111011': 1,\n",
       " '1111101000001000000111000001': 1,\n",
       " '1111101100111000000110011011': 1,\n",
       " '1111101110101000000110111001': 1,\n",
       " '1111101110111000000111101011': 1,\n",
       " '1111110000011000001001111011': 1,\n",
       " '1111110000100000000100111011': 1,\n",
       " '1111110001110000000101110111': 1,\n",
       " '1111110010111000000100110001': 1,\n",
       " '1111110110100000000100011011': 1,\n",
       " '1111110110111000000100111011': 1,\n",
       " '1111111101110000000100101101': 1}"
      ]
     },
     "execution_count": 272,
     "metadata": {},
     "output_type": "execute_result"
    }
   ],
   "source": [
    "resultados[0].get_counts()"
   ]
  },
  {
   "cell_type": "markdown",
   "id": "9bd34189",
   "metadata": {},
   "source": [
    "Vamos a probar mandando como `QuantumCircuit`, debería ser lo mismo ya que el paso de pasar a qc_to_json es el mismo"
   ]
  },
  {
   "cell_type": "code",
   "execution_count": 27,
   "id": "110e3e1d",
   "metadata": {},
   "outputs": [],
   "source": [
    "import numpy as np\n",
    "from qiskit import QuantumCircuit\n",
    "\n",
    "num_qubits = 15\n",
    "\n",
    "layers = 10\n",
    "\n",
    "params = []\n",
    "\n",
    "for l in range(layers):\n",
    "    params.append(np.random.uniform(0, 2 * np.pi, num_qubits))\n",
    "                  \n",
    "qc = QuantumCircuit(num_qubits,num_qubits)\n",
    "\n",
    "qc.h(range(num_qubits))\n",
    "\n",
    "for j,pa in enumerate(params):\n",
    "\n",
    "    for i in range(num_qubits-1):\n",
    "        if i%2 == 0 :\n",
    "            qc.cx(i,i+1)\n",
    "    \n",
    "    for i,p in enumerate(pa):\n",
    "        qc.rx(p, i)\n",
    "        qc.ry(p,i)\n",
    "    qc.measure(j,j)\n",
    "    \n",
    "    qc.h(range(num_qubits))\n",
    "\n",
    "qc.measure_all()"
   ]
  },
  {
   "cell_type": "code",
   "execution_count": 50,
   "id": "dcd1b10f",
   "metadata": {},
   "outputs": [
    {
     "data": {
      "text/plain": [
       "[ClassicalRegister(15, 'c'), ClassicalRegister(15, 'meas')]"
      ]
     },
     "execution_count": 50,
     "metadata": {},
     "output_type": "execute_result"
    }
   ],
   "source": [
    "from qiskit.circuit import QuantumRegister, ClassicalRegister, Instruction, Operation, Clbit\n",
    "qc.cregs"
   ]
  },
  {
   "cell_type": "code",
   "execution_count": 58,
   "id": "24b42ccc",
   "metadata": {},
   "outputs": [
    {
     "ename": "AttributeError",
     "evalue": "'Clbit' object has no attribute 'name'",
     "output_type": "error",
     "traceback": [
      "\u001b[0;31m---------------------------------------------------------------------------\u001b[0m",
      "\u001b[0;31mAttributeError\u001b[0m                            Traceback (most recent call last)",
      "\u001b[0;32m/scratch/92567/ipykernel_896745/2530985065.py\u001b[0m in \u001b[0;36m<module>\u001b[0;34m\u001b[0m\n\u001b[1;32m      1\u001b[0m \u001b[0mc\u001b[0m \u001b[0;34m=\u001b[0m \u001b[0mClbit\u001b[0m\u001b[0;34m(\u001b[0m\u001b[0mClassicalRegister\u001b[0m\u001b[0;34m(\u001b[0m\u001b[0;36m15\u001b[0m\u001b[0;34m,\u001b[0m \u001b[0;34m'c'\u001b[0m\u001b[0;34m)\u001b[0m\u001b[0;34m,\u001b[0m \u001b[0;36m0\u001b[0m\u001b[0;34m)\u001b[0m\u001b[0;34m\u001b[0m\u001b[0;34m\u001b[0m\u001b[0m\n\u001b[1;32m      2\u001b[0m \u001b[0;34m\u001b[0m\u001b[0m\n\u001b[0;32m----> 3\u001b[0;31m \u001b[0mc\u001b[0m\u001b[0;34m.\u001b[0m\u001b[0mname\u001b[0m\u001b[0;34m\u001b[0m\u001b[0;34m\u001b[0m\u001b[0m\n\u001b[0m\u001b[1;32m      4\u001b[0m \u001b[0;34m\u001b[0m\u001b[0m\n",
      "\u001b[0;31mAttributeError\u001b[0m: 'Clbit' object has no attribute 'name'"
     ]
    }
   ],
   "source": [
    "c = Clbit(ClassicalRegister(15, 'c'), 0)\n",
    "\n",
    "c.name\n",
    "    "
   ]
  },
  {
   "cell_type": "code",
   "execution_count": 65,
   "id": "75c96587",
   "metadata": {
    "scrolled": false
   },
   "outputs": [
    {
     "data": {
      "text/plain": [
       "CircuitInstruction(operation=Instruction(name='measure', num_qubits=1, num_clbits=1, params=[]), qubits=(Qubit(QuantumRegister(15, 'q'), 0),), clbits=(Clbit(ClassicalRegister(15, 'c'), 0),))"
      ]
     },
     "execution_count": 65,
     "metadata": {},
     "output_type": "execute_result"
    }
   ],
   "source": [
    "qc.data[52]"
   ]
  },
  {
   "cell_type": "code",
   "execution_count": 66,
   "id": "bf483ecf",
   "metadata": {},
   "outputs": [
    {
     "data": {
      "text/plain": [
       "CircuitInstruction(operation=Instruction(name='measure', num_qubits=1, num_clbits=1, params=[]), qubits=(Qubit(QuantumRegister(15, 'q'), 14),), clbits=(Clbit(ClassicalRegister(15, 'meas'), 14),))"
      ]
     },
     "execution_count": 66,
     "metadata": {},
     "output_type": "execute_result"
    }
   ],
   "source": [
    "qc.data[-1]"
   ]
  },
  {
   "cell_type": "code",
   "execution_count": 20,
   "id": "878ccaca",
   "metadata": {},
   "outputs": [],
   "source": [
    "from qiskit.circuit import Instruction\n",
    "\n",
    "instruction = Instruction(name= 'h', num_qubits = 1, num_clbits = 0, params = [])\n",
    "qubit = "
   ]
  },
  {
   "cell_type": "code",
   "execution_count": 18,
   "id": "6c0d0307",
   "metadata": {},
   "outputs": [
    {
     "data": {
      "text/plain": [
       "{'name': 'h', 'qubits': [0], 'params': []}"
      ]
     },
     "execution_count": 18,
     "metadata": {},
     "output_type": "execute_result"
    }
   ],
   "source": [
    "circuit['instructions'][0]"
   ]
  },
  {
   "cell_type": "code",
   "execution_count": 21,
   "id": "95346c64",
   "metadata": {
    "scrolled": true
   },
   "outputs": [
    {
     "data": {
      "text/plain": [
       "{'instructions': [{'name': 'h', 'qubits': [0], 'params': []},\n",
       "  {'name': 'h', 'qubits': [1], 'params': []},\n",
       "  {'name': 'h', 'qubits': [2], 'params': []},\n",
       "  {'name': 'h', 'qubits': [3], 'params': []},\n",
       "  {'name': 'h', 'qubits': [4], 'params': []},\n",
       "  {'name': 'h', 'qubits': [5], 'params': []},\n",
       "  {'name': 'h', 'qubits': [6], 'params': []},\n",
       "  {'name': 'h', 'qubits': [7], 'params': []},\n",
       "  {'name': 'h', 'qubits': [8], 'params': []},\n",
       "  {'name': 'h', 'qubits': [9], 'params': []},\n",
       "  {'name': 'h', 'qubits': [10], 'params': []},\n",
       "  {'name': 'h', 'qubits': [11], 'params': []},\n",
       "  {'name': 'h', 'qubits': [12], 'params': []},\n",
       "  {'name': 'h', 'qubits': [13], 'params': []},\n",
       "  {'name': 'h', 'qubits': [14], 'params': []},\n",
       "  {'name': 'cx', 'qubits': [0, 1], 'params': []},\n",
       "  {'name': 'cx', 'qubits': [2, 3], 'params': []},\n",
       "  {'name': 'cx', 'qubits': [4, 5], 'params': []},\n",
       "  {'name': 'cx', 'qubits': [6, 7], 'params': []},\n",
       "  {'name': 'cx', 'qubits': [8, 9], 'params': []},\n",
       "  {'name': 'cx', 'qubits': [10, 11], 'params': []},\n",
       "  {'name': 'cx', 'qubits': [12, 13], 'params': []},\n",
       "  {'name': 'rx', 'qubits': [0], 'params': [1.3070573086871566]},\n",
       "  {'name': 'ry', 'qubits': [0], 'params': [1.3070573086871566]},\n",
       "  {'name': 'rx', 'qubits': [1], 'params': [5.37210644024652]},\n",
       "  {'name': 'ry', 'qubits': [1], 'params': [5.37210644024652]},\n",
       "  {'name': 'rx', 'qubits': [2], 'params': [2.919748237951989]},\n",
       "  {'name': 'ry', 'qubits': [2], 'params': [2.919748237951989]},\n",
       "  {'name': 'rx', 'qubits': [3], 'params': [0.5494319457928076]},\n",
       "  {'name': 'ry', 'qubits': [3], 'params': [0.5494319457928076]},\n",
       "  {'name': 'rx', 'qubits': [4], 'params': [1.0702494371259061]},\n",
       "  {'name': 'ry', 'qubits': [4], 'params': [1.0702494371259061]},\n",
       "  {'name': 'rx', 'qubits': [5], 'params': [0.3302956701354027]},\n",
       "  {'name': 'ry', 'qubits': [5], 'params': [0.3302956701354027]},\n",
       "  {'name': 'rx', 'qubits': [6], 'params': [4.883052792327026]},\n",
       "  {'name': 'ry', 'qubits': [6], 'params': [4.883052792327026]},\n",
       "  {'name': 'rx', 'qubits': [7], 'params': [1.484570343071319]},\n",
       "  {'name': 'ry', 'qubits': [7], 'params': [1.484570343071319]},\n",
       "  {'name': 'rx', 'qubits': [8], 'params': [2.7729701192286753]},\n",
       "  {'name': 'ry', 'qubits': [8], 'params': [2.7729701192286753]},\n",
       "  {'name': 'rx', 'qubits': [9], 'params': [4.959466913456916]},\n",
       "  {'name': 'ry', 'qubits': [9], 'params': [4.959466913456916]},\n",
       "  {'name': 'rx', 'qubits': [10], 'params': [1.9942588572182893]},\n",
       "  {'name': 'ry', 'qubits': [10], 'params': [1.9942588572182893]},\n",
       "  {'name': 'rx', 'qubits': [11], 'params': [1.8161837950202813]},\n",
       "  {'name': 'ry', 'qubits': [11], 'params': [1.8161837950202813]},\n",
       "  {'name': 'rx', 'qubits': [12], 'params': [6.0589440439489675]},\n",
       "  {'name': 'ry', 'qubits': [12], 'params': [6.0589440439489675]},\n",
       "  {'name': 'rx', 'qubits': [13], 'params': [3.961235359221745]},\n",
       "  {'name': 'ry', 'qubits': [13], 'params': [3.961235359221745]},\n",
       "  {'name': 'rx', 'qubits': [14], 'params': [5.165016479036113]},\n",
       "  {'name': 'ry', 'qubits': [14], 'params': [5.165016479036113]},\n",
       "  {'name': 'measure', 'qubits': [0], 'memory': [0]},\n",
       "  {'name': 'h', 'qubits': [0], 'params': []},\n",
       "  {'name': 'h', 'qubits': [1], 'params': []},\n",
       "  {'name': 'h', 'qubits': [2], 'params': []},\n",
       "  {'name': 'h', 'qubits': [3], 'params': []},\n",
       "  {'name': 'h', 'qubits': [4], 'params': []},\n",
       "  {'name': 'h', 'qubits': [5], 'params': []},\n",
       "  {'name': 'h', 'qubits': [6], 'params': []},\n",
       "  {'name': 'h', 'qubits': [7], 'params': []},\n",
       "  {'name': 'h', 'qubits': [8], 'params': []},\n",
       "  {'name': 'h', 'qubits': [9], 'params': []},\n",
       "  {'name': 'h', 'qubits': [10], 'params': []},\n",
       "  {'name': 'h', 'qubits': [11], 'params': []},\n",
       "  {'name': 'h', 'qubits': [12], 'params': []},\n",
       "  {'name': 'h', 'qubits': [13], 'params': []},\n",
       "  {'name': 'h', 'qubits': [14], 'params': []},\n",
       "  {'name': 'cx', 'qubits': [0, 1], 'params': []},\n",
       "  {'name': 'cx', 'qubits': [2, 3], 'params': []},\n",
       "  {'name': 'cx', 'qubits': [4, 5], 'params': []},\n",
       "  {'name': 'cx', 'qubits': [6, 7], 'params': []},\n",
       "  {'name': 'cx', 'qubits': [8, 9], 'params': []},\n",
       "  {'name': 'cx', 'qubits': [10, 11], 'params': []},\n",
       "  {'name': 'cx', 'qubits': [12, 13], 'params': []},\n",
       "  {'name': 'rx', 'qubits': [0], 'params': [4.619361666263767]},\n",
       "  {'name': 'ry', 'qubits': [0], 'params': [4.619361666263767]},\n",
       "  {'name': 'rx', 'qubits': [1], 'params': [4.7159388906058055]},\n",
       "  {'name': 'ry', 'qubits': [1], 'params': [4.7159388906058055]},\n",
       "  {'name': 'rx', 'qubits': [2], 'params': [0.09884847073288683]},\n",
       "  {'name': 'ry', 'qubits': [2], 'params': [0.09884847073288683]},\n",
       "  {'name': 'rx', 'qubits': [3], 'params': [0.5719940166608444]},\n",
       "  {'name': 'ry', 'qubits': [3], 'params': [0.5719940166608444]},\n",
       "  {'name': 'rx', 'qubits': [4], 'params': [5.452102956194461]},\n",
       "  {'name': 'ry', 'qubits': [4], 'params': [5.452102956194461]},\n",
       "  {'name': 'rx', 'qubits': [5], 'params': [5.176240761076072]},\n",
       "  {'name': 'ry', 'qubits': [5], 'params': [5.176240761076072]},\n",
       "  {'name': 'rx', 'qubits': [6], 'params': [1.05069535313084]},\n",
       "  {'name': 'ry', 'qubits': [6], 'params': [1.05069535313084]},\n",
       "  {'name': 'rx', 'qubits': [7], 'params': [4.689984531394249]},\n",
       "  {'name': 'ry', 'qubits': [7], 'params': [4.689984531394249]},\n",
       "  {'name': 'rx', 'qubits': [8], 'params': [4.70632195438183]},\n",
       "  {'name': 'ry', 'qubits': [8], 'params': [4.70632195438183]},\n",
       "  {'name': 'rx', 'qubits': [9], 'params': [3.108534583548392]},\n",
       "  {'name': 'ry', 'qubits': [9], 'params': [3.108534583548392]},\n",
       "  {'name': 'rx', 'qubits': [10], 'params': [5.184573210427825]},\n",
       "  {'name': 'ry', 'qubits': [10], 'params': [5.184573210427825]},\n",
       "  {'name': 'rx', 'qubits': [11], 'params': [1.8891416170200803]},\n",
       "  {'name': 'ry', 'qubits': [11], 'params': [1.8891416170200803]},\n",
       "  {'name': 'rx', 'qubits': [12], 'params': [0.4482791696423114]},\n",
       "  {'name': 'ry', 'qubits': [12], 'params': [0.4482791696423114]},\n",
       "  {'name': 'rx', 'qubits': [13], 'params': [2.9393312197426664]},\n",
       "  {'name': 'ry', 'qubits': [13], 'params': [2.9393312197426664]},\n",
       "  {'name': 'rx', 'qubits': [14], 'params': [1.2121510301178104]},\n",
       "  {'name': 'ry', 'qubits': [14], 'params': [1.2121510301178104]},\n",
       "  {'name': 'measure', 'qubits': [1], 'memory': [1]},\n",
       "  {'name': 'h', 'qubits': [0], 'params': []},\n",
       "  {'name': 'h', 'qubits': [1], 'params': []},\n",
       "  {'name': 'h', 'qubits': [2], 'params': []},\n",
       "  {'name': 'h', 'qubits': [3], 'params': []},\n",
       "  {'name': 'h', 'qubits': [4], 'params': []},\n",
       "  {'name': 'h', 'qubits': [5], 'params': []},\n",
       "  {'name': 'h', 'qubits': [6], 'params': []},\n",
       "  {'name': 'h', 'qubits': [7], 'params': []},\n",
       "  {'name': 'h', 'qubits': [8], 'params': []},\n",
       "  {'name': 'h', 'qubits': [9], 'params': []},\n",
       "  {'name': 'h', 'qubits': [10], 'params': []},\n",
       "  {'name': 'h', 'qubits': [11], 'params': []},\n",
       "  {'name': 'h', 'qubits': [12], 'params': []},\n",
       "  {'name': 'h', 'qubits': [13], 'params': []},\n",
       "  {'name': 'h', 'qubits': [14], 'params': []},\n",
       "  {'name': 'cx', 'qubits': [0, 1], 'params': []},\n",
       "  {'name': 'cx', 'qubits': [2, 3], 'params': []},\n",
       "  {'name': 'cx', 'qubits': [4, 5], 'params': []},\n",
       "  {'name': 'cx', 'qubits': [6, 7], 'params': []},\n",
       "  {'name': 'cx', 'qubits': [8, 9], 'params': []},\n",
       "  {'name': 'cx', 'qubits': [10, 11], 'params': []},\n",
       "  {'name': 'cx', 'qubits': [12, 13], 'params': []},\n",
       "  {'name': 'rx', 'qubits': [0], 'params': [4.782547042045286]},\n",
       "  {'name': 'ry', 'qubits': [0], 'params': [4.782547042045286]},\n",
       "  {'name': 'rx', 'qubits': [1], 'params': [0.9893613321959953]},\n",
       "  {'name': 'ry', 'qubits': [1], 'params': [0.9893613321959953]},\n",
       "  {'name': 'rx', 'qubits': [2], 'params': [5.938892543308956]},\n",
       "  {'name': 'ry', 'qubits': [2], 'params': [5.938892543308956]},\n",
       "  {'name': 'rx', 'qubits': [3], 'params': [5.588050169504222]},\n",
       "  {'name': 'ry', 'qubits': [3], 'params': [5.588050169504222]},\n",
       "  {'name': 'rx', 'qubits': [4], 'params': [1.6044953323996514]},\n",
       "  {'name': 'ry', 'qubits': [4], 'params': [1.6044953323996514]},\n",
       "  {'name': 'rx', 'qubits': [5], 'params': [6.208206234246093]},\n",
       "  {'name': 'ry', 'qubits': [5], 'params': [6.208206234246093]},\n",
       "  {'name': 'rx', 'qubits': [6], 'params': [0.42304040590421194]},\n",
       "  {'name': 'ry', 'qubits': [6], 'params': [0.42304040590421194]},\n",
       "  {'name': 'rx', 'qubits': [7], 'params': [5.340755739985279]},\n",
       "  {'name': 'ry', 'qubits': [7], 'params': [5.340755739985279]},\n",
       "  {'name': 'rx', 'qubits': [8], 'params': [2.767727180250608]},\n",
       "  {'name': 'ry', 'qubits': [8], 'params': [2.767727180250608]},\n",
       "  {'name': 'rx', 'qubits': [9], 'params': [3.8642304746115217]},\n",
       "  {'name': 'ry', 'qubits': [9], 'params': [3.8642304746115217]},\n",
       "  {'name': 'rx', 'qubits': [10], 'params': [4.921133191964555]},\n",
       "  {'name': 'ry', 'qubits': [10], 'params': [4.921133191964555]},\n",
       "  {'name': 'rx', 'qubits': [11], 'params': [0.6771532315897085]},\n",
       "  {'name': 'ry', 'qubits': [11], 'params': [0.6771532315897085]},\n",
       "  {'name': 'rx', 'qubits': [12], 'params': [0.41670265032180387]},\n",
       "  {'name': 'ry', 'qubits': [12], 'params': [0.41670265032180387]},\n",
       "  {'name': 'rx', 'qubits': [13], 'params': [5.774906255146137]},\n",
       "  {'name': 'ry', 'qubits': [13], 'params': [5.774906255146137]},\n",
       "  {'name': 'rx', 'qubits': [14], 'params': [5.908813123906389]},\n",
       "  {'name': 'ry', 'qubits': [14], 'params': [5.908813123906389]},\n",
       "  {'name': 'measure', 'qubits': [2], 'memory': [2]},\n",
       "  {'name': 'h', 'qubits': [0], 'params': []},\n",
       "  {'name': 'h', 'qubits': [1], 'params': []},\n",
       "  {'name': 'h', 'qubits': [2], 'params': []},\n",
       "  {'name': 'h', 'qubits': [3], 'params': []},\n",
       "  {'name': 'h', 'qubits': [4], 'params': []},\n",
       "  {'name': 'h', 'qubits': [5], 'params': []},\n",
       "  {'name': 'h', 'qubits': [6], 'params': []},\n",
       "  {'name': 'h', 'qubits': [7], 'params': []},\n",
       "  {'name': 'h', 'qubits': [8], 'params': []},\n",
       "  {'name': 'h', 'qubits': [9], 'params': []},\n",
       "  {'name': 'h', 'qubits': [10], 'params': []},\n",
       "  {'name': 'h', 'qubits': [11], 'params': []},\n",
       "  {'name': 'h', 'qubits': [12], 'params': []},\n",
       "  {'name': 'h', 'qubits': [13], 'params': []},\n",
       "  {'name': 'h', 'qubits': [14], 'params': []},\n",
       "  {'name': 'cx', 'qubits': [0, 1], 'params': []},\n",
       "  {'name': 'cx', 'qubits': [2, 3], 'params': []},\n",
       "  {'name': 'cx', 'qubits': [4, 5], 'params': []},\n",
       "  {'name': 'cx', 'qubits': [6, 7], 'params': []},\n",
       "  {'name': 'cx', 'qubits': [8, 9], 'params': []},\n",
       "  {'name': 'cx', 'qubits': [10, 11], 'params': []},\n",
       "  {'name': 'cx', 'qubits': [12, 13], 'params': []},\n",
       "  {'name': 'rx', 'qubits': [0], 'params': [2.29376699411523]},\n",
       "  {'name': 'ry', 'qubits': [0], 'params': [2.29376699411523]},\n",
       "  {'name': 'rx', 'qubits': [1], 'params': [1.8201346127234048]},\n",
       "  {'name': 'ry', 'qubits': [1], 'params': [1.8201346127234048]},\n",
       "  {'name': 'rx', 'qubits': [2], 'params': [1.6289095936012037]},\n",
       "  {'name': 'ry', 'qubits': [2], 'params': [1.6289095936012037]},\n",
       "  {'name': 'rx', 'qubits': [3], 'params': [3.246287829425596]},\n",
       "  {'name': 'ry', 'qubits': [3], 'params': [3.246287829425596]},\n",
       "  {'name': 'rx', 'qubits': [4], 'params': [5.945128229581483]},\n",
       "  {'name': 'ry', 'qubits': [4], 'params': [5.945128229581483]},\n",
       "  {'name': 'rx', 'qubits': [5], 'params': [1.311191730418097]},\n",
       "  {'name': 'ry', 'qubits': [5], 'params': [1.311191730418097]},\n",
       "  {'name': 'rx', 'qubits': [6], 'params': [5.180823477640383]},\n",
       "  {'name': 'ry', 'qubits': [6], 'params': [5.180823477640383]},\n",
       "  {'name': 'rx', 'qubits': [7], 'params': [6.238011848842509]},\n",
       "  {'name': 'ry', 'qubits': [7], 'params': [6.238011848842509]},\n",
       "  {'name': 'rx', 'qubits': [8], 'params': [1.8715054662916093]},\n",
       "  {'name': 'ry', 'qubits': [8], 'params': [1.8715054662916093]},\n",
       "  {'name': 'rx', 'qubits': [9], 'params': [0.3104043373762988]},\n",
       "  {'name': 'ry', 'qubits': [9], 'params': [0.3104043373762988]},\n",
       "  {'name': 'rx', 'qubits': [10], 'params': [1.9156838529590572]},\n",
       "  {'name': 'ry', 'qubits': [10], 'params': [1.9156838529590572]},\n",
       "  {'name': 'rx', 'qubits': [11], 'params': [5.385231364800076]},\n",
       "  {'name': 'ry', 'qubits': [11], 'params': [5.385231364800076]},\n",
       "  {'name': 'rx', 'qubits': [12], 'params': [5.793218503361521]},\n",
       "  {'name': 'ry', 'qubits': [12], 'params': [5.793218503361521]},\n",
       "  {'name': 'rx', 'qubits': [13], 'params': [3.324060339024068]},\n",
       "  {'name': 'ry', 'qubits': [13], 'params': [3.324060339024068]},\n",
       "  {'name': 'rx', 'qubits': [14], 'params': [0.2425812852812442]},\n",
       "  {'name': 'ry', 'qubits': [14], 'params': [0.2425812852812442]},\n",
       "  {'name': 'measure', 'qubits': [3], 'memory': [3]},\n",
       "  {'name': 'h', 'qubits': [0], 'params': []},\n",
       "  {'name': 'h', 'qubits': [1], 'params': []},\n",
       "  {'name': 'h', 'qubits': [2], 'params': []},\n",
       "  {'name': 'h', 'qubits': [3], 'params': []},\n",
       "  {'name': 'h', 'qubits': [4], 'params': []},\n",
       "  {'name': 'h', 'qubits': [5], 'params': []},\n",
       "  {'name': 'h', 'qubits': [6], 'params': []},\n",
       "  {'name': 'h', 'qubits': [7], 'params': []},\n",
       "  {'name': 'h', 'qubits': [8], 'params': []},\n",
       "  {'name': 'h', 'qubits': [9], 'params': []},\n",
       "  {'name': 'h', 'qubits': [10], 'params': []},\n",
       "  {'name': 'h', 'qubits': [11], 'params': []},\n",
       "  {'name': 'h', 'qubits': [12], 'params': []},\n",
       "  {'name': 'h', 'qubits': [13], 'params': []},\n",
       "  {'name': 'h', 'qubits': [14], 'params': []},\n",
       "  {'name': 'cx', 'qubits': [0, 1], 'params': []},\n",
       "  {'name': 'cx', 'qubits': [2, 3], 'params': []},\n",
       "  {'name': 'cx', 'qubits': [4, 5], 'params': []},\n",
       "  {'name': 'cx', 'qubits': [6, 7], 'params': []},\n",
       "  {'name': 'cx', 'qubits': [8, 9], 'params': []},\n",
       "  {'name': 'cx', 'qubits': [10, 11], 'params': []},\n",
       "  {'name': 'cx', 'qubits': [12, 13], 'params': []},\n",
       "  {'name': 'rx', 'qubits': [0], 'params': [3.2405356583827705]},\n",
       "  {'name': 'ry', 'qubits': [0], 'params': [3.2405356583827705]},\n",
       "  {'name': 'rx', 'qubits': [1], 'params': [4.996263416484811]},\n",
       "  {'name': 'ry', 'qubits': [1], 'params': [4.996263416484811]},\n",
       "  {'name': 'rx', 'qubits': [2], 'params': [6.0072849766913805]},\n",
       "  {'name': 'ry', 'qubits': [2], 'params': [6.0072849766913805]},\n",
       "  {'name': 'rx', 'qubits': [3], 'params': [3.677572839779902]},\n",
       "  {'name': 'ry', 'qubits': [3], 'params': [3.677572839779902]},\n",
       "  {'name': 'rx', 'qubits': [4], 'params': [1.7063974027421338]},\n",
       "  {'name': 'ry', 'qubits': [4], 'params': [1.7063974027421338]},\n",
       "  {'name': 'rx', 'qubits': [5], 'params': [0.7547502631459447]},\n",
       "  {'name': 'ry', 'qubits': [5], 'params': [0.7547502631459447]},\n",
       "  {'name': 'rx', 'qubits': [6], 'params': [5.120081848892044]},\n",
       "  {'name': 'ry', 'qubits': [6], 'params': [5.120081848892044]},\n",
       "  {'name': 'rx', 'qubits': [7], 'params': [2.1690895405454]},\n",
       "  {'name': 'ry', 'qubits': [7], 'params': [2.1690895405454]},\n",
       "  {'name': 'rx', 'qubits': [8], 'params': [4.785989600478694]},\n",
       "  {'name': 'ry', 'qubits': [8], 'params': [4.785989600478694]},\n",
       "  {'name': 'rx', 'qubits': [9], 'params': [2.441451172185129]},\n",
       "  {'name': 'ry', 'qubits': [9], 'params': [2.441451172185129]},\n",
       "  {'name': 'rx', 'qubits': [10], 'params': [0.3281955339212591]},\n",
       "  {'name': 'ry', 'qubits': [10], 'params': [0.3281955339212591]},\n",
       "  {'name': 'rx', 'qubits': [11], 'params': [1.0093663350568118]},\n",
       "  {'name': 'ry', 'qubits': [11], 'params': [1.0093663350568118]},\n",
       "  {'name': 'rx', 'qubits': [12], 'params': [4.965244672458643]},\n",
       "  {'name': 'ry', 'qubits': [12], 'params': [4.965244672458643]},\n",
       "  {'name': 'rx', 'qubits': [13], 'params': [2.8952063070333938]},\n",
       "  {'name': 'ry', 'qubits': [13], 'params': [2.8952063070333938]},\n",
       "  {'name': 'rx', 'qubits': [14], 'params': [2.2475119501751135]},\n",
       "  {'name': 'ry', 'qubits': [14], 'params': [2.2475119501751135]},\n",
       "  {'name': 'measure', 'qubits': [4], 'memory': [4]},\n",
       "  {'name': 'h', 'qubits': [0], 'params': []},\n",
       "  {'name': 'h', 'qubits': [1], 'params': []},\n",
       "  {'name': 'h', 'qubits': [2], 'params': []},\n",
       "  {'name': 'h', 'qubits': [3], 'params': []},\n",
       "  {'name': 'h', 'qubits': [4], 'params': []},\n",
       "  {'name': 'h', 'qubits': [5], 'params': []},\n",
       "  {'name': 'h', 'qubits': [6], 'params': []},\n",
       "  {'name': 'h', 'qubits': [7], 'params': []},\n",
       "  {'name': 'h', 'qubits': [8], 'params': []},\n",
       "  {'name': 'h', 'qubits': [9], 'params': []},\n",
       "  {'name': 'h', 'qubits': [10], 'params': []},\n",
       "  {'name': 'h', 'qubits': [11], 'params': []},\n",
       "  {'name': 'h', 'qubits': [12], 'params': []},\n",
       "  {'name': 'h', 'qubits': [13], 'params': []},\n",
       "  {'name': 'h', 'qubits': [14], 'params': []},\n",
       "  {'name': 'cx', 'qubits': [0, 1], 'params': []},\n",
       "  {'name': 'cx', 'qubits': [2, 3], 'params': []},\n",
       "  {'name': 'cx', 'qubits': [4, 5], 'params': []},\n",
       "  {'name': 'cx', 'qubits': [6, 7], 'params': []},\n",
       "  {'name': 'cx', 'qubits': [8, 9], 'params': []},\n",
       "  {'name': 'cx', 'qubits': [10, 11], 'params': []},\n",
       "  {'name': 'cx', 'qubits': [12, 13], 'params': []},\n",
       "  {'name': 'rx', 'qubits': [0], 'params': [3.1290204905525743]},\n",
       "  {'name': 'ry', 'qubits': [0], 'params': [3.1290204905525743]},\n",
       "  {'name': 'rx', 'qubits': [1], 'params': [5.498020060183819]},\n",
       "  {'name': 'ry', 'qubits': [1], 'params': [5.498020060183819]},\n",
       "  {'name': 'rx', 'qubits': [2], 'params': [3.1766021054915528]},\n",
       "  {'name': 'ry', 'qubits': [2], 'params': [3.1766021054915528]},\n",
       "  {'name': 'rx', 'qubits': [3], 'params': [0.9198667847771258]},\n",
       "  {'name': 'ry', 'qubits': [3], 'params': [0.9198667847771258]},\n",
       "  {'name': 'rx', 'qubits': [4], 'params': [4.051057540638562]},\n",
       "  {'name': 'ry', 'qubits': [4], 'params': [4.051057540638562]},\n",
       "  {'name': 'rx', 'qubits': [5], 'params': [5.054252656862822]},\n",
       "  {'name': 'ry', 'qubits': [5], 'params': [5.054252656862822]},\n",
       "  {'name': 'rx', 'qubits': [6], 'params': [1.2053698721784571]},\n",
       "  {'name': 'ry', 'qubits': [6], 'params': [1.2053698721784571]},\n",
       "  {'name': 'rx', 'qubits': [7], 'params': [0.19589327542782725]},\n",
       "  {'name': 'ry', 'qubits': [7], 'params': [0.19589327542782725]},\n",
       "  {'name': 'rx', 'qubits': [8], 'params': [3.4272469948675526]},\n",
       "  {'name': 'ry', 'qubits': [8], 'params': [3.4272469948675526]},\n",
       "  {'name': 'rx', 'qubits': [9], 'params': [3.9945467318299057]},\n",
       "  {'name': 'ry', 'qubits': [9], 'params': [3.9945467318299057]},\n",
       "  {'name': 'rx', 'qubits': [10], 'params': [2.0698975305174505]},\n",
       "  {'name': 'ry', 'qubits': [10], 'params': [2.0698975305174505]},\n",
       "  {'name': 'rx', 'qubits': [11], 'params': [0.06695612575507492]},\n",
       "  {'name': 'ry', 'qubits': [11], 'params': [0.06695612575507492]},\n",
       "  {'name': 'rx', 'qubits': [12], 'params': [2.75597456905325]},\n",
       "  {'name': 'ry', 'qubits': [12], 'params': [2.75597456905325]},\n",
       "  {'name': 'rx', 'qubits': [13], 'params': [5.00733370810333]},\n",
       "  {'name': 'ry', 'qubits': [13], 'params': [5.00733370810333]},\n",
       "  {'name': 'rx', 'qubits': [14], 'params': [3.5452164850387597]},\n",
       "  {'name': 'ry', 'qubits': [14], 'params': [3.5452164850387597]},\n",
       "  {'name': 'measure', 'qubits': [5], 'memory': [5]},\n",
       "  {'name': 'h', 'qubits': [0], 'params': []},\n",
       "  {'name': 'h', 'qubits': [1], 'params': []},\n",
       "  {'name': 'h', 'qubits': [2], 'params': []},\n",
       "  {'name': 'h', 'qubits': [3], 'params': []},\n",
       "  {'name': 'h', 'qubits': [4], 'params': []},\n",
       "  {'name': 'h', 'qubits': [5], 'params': []},\n",
       "  {'name': 'h', 'qubits': [6], 'params': []},\n",
       "  {'name': 'h', 'qubits': [7], 'params': []},\n",
       "  {'name': 'h', 'qubits': [8], 'params': []},\n",
       "  {'name': 'h', 'qubits': [9], 'params': []},\n",
       "  {'name': 'h', 'qubits': [10], 'params': []},\n",
       "  {'name': 'h', 'qubits': [11], 'params': []},\n",
       "  {'name': 'h', 'qubits': [12], 'params': []},\n",
       "  {'name': 'h', 'qubits': [13], 'params': []},\n",
       "  {'name': 'h', 'qubits': [14], 'params': []},\n",
       "  {'name': 'cx', 'qubits': [0, 1], 'params': []},\n",
       "  {'name': 'cx', 'qubits': [2, 3], 'params': []},\n",
       "  {'name': 'cx', 'qubits': [4, 5], 'params': []},\n",
       "  {'name': 'cx', 'qubits': [6, 7], 'params': []},\n",
       "  {'name': 'cx', 'qubits': [8, 9], 'params': []},\n",
       "  {'name': 'cx', 'qubits': [10, 11], 'params': []},\n",
       "  {'name': 'cx', 'qubits': [12, 13], 'params': []},\n",
       "  {'name': 'rx', 'qubits': [0], 'params': [2.44767493811244]},\n",
       "  {'name': 'ry', 'qubits': [0], 'params': [2.44767493811244]},\n",
       "  {'name': 'rx', 'qubits': [1], 'params': [2.8756936961268695]},\n",
       "  {'name': 'ry', 'qubits': [1], 'params': [2.8756936961268695]},\n",
       "  {'name': 'rx', 'qubits': [2], 'params': [2.7462430511504747]},\n",
       "  {'name': 'ry', 'qubits': [2], 'params': [2.7462430511504747]},\n",
       "  {'name': 'rx', 'qubits': [3], 'params': [5.401366766763702]},\n",
       "  {'name': 'ry', 'qubits': [3], 'params': [5.401366766763702]},\n",
       "  {'name': 'rx', 'qubits': [4], 'params': [0.32426453702789665]},\n",
       "  {'name': 'ry', 'qubits': [4], 'params': [0.32426453702789665]},\n",
       "  {'name': 'rx', 'qubits': [5], 'params': [3.223100699211609]},\n",
       "  {'name': 'ry', 'qubits': [5], 'params': [3.223100699211609]},\n",
       "  {'name': 'rx', 'qubits': [6], 'params': [4.011426646755951]},\n",
       "  {'name': 'ry', 'qubits': [6], 'params': [4.011426646755951]},\n",
       "  {'name': 'rx', 'qubits': [7], 'params': [4.969164607067357]},\n",
       "  {'name': 'ry', 'qubits': [7], 'params': [4.969164607067357]},\n",
       "  {'name': 'rx', 'qubits': [8], 'params': [6.192533570234008]},\n",
       "  {'name': 'ry', 'qubits': [8], 'params': [6.192533570234008]},\n",
       "  {'name': 'rx', 'qubits': [9], 'params': [0.7869845069961964]},\n",
       "  {'name': 'ry', 'qubits': [9], 'params': [0.7869845069961964]},\n",
       "  {'name': 'rx', 'qubits': [10], 'params': [2.6713633260738208]},\n",
       "  {'name': 'ry', 'qubits': [10], 'params': [2.6713633260738208]},\n",
       "  {'name': 'rx', 'qubits': [11], 'params': [3.8028107222062304]},\n",
       "  {'name': 'ry', 'qubits': [11], 'params': [3.8028107222062304]},\n",
       "  {'name': 'rx', 'qubits': [12], 'params': [3.4320566510367363]},\n",
       "  {'name': 'ry', 'qubits': [12], 'params': [3.4320566510367363]},\n",
       "  {'name': 'rx', 'qubits': [13], 'params': [5.287991300073429]},\n",
       "  {'name': 'ry', 'qubits': [13], 'params': [5.287991300073429]},\n",
       "  {'name': 'rx', 'qubits': [14], 'params': [3.32825520073518]},\n",
       "  {'name': 'ry', 'qubits': [14], 'params': [3.32825520073518]},\n",
       "  {'name': 'measure', 'qubits': [6], 'memory': [6]},\n",
       "  {'name': 'h', 'qubits': [0], 'params': []},\n",
       "  {'name': 'h', 'qubits': [1], 'params': []},\n",
       "  {'name': 'h', 'qubits': [2], 'params': []},\n",
       "  {'name': 'h', 'qubits': [3], 'params': []},\n",
       "  {'name': 'h', 'qubits': [4], 'params': []},\n",
       "  {'name': 'h', 'qubits': [5], 'params': []},\n",
       "  {'name': 'h', 'qubits': [6], 'params': []},\n",
       "  {'name': 'h', 'qubits': [7], 'params': []},\n",
       "  {'name': 'h', 'qubits': [8], 'params': []},\n",
       "  {'name': 'h', 'qubits': [9], 'params': []},\n",
       "  {'name': 'h', 'qubits': [10], 'params': []},\n",
       "  {'name': 'h', 'qubits': [11], 'params': []},\n",
       "  {'name': 'h', 'qubits': [12], 'params': []},\n",
       "  {'name': 'h', 'qubits': [13], 'params': []},\n",
       "  {'name': 'h', 'qubits': [14], 'params': []},\n",
       "  {'name': 'cx', 'qubits': [0, 1], 'params': []},\n",
       "  {'name': 'cx', 'qubits': [2, 3], 'params': []},\n",
       "  {'name': 'cx', 'qubits': [4, 5], 'params': []},\n",
       "  {'name': 'cx', 'qubits': [6, 7], 'params': []},\n",
       "  {'name': 'cx', 'qubits': [8, 9], 'params': []},\n",
       "  {'name': 'cx', 'qubits': [10, 11], 'params': []},\n",
       "  {'name': 'cx', 'qubits': [12, 13], 'params': []},\n",
       "  {'name': 'rx', 'qubits': [0], 'params': [3.9656556450110934]},\n",
       "  {'name': 'ry', 'qubits': [0], 'params': [3.9656556450110934]},\n",
       "  {'name': 'rx', 'qubits': [1], 'params': [5.570945088412908]},\n",
       "  {'name': 'ry', 'qubits': [1], 'params': [5.570945088412908]},\n",
       "  {'name': 'rx', 'qubits': [2], 'params': [0.8628435827318428]},\n",
       "  {'name': 'ry', 'qubits': [2], 'params': [0.8628435827318428]},\n",
       "  {'name': 'rx', 'qubits': [3], 'params': [4.1486786299044045]},\n",
       "  {'name': 'ry', 'qubits': [3], 'params': [4.1486786299044045]},\n",
       "  {'name': 'rx', 'qubits': [4], 'params': [5.29283487163393]},\n",
       "  {'name': 'ry', 'qubits': [4], 'params': [5.29283487163393]},\n",
       "  {'name': 'rx', 'qubits': [5], 'params': [2.333430371702359]},\n",
       "  {'name': 'ry', 'qubits': [5], 'params': [2.333430371702359]},\n",
       "  {'name': 'rx', 'qubits': [6], 'params': [0.40105990181497975]},\n",
       "  {'name': 'ry', 'qubits': [6], 'params': [0.40105990181497975]},\n",
       "  {'name': 'rx', 'qubits': [7], 'params': [4.174800555544963]},\n",
       "  {'name': 'ry', 'qubits': [7], 'params': [4.174800555544963]},\n",
       "  {'name': 'rx', 'qubits': [8], 'params': [6.273471217305478]},\n",
       "  {'name': 'ry', 'qubits': [8], 'params': [6.273471217305478]},\n",
       "  {'name': 'rx', 'qubits': [9], 'params': [1.140570057282289]},\n",
       "  {'name': 'ry', 'qubits': [9], 'params': [1.140570057282289]},\n",
       "  {'name': 'rx', 'qubits': [10], 'params': [6.2706119581418776]},\n",
       "  {'name': 'ry', 'qubits': [10], 'params': [6.2706119581418776]},\n",
       "  {'name': 'rx', 'qubits': [11], 'params': [1.7496076505830644]},\n",
       "  {'name': 'ry', 'qubits': [11], 'params': [1.7496076505830644]},\n",
       "  {'name': 'rx', 'qubits': [12], 'params': [1.7954050734249931]},\n",
       "  {'name': 'ry', 'qubits': [12], 'params': [1.7954050734249931]},\n",
       "  {'name': 'rx', 'qubits': [13], 'params': [2.7972123863512244]},\n",
       "  {'name': 'ry', 'qubits': [13], 'params': [2.7972123863512244]},\n",
       "  {'name': 'rx', 'qubits': [14], 'params': [2.7967842331475596]},\n",
       "  {'name': 'ry', 'qubits': [14], 'params': [2.7967842331475596]},\n",
       "  {'name': 'measure', 'qubits': [7], 'memory': [7]},\n",
       "  {'name': 'h', 'qubits': [0], 'params': []},\n",
       "  {'name': 'h', 'qubits': [1], 'params': []},\n",
       "  {'name': 'h', 'qubits': [2], 'params': []},\n",
       "  {'name': 'h', 'qubits': [3], 'params': []},\n",
       "  {'name': 'h', 'qubits': [4], 'params': []},\n",
       "  {'name': 'h', 'qubits': [5], 'params': []},\n",
       "  {'name': 'h', 'qubits': [6], 'params': []},\n",
       "  {'name': 'h', 'qubits': [7], 'params': []},\n",
       "  {'name': 'h', 'qubits': [8], 'params': []},\n",
       "  {'name': 'h', 'qubits': [9], 'params': []},\n",
       "  {'name': 'h', 'qubits': [10], 'params': []},\n",
       "  {'name': 'h', 'qubits': [11], 'params': []},\n",
       "  {'name': 'h', 'qubits': [12], 'params': []},\n",
       "  {'name': 'h', 'qubits': [13], 'params': []},\n",
       "  {'name': 'h', 'qubits': [14], 'params': []},\n",
       "  {'name': 'cx', 'qubits': [0, 1], 'params': []},\n",
       "  {'name': 'cx', 'qubits': [2, 3], 'params': []},\n",
       "  {'name': 'cx', 'qubits': [4, 5], 'params': []},\n",
       "  {'name': 'cx', 'qubits': [6, 7], 'params': []},\n",
       "  {'name': 'cx', 'qubits': [8, 9], 'params': []},\n",
       "  {'name': 'cx', 'qubits': [10, 11], 'params': []},\n",
       "  {'name': 'cx', 'qubits': [12, 13], 'params': []},\n",
       "  {'name': 'rx', 'qubits': [0], 'params': [0.601728816026029]},\n",
       "  {'name': 'ry', 'qubits': [0], 'params': [0.601728816026029]},\n",
       "  {'name': 'rx', 'qubits': [1], 'params': [0.6570600033569283]},\n",
       "  {'name': 'ry', 'qubits': [1], 'params': [0.6570600033569283]},\n",
       "  {'name': 'rx', 'qubits': [2], 'params': [5.1235230032268895]},\n",
       "  {'name': 'ry', 'qubits': [2], 'params': [5.1235230032268895]},\n",
       "  {'name': 'rx', 'qubits': [3], 'params': [3.858201263393052]},\n",
       "  {'name': 'ry', 'qubits': [3], 'params': [3.858201263393052]},\n",
       "  {'name': 'rx', 'qubits': [4], 'params': [1.4185823942337934]},\n",
       "  {'name': 'ry', 'qubits': [4], 'params': [1.4185823942337934]},\n",
       "  {'name': 'rx', 'qubits': [5], 'params': [0.6444535972868346]},\n",
       "  {'name': 'ry', 'qubits': [5], 'params': [0.6444535972868346]},\n",
       "  {'name': 'rx', 'qubits': [6], 'params': [5.08199674258441]},\n",
       "  {'name': 'ry', 'qubits': [6], 'params': [5.08199674258441]},\n",
       "  {'name': 'rx', 'qubits': [7], 'params': [2.983881797782029]},\n",
       "  {'name': 'ry', 'qubits': [7], 'params': [2.983881797782029]},\n",
       "  {'name': 'rx', 'qubits': [8], 'params': [4.630749868989244]},\n",
       "  {'name': 'ry', 'qubits': [8], 'params': [4.630749868989244]},\n",
       "  {'name': 'rx', 'qubits': [9], 'params': [5.979397095232418]},\n",
       "  {'name': 'ry', 'qubits': [9], 'params': [5.979397095232418]},\n",
       "  {'name': 'rx', 'qubits': [10], 'params': [1.4368564559907544]},\n",
       "  {'name': 'ry', 'qubits': [10], 'params': [1.4368564559907544]},\n",
       "  {'name': 'rx', 'qubits': [11], 'params': [2.641591147479589]},\n",
       "  {'name': 'ry', 'qubits': [11], 'params': [2.641591147479589]},\n",
       "  {'name': 'rx', 'qubits': [12], 'params': [1.1866635637409977]},\n",
       "  {'name': 'ry', 'qubits': [12], 'params': [1.1866635637409977]},\n",
       "  {'name': 'rx', 'qubits': [13], 'params': [5.988747775088725]},\n",
       "  {'name': 'ry', 'qubits': [13], 'params': [5.988747775088725]},\n",
       "  {'name': 'rx', 'qubits': [14], 'params': [3.639850955303177]},\n",
       "  {'name': 'ry', 'qubits': [14], 'params': [3.639850955303177]},\n",
       "  {'name': 'measure', 'qubits': [8], 'memory': [8]},\n",
       "  {'name': 'h', 'qubits': [0], 'params': []},\n",
       "  {'name': 'h', 'qubits': [1], 'params': []},\n",
       "  {'name': 'h', 'qubits': [2], 'params': []},\n",
       "  {'name': 'h', 'qubits': [3], 'params': []},\n",
       "  {'name': 'h', 'qubits': [4], 'params': []},\n",
       "  {'name': 'h', 'qubits': [5], 'params': []},\n",
       "  {'name': 'h', 'qubits': [6], 'params': []},\n",
       "  {'name': 'h', 'qubits': [7], 'params': []},\n",
       "  {'name': 'h', 'qubits': [8], 'params': []},\n",
       "  {'name': 'h', 'qubits': [9], 'params': []},\n",
       "  {'name': 'h', 'qubits': [10], 'params': []},\n",
       "  {'name': 'h', 'qubits': [11], 'params': []},\n",
       "  {'name': 'h', 'qubits': [12], 'params': []},\n",
       "  {'name': 'h', 'qubits': [13], 'params': []},\n",
       "  {'name': 'h', 'qubits': [14], 'params': []},\n",
       "  {'name': 'cx', 'qubits': [0, 1], 'params': []},\n",
       "  {'name': 'cx', 'qubits': [2, 3], 'params': []},\n",
       "  {'name': 'cx', 'qubits': [4, 5], 'params': []},\n",
       "  {'name': 'cx', 'qubits': [6, 7], 'params': []},\n",
       "  {'name': 'cx', 'qubits': [8, 9], 'params': []},\n",
       "  {'name': 'cx', 'qubits': [10, 11], 'params': []},\n",
       "  {'name': 'cx', 'qubits': [12, 13], 'params': []},\n",
       "  {'name': 'rx', 'qubits': [0], 'params': [2.0059722845532026]},\n",
       "  {'name': 'ry', 'qubits': [0], 'params': [2.0059722845532026]},\n",
       "  {'name': 'rx', 'qubits': [1], 'params': [5.959561038336647]},\n",
       "  {'name': 'ry', 'qubits': [1], 'params': [5.959561038336647]},\n",
       "  {'name': 'rx', 'qubits': [2], 'params': [3.2999616780796877]},\n",
       "  {'name': 'ry', 'qubits': [2], 'params': [3.2999616780796877]},\n",
       "  {'name': 'rx', 'qubits': [3], 'params': [5.612673823291096]},\n",
       "  {'name': 'ry', 'qubits': [3], 'params': [5.612673823291096]},\n",
       "  {'name': 'rx', 'qubits': [4], 'params': [6.22243462046782]},\n",
       "  {'name': 'ry', 'qubits': [4], 'params': [6.22243462046782]},\n",
       "  {'name': 'rx', 'qubits': [5], 'params': [5.898165404427887]},\n",
       "  {'name': 'ry', 'qubits': [5], 'params': [5.898165404427887]},\n",
       "  {'name': 'rx', 'qubits': [6], 'params': [1.5808313029647787]},\n",
       "  {'name': 'ry', 'qubits': [6], 'params': [1.5808313029647787]},\n",
       "  {'name': 'rx', 'qubits': [7], 'params': [6.108748634141925]},\n",
       "  {'name': 'ry', 'qubits': [7], 'params': [6.108748634141925]},\n",
       "  {'name': 'rx', 'qubits': [8], 'params': [2.2362294266021987]},\n",
       "  {'name': 'ry', 'qubits': [8], 'params': [2.2362294266021987]},\n",
       "  {'name': 'rx', 'qubits': [9], 'params': [1.9874051375029875]},\n",
       "  {'name': 'ry', 'qubits': [9], 'params': [1.9874051375029875]},\n",
       "  {'name': 'rx', 'qubits': [10], 'params': [2.964726763155739]},\n",
       "  {'name': 'ry', 'qubits': [10], 'params': [2.964726763155739]},\n",
       "  {'name': 'rx', 'qubits': [11], 'params': [5.421892912180416]},\n",
       "  {'name': 'ry', 'qubits': [11], 'params': [5.421892912180416]},\n",
       "  {'name': 'rx', 'qubits': [12], 'params': [1.378366843058952]},\n",
       "  {'name': 'ry', 'qubits': [12], 'params': [1.378366843058952]},\n",
       "  {'name': 'rx', 'qubits': [13], 'params': [3.5408558657820617]},\n",
       "  {'name': 'ry', 'qubits': [13], 'params': [3.5408558657820617]},\n",
       "  {'name': 'rx', 'qubits': [14], 'params': [0.3755480780008824]},\n",
       "  {'name': 'ry', 'qubits': [14], 'params': [0.3755480780008824]},\n",
       "  {'name': 'measure', 'qubits': [9], 'memory': [9]},\n",
       "  {'name': 'h', 'qubits': [0], 'params': []},\n",
       "  {'name': 'h', 'qubits': [1], 'params': []},\n",
       "  {'name': 'h', 'qubits': [2], 'params': []},\n",
       "  {'name': 'h', 'qubits': [3], 'params': []},\n",
       "  {'name': 'h', 'qubits': [4], 'params': []},\n",
       "  {'name': 'h', 'qubits': [5], 'params': []},\n",
       "  {'name': 'h', 'qubits': [6], 'params': []},\n",
       "  {'name': 'h', 'qubits': [7], 'params': []},\n",
       "  {'name': 'h', 'qubits': [8], 'params': []},\n",
       "  {'name': 'h', 'qubits': [9], 'params': []},\n",
       "  {'name': 'h', 'qubits': [10], 'params': []},\n",
       "  {'name': 'h', 'qubits': [11], 'params': []},\n",
       "  {'name': 'h', 'qubits': [12], 'params': []},\n",
       "  {'name': 'h', 'qubits': [13], 'params': []},\n",
       "  {'name': 'h', 'qubits': [14], 'params': []},\n",
       "  {'name': 'measure', 'qubits': [0], 'memory': [0]},\n",
       "  {'name': 'measure', 'qubits': [1], 'memory': [1]},\n",
       "  {'name': 'measure', 'qubits': [2], 'memory': [2]},\n",
       "  {'name': 'measure', 'qubits': [3], 'memory': [3]},\n",
       "  {'name': 'measure', 'qubits': [4], 'memory': [4]},\n",
       "  {'name': 'measure', 'qubits': [5], 'memory': [5]},\n",
       "  {'name': 'measure', 'qubits': [6], 'memory': [6]},\n",
       "  {'name': 'measure', 'qubits': [7], 'memory': [7]},\n",
       "  {'name': 'measure', 'qubits': [8], 'memory': [8]},\n",
       "  {'name': 'measure', 'qubits': [9], 'memory': [9]},\n",
       "  {'name': 'measure', 'qubits': [10], 'memory': [10]},\n",
       "  {'name': 'measure', 'qubits': [11], 'memory': [11]},\n",
       "  {'name': 'measure', 'qubits': [12], 'memory': [12]},\n",
       "  {'name': 'measure', 'qubits': [13], 'memory': [13]},\n",
       "  {'name': 'measure', 'qubits': [14], 'memory': [14]}],\n",
       " 'num_clbits': 30}"
      ]
     },
     "execution_count": 21,
     "metadata": {},
     "output_type": "execute_result"
    }
   ],
   "source": [
    "circuit"
   ]
  },
  {
   "cell_type": "code",
   "execution_count": 8,
   "id": "3bf857e9",
   "metadata": {},
   "outputs": [
    {
     "name": "stdout",
     "output_type": "stream",
     "text": [
      "2025-01-20 10:30:59 - Enviado a QPU 0\n",
      "2025-01-20 10:30:59 - Enviado a QPU 1\n",
      "2025-01-20 10:30:59 - Enviado a QPU 2\n",
      "2025-01-20 10:30:59 - Enviado a QPU 3\n",
      "2025-01-20 10:30:59 - Enviado a QPU 4\n",
      "2025-01-20 10:30:59 - Dentro gather: \n",
      "Terminó en : 74.71957111358643  s\n",
      "For QPU 0: 74.647070954 s\n",
      "For QPU 1: 74.631572544 s\n",
      "For QPU 2: 74.641695891 s\n",
      "For QPU 3: 74.597587271 s\n",
      "For QPU 4: 74.608502667 s\n"
     ]
    }
   ],
   "source": [
    "qjobs = []\n",
    "\n",
    "tick = time.time()\n",
    "for q in qpus:\n",
    "    qjobs.append(q.run(circ = qc, shots=222))# mando aquiiiiiiiiiiiiiiiiiiii !!!!!!!!!!!!!!!!!!\n",
    "    logger.info(f\"Enviado a QPU {q.id_}\")\n",
    "\n",
    "logger.info(\"Dentro gather: \")\n",
    "\n",
    "resultados = gather(qjobs)\n",
    "\n",
    "tack = time.time()\n",
    "\n",
    "print(\"Terminó en :\", tack-tick, \" s\")\n",
    "\n",
    "for i,r in enumerate(resultados):\n",
    "    tiempo = r.get_dict()[\"results\"][0][\"time_taken\"]\n",
    "    print(f\"For QPU {i}: {tiempo} s\")"
   ]
  },
  {
   "cell_type": "markdown",
   "id": "43578e36",
   "metadata": {},
   "source": [
    "## Tema Backend:"
   ]
  },
  {
   "cell_type": "code",
   "execution_count": 9,
   "id": "f1f937d4",
   "metadata": {},
   "outputs": [],
   "source": [
    "# Configuración proporcionada\n",
    "config = {\n",
    "    'backend_name': 'BasicAer',\n",
    "    'backend_version': '0.0.1',\n",
    "    'n_qubits': 32,\n",
    "    'basis_gates': ['u1', 'u2', 'u3', 'x', 'y', 'z', 'h', 's', 'sdg', 't', 'tdg', 'cx', 'cy', 'cz', 'ch', 'cs', 'csdg', 'ct', 'ctdg'],\n",
    "    'gates':[],\n",
    "    'simulator': True,\n",
    "    'local': True,\n",
    "    'conditional': True,\n",
    "    'max_shots': 10000,\n",
    "    'memory': True,\n",
    "    'description': 'Usual AER simulator.',\n",
    "    'url': 'https://github.com/Qiskit/qiskit-aer',\n",
    "    'coupling_map': None,\n",
    "    'configuration': {\n",
    "        'max_circuits': 100,\n",
    "        'max_experiments': 100,\n",
    "        'memory_slots': 32,\n",
    "        'n_registers': 32,\n",
    "    }\n",
    "}\n"
   ]
  },
  {
   "cell_type": "code",
   "execution_count": 29,
   "id": "e0d70137",
   "metadata": {},
   "outputs": [
    {
     "data": {
      "text/plain": [
       "{'basis_gates': '',\n",
       " 'conditional': True,\n",
       " 'custom_instructions': '',\n",
       " 'description': 'Usual AER simulator.',\n",
       " 'is_simulator': True,\n",
       " 'max_shots': 10000,\n",
       " 'memory': True,\n",
       " 'n_qubits': 32,\n",
       " 'name': 'BasicAer',\n",
       " 'simulator': 'AerSimulator',\n",
       " 'url': 'https://github.com/Qiskit/qiskit-aer',\n",
       " 'version': '0.0.1'}"
      ]
     },
     "execution_count": 29,
     "metadata": {},
     "output_type": "execute_result"
    }
   ],
   "source": [
    "configuration = qpus[0].backend.__dict__\n",
    "configuration"
   ]
  },
  {
   "cell_type": "code",
   "execution_count": 41,
   "id": "8dfb0487",
   "metadata": {},
   "outputs": [],
   "source": [
    "args = {\n",
    "        \"backend_name\": configuration[\"name\"],\n",
    "        \"backend_version\": configuration[\"version\"],\n",
    "        \"n_qubits\": configuration[\"n_qubits\"],\n",
    "        \"basis_gates\": ['u1', 'u2', 'u3', 'u', 'p', 'r', 'rx', 'ry', 'rz', 'id', 'x', 'y', 'z', 'h', 's', 'sdg', 'sx', 'sxdg', 't', 'tdg', 'swap', 'cx', 'cy', 'cz', 'csx', 'cp', 'cu', 'cu1', 'cu2', 'cu3', 'rxx', 'ryy', 'rzz', 'rzx', 'ccx', 'ccz', 'crx', 'cry', 'crz', 'cswap', 'mcx', 'mcy', 'mcz', 'mcsx', 'mcp', 'mcphase', 'mcu', 'mcu1', 'mcu2', 'mcu3', 'mcrx', 'mcry', 'mcrz', 'mcr', 'mcswap', 'unitary', 'diagonal', 'multiplexer', 'pauli', 'mcx_gray', 'ecr', 'store'],\n",
    "        \"gates\":[],# TODO: comprobar que esto no peta y que funciona adecuadamente\n",
    "        \"local\":False,\n",
    "        \"simulator\":configuration[\"is_simulator\"],\n",
    "        \"conditional\":configuration[\"conditional\"],\n",
    "        \"open_pulse\":False,# TODO: lo ponemos así porque Aer no soporta OpenPulse, habría que modificarlo en caso de usar un backend que lo soporte.\n",
    "        \"memory\":configuration[\"memory\"],\n",
    "        \"max_shots\":configuration[\"max_shots\"],\n",
    "        \"coupling_map\":[]\n",
    "    }"
   ]
  },
  {
   "cell_type": "code",
   "execution_count": null,
   "id": "89a1c9be",
   "metadata": {},
   "outputs": [],
   "source": []
  },
  {
   "cell_type": "code",
   "execution_count": 42,
   "id": "42cd1c8c",
   "metadata": {},
   "outputs": [
    {
     "name": "stderr",
     "output_type": "stream",
     "text": [
      "/scratch/93357/ipykernel_1386693/882571660.py:1: DeprecationWarning: qiskit.providers.models is deprecated since Qiskit 1.2 and will be removed in Qiskit 2.0. With the removal of Qobj, there is no need for these schema-conformant objects. If you still need to use them, it could be because you are using a BackendV1, which is also deprecated in favor of BackendV2.\n",
      "  from qiskit.providers.models import BackendConfiguration\n"
     ]
    }
   ],
   "source": [
    "from qiskit.providers.models import BackendConfiguration\n"
   ]
  },
  {
   "cell_type": "code",
   "execution_count": 43,
   "id": "f0273325",
   "metadata": {
    "scrolled": false
   },
   "outputs": [
    {
     "name": "stderr",
     "output_type": "stream",
     "text": [
      "/opt/cesga/qmio/hpc/software/Compiler/gcc/12.3.0/qiskit/1.2.4-python-3.9.9/lib/python3.9/site-packages/qiskit/providers/backend_compat.py:126: RuntimeWarning: No gate definition for mcp can be found and is being excluded from the generated target. You can use `custom_name_mapping` to provide a definition for this operation.\n",
      "  warnings.warn(\n",
      "/opt/cesga/qmio/hpc/software/Compiler/gcc/12.3.0/qiskit/1.2.4-python-3.9.9/lib/python3.9/site-packages/qiskit/providers/backend_compat.py:126: RuntimeWarning: No gate definition for mcx can be found and is being excluded from the generated target. You can use `custom_name_mapping` to provide a definition for this operation.\n",
      "  warnings.warn(\n",
      "/opt/cesga/qmio/hpc/software/Compiler/gcc/12.3.0/qiskit/1.2.4-python-3.9.9/lib/python3.9/site-packages/qiskit/providers/backend_compat.py:126: RuntimeWarning: No gate definition for mcy can be found and is being excluded from the generated target. You can use `custom_name_mapping` to provide a definition for this operation.\n",
      "  warnings.warn(\n",
      "/opt/cesga/qmio/hpc/software/Compiler/gcc/12.3.0/qiskit/1.2.4-python-3.9.9/lib/python3.9/site-packages/qiskit/providers/backend_compat.py:126: RuntimeWarning: No gate definition for mcz can be found and is being excluded from the generated target. You can use `custom_name_mapping` to provide a definition for this operation.\n",
      "  warnings.warn(\n",
      "/opt/cesga/qmio/hpc/software/Compiler/gcc/12.3.0/qiskit/1.2.4-python-3.9.9/lib/python3.9/site-packages/qiskit/providers/backend_compat.py:126: RuntimeWarning: No gate definition for mcr can be found and is being excluded from the generated target. You can use `custom_name_mapping` to provide a definition for this operation.\n",
      "  warnings.warn(\n",
      "/opt/cesga/qmio/hpc/software/Compiler/gcc/12.3.0/qiskit/1.2.4-python-3.9.9/lib/python3.9/site-packages/qiskit/providers/backend_compat.py:126: RuntimeWarning: No gate definition for mcswap can be found and is being excluded from the generated target. You can use `custom_name_mapping` to provide a definition for this operation.\n",
      "  warnings.warn(\n",
      "/opt/cesga/qmio/hpc/software/Compiler/gcc/12.3.0/qiskit/1.2.4-python-3.9.9/lib/python3.9/site-packages/qiskit/providers/backend_compat.py:126: RuntimeWarning: No gate definition for mcry can be found and is being excluded from the generated target. You can use `custom_name_mapping` to provide a definition for this operation.\n",
      "  warnings.warn(\n",
      "/opt/cesga/qmio/hpc/software/Compiler/gcc/12.3.0/qiskit/1.2.4-python-3.9.9/lib/python3.9/site-packages/qiskit/providers/backend_compat.py:126: RuntimeWarning: No gate definition for cu2 can be found and is being excluded from the generated target. You can use `custom_name_mapping` to provide a definition for this operation.\n",
      "  warnings.warn(\n",
      "/opt/cesga/qmio/hpc/software/Compiler/gcc/12.3.0/qiskit/1.2.4-python-3.9.9/lib/python3.9/site-packages/qiskit/providers/backend_compat.py:126: RuntimeWarning: No gate definition for mcrz can be found and is being excluded from the generated target. You can use `custom_name_mapping` to provide a definition for this operation.\n",
      "  warnings.warn(\n",
      "/opt/cesga/qmio/hpc/software/Compiler/gcc/12.3.0/qiskit/1.2.4-python-3.9.9/lib/python3.9/site-packages/qiskit/providers/backend_compat.py:126: RuntimeWarning: No gate definition for store can be found and is being excluded from the generated target. You can use `custom_name_mapping` to provide a definition for this operation.\n",
      "  warnings.warn(\n",
      "/opt/cesga/qmio/hpc/software/Compiler/gcc/12.3.0/qiskit/1.2.4-python-3.9.9/lib/python3.9/site-packages/qiskit/providers/backend_compat.py:126: RuntimeWarning: No gate definition for mcu3 can be found and is being excluded from the generated target. You can use `custom_name_mapping` to provide a definition for this operation.\n",
      "  warnings.warn(\n",
      "/opt/cesga/qmio/hpc/software/Compiler/gcc/12.3.0/qiskit/1.2.4-python-3.9.9/lib/python3.9/site-packages/qiskit/providers/backend_compat.py:126: RuntimeWarning: No gate definition for unitary can be found and is being excluded from the generated target. You can use `custom_name_mapping` to provide a definition for this operation.\n",
      "  warnings.warn(\n",
      "/opt/cesga/qmio/hpc/software/Compiler/gcc/12.3.0/qiskit/1.2.4-python-3.9.9/lib/python3.9/site-packages/qiskit/providers/backend_compat.py:126: RuntimeWarning: No gate definition for mcrx can be found and is being excluded from the generated target. You can use `custom_name_mapping` to provide a definition for this operation.\n",
      "  warnings.warn(\n",
      "/opt/cesga/qmio/hpc/software/Compiler/gcc/12.3.0/qiskit/1.2.4-python-3.9.9/lib/python3.9/site-packages/qiskit/providers/backend_compat.py:126: RuntimeWarning: No gate definition for pauli can be found and is being excluded from the generated target. You can use `custom_name_mapping` to provide a definition for this operation.\n",
      "  warnings.warn(\n",
      "/opt/cesga/qmio/hpc/software/Compiler/gcc/12.3.0/qiskit/1.2.4-python-3.9.9/lib/python3.9/site-packages/qiskit/providers/backend_compat.py:126: RuntimeWarning: No gate definition for mcphase can be found and is being excluded from the generated target. You can use `custom_name_mapping` to provide a definition for this operation.\n",
      "  warnings.warn(\n",
      "/opt/cesga/qmio/hpc/software/Compiler/gcc/12.3.0/qiskit/1.2.4-python-3.9.9/lib/python3.9/site-packages/qiskit/providers/backend_compat.py:126: RuntimeWarning: No gate definition for multiplexer can be found and is being excluded from the generated target. You can use `custom_name_mapping` to provide a definition for this operation.\n",
      "  warnings.warn(\n",
      "/opt/cesga/qmio/hpc/software/Compiler/gcc/12.3.0/qiskit/1.2.4-python-3.9.9/lib/python3.9/site-packages/qiskit/providers/backend_compat.py:126: RuntimeWarning: No gate definition for mcsx can be found and is being excluded from the generated target. You can use `custom_name_mapping` to provide a definition for this operation.\n",
      "  warnings.warn(\n",
      "/opt/cesga/qmio/hpc/software/Compiler/gcc/12.3.0/qiskit/1.2.4-python-3.9.9/lib/python3.9/site-packages/qiskit/providers/backend_compat.py:126: RuntimeWarning: No gate definition for mcu can be found and is being excluded from the generated target. You can use `custom_name_mapping` to provide a definition for this operation.\n",
      "  warnings.warn(\n",
      "/opt/cesga/qmio/hpc/software/Compiler/gcc/12.3.0/qiskit/1.2.4-python-3.9.9/lib/python3.9/site-packages/qiskit/providers/backend_compat.py:126: RuntimeWarning: No gate definition for mcu2 can be found and is being excluded from the generated target. You can use `custom_name_mapping` to provide a definition for this operation.\n",
      "  warnings.warn(\n",
      "/opt/cesga/qmio/hpc/software/Compiler/gcc/12.3.0/qiskit/1.2.4-python-3.9.9/lib/python3.9/site-packages/qiskit/providers/backend_compat.py:126: RuntimeWarning: No gate definition for diagonal can be found and is being excluded from the generated target. You can use `custom_name_mapping` to provide a definition for this operation.\n",
      "  warnings.warn(\n",
      "/opt/cesga/qmio/hpc/software/Compiler/gcc/12.3.0/qiskit/1.2.4-python-3.9.9/lib/python3.9/site-packages/qiskit/providers/backend_compat.py:126: RuntimeWarning: No gate definition for mcx_gray can be found and is being excluded from the generated target. You can use `custom_name_mapping` to provide a definition for this operation.\n",
      "  warnings.warn(\n",
      "/opt/cesga/qmio/hpc/software/Compiler/gcc/12.3.0/qiskit/1.2.4-python-3.9.9/lib/python3.9/site-packages/qiskit/providers/backend_compat.py:126: RuntimeWarning: No gate definition for mcu1 can be found and is being excluded from the generated target. You can use `custom_name_mapping` to provide a definition for this operation.\n",
      "  warnings.warn(\n"
     ]
    }
   ],
   "source": [
    "target = convert_to_target(BackendConfiguration(**args))"
   ]
  },
  {
   "cell_type": "code",
   "execution_count": 44,
   "id": "6e67dd66",
   "metadata": {},
   "outputs": [],
   "source": [
    "pm = generate_preset_pass_manager(optimization_level = 1, target = target)"
   ]
  },
  {
   "cell_type": "code",
   "execution_count": 45,
   "id": "08e4a736",
   "metadata": {
    "scrolled": false
   },
   "outputs": [
    {
     "name": "stdout",
     "output_type": "stream",
     "text": [
      "2025-01-23 15:47:58 - Pass: ContainsInstruction - 0.00834 (ms)\n",
      "2025-01-23 15:47:58 - Pass: InverseCancellation - 0.07939 (ms)\n",
      "2025-01-23 15:47:58 - Pass: UnitarySynthesis - 0.00644 (ms)\n",
      "2025-01-23 15:47:58 - Pass: HighLevelSynthesis - 0.13542 (ms)\n",
      "2025-01-23 15:47:58 - Pass: BasisTranslator - 0.08726 (ms)\n",
      "2025-01-23 15:47:58 - Pass: Depth - 0.04888 (ms)\n",
      "2025-01-23 15:47:58 - Pass: FixedPoint - 0.00882 (ms)\n",
      "2025-01-23 15:47:58 - Pass: Size - 0.02527 (ms)\n",
      "2025-01-23 15:47:58 - Pass: FixedPoint - 0.00548 (ms)\n",
      "2025-01-23 15:47:58 - Pass: Optimize1qGatesDecomposition - 0.41366 (ms)\n",
      "2025-01-23 15:47:58 - Pass: InverseCancellation - 0.05102 (ms)\n",
      "2025-01-23 15:47:58 - Pass: GatesInBasis - 0.07963 (ms)\n",
      "2025-01-23 15:47:58 - Pass: Depth - 0.04172 (ms)\n",
      "2025-01-23 15:47:58 - Pass: FixedPoint - 0.00715 (ms)\n",
      "2025-01-23 15:47:58 - Pass: Size - 0.02265 (ms)\n",
      "2025-01-23 15:47:58 - Pass: FixedPoint - 0.00548 (ms)\n",
      "2025-01-23 15:47:58 - Pass: Optimize1qGatesDecomposition - 0.32139 (ms)\n",
      "2025-01-23 15:47:58 - Pass: InverseCancellation - 0.05221 (ms)\n",
      "2025-01-23 15:47:58 - Pass: GatesInBasis - 0.05913 (ms)\n",
      "2025-01-23 15:47:58 - Pass: Depth - 0.03934 (ms)\n",
      "2025-01-23 15:47:58 - Pass: FixedPoint - 0.00668 (ms)\n",
      "2025-01-23 15:47:58 - Pass: Size - 0.02027 (ms)\n",
      "2025-01-23 15:47:58 - Pass: FixedPoint - 0.00525 (ms)\n",
      "2025-01-23 15:47:58 - Pass: ContainsInstruction - 0.00596 (ms)\n"
     ]
    },
    {
     "data": {
      "text/html": [
       "<pre style=\"word-wrap: normal;white-space: pre;background: #fff0;line-height: 1.1;font-family: &quot;Courier New&quot;,Courier,monospace\">          ┌─────────┐         ░ ┌─┐               \n",
       "  q1_0: ──┤ U2(0,0) ├─────────░─┤M├───────────────\n",
       "          └──┬───┬──┘  ┌─┐    ░ └╥┘┌─┐            \n",
       "  q1_1: ─────┤ H ├─────┤M├────░──╫─┤M├────────────\n",
       "        ┌────┴───┴────┐└╥┘    ░  ║ └╥┘┌─┐         \n",
       "  q2_0: ┤ U2(-π/2,-π) ├─╫─────░──╫──╫─┤M├─────────\n",
       "        └────┬───┬────┘ ║     ░  ║  ║ └╥┘┌─┐      \n",
       "  q2_1: ─────┤ H ├──────╫─────░──╫──╫──╫─┤M├──────\n",
       "             ├───┤      ║ ┌─┐ ░  ║  ║  ║ └╥┘┌─┐   \n",
       "  q2_2: ─────┤ H ├──────╫─┤M├─░──╫──╫──╫──╫─┤M├───\n",
       "             ├───┤      ║ └╥┘ ░  ║  ║  ║  ║ └╥┘┌─┐\n",
       "  q2_3: ─────┤ H ├──────╫──╫──░──╫──╫──╫──╫──╫─┤M├\n",
       "             └───┘      ║  ║  ░  ║  ║  ║  ║  ║ └╥┘\n",
       "  c1: 2/════════════════╩══╬═════╬══╬══╬══╬══╬══╬═\n",
       "                        1  ║     ║  ║  ║  ║  ║  ║ \n",
       "  c2: 4/═══════════════════╩═════╬══╬══╬══╬══╬══╬═\n",
       "                           2     ║  ║  ║  ║  ║  ║ \n",
       "meas: 6/═════════════════════════╩══╩══╩══╩══╩══╩═\n",
       "                                 0  1  2  3  4  5 </pre>"
      ],
      "text/plain": [
       "          ┌─────────┐         ░ ┌─┐               \n",
       "  q1_0: ──┤ U2(0,0) ├─────────░─┤M├───────────────\n",
       "          └──┬───┬──┘  ┌─┐    ░ └╥┘┌─┐            \n",
       "  q1_1: ─────┤ H ├─────┤M├────░──╫─┤M├────────────\n",
       "        ┌────┴───┴────┐└╥┘    ░  ║ └╥┘┌─┐         \n",
       "  q2_0: ┤ U2(-π/2,-π) ├─╫─────░──╫──╫─┤M├─────────\n",
       "        └────┬───┬────┘ ║     ░  ║  ║ └╥┘┌─┐      \n",
       "  q2_1: ─────┤ H ├──────╫─────░──╫──╫──╫─┤M├──────\n",
       "             ├───┤      ║ ┌─┐ ░  ║  ║  ║ └╥┘┌─┐   \n",
       "  q2_2: ─────┤ H ├──────╫─┤M├─░──╫──╫──╫──╫─┤M├───\n",
       "             ├───┤      ║ └╥┘ ░  ║  ║  ║  ║ └╥┘┌─┐\n",
       "  q2_3: ─────┤ H ├──────╫──╫──░──╫──╫──╫──╫──╫─┤M├\n",
       "             └───┘      ║  ║  ░  ║  ║  ║  ║  ║ └╥┘\n",
       "  c1: 2/════════════════╩══╬═════╬══╬══╬══╬══╬══╬═\n",
       "                        1  ║     ║  ║  ║  ║  ║  ║ \n",
       "  c2: 4/═══════════════════╩═════╬══╬══╬══╬══╬══╬═\n",
       "                           2     ║  ║  ║  ║  ║  ║ \n",
       "meas: 6/═════════════════════════╩══╩══╩══╩══╩══╩═\n",
       "                                 0  1  2  3  4  5 "
      ]
     },
     "execution_count": 45,
     "metadata": {},
     "output_type": "execute_result"
    }
   ],
   "source": [
    "pm.run(qc).draw()"
   ]
  },
  {
   "cell_type": "code",
   "execution_count": 39,
   "id": "63f4035e",
   "metadata": {},
   "outputs": [],
   "source": [
    "lista = [\"u1\", \"u2\", \"u3\", \"u\", \"p\", \"r\", \"rx\", \"ry\", \"rz\", \"id\", \"x\", \"y\", \"z\", \"h\", \"s\",\n",
    "            \"sdg\",\n",
    "            \"sx\",\n",
    "            \"sxdg\",\n",
    "            \"t\",\n",
    "            \"tdg\",\n",
    "            \"swap\",\n",
    "            \"cx\",\n",
    "            \"cy\",\n",
    "            \"cz\",\n",
    "            \"csx\",\n",
    "            \"cp\",\n",
    "            \"cu\",\n",
    "            \"cu1\",\n",
    "            \"cu2\",\n",
    "            \"cu3\",\n",
    "            \"rxx\",\n",
    "            \"ryy\",\n",
    "            \"rzz\",\n",
    "            \"rzx\",\n",
    "            \"ccx\",\n",
    "            \"ccz\",\n",
    "            \"crx\",\n",
    "            \"cry\",\n",
    "            \"crz\",\n",
    "            \"cswap\",\n",
    "            \"mcx\",\n",
    "            \"mcy\",\n",
    "            \"mcz\",\n",
    "            \"mcsx\",\n",
    "            \"mcp\",\n",
    "            \"mcphase\",\n",
    "            \"mcu\",\n",
    "            \"mcu1\",\n",
    "            \"mcu2\",\n",
    "            \"mcu3\",\n",
    "            \"mcrx\",\n",
    "            \"mcry\",\n",
    "            \"mcrz\",\n",
    "            \"mcr\",\n",
    "            \"mcswap\",\n",
    "            \"unitary\",\n",
    "            \"diagonal\",\n",
    "            \"multiplexer\",\n",
    "            \"pauli\",\n",
    "            \"mcx_gray\",\n",
    "            \"ecr\",\n",
    "            \"store\"]"
   ]
  },
  {
   "cell_type": "code",
   "execution_count": 40,
   "id": "71089d1a",
   "metadata": {},
   "outputs": [
    {
     "name": "stdout",
     "output_type": "stream",
     "text": [
      "['u1', 'u2', 'u3', 'u', 'p', 'r', 'rx', 'ry', 'rz', 'id', 'x', 'y', 'z', 'h', 's', 'sdg', 'sx', 'sxdg', 't', 'tdg', 'swap', 'cx', 'cy', 'cz', 'csx', 'cp', 'cu', 'cu1', 'cu2', 'cu3', 'rxx', 'ryy', 'rzz', 'rzx', 'ccx', 'ccz', 'crx', 'cry', 'crz', 'cswap', 'mcx', 'mcy', 'mcz', 'mcsx', 'mcp', 'mcphase', 'mcu', 'mcu1', 'mcu2', 'mcu3', 'mcrx', 'mcry', 'mcrz', 'mcr', 'mcswap', 'unitary', 'diagonal', 'multiplexer', 'pauli', 'mcx_gray', 'ecr', 'store']\n"
     ]
    }
   ],
   "source": [
    "print(lista)"
   ]
  },
  {
   "cell_type": "code",
   "execution_count": null,
   "id": "434f6a8d",
   "metadata": {},
   "outputs": [],
   "source": []
  },
  {
   "cell_type": "code",
   "execution_count": 22,
   "id": "6c915fd7",
   "metadata": {},
   "outputs": [
    {
     "name": "stderr",
     "output_type": "stream",
     "text": [
      "/scratch/93357/ipykernel_1386693/753950192.py:1: DeprecationWarning: qiskit.providers.models is deprecated since Qiskit 1.2 and will be removed in Qiskit 2.0. With the removal of Qobj, there is no need for these schema-conformant objects. If you still need to use them, it could be because you are using a BackendV1, which is also deprecated in favor of BackendV2.\n",
      "  from qiskit.providers.models import BackendConfiguration\n"
     ]
    },
    {
     "data": {
      "text/plain": [
       "'\\n\\nMás argumentos que toma la clase BackendConfiguration:\\n\\n        supported_instructions=None,\\n        dynamic_reprate_enabled=False,\\n        rep_delay_range=None,\\n        default_rep_delay=None,\\n        max_experiments=None,\\n        sample_name=None,\\n        n_registers=None,\\n        register_map=None,\\n        configurable=None,\\n        credits_required=None,\\n        online_date=None,\\n        display_name=None,\\n        description=None,\\n        tags=None,\\n        dt=None,\\n        dtm=None,\\n        processor_type=None,\\n        parametric_pulses=None,\\n        **kwargs,\\n\\n'"
      ]
     },
     "execution_count": 22,
     "metadata": {},
     "output_type": "execute_result"
    }
   ],
   "source": [
    "from qiskit.providers.models import BackendConfiguration\n",
    "backend_config = BackendConfiguration(\n",
    "    backend_name = 'BasicAer',\n",
    "    backend_version = '0.0.1',\n",
    "    description = 'Usual AER simulator.',\n",
    "    n_qubits = 32,\n",
    "    basis_gates = ['u1', 'u2', 'u3', 'x', 'y', 'z', 'h', 's', 'sdg', 't', 'tdg', 'cx', 'cy', 'cz', 'ch', 'cs', 'csdg', 'ct', 'ctdg'],\n",
    "    gates = [],\n",
    "    max_shots = 10000,\n",
    "    coupling_map = [],\n",
    "    local = False,\n",
    "    simulator = True,\n",
    "    conditional = True,\n",
    "    open_pulse = False,\n",
    "    memory = True\n",
    ")\n",
    "'''\n",
    "\n",
    "Más argumentos que toma la clase BackendConfiguration:\n",
    "\n",
    "        supported_instructions=None,\n",
    "        dynamic_reprate_enabled=False,\n",
    "        rep_delay_range=None,\n",
    "        default_rep_delay=None,\n",
    "        max_experiments=None,\n",
    "        sample_name=None,\n",
    "        n_registers=None,\n",
    "        register_map=None,\n",
    "        configurable=None,\n",
    "        credits_required=None,\n",
    "        online_date=None,\n",
    "        display_name=None,\n",
    "        description=None,\n",
    "        tags=None,\n",
    "        dt=None,\n",
    "        dtm=None,\n",
    "        processor_type=None,\n",
    "        parametric_pulses=None,\n",
    "        **kwargs,\n",
    "\n",
    "'''"
   ]
  },
  {
   "cell_type": "code",
   "execution_count": 23,
   "id": "7f092456",
   "metadata": {},
   "outputs": [],
   "source": [
    "from qiskit.providers.backend_compat import convert_to_target\n",
    "from qiskit.transpiler import Target"
   ]
  },
  {
   "cell_type": "code",
   "execution_count": 24,
   "id": "a00af708",
   "metadata": {},
   "outputs": [
    {
     "name": "stderr",
     "output_type": "stream",
     "text": [
      "/opt/cesga/qmio/hpc/software/Compiler/gcc/12.3.0/qiskit/1.2.4-python-3.9.9/lib/python3.9/site-packages/qiskit/providers/backend_compat.py:126: RuntimeWarning: No gate definition for ct can be found and is being excluded from the generated target. You can use `custom_name_mapping` to provide a definition for this operation.\n",
      "  warnings.warn(\n",
      "/opt/cesga/qmio/hpc/software/Compiler/gcc/12.3.0/qiskit/1.2.4-python-3.9.9/lib/python3.9/site-packages/qiskit/providers/backend_compat.py:126: RuntimeWarning: No gate definition for ctdg can be found and is being excluded from the generated target. You can use `custom_name_mapping` to provide a definition for this operation.\n",
      "  warnings.warn(\n"
     ]
    }
   ],
   "source": [
    "target_from_backendconfig = convert_to_target(backend_config)"
   ]
  },
  {
   "cell_type": "code",
   "execution_count": 25,
   "id": "6afe4fbe",
   "metadata": {},
   "outputs": [],
   "source": [
    "from qiskit.transpiler.preset_passmanagers import generate_preset_pass_manager"
   ]
  },
  {
   "cell_type": "code",
   "execution_count": 26,
   "id": "d5ac9880",
   "metadata": {},
   "outputs": [],
   "source": [
    " SPM = generate_preset_pass_manager(optimization_level = 1, target = target_from_backendconfig)"
   ]
  },
  {
   "cell_type": "code",
   "execution_count": 28,
   "id": "6a3eec69",
   "metadata": {},
   "outputs": [
    {
     "name": "stdout",
     "output_type": "stream",
     "text": [
      "2025-01-23 15:10:17 - Pass: ContainsInstruction - 0.00668 (ms)\n",
      "2025-01-23 15:10:17 - Pass: InverseCancellation - 0.07200 (ms)\n",
      "2025-01-23 15:10:17 - Pass: UnitarySynthesis - 0.00620 (ms)\n",
      "2025-01-23 15:10:17 - Pass: HighLevelSynthesis - 0.14901 (ms)\n",
      "2025-01-23 15:10:17 - Pass: BasisTranslator - 0.08011 (ms)\n",
      "2025-01-23 15:10:17 - Pass: Depth - 0.04578 (ms)\n",
      "2025-01-23 15:10:17 - Pass: FixedPoint - 0.00811 (ms)\n",
      "2025-01-23 15:10:17 - Pass: Size - 0.02265 (ms)\n",
      "2025-01-23 15:10:17 - Pass: FixedPoint - 0.00525 (ms)\n",
      "2025-01-23 15:10:18 - Pass: Optimize1qGatesDecomposition - 0.24080 (ms)\n",
      "2025-01-23 15:10:18 - Pass: InverseCancellation - 0.08512 (ms)\n",
      "2025-01-23 15:10:18 - Pass: GatesInBasis - 0.06294 (ms)\n",
      "2025-01-23 15:10:18 - Pass: Depth - 0.04196 (ms)\n",
      "2025-01-23 15:10:18 - Pass: FixedPoint - 0.00763 (ms)\n",
      "2025-01-23 15:10:18 - Pass: Size - 0.02265 (ms)\n",
      "2025-01-23 15:10:18 - Pass: FixedPoint - 0.00620 (ms)\n",
      "2025-01-23 15:10:18 - Pass: Optimize1qGatesDecomposition - 0.21076 (ms)\n",
      "2025-01-23 15:10:18 - Pass: InverseCancellation - 0.05960 (ms)\n",
      "2025-01-23 15:10:18 - Pass: GatesInBasis - 0.05913 (ms)\n",
      "2025-01-23 15:10:18 - Pass: Depth - 0.04029 (ms)\n",
      "2025-01-23 15:10:18 - Pass: FixedPoint - 0.00691 (ms)\n",
      "2025-01-23 15:10:18 - Pass: Size - 0.02193 (ms)\n",
      "2025-01-23 15:10:18 - Pass: FixedPoint - 0.00525 (ms)\n",
      "2025-01-23 15:10:18 - Pass: ContainsInstruction - 0.00596 (ms)\n"
     ]
    },
    {
     "data": {
      "text/html": [
       "<pre style=\"word-wrap: normal;white-space: pre;background: #fff0;line-height: 1.1;font-family: &quot;Courier New&quot;,Courier,monospace\">          ┌─────────┐         ░ ┌─┐               \n",
       "  q1_0: ──┤ U2(0,0) ├─────────░─┤M├───────────────\n",
       "          └──┬───┬──┘  ┌─┐    ░ └╥┘┌─┐            \n",
       "  q1_1: ─────┤ H ├─────┤M├────░──╫─┤M├────────────\n",
       "        ┌────┴───┴────┐└╥┘    ░  ║ └╥┘┌─┐         \n",
       "  q2_0: ┤ U2(-π/2,-π) ├─╫─────░──╫──╫─┤M├─────────\n",
       "        └────┬───┬────┘ ║     ░  ║  ║ └╥┘┌─┐      \n",
       "  q2_1: ─────┤ H ├──────╫─────░──╫──╫──╫─┤M├──────\n",
       "             ├───┤      ║ ┌─┐ ░  ║  ║  ║ └╥┘┌─┐   \n",
       "  q2_2: ─────┤ H ├──────╫─┤M├─░──╫──╫──╫──╫─┤M├───\n",
       "             ├───┤      ║ └╥┘ ░  ║  ║  ║  ║ └╥┘┌─┐\n",
       "  q2_3: ─────┤ H ├──────╫──╫──░──╫──╫──╫──╫──╫─┤M├\n",
       "             └───┘      ║  ║  ░  ║  ║  ║  ║  ║ └╥┘\n",
       "  c1: 2/════════════════╩══╬═════╬══╬══╬══╬══╬══╬═\n",
       "                        1  ║     ║  ║  ║  ║  ║  ║ \n",
       "  c2: 4/═══════════════════╩═════╬══╬══╬══╬══╬══╬═\n",
       "                           2     ║  ║  ║  ║  ║  ║ \n",
       "meas: 6/═════════════════════════╩══╩══╩══╩══╩══╩═\n",
       "                                 0  1  2  3  4  5 </pre>"
      ],
      "text/plain": [
       "          ┌─────────┐         ░ ┌─┐               \n",
       "  q1_0: ──┤ U2(0,0) ├─────────░─┤M├───────────────\n",
       "          └──┬───┬──┘  ┌─┐    ░ └╥┘┌─┐            \n",
       "  q1_1: ─────┤ H ├─────┤M├────░──╫─┤M├────────────\n",
       "        ┌────┴───┴────┐└╥┘    ░  ║ └╥┘┌─┐         \n",
       "  q2_0: ┤ U2(-π/2,-π) ├─╫─────░──╫──╫─┤M├─────────\n",
       "        └────┬───┬────┘ ║     ░  ║  ║ └╥┘┌─┐      \n",
       "  q2_1: ─────┤ H ├──────╫─────░──╫──╫──╫─┤M├──────\n",
       "             ├───┤      ║ ┌─┐ ░  ║  ║  ║ └╥┘┌─┐   \n",
       "  q2_2: ─────┤ H ├──────╫─┤M├─░──╫──╫──╫──╫─┤M├───\n",
       "             ├───┤      ║ └╥┘ ░  ║  ║  ║  ║ └╥┘┌─┐\n",
       "  q2_3: ─────┤ H ├──────╫──╫──░──╫──╫──╫──╫──╫─┤M├\n",
       "             └───┘      ║  ║  ░  ║  ║  ║  ║  ║ └╥┘\n",
       "  c1: 2/════════════════╩══╬═════╬══╬══╬══╬══╬══╬═\n",
       "                        1  ║     ║  ║  ║  ║  ║  ║ \n",
       "  c2: 4/═══════════════════╩═════╬══╬══╬══╬══╬══╬═\n",
       "                           2     ║  ║  ║  ║  ║  ║ \n",
       "meas: 6/═════════════════════════╩══╩══╩══╩══╩══╩═\n",
       "                                 0  1  2  3  4  5 "
      ]
     },
     "execution_count": 28,
     "metadata": {},
     "output_type": "execute_result"
    }
   ],
   "source": [
    "SPM.run(qc).draw()"
   ]
  },
  {
   "cell_type": "code",
   "execution_count": null,
   "id": "d2f116dc",
   "metadata": {},
   "outputs": [],
   "source": []
  },
  {
   "cell_type": "code",
   "execution_count": null,
   "id": "cf996276",
   "metadata": {},
   "outputs": [],
   "source": []
  },
  {
   "cell_type": "code",
   "execution_count": null,
   "id": "c79b858a",
   "metadata": {},
   "outputs": [],
   "source": []
  },
  {
   "cell_type": "code",
   "execution_count": null,
   "id": "9b6cb02a",
   "metadata": {},
   "outputs": [],
   "source": []
  },
  {
   "cell_type": "code",
   "execution_count": null,
   "id": "c46e1098",
   "metadata": {},
   "outputs": [],
   "source": []
  },
  {
   "cell_type": "code",
   "execution_count": null,
   "id": "58888ea0",
   "metadata": {},
   "outputs": [],
   "source": []
  },
  {
   "cell_type": "code",
   "execution_count": 159,
   "id": "f1c79f61",
   "metadata": {},
   "outputs": [
    {
     "data": {
      "text/plain": [
       "{'instructions': [{'name': 'h', 'qubits': [0], 'params': []},\n",
       "  {'name': 'h', 'qubits': [1], 'params': []},\n",
       "  {'name': 'h', 'qubits': [2], 'params': []},\n",
       "  {'name': 'h', 'qubits': [3], 'params': []},\n",
       "  {'name': 'h', 'qubits': [4], 'params': []},\n",
       "  {'name': 'cx', 'qubits': [0, 1], 'params': []},\n",
       "  {'name': 'cx', 'qubits': [2, 3], 'params': []},\n",
       "  {'name': 'cx', 'qubits': [0, 4], 'params': []},\n",
       "  {'name': 'measure', 'qubits': [0], 'memory': [1]},\n",
       "  {'name': 'measure', 'qubits': [1], 'memory': [7]},\n",
       "  {'name': 'h', 'qubits': [0], 'params': []},\n",
       "  {'name': 'h', 'qubits': [1], 'params': []},\n",
       "  {'name': 'h', 'qubits': [2], 'params': []},\n",
       "  {'name': 'h', 'qubits': [3], 'params': []},\n",
       "  {'name': 'h', 'qubits': [4], 'params': []},\n",
       "  {'name': 'measure', 'qubits': [0], 'memory': [9]},\n",
       "  {'name': 'measure', 'qubits': [1], 'memory': [10]},\n",
       "  {'name': 'measure', 'qubits': [2], 'memory': [11]},\n",
       "  {'name': 'measure', 'qubits': [3], 'memory': [12]},\n",
       "  {'name': 'measure', 'qubits': [4], 'memory': [13]}],\n",
       " 'num_qubits': 5,\n",
       " 'num_clbits': 14,\n",
       " 'classical_registers': {'j': [0, 1, 2, 3, 4, 5],\n",
       "  'c': [6, 7, 8],\n",
       "  'meas': [9, 10, 11, 12, 13]}}"
      ]
     },
     "execution_count": 159,
     "metadata": {},
     "output_type": "execute_result"
    }
   ],
   "source": [
    "json_data"
   ]
  },
  {
   "cell_type": "code",
   "execution_count": 172,
   "id": "caa78510",
   "metadata": {},
   "outputs": [],
   "source": [
    "if all([k in circuit.keys() for k in ['instructions', 'num_qubits', 'num_clbits', 'classical_registers']]):\n",
    "    instructions = circuit['instructions']\n",
    "    num_qubits = circuit['num_qubits']\n",
    "    num_clbits = circuit['num_clbits']\n",
    "    classical_registers = circuit['classical_registers']\n",
    "else:\n",
    "    raise KeyError(\"Circuit dict must have 'instructions', 'num_qbits' and 'num_clbits'.\")"
   ]
  },
  {
   "cell_type": "code",
   "execution_count": 224,
   "id": "6a913385",
   "metadata": {},
   "outputs": [
    {
     "data": {
      "text/plain": [
       "[]"
      ]
     },
     "execution_count": 224,
     "metadata": {},
     "output_type": "execute_result"
    }
   ],
   "source": [
    "qc = QuantumCircuit(num_qubits)\n",
    "\n",
    "regs = [QuantumRegister(num_qubits, 'q')]\n",
    "for cr, lista in classical_registers.items():\n",
    "    qc.add_register(ClassicalRegister(len(lista), cr))\n",
    "\n",
    "qc.data"
   ]
  },
  {
   "cell_type": "code",
   "execution_count": 193,
   "id": "b9284fbb",
   "metadata": {},
   "outputs": [],
   "source": [
    "from qiskit.circuit import QuantumRegister, ClassicalRegister, CircuitInstruction, Operation, Instruction"
   ]
  },
  {
   "cell_type": "code",
   "execution_count": 200,
   "id": "640cb520",
   "metadata": {},
   "outputs": [
    {
     "ename": "TypeError",
     "evalue": "Operation() takes no arguments",
     "output_type": "error",
     "traceback": [
      "\u001b[0;31m---------------------------------------------------------------------------\u001b[0m",
      "\u001b[0;31mTypeError\u001b[0m                                 Traceback (most recent call last)",
      "\u001b[0;32m/scratch/93257/ipykernel_1268354/256633410.py\u001b[0m in \u001b[0;36m<module>\u001b[0;34m\u001b[0m\n\u001b[0;32m----> 1\u001b[0;31m \u001b[0minst\u001b[0m \u001b[0;34m=\u001b[0m \u001b[0mOperation\u001b[0m\u001b[0;34m(\u001b[0m\u001b[0mname\u001b[0m \u001b[0;34m=\u001b[0m \u001b[0;34m'h'\u001b[0m\u001b[0;34m,\u001b[0m \u001b[0mnum_qubits\u001b[0m \u001b[0;34m=\u001b[0m \u001b[0;36m1\u001b[0m\u001b[0;34m,\u001b[0m \u001b[0mnum_clbits\u001b[0m \u001b[0;34m=\u001b[0m \u001b[0;36m0\u001b[0m\u001b[0;34m,\u001b[0m \u001b[0mparams\u001b[0m \u001b[0;34m=\u001b[0m \u001b[0;34m[\u001b[0m\u001b[0;34m]\u001b[0m\u001b[0;34m)\u001b[0m\u001b[0;34m\u001b[0m\u001b[0;34m\u001b[0m\u001b[0m\n\u001b[0m",
      "\u001b[0;31mTypeError\u001b[0m: Operation() takes no arguments"
     ]
    }
   ],
   "source": [
    "inst = Operation(name = 'h', num_qubits = 1, num_clbits = 0, params = [])"
   ]
  },
  {
   "cell_type": "code",
   "execution_count": 206,
   "id": "8cd8bf54",
   "metadata": {},
   "outputs": [],
   "source": [
    "from qiskit.circuit import CircuitInstruction, Instruction, Qubit, QuantumRegister\n",
    "c = CircuitInstruction(operation=, qubits=(Qubit(QuantumRegister(2, 'q'), 0),), clbits=())"
   ]
  },
  {
   "cell_type": "code",
   "execution_count": 209,
   "id": "3c28b6c0",
   "metadata": {},
   "outputs": [
    {
     "data": {
      "text/plain": [
       "Instruction(name='h', num_qubits=1, num_clbits=0, params=[])"
      ]
     },
     "execution_count": 209,
     "metadata": {},
     "output_type": "execute_result"
    }
   ],
   "source": [
    "Instruction(name='h', num_qubits=1, num_clbits=0, params=[])"
   ]
  },
  {
   "cell_type": "code",
   "execution_count": 210,
   "id": "74f1da50",
   "metadata": {},
   "outputs": [
    {
     "data": {
      "text/plain": [
       "{'instructions': [{'name': 'h', 'qubits': [0], 'params': []},\n",
       "  {'name': 'h', 'qubits': [1], 'params': []},\n",
       "  {'name': 'h', 'qubits': [2], 'params': []},\n",
       "  {'name': 'h', 'qubits': [3], 'params': []},\n",
       "  {'name': 'h', 'qubits': [4], 'params': []},\n",
       "  {'name': 'cx', 'qubits': [0, 1], 'params': []},\n",
       "  {'name': 'cx', 'qubits': [2, 3], 'params': []},\n",
       "  {'name': 'cx', 'qubits': [0, 4], 'params': []},\n",
       "  {'name': 'measure', 'qubits': [0], 'memory': [1]},\n",
       "  {'name': 'measure', 'qubits': [1], 'memory': [7]},\n",
       "  {'name': 'h', 'qubits': [0], 'params': []},\n",
       "  {'name': 'h', 'qubits': [1], 'params': []},\n",
       "  {'name': 'h', 'qubits': [2], 'params': []},\n",
       "  {'name': 'h', 'qubits': [3], 'params': []},\n",
       "  {'name': 'h', 'qubits': [4], 'params': []},\n",
       "  {'name': 'measure', 'qubits': [0], 'memory': [9]},\n",
       "  {'name': 'measure', 'qubits': [1], 'memory': [10]},\n",
       "  {'name': 'measure', 'qubits': [2], 'memory': [11]},\n",
       "  {'name': 'measure', 'qubits': [3], 'memory': [12]},\n",
       "  {'name': 'measure', 'qubits': [4], 'memory': [13]}],\n",
       " 'num_qubits': 5,\n",
       " 'num_clbits': 14,\n",
       " 'classical_registers': {'j': [0, 1, 2, 3, 4, 5],\n",
       "  'c': [6, 7, 8],\n",
       "  'meas': [9, 10, 11, 12, 13]}}"
      ]
     },
     "execution_count": 210,
     "metadata": {},
     "output_type": "execute_result"
    }
   ],
   "source": [
    "json_data"
   ]
  },
  {
   "cell_type": "code",
   "execution_count": 211,
   "id": "d471f8b6",
   "metadata": {},
   "outputs": [
    {
     "data": {
      "text/plain": [
       "[CircuitInstruction(operation=Instruction(name='h', num_qubits=1, num_clbits=0, params=[]), qubits=(Qubit(QuantumRegister(2, 'q'), 0),), clbits=()), CircuitInstruction(operation=Instruction(name='cx', num_qubits=2, num_clbits=0, params=[]), qubits=(Qubit(QuantumRegister(2, 'q'), 0), Qubit(QuantumRegister(2, 'q'), 1)), clbits=())]"
      ]
     },
     "execution_count": 211,
     "metadata": {},
     "output_type": "execute_result"
    }
   ],
   "source": [
    "qc.data"
   ]
  },
  {
   "cell_type": "code",
   "execution_count": 217,
   "id": "b2af169d",
   "metadata": {},
   "outputs": [
    {
     "data": {
      "text/plain": [
       "{'instructions': [{'name': 'h', 'qubits': [0], 'params': []},\n",
       "  {'name': 'h', 'qubits': [1], 'params': []},\n",
       "  {'name': 'h', 'qubits': [2], 'params': []},\n",
       "  {'name': 'h', 'qubits': [3], 'params': []},\n",
       "  {'name': 'h', 'qubits': [4], 'params': []},\n",
       "  {'name': 'cx', 'qubits': [0, 1], 'params': []},\n",
       "  {'name': 'cx', 'qubits': [2, 3], 'params': []},\n",
       "  {'name': 'cx', 'qubits': [0, 4], 'params': []},\n",
       "  {'name': 'measure', 'qubits': [0], 'memory': [1]},\n",
       "  {'name': 'measure', 'qubits': [1], 'memory': [7]},\n",
       "  {'name': 'h', 'qubits': [0], 'params': []},\n",
       "  {'name': 'h', 'qubits': [1], 'params': []},\n",
       "  {'name': 'h', 'qubits': [2], 'params': []},\n",
       "  {'name': 'h', 'qubits': [3], 'params': []},\n",
       "  {'name': 'h', 'qubits': [4], 'params': []},\n",
       "  {'name': 'measure', 'qubits': [0], 'memory': [9]},\n",
       "  {'name': 'measure', 'qubits': [1], 'memory': [10]},\n",
       "  {'name': 'measure', 'qubits': [2], 'memory': [11]},\n",
       "  {'name': 'measure', 'qubits': [3], 'memory': [12]},\n",
       "  {'name': 'measure', 'qubits': [4], 'memory': [13]}],\n",
       " 'num_qubits': 5,\n",
       " 'num_clbits': 14,\n",
       " 'classical_registers': {'j': [0, 1, 2, 3, 4, 5],\n",
       "  'c': [6, 7, 8],\n",
       "  'meas': [9, 10, 11, 12, 13]}}"
      ]
     },
     "execution_count": 217,
     "metadata": {},
     "output_type": "execute_result"
    }
   ],
   "source": [
    "instructions = json_data['instructions']\n",
    "json_data"
   ]
  },
  {
   "cell_type": "code",
   "execution_count": 237,
   "id": "36e66de3",
   "metadata": {},
   "outputs": [],
   "source": [
    "from qiskit.circuit import QuantumRegister, ClassicalRegister, CircuitInstruction, Instruction, Qubit, Clbit\n",
    "def from_json_to_qc(circuit_dict):\n",
    "    if isinstance(circuit_dict, QuantumCircuit):\n",
    "        raise TypeError(\"Circuit provided is already a <class 'qiskit.circuit.quantumcircuit.QuantumCircuit'>.\")\n",
    "    elif isinstance(circuit_dict, dict):\n",
    "        circuit = circuit_dict\n",
    "    else:\n",
    "        raise TypeError(\"Please provide circuit_dict as a dict object.\")\n",
    "\n",
    "    if all([k in circuit.keys() for k in ['instructions', 'num_qubits', 'num_clbits', 'classical_registers']]):\n",
    "        instructions = circuit['instructions']\n",
    "        num_qubits = circuit['num_qubits']\n",
    "        num_clbits = circuit['num_clbits']\n",
    "        classical_registers = circuit['classical_registers']\n",
    "    else:\n",
    "        raise KeyError(\"Circuit dict must have 'instructions', 'num_qbits' and 'num_clbits'.\")\n",
    "    \n",
    "    qc = QuantumCircuit(num_qubits)\n",
    "\n",
    "    for cr, lista in classical_registers.items():\n",
    "        qc.add_register(ClassicalRegister(len(lista), cr))\n",
    "\n",
    "\n",
    "    for instruction in instructions:\n",
    "        if instruction['name'] != 'measure':\n",
    "            inst = CircuitInstruction( \n",
    "                operation = Instruction(name = instruction['name'],\n",
    "                                        num_qubits = len(instruction['qubits']),\n",
    "                                        num_clbits = 0,\n",
    "                                        params = instruction['params']\n",
    "                                        ),\n",
    "                qubits = (Qubit(QuantumRegister(num_qubits, 'q'), q) for q in instruction['qubits']),\n",
    "                clbits = ()\n",
    "                )\n",
    "            qc.append(inst)\n",
    "        elif instruction['name'] == 'measure':\n",
    "            bit = instruction['memory'][0]\n",
    "            for k,v in classical_registers.items():\n",
    "                if bit in v:\n",
    "                    reg = k\n",
    "                    l = len(v)\n",
    "                    clbit = v.index(bit)\n",
    "            inst = CircuitInstruction( \n",
    "                operation = Instruction(name = instruction['name'],\n",
    "                                        num_qubits = 1,\n",
    "                                        num_clbits = 1,\n",
    "                                        params = []\n",
    "                                        ),\n",
    "                qubits = (Qubit(QuantumRegister(num_qubits, 'q'), q) for q in instruction['qubits']),\n",
    "                clbits = (Clbit(ClassicalRegister(l, reg), clbit),)\n",
    "                )\n",
    "            qc.append(inst)\n",
    "    return qc"
   ]
  },
  {
   "cell_type": "code",
   "execution_count": 244,
   "id": "24698e5b",
   "metadata": {},
   "outputs": [
    {
     "data": {
      "text/plain": [
       "[ClassicalRegister(6, 'j'),\n",
       " ClassicalRegister(3, 'c'),\n",
       " ClassicalRegister(5, 'meas')]"
      ]
     },
     "execution_count": 244,
     "metadata": {},
     "output_type": "execute_result"
    }
   ],
   "source": [
    "qcc = from_json_to_qc(json_data)\n",
    "qcc.cregs"
   ]
  },
  {
   "cell_type": "code",
   "execution_count": 260,
   "id": "bbb0cc72",
   "metadata": {},
   "outputs": [
    {
     "name": "stdout",
     "output_type": "stream",
     "text": [
      "CircuitInstruction(operation=Instruction(name='h', num_qubits=1, num_clbits=0, params=[]), qubits=(Qubit(QuantumRegister(8, 'q1'), 0),), clbits=())\n",
      " \n",
      "CircuitInstruction(operation=Instruction(name='x', num_qubits=1, num_clbits=0, params=[]), qubits=(Qubit(QuantumRegister(5, 'q2'), 0),), clbits=())\n",
      " \n",
      "CircuitInstruction(operation=Instruction(name='measure', num_qubits=1, num_clbits=1, params=[]), qubits=(Qubit(QuantumRegister(8, 'q1'), 0),), clbits=(Clbit(ClassicalRegister(5, 'j'), 2),))\n",
      " \n"
     ]
    }
   ],
   "source": [
    "from qiskit.circuit import QuantumRegister, ClassicalRegister, CircuitInstruction, Instruction, Qubit, Clbit\n",
    "\n",
    "circuito = QuantumCircuit(QuantumRegister(8,'q1'), QuantumRegister(5, 'q2'), ClassicalRegister(5, 'c'), ClassicalRegister(5, 'j'))\n",
    "\n",
    "circuito.h(0); circuito.x(8); circuito.measure(0, 7)\n",
    "\n",
    "for d in circuito.data:\n",
    "    print(d)\n",
    "    print(' ')"
   ]
  },
  {
   "cell_type": "code",
   "execution_count": 269,
   "id": "53564466",
   "metadata": {},
   "outputs": [
    {
     "data": {
      "text/plain": [
       "['q']"
      ]
     },
     "execution_count": 269,
     "metadata": {},
     "output_type": "execute_result"
    }
   ],
   "source": [
    "[r._register.name for r in qcc.data[0].qubits]"
   ]
  },
  {
   "cell_type": "code",
   "execution_count": 273,
   "id": "71e1f01c",
   "metadata": {},
   "outputs": [],
   "source": [
    "def qc_to_json(qc):\n",
    "    \"\"\"\n",
    "    Transforms a QuantumCircuit to json.\n",
    "\n",
    "    Args:\n",
    "    ---------\n",
    "    qc (QuantumCircuit): circuit to transform to json.\n",
    "\n",
    "    Return:\n",
    "    ---------\n",
    "    json dict with the circuit information.\n",
    "    \"\"\"\n",
    "    quantum_registers = {}\n",
    "    for qr in qc.qregs:\n",
    "        quantum_registers[qr.name] = qr.size\n",
    "\n",
    "    countsq = []\n",
    "\n",
    "    valuesq = list(quantum_registers.values())\n",
    "\n",
    "    for i, v in enumerate(valuesq):\n",
    "        if i == 0:\n",
    "            countsq.append(list(range(0, v)))\n",
    "        else:\n",
    "            countsq.append(list(range(sum(valuesq[:i]), sum(valuesq[:i])+v)))\n",
    "\n",
    "    for i,k in enumerate(quantum_registers.keys()):\n",
    "        quantum_registers[k] = countsq[i]\n",
    "\n",
    "\n",
    "    classical_registers = {}\n",
    "    for cr in qc.cregs:\n",
    "        classical_registers[cr.name] = cr.size\n",
    "\n",
    "    counts = []\n",
    "\n",
    "    values = list(classical_registers.values())\n",
    "\n",
    "    for i, v in enumerate(values):\n",
    "        if i == 0:\n",
    "            counts.append(list(range(0, v)))\n",
    "        else:\n",
    "            counts.append(list(range(sum(values[:i]), sum(values[:i])+v)))\n",
    "\n",
    "    for i,k in enumerate(classical_registers.keys()):\n",
    "        classical_registers[k] = counts[i]\n",
    "    \n",
    "    json_data = {\n",
    "        \"instructions\":[],\n",
    "        \"num_qubits\":sum([q.size for q in qc.qregs]),\n",
    "        \"num_clbits\": sum([c.size for c in qc.cregs]),\n",
    "        \"quantum_registers\":quantum_registers,\n",
    "        \"classical_registers\":classical_registers\n",
    "    }\n",
    "    for i in range(len(qc.data)):\n",
    "        if qc.data[i].name == \"barrier\":\n",
    "            pass\n",
    "        elif qc.data[i].name != \"measure\":\n",
    "\n",
    "            qreg = [r._register.name for r in qc.data[i].qubits]\n",
    "            qubit = [q._index for q in qc.data[i].qubits]\n",
    "\n",
    "            json_data[\"instructions\"].append({\"name\":qc.data[i].name, \n",
    "                                              \"qubits\":[quantum_registers[k][q] for k,q in zip(qreg,qubit)],\n",
    "                                              \"params\":qc.data[i].params\n",
    "                                             })\n",
    "        else:\n",
    "            qreg = [r._register.name for r in qc.data[i].qubits]\n",
    "            qubit = [q._index for q in qc.data[i].qubits]\n",
    "            \n",
    "            creg = [r._register.name for r in qc.data[i].clbits]\n",
    "            bit = [b._index for b in qc.data[i].clbits]\n",
    "\n",
    "            json_data[\"instructions\"].append({\"name\":qc.data[i].name,\n",
    "                                              \"qubits\":[quantum_registers[k][q] for k,q in zip(qreg,qubit)],\n",
    "                                              \"memory\":[classical_registers[k][b] for k,b in zip(creg,bit)]\n",
    "                                             })\n",
    "                \n",
    "\n",
    "    return json_data"
   ]
  },
  {
   "cell_type": "code",
   "execution_count": 282,
   "id": "a3adb9d8",
   "metadata": {},
   "outputs": [],
   "source": [
    "from qiskit import QuantumCircuit\n",
    "from qiskit.circuit import QuantumRegister, ClassicalRegister, CircuitInstruction, Instruction, Qubit, Clbit\n",
    "\n",
    "\n",
    "def from_json_to_qc(circuit_dict):\n",
    "    if isinstance(circuit_dict, QuantumCircuit):\n",
    "        raise TypeError(\"Circuit provided is already a <class 'qiskit.circuit.quantumcircuit.QuantumCircuit'>.\")\n",
    "    elif isinstance(circuit_dict, dict):\n",
    "        circuit = circuit_dict\n",
    "    else:\n",
    "        raise TypeError(\"Please provide circuit_dict as a dict object.\")\n",
    "\n",
    "    if all([k in circuit.keys() for k in ['instructions', 'num_qubits', 'num_clbits', 'classical_registers']]):\n",
    "        instructions = circuit['instructions']\n",
    "        num_qubits = circuit['num_qubits']\n",
    "        num_clbits = circuit['num_clbits']\n",
    "        classical_registers = circuit['classical_registers']\n",
    "    else:\n",
    "        raise KeyError(\"Circuit dict must have 'instructions', 'num_qbits' and 'num_clbits'.\")\n",
    "    \n",
    "    qc = QuantumCircuit(num_qubits)\n",
    "\n",
    "    for cr, lista in classical_registers.items():\n",
    "        qc.add_register(ClassicalRegister(len(lista), cr))\n",
    "\n",
    "\n",
    "    for instruction in instructions:\n",
    "        if instruction['name'] != 'measure':\n",
    "            inst = CircuitInstruction( \n",
    "                operation = Instruction(name = instruction['name'],\n",
    "                                        num_qubits = len(instruction['qubits']),\n",
    "                                        num_clbits = 0,\n",
    "                                        params = instruction['params']\n",
    "                                        ),\n",
    "                qubits = (Qubit(QuantumRegister(num_qubits, 'q'), q) for q in instruction['qubits']),\n",
    "                clbits = ()\n",
    "                )\n",
    "            qc.append(inst)\n",
    "        elif instruction['name'] == 'measure':\n",
    "            bit = instruction['memory'][0]\n",
    "            for k,v in classical_registers.items():\n",
    "                if bit in v:\n",
    "                    reg = k\n",
    "                    l = len(v)\n",
    "                    clbit = v.index(bit)\n",
    "            inst = CircuitInstruction( \n",
    "                operation = Instruction(name = instruction['name'],\n",
    "                                        num_qubits = 1,\n",
    "                                        num_clbits = 1,\n",
    "                                        params = []\n",
    "                                        ),\n",
    "                qubits = (Qubit(QuantumRegister(num_qubits, 'q'), q) for q in instruction['qubits']),\n",
    "                clbits = (Clbit(ClassicalRegister(l, reg), clbit),)\n",
    "                )\n",
    "            qc.append(inst)\n",
    "    return qc"
   ]
  },
  {
   "cell_type": "code",
   "execution_count": 4,
   "id": "c94a1db8",
   "metadata": {
    "scrolled": false
   },
   "outputs": [
    {
     "name": "stdout",
     "output_type": "stream",
     "text": [
      "<class 'qiskit.circuit.quantumcircuit.QuantumCircuit'>\n"
     ]
    }
   ],
   "source": [
    "from qiskit import QuantumCircuit, QuantumRegister, ClassicalRegister\n",
    "qc = QuantumCircuit(\n",
    "    QuantumRegister(2, 'q1'), QuantumRegister(4, 'q2'),\n",
    "    ClassicalRegister(2, 'c1'), ClassicalRegister(4, 'c2')\n",
    "    )\n",
    "\n",
    "qc.h(range(qc.num_qubits))\n",
    "\n",
    "qc.x(0); qc.measure(1,1)\n",
    "qc.sdg(2); qc.measure(4,4)\n",
    "\n",
    "\n",
    "qc.measure_all()\n",
    "\n",
    "qc.draw()\n",
    "\n",
    "len(qc.data)\n",
    "\n",
    "print(type(qc))"
   ]
  },
  {
   "cell_type": "code",
   "execution_count": 295,
   "id": "d5f028b8",
   "metadata": {},
   "outputs": [
    {
     "data": {
      "text/plain": [
       "{'instructions': [{'name': 'h', 'qubits': [0], 'params': []},\n",
       "  {'name': 'h', 'qubits': [1], 'params': []},\n",
       "  {'name': 'h', 'qubits': [2], 'params': []},\n",
       "  {'name': 'h', 'qubits': [3], 'params': []},\n",
       "  {'name': 'h', 'qubits': [4], 'params': []},\n",
       "  {'name': 'h', 'qubits': [5], 'params': []},\n",
       "  {'name': 'x', 'qubits': [0], 'params': []},\n",
       "  {'name': 'measure', 'qubits': [1], 'memory': [1]},\n",
       "  {'name': 'sdg', 'qubits': [2], 'params': []},\n",
       "  {'name': 'measure', 'qubits': [4], 'memory': [4]},\n",
       "  {'name': 'measure', 'qubits': [0], 'memory': [6]},\n",
       "  {'name': 'measure', 'qubits': [1], 'memory': [7]},\n",
       "  {'name': 'measure', 'qubits': [2], 'memory': [8]},\n",
       "  {'name': 'measure', 'qubits': [3], 'memory': [9]},\n",
       "  {'name': 'measure', 'qubits': [4], 'memory': [10]},\n",
       "  {'name': 'measure', 'qubits': [5], 'memory': [11]}],\n",
       " 'num_qubits': 6,\n",
       " 'num_clbits': 12,\n",
       " 'quantum_registers': {'q1': [0, 1], 'q2': [2, 3, 4, 5]},\n",
       " 'classical_registers': {'c1': [0, 1],\n",
       "  'c2': [2, 3, 4, 5],\n",
       "  'meas': [6, 7, 8, 9, 10, 11]}}"
      ]
     },
     "execution_count": 295,
     "metadata": {},
     "output_type": "execute_result"
    }
   ],
   "source": [
    "json_data = qc_to_json(qc)\n",
    "json_data"
   ]
  },
  {
   "cell_type": "code",
   "execution_count": 297,
   "id": "b2439a5a",
   "metadata": {},
   "outputs": [
    {
     "data": {
      "text/plain": [
       "16"
      ]
     },
     "execution_count": 297,
     "metadata": {},
     "output_type": "execute_result"
    }
   ],
   "source": [
    "len(from_json_to_qc(json_data).data)"
   ]
  },
  {
   "cell_type": "code",
   "execution_count": 296,
   "id": "503350eb",
   "metadata": {},
   "outputs": [
    {
     "name": "stdout",
     "output_type": "stream",
     "text": [
      "CircuitInstruction(operation=Instruction(name='h', num_qubits=1, num_clbits=0, params=[]), qubits=(Qubit(QuantumRegister(6, 'q'), 0),), clbits=())\n",
      " \n",
      "CircuitInstruction(operation=Instruction(name='h', num_qubits=1, num_clbits=0, params=[]), qubits=(Qubit(QuantumRegister(6, 'q'), 1),), clbits=())\n",
      " \n",
      "CircuitInstruction(operation=Instruction(name='h', num_qubits=1, num_clbits=0, params=[]), qubits=(Qubit(QuantumRegister(6, 'q'), 2),), clbits=())\n",
      " \n",
      "CircuitInstruction(operation=Instruction(name='h', num_qubits=1, num_clbits=0, params=[]), qubits=(Qubit(QuantumRegister(6, 'q'), 3),), clbits=())\n",
      " \n",
      "CircuitInstruction(operation=Instruction(name='h', num_qubits=1, num_clbits=0, params=[]), qubits=(Qubit(QuantumRegister(6, 'q'), 4),), clbits=())\n",
      " \n",
      "CircuitInstruction(operation=Instruction(name='h', num_qubits=1, num_clbits=0, params=[]), qubits=(Qubit(QuantumRegister(6, 'q'), 5),), clbits=())\n",
      " \n",
      "CircuitInstruction(operation=Instruction(name='x', num_qubits=1, num_clbits=0, params=[]), qubits=(Qubit(QuantumRegister(6, 'q'), 0),), clbits=())\n",
      " \n",
      "CircuitInstruction(operation=Instruction(name='measure', num_qubits=1, num_clbits=1, params=[]), qubits=(Qubit(QuantumRegister(6, 'q'), 1),), clbits=(Clbit(ClassicalRegister(2, 'c1'), 1),))\n",
      " \n",
      "CircuitInstruction(operation=Instruction(name='sdg', num_qubits=1, num_clbits=0, params=[]), qubits=(Qubit(QuantumRegister(6, 'q'), 2),), clbits=())\n",
      " \n",
      "CircuitInstruction(operation=Instruction(name='measure', num_qubits=1, num_clbits=1, params=[]), qubits=(Qubit(QuantumRegister(6, 'q'), 4),), clbits=(Clbit(ClassicalRegister(4, 'c2'), 2),))\n",
      " \n",
      "CircuitInstruction(operation=Instruction(name='measure', num_qubits=1, num_clbits=1, params=[]), qubits=(Qubit(QuantumRegister(6, 'q'), 0),), clbits=(Clbit(ClassicalRegister(6, 'meas'), 0),))\n",
      " \n",
      "CircuitInstruction(operation=Instruction(name='measure', num_qubits=1, num_clbits=1, params=[]), qubits=(Qubit(QuantumRegister(6, 'q'), 1),), clbits=(Clbit(ClassicalRegister(6, 'meas'), 1),))\n",
      " \n",
      "CircuitInstruction(operation=Instruction(name='measure', num_qubits=1, num_clbits=1, params=[]), qubits=(Qubit(QuantumRegister(6, 'q'), 2),), clbits=(Clbit(ClassicalRegister(6, 'meas'), 2),))\n",
      " \n",
      "CircuitInstruction(operation=Instruction(name='measure', num_qubits=1, num_clbits=1, params=[]), qubits=(Qubit(QuantumRegister(6, 'q'), 3),), clbits=(Clbit(ClassicalRegister(6, 'meas'), 3),))\n",
      " \n",
      "CircuitInstruction(operation=Instruction(name='measure', num_qubits=1, num_clbits=1, params=[]), qubits=(Qubit(QuantumRegister(6, 'q'), 4),), clbits=(Clbit(ClassicalRegister(6, 'meas'), 4),))\n",
      " \n",
      "CircuitInstruction(operation=Instruction(name='measure', num_qubits=1, num_clbits=1, params=[]), qubits=(Qubit(QuantumRegister(6, 'q'), 5),), clbits=(Clbit(ClassicalRegister(6, 'meas'), 5),))\n",
      " \n"
     ]
    }
   ],
   "source": [
    "for d in from_json_to_qc(json_data).data:\n",
    "    print(d)\n",
    "    print(\" \")"
   ]
  },
  {
   "cell_type": "code",
   "execution_count": 21,
   "id": "a58e0ce6",
   "metadata": {},
   "outputs": [
    {
     "name": "stderr",
     "output_type": "stream",
     "text": [
      "/scratch/96406/ipykernel_3641570/3066083476.py:1: DeprecationWarning: qiskit.providers.models is deprecated since Qiskit 1.2 and will be removed in Qiskit 2.0. With the removal of Qobj, there is no need for these schema-conformant objects. If you still need to use them, it could be because you are using a BackendV1, which is also deprecated in favor of BackendV2.\n",
      "  from qiskit.providers.models import BackendConfiguration\n"
     ]
    }
   ],
   "source": [
    "from qiskit.providers.models import BackendConfiguration"
   ]
  },
  {
   "cell_type": "code",
   "execution_count": 33,
   "id": "1b89db91",
   "metadata": {},
   "outputs": [],
   "source": [
    "from backend import Backend\n",
    "from qiskit import QuantumCircuit\n",
    "from circuit import from_json_to_qc\n",
    "from qiskit.transpiler.preset_passmanagers import generate_preset_pass_manager\n",
    "from qiskit.providers.backend_compat import convert_to_target\n",
    "\n",
    "\n",
    "def transpiler(circuit, backend, opt_level = 1):\n",
    "    \n",
    "    # transformo el circuito a QuantumCircuit\n",
    "    if isinstance(circuit, QuantumCircuit):\n",
    "        circuit = circuit\n",
    "    elif isinstance(circuit, dict):\n",
    "        try:\n",
    "            circuit = from_json_to_qc(circuit)\n",
    "        except:\n",
    "            raise KeyError(\"Circuit json not correct, requiered keys must be: 'instructions', 'num_qubits', 'num_clbits', 'quantum_resgisters' and 'classical_registers'.\")\n",
    "    else:\n",
    "        raise TypeError(\"Circuit must be <class 'qiskit.circuit.quantumcircuit.QuantumCircuit'> or dict.\")\n",
    "    \n",
    "\n",
    "    # Limpio bien el diccionario de configuración para generar el target apropiado\n",
    "\n",
    "    if isinstance(backend, Backend):\n",
    "        configuration = backend.__dict__\n",
    "    else:\n",
    "        raise TypeError(\"backend must be <class 'python.backend.Backend'>\")\n",
    "    \n",
    "    \n",
    "    \n",
    "    args = {\n",
    "        \"backend_name\": configuration[\"name\"],\n",
    "        \"backend_version\": configuration[\"version\"],\n",
    "        \"n_qubits\": configuration[\"n_qubits\"],\n",
    "        \"basis_gates\": configuration[\"basis_gates\"],\n",
    "        \"gates\":[],# TODO: comprobar que esto no peta y que funciona adecuadamente\n",
    "        \"local\":False,\n",
    "        \"simulator\":configuration[\"is_simulator\"],\n",
    "        \"conditional\":configuration[\"conditional\"],\n",
    "        \"open_pulse\":False,# TODO: lo ponemos así porque Aer no soporta OpenPulse, habría que modificarlo en caso de usar un backend que lo soporte.\n",
    "        \"memory\":configuration[\"memory\"],\n",
    "        \"max_shots\":configuration[\"max_shots\"],\n",
    "        \"coupling_map\":configuration[\"coupling_map\"]\n",
    "    }\n",
    "\n",
    "    backend_configuration = BackendConfiguration(**args)\n",
    "    \n",
    "    target =  convert_to_target(backend_configuration)\n",
    "    pm = generate_preset_pass_manager(optimization_level = opt_level, target = target)\n",
    "\n",
    "    return pm.run(circuit)"
   ]
  },
  {
   "cell_type": "code",
   "execution_count": 34,
   "id": "e079e633",
   "metadata": {},
   "outputs": [],
   "source": [
    "from qiskit import QuantumCircuit\n",
    "qc = QuantumCircuit(10,10); qc.h(range(10)); qc.cx(0,1);qc.cx(1,2);qc.cx(5,6);qc.cx(8,9)\n",
    "qc.measure(0,0); qc.h(range(10)); qc.cx(4,3);qc.cx(3,8);qc.cx(2,6);qc.cx(0,7);\n",
    "qc.measure(3,3); qc.measure(4,4); qc.h(range(10)); qc.measure_all()"
   ]
  },
  {
   "cell_type": "code",
   "execution_count": 41,
   "id": "b5dbbd86",
   "metadata": {},
   "outputs": [
    {
     "name": "stdout",
     "output_type": "stream",
     "text": [
      "--- Backend configuration ---\n",
      "basis_gates: ['u1', 'u2', 'u3', 'u', 'p', 'r', 'rx', 'ry', 'rz', 'id', 'x', 'y', 'z', 'h', 's', 'sdg', 'sx', 'sxdg', 't', 'tdg', 'swap', 'cx', 'cy', 'cz', 'csx', 'cp', 'cu', 'cu1', 'cu3', 'rxx', 'ryy', 'rzz', 'rzx', 'ccx', 'ccz', 'crx', 'cry', 'crz', 'cswap', 'ecr']\n",
      "conditional: True\n",
      "custom_instructions: \n",
      "description: Usual AER simulator.\n",
      "is_simulator: True\n",
      "max_shots: 10000\n",
      "memory: True\n",
      "n_qubits: 32\n",
      "name: BasicAer\n",
      "simulator: AerSimulator\n",
      "url: https://github.com/Qiskit/qiskit-aer\n",
      "version: 0.0.1\n",
      "coupling_map: []\n"
     ]
    }
   ],
   "source": [
    "from backend import Backend\n",
    "configuration = qpus[0].backend.__dict__\n",
    "configuration['basis_gates'] = ['u1', 'u2', 'u3', 'u', 'p', 'r', 'rx', 'ry', 'rz', 'id', 'x', 'y', 'z', 'h', 's', 'sdg', 'sx', 'sxdg', 't', 'tdg', 'swap', 'cx', 'cy', 'cz', 'csx', 'cp', 'cu', 'cu1', 'cu3', 'rxx', 'ryy', 'rzz', 'rzx', 'ccx', 'ccz', 'crx', 'cry', 'crz', 'cswap','ecr']\n",
    "configuration['coupling_map'] =[]\n",
    "backend = Backend(configuration)\n",
    "backend.info()"
   ]
  },
  {
   "cell_type": "code",
   "execution_count": 42,
   "id": "5c7b2c09",
   "metadata": {},
   "outputs": [
    {
     "name": "stdout",
     "output_type": "stream",
     "text": [
      "         ┌───┐          ┌─┐┌───┐                    ┌───┐      ░ ┌─┐         »\n",
      "    q_0: ┤ H ├──■───────┤M├┤ H ├─────────────────■──┤ H ├──────░─┤M├─────────»\n",
      "         ├───┤┌─┴─┐     └╥┘├───┤┌───┐            │  └───┘      ░ └╥┘┌─┐      »\n",
      "    q_1: ┤ H ├┤ X ├──■───╫─┤ H ├┤ H ├────────────┼─────────────░──╫─┤M├──────»\n",
      "         ├───┤└───┘┌─┴─┐ ║ ├───┤└───┘            │  ┌───┐      ░  ║ └╥┘┌─┐   »\n",
      "    q_2: ┤ H ├─────┤ X ├─╫─┤ H ├────────────■────┼──┤ H ├──────░──╫──╫─┤M├───»\n",
      "         ├───┤┌───┐├───┤ ║ └───┘            │    │  └┬─┬┘┌───┐ ░  ║  ║ └╥┘┌─┐»\n",
      "    q_3: ┤ H ├┤ H ├┤ X ├─╫───■──────────────┼────┼───┤M├─┤ H ├─░──╫──╫──╫─┤M├»\n",
      "         ├───┤├───┤└─┬─┘ ║   │   ┌─┐ ┌───┐  │    │   └╥┘ └───┘ ░  ║  ║  ║ └╥┘»\n",
      "    q_4: ┤ H ├┤ H ├──■───╫───┼───┤M├─┤ H ├──┼────┼────╫────────░──╫──╫──╫──╫─»\n",
      "         ├───┤└───┘┌───┐ ║   │   └╥┘ ├───┤  │    │    ║        ░  ║  ║  ║  ║ »\n",
      "    q_5: ┤ H ├──■──┤ H ├─╫───┼────╫──┤ H ├──┼────┼────╫────────░──╫──╫──╫──╫─»\n",
      "         ├───┤┌─┴─┐├───┤ ║   │    ║  └───┘┌─┴─┐  │    ║  ┌───┐ ░  ║  ║  ║  ║ »\n",
      "    q_6: ┤ H ├┤ X ├┤ H ├─╫───┼────╫───────┤ X ├──┼────╫──┤ H ├─░──╫──╫──╫──╫─»\n",
      "         ├───┤├───┤└───┘ ║   │    ║       └───┘┌─┴─┐  ║  ├───┤ ░  ║  ║  ║  ║ »\n",
      "    q_7: ┤ H ├┤ H ├──────╫───┼────╫────────────┤ X ├──╫──┤ H ├─░──╫──╫──╫──╫─»\n",
      "         ├───┤└───┘┌───┐ ║ ┌─┴─┐  ║  ┌───┐     └───┘  ║  └───┘ ░  ║  ║  ║  ║ »\n",
      "    q_8: ┤ H ├──■──┤ H ├─╫─┤ X ├──╫──┤ H ├────────────╫────────░──╫──╫──╫──╫─»\n",
      "         ├───┤┌─┴─┐├───┤ ║ ├───┤  ║  └───┘            ║        ░  ║  ║  ║  ║ »\n",
      "    q_9: ┤ H ├┤ X ├┤ H ├─╫─┤ H ├──╫───────────────────╫────────░──╫──╫──╫──╫─»\n",
      "         └───┘└───┘└───┘ ║ └───┘  ║                   ║        ░  ║  ║  ║  ║ »\n",
      "   c: 10/════════════════╩════════╩═══════════════════╩═══════════╬══╬══╬══╬═»\n",
      "                         0        4                   3           ║  ║  ║  ║ »\n",
      "meas: 10/═════════════════════════════════════════════════════════╩══╩══╩══╩═»\n",
      "                                                                  0  1  2  3 »\n",
      "«                           \n",
      "«    q_0: ──────────────────\n",
      "«                           \n",
      "«    q_1: ──────────────────\n",
      "«                           \n",
      "«    q_2: ──────────────────\n",
      "«                           \n",
      "«    q_3: ──────────────────\n",
      "«         ┌─┐               \n",
      "«    q_4: ┤M├───────────────\n",
      "«         └╥┘┌─┐            \n",
      "«    q_5: ─╫─┤M├────────────\n",
      "«          ║ └╥┘┌─┐         \n",
      "«    q_6: ─╫──╫─┤M├─────────\n",
      "«          ║  ║ └╥┘┌─┐      \n",
      "«    q_7: ─╫──╫──╫─┤M├──────\n",
      "«          ║  ║  ║ └╥┘┌─┐   \n",
      "«    q_8: ─╫──╫──╫──╫─┤M├───\n",
      "«          ║  ║  ║  ║ └╥┘┌─┐\n",
      "«    q_9: ─╫──╫──╫──╫──╫─┤M├\n",
      "«          ║  ║  ║  ║  ║ └╥┘\n",
      "«   c: 10/═╬══╬══╬══╬══╬══╬═\n",
      "«          ║  ║  ║  ║  ║  ║ \n",
      "«meas: 10/═╩══╩══╩══╩══╩══╩═\n",
      "«          4  5  6  7  8  9 \n"
     ]
    }
   ],
   "source": [
    "print(qc)"
   ]
  },
  {
   "cell_type": "code",
   "execution_count": 43,
   "id": "75e06e8c",
   "metadata": {
    "scrolled": false
   },
   "outputs": [
    {
     "name": "stdout",
     "output_type": "stream",
     "text": [
      "2025-01-28 16:10:55 - Pass: ContainsInstruction - 0.00811 (ms)\n",
      "2025-01-28 16:10:55 - Pass: InverseCancellation - 0.40650 (ms)\n",
      "2025-01-28 16:10:55 - Pass: UnitarySynthesis - 0.00620 (ms)\n",
      "2025-01-28 16:10:55 - Pass: HighLevelSynthesis - 0.27490 (ms)\n",
      "2025-01-28 16:10:55 - Pass: BasisTranslator - 0.18740 (ms)\n",
      "2025-01-28 16:10:55 - Pass: Depth - 0.07701 (ms)\n",
      "2025-01-28 16:10:55 - Pass: FixedPoint - 0.00834 (ms)\n",
      "2025-01-28 16:10:55 - Pass: Size - 0.03171 (ms)\n",
      "2025-01-28 16:10:55 - Pass: FixedPoint - 0.00572 (ms)\n",
      "2025-01-28 16:10:55 - Pass: Optimize1qGatesDecomposition - 0.76842 (ms)\n",
      "2025-01-28 16:10:55 - Pass: InverseCancellation - 0.17333 (ms)\n",
      "2025-01-28 16:10:55 - Pass: GatesInBasis - 0.14281 (ms)\n",
      "2025-01-28 16:10:55 - Pass: Depth - 0.06247 (ms)\n",
      "2025-01-28 16:10:55 - Pass: FixedPoint - 0.00596 (ms)\n",
      "2025-01-28 16:10:55 - Pass: Size - 0.02956 (ms)\n",
      "2025-01-28 16:10:55 - Pass: FixedPoint - 0.00501 (ms)\n",
      "2025-01-28 16:10:55 - Pass: ContainsInstruction - 0.00620 (ms)\n"
     ]
    },
    {
     "name": "stderr",
     "output_type": "stream",
     "text": [
      "/scratch/96406/ipykernel_3641570/4001562844.py:1: DeprecationWarning: The class ``qiskit.providers.models.backendconfiguration.BackendConfiguration`` is deprecated as of qiskit 1.2. It will be removed in the 2.0 release. The models in ``qiskit.providers.models`` are part of the deprecated `BackendV1` workflow and no longer necessary for `BackendV2`. If a user workflow requires these representations it likely relies on deprecated functionality and should be updated to use `BackendV2`.\n",
      "  qct = transpiler( qc, backend )\n"
     ]
    }
   ],
   "source": [
    "qct = transpiler( qc, backend )"
   ]
  },
  {
   "cell_type": "code",
   "execution_count": 40,
   "id": "19d30b52",
   "metadata": {},
   "outputs": [
    {
     "name": "stdout",
     "output_type": "stream",
     "text": [
      "         ┌───┐               ┌─┐┌───┐          ┌───┐      ░ ┌─┐               »\n",
      "    q_0: ┤ H ├──■────────────┤M├┤ H ├───────■──┤ H ├──────░─┤M├───────────────»\n",
      "         ├───┤┌─┴─┐          └╥┘└───┘       │  └───┘      ░ └╥┘┌─┐            »\n",
      "    q_1: ┤ H ├┤ X ├──■────────╫─────────────┼─────────────░──╫─┤M├────────────»\n",
      "         ├───┤└───┘┌─┴─┐┌───┐ ║             │  ┌───┐      ░  ║ └╥┘┌─┐         »\n",
      "    q_2: ┤ H ├─────┤ X ├┤ H ├─╫────────■────┼──┤ H ├──────░──╫──╫─┤M├─────────»\n",
      "         ├───┤     └───┘└───┘ ║        │    │  └┬─┬┘┌───┐ ░  ║  ║ └╥┘┌─┐      »\n",
      "    q_3: ┤ X ├────────────────╫───■────┼────┼───┤M├─┤ H ├─░──╫──╫──╫─┤M├──────»\n",
      "         └─┬─┘      ┌─┐ ┌───┐ ║   │    │    │   └╥┘ └───┘ ░  ║  ║  ║ └╥┘┌─┐   »\n",
      "    q_4: ──■────────┤M├─┤ H ├─╫───┼────┼────┼────╫────────░──╫──╫──╫──╫─┤M├───»\n",
      "         ┌───┐      └╥┘ └───┘ ║   │    │    │    ║        ░  ║  ║  ║  ║ └╥┘┌─┐»\n",
      "    q_5: ┤ H ├──■────╫────────╫───┼────┼────┼────╫────────░──╫──╫──╫──╫──╫─┤M├»\n",
      "         ├───┤┌─┴─┐  ║  ┌───┐ ║   │  ┌─┴─┐  │    ║  ┌───┐ ░  ║  ║  ║  ║  ║ └╥┘»\n",
      "    q_6: ┤ H ├┤ X ├──╫──┤ H ├─╫───┼──┤ X ├──┼────╫──┤ H ├─░──╫──╫──╫──╫──╫──╫─»\n",
      "         └───┘└───┘  ║  └───┘ ║   │  └───┘┌─┴─┐  ║  ├───┤ ░  ║  ║  ║  ║  ║  ║ »\n",
      "    q_7: ────────────╫────────╫───┼───────┤ X ├──╫──┤ H ├─░──╫──╫──╫──╫──╫──╫─»\n",
      "         ┌───┐       ║  ┌───┐ ║ ┌─┴─┐┌───┐└───┘  ║  └───┘ ░  ║  ║  ║  ║  ║  ║ »\n",
      "    q_8: ┤ H ├──■────╫──┤ H ├─╫─┤ X ├┤ H ├───────╫────────░──╫──╫──╫──╫──╫──╫─»\n",
      "         ├───┤┌─┴─┐  ║  └───┘ ║ └───┘└───┘       ║        ░  ║  ║  ║  ║  ║  ║ »\n",
      "    q_9: ┤ H ├┤ X ├──╫────────╫──────────────────╫────────░──╫──╫──╫──╫──╫──╫─»\n",
      "         └───┘└───┘  ║        ║                  ║        ░  ║  ║  ║  ║  ║  ║ »\n",
      "   c: 10/════════════╩════════╩══════════════════╩═══════════╬══╬══╬══╬══╬══╬═»\n",
      "                     4        0                  3           ║  ║  ║  ║  ║  ║ »\n",
      "meas: 10/════════════════════════════════════════════════════╩══╩══╩══╩══╩══╩═»\n",
      "                                                             0  1  2  3  4  5 »\n",
      "«                     \n",
      "«    q_0: ────────────\n",
      "«                     \n",
      "«    q_1: ────────────\n",
      "«                     \n",
      "«    q_2: ────────────\n",
      "«                     \n",
      "«    q_3: ────────────\n",
      "«                     \n",
      "«    q_4: ────────────\n",
      "«                     \n",
      "«    q_5: ────────────\n",
      "«         ┌─┐         \n",
      "«    q_6: ┤M├─────────\n",
      "«         └╥┘┌─┐      \n",
      "«    q_7: ─╫─┤M├──────\n",
      "«          ║ └╥┘┌─┐   \n",
      "«    q_8: ─╫──╫─┤M├───\n",
      "«          ║  ║ └╥┘┌─┐\n",
      "«    q_9: ─╫──╫──╫─┤M├\n",
      "«          ║  ║  ║ └╥┘\n",
      "«   c: 10/═╬══╬══╬══╬═\n",
      "«          ║  ║  ║  ║ \n",
      "«meas: 10/═╩══╩══╩══╩═\n",
      "«          6  7  8  9 \n"
     ]
    }
   ],
   "source": [
    "print(qct)"
   ]
  },
  {
   "cell_type": "code",
   "execution_count": 12,
   "id": "2ec1b874",
   "metadata": {},
   "outputs": [],
   "source": [
    "from qiskit import QuantumCircuit"
   ]
  },
  {
   "cell_type": "code",
   "execution_count": 13,
   "id": "84d72f05",
   "metadata": {},
   "outputs": [],
   "source": [
    "qc = QuantumCircuit(2); qc.h(0); qc.cx(0,1); qc.measure_all()"
   ]
  },
  {
   "cell_type": "code",
   "execution_count": 14,
   "id": "b35620aa",
   "metadata": {},
   "outputs": [
    {
     "data": {
      "text/plain": [
       "[<qpu.QPU at 0x1475f97faca0>, <qpu.QPU at 0x1475f97d9220>]"
      ]
     },
     "execution_count": 14,
     "metadata": {},
     "output_type": "execute_result"
    }
   ],
   "source": [
    "qpus"
   ]
  },
  {
   "cell_type": "code",
   "execution_count": 15,
   "id": "5b777f84",
   "metadata": {},
   "outputs": [
    {
     "name": "stdout",
     "output_type": "stream",
     "text": [
      "2025-01-29 13:06:51 - Pass: ContainsInstruction - 0.00811 (ms)\n",
      "2025-01-29 13:06:51 - Pass: InverseCancellation - 0.02241 (ms)\n",
      "2025-01-29 13:06:51 - Pass: UnitarySynthesis - 0.00596 (ms)\n",
      "2025-01-29 13:06:51 - Pass: HighLevelSynthesis - 0.08106 (ms)\n",
      "2025-01-29 13:06:51 - Pass: BasisTranslator - 0.05198 (ms)\n",
      "2025-01-29 13:06:51 - Pass: Depth - 0.03481 (ms)\n",
      "2025-01-29 13:06:51 - Pass: FixedPoint - 0.00834 (ms)\n",
      "2025-01-29 13:06:51 - Pass: Size - 0.01717 (ms)\n",
      "2025-01-29 13:06:51 - Pass: FixedPoint - 0.00596 (ms)\n",
      "2025-01-29 13:06:51 - Pass: Optimize1qGatesDecomposition - 0.14067 (ms)\n",
      "2025-01-29 13:06:51 - Pass: InverseCancellation - 0.01383 (ms)\n",
      "2025-01-29 13:06:51 - Pass: GatesInBasis - 0.03505 (ms)\n",
      "2025-01-29 13:06:51 - Pass: Depth - 0.02432 (ms)\n",
      "2025-01-29 13:06:51 - Pass: FixedPoint - 0.00620 (ms)\n",
      "2025-01-29 13:06:51 - Pass: Size - 0.01359 (ms)\n",
      "2025-01-29 13:06:51 - Pass: FixedPoint - 0.00501 (ms)\n",
      "2025-01-29 13:06:51 - Pass: ContainsInstruction - 0.00644 (ms)\n",
      "/mnt/netapp1/Store_CESGA/home/cesga/mlosada/api/api-simulator/src/comm/strategies/asio/asio_client.hpp:91\n",
      "\terror: Error receiveing the circuit: Interrupted system call  178280ms\n"
     ]
    },
    {
     "ename": "KeyboardInterrupt",
     "evalue": "",
     "output_type": "error",
     "traceback": [
      "\u001b[0;31m---------------------------------------------------------------------------\u001b[0m",
      "\u001b[0;31mKeyboardInterrupt\u001b[0m                         Traceback (most recent call last)",
      "\u001b[0;32m/scratch/96995/ipykernel_3999173/1324039326.py\u001b[0m in \u001b[0;36m<module>\u001b[0;34m\u001b[0m\n\u001b[0;32m----> 1\u001b[0;31m \u001b[0mresult\u001b[0m \u001b[0;34m=\u001b[0m \u001b[0mqpus\u001b[0m\u001b[0;34m[\u001b[0m\u001b[0;36m0\u001b[0m\u001b[0;34m]\u001b[0m\u001b[0;34m.\u001b[0m\u001b[0mrun\u001b[0m\u001b[0;34m(\u001b[0m\u001b[0mqc\u001b[0m\u001b[0;34m,\u001b[0m \u001b[0mshots\u001b[0m \u001b[0;34m=\u001b[0m \u001b[0;36m4000\u001b[0m\u001b[0;34m,\u001b[0m \u001b[0mtranspile\u001b[0m \u001b[0;34m=\u001b[0m \u001b[0;32mTrue\u001b[0m\u001b[0;34m)\u001b[0m\u001b[0;34m.\u001b[0m\u001b[0mresult\u001b[0m\u001b[0;34m(\u001b[0m\u001b[0;34m)\u001b[0m\u001b[0;34m\u001b[0m\u001b[0;34m\u001b[0m\u001b[0m\n\u001b[0m",
      "\u001b[0;32m/mnt/netapp1/Store_CESGA/home/cesga/mlosada/api/api-simulator/python/qjob.py\u001b[0m in \u001b[0;36mresult\u001b[0;34m(self)\u001b[0m\n\u001b[1;32m    133\u001b[0m         \u001b[0;32mif\u001b[0m \u001b[0mself\u001b[0m\u001b[0;34m.\u001b[0m\u001b[0m_future\u001b[0m \u001b[0;32mis\u001b[0m \u001b[0;32mnot\u001b[0m \u001b[0;32mNone\u001b[0m \u001b[0;32mand\u001b[0m \u001b[0mself\u001b[0m\u001b[0;34m.\u001b[0m\u001b[0m_future\u001b[0m\u001b[0;34m.\u001b[0m\u001b[0mvalid\u001b[0m\u001b[0;34m(\u001b[0m\u001b[0;34m)\u001b[0m\u001b[0;34m:\u001b[0m\u001b[0;34m\u001b[0m\u001b[0;34m\u001b[0m\u001b[0m\n\u001b[1;32m    134\u001b[0m             \u001b[0;32mif\u001b[0m \u001b[0mself\u001b[0m\u001b[0;34m.\u001b[0m\u001b[0m_result\u001b[0m \u001b[0;32mis\u001b[0m \u001b[0;32mNone\u001b[0m\u001b[0;34m:\u001b[0m\u001b[0;34m\u001b[0m\u001b[0;34m\u001b[0m\u001b[0m\n\u001b[0;32m--> 135\u001b[0;31m                 \u001b[0mself\u001b[0m\u001b[0;34m.\u001b[0m\u001b[0m_result\u001b[0m \u001b[0;34m=\u001b[0m \u001b[0mResult\u001b[0m\u001b[0;34m(\u001b[0m\u001b[0mjson\u001b[0m\u001b[0;34m.\u001b[0m\u001b[0mloads\u001b[0m\u001b[0;34m(\u001b[0m\u001b[0mself\u001b[0m\u001b[0;34m.\u001b[0m\u001b[0m_future\u001b[0m\u001b[0;34m.\u001b[0m\u001b[0mget\u001b[0m\u001b[0;34m(\u001b[0m\u001b[0;34m)\u001b[0m\u001b[0;34m)\u001b[0m\u001b[0;34m,\u001b[0m \u001b[0mregisters\u001b[0m\u001b[0;34m=\u001b[0m\u001b[0mself\u001b[0m\u001b[0;34m.\u001b[0m\u001b[0m_circuit\u001b[0m\u001b[0;34m[\u001b[0m\u001b[0;34m'classical_registers'\u001b[0m\u001b[0;34m]\u001b[0m\u001b[0;34m)\u001b[0m\u001b[0;34m\u001b[0m\u001b[0;34m\u001b[0m\u001b[0m\n\u001b[0m\u001b[1;32m    136\u001b[0m                 \u001b[0;31m#self._result = json.loads(self._future.get())\u001b[0m\u001b[0;34m\u001b[0m\u001b[0;34m\u001b[0m\u001b[0m\n\u001b[1;32m    137\u001b[0m             \u001b[0;32mreturn\u001b[0m \u001b[0mself\u001b[0m\u001b[0;34m.\u001b[0m\u001b[0m_result\u001b[0m\u001b[0;34m\u001b[0m\u001b[0;34m\u001b[0m\u001b[0m\n",
      "\u001b[0;31mKeyboardInterrupt\u001b[0m: "
     ]
    }
   ],
   "source": [
    "result = qpus[0].run(qc, shots = 4000, transpile = True).result()"
   ]
  },
  {
   "cell_type": "code",
   "execution_count": null,
   "id": "d45bea24",
   "metadata": {},
   "outputs": [],
   "source": []
  },
  {
   "cell_type": "code",
   "execution_count": null,
   "id": "4f80237d",
   "metadata": {},
   "outputs": [],
   "source": []
  },
  {
   "cell_type": "code",
   "execution_count": null,
   "id": "288a9019",
   "metadata": {},
   "outputs": [],
   "source": []
  },
  {
   "cell_type": "code",
   "execution_count": null,
   "id": "c3aa02e3",
   "metadata": {},
   "outputs": [],
   "source": []
  },
  {
   "cell_type": "code",
   "execution_count": null,
   "id": "610d4515",
   "metadata": {},
   "outputs": [],
   "source": []
  },
  {
   "cell_type": "code",
   "execution_count": null,
   "id": "88f53d8f",
   "metadata": {},
   "outputs": [],
   "source": []
  }
 ],
 "metadata": {
  "kernelspec": {
   "display_name": "Python 3 (ipykernel)",
   "language": "python",
   "name": "python3"
  },
  "language_info": {
   "codemirror_mode": {
    "name": "ipython",
    "version": 3
   },
   "file_extension": ".py",
   "mimetype": "text/x-python",
   "name": "python",
   "nbconvert_exporter": "python",
   "pygments_lexer": "ipython3",
   "version": "3.9.9"
  }
 },
 "nbformat": 4,
 "nbformat_minor": 5
}
