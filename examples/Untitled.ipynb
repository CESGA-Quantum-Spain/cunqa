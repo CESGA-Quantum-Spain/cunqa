{
 "cells": [
  {
   "cell_type": "code",
   "execution_count": 2,
   "id": "6415aa46-a7c4-4067-b82d-3c48f9b63e84",
   "metadata": {},
   "outputs": [],
   "source": [
    "!export INSTALL_PATH=/mnt/netapp1/Store_CESGA/home/cesga/mlosada/api-simulator/installation"
   ]
  },
  {
   "cell_type": "code",
   "execution_count": 5,
   "id": "c29a7c38-8666-41cb-9128-586ad2bf41b0",
   "metadata": {},
   "outputs": [
    {
     "data": {
      "text/plain": [
       "[None,\n",
       " None,\n",
       " None,\n",
       " '/mnt/netapp1/Store_CESGA/home/cesga/mlosada/conda/envs/dask-simulator/lib/python311.zip',\n",
       " '/mnt/netapp1/Store_CESGA/home/cesga/mlosada/conda/envs/dask-simulator/lib/python3.11',\n",
       " '/mnt/netapp1/Store_CESGA/home/cesga/mlosada/conda/envs/dask-simulator/lib/python3.11/lib-dynload',\n",
       " '',\n",
       " '/mnt/netapp1/Store_CESGA/home/cesga/mlosada/conda/envs/dask-simulator/lib/python3.11/site-packages',\n",
       " '/mnt/netapp1/Store_CESGA/home/cesga/mlosada/conda/envs/dask-simulator/lib/python3.11/site-packages/setuptools/_vendor']"
      ]
     },
     "execution_count": 5,
     "metadata": {},
     "output_type": "execute_result"
    }
   ],
   "source": [
    "sys.path"
   ]
  },
  {
   "cell_type": "code",
   "execution_count": 4,
   "id": "8b33ef33-6eea-49c3-8548-562bc3d71175",
   "metadata": {},
   "outputs": [
    {
     "name": "stdout",
     "output_type": "stream",
     "text": [
      "/mnt/netapp1/Store_CESGA/home/cesga/mlosada/api-simulator/installation\n"
     ]
    }
   ],
   "source": [
    "import os\n",
    "import sys\n",
    "\n",
    "install_path = os.getenv(\"INSTALL_PATH\")\n",
    "sys.path.insert(0, install_path)\n",
    "install_path = \"/mnt/netapp1/Store_CESGA/home/cesga/mlosada/api-simulator/installation\"\n",
    "print(install_path)"
   ]
  },
  {
   "cell_type": "code",
   "execution_count": 2,
   "id": "c1f5091d-ee85-41cc-aed8-1e49164eb443",
   "metadata": {},
   "outputs": [
    {
     "ename": "ModuleNotFoundError",
     "evalue": "No module named 'python'",
     "output_type": "error",
     "traceback": [
      "\u001b[0;31m---------------------------------------------------------------------------\u001b[0m",
      "\u001b[0;31mModuleNotFoundError\u001b[0m                       Traceback (most recent call last)",
      "Cell \u001b[0;32mIn[2], line 1\u001b[0m\n\u001b[0;32m----> 1\u001b[0m \u001b[38;5;28;01mfrom\u001b[39;00m \u001b[38;5;21;01mpython\u001b[39;00m\u001b[38;5;21;01m.\u001b[39;00m\u001b[38;5;21;01mclient\u001b[39;00m \u001b[38;5;28;01mimport\u001b[39;00m Client\n\u001b[1;32m      2\u001b[0m \u001b[38;5;28;01mfrom\u001b[39;00m \u001b[38;5;21;01mpython\u001b[39;00m\u001b[38;5;21;01m.\u001b[39;00m\u001b[38;5;21;01mcluster\u001b[39;00m \u001b[38;5;28;01mimport\u001b[39;00m QPU\n",
      "\u001b[0;31mModuleNotFoundError\u001b[0m: No module named 'python'"
     ]
    }
   ],
   "source": [
    "from python.client import Client\n",
    "from python.cluster import QPU"
   ]
  },
  {
   "cell_type": "code",
   "execution_count": null,
   "id": "111c24cf-74ea-45ad-aaa5-135594da1899",
   "metadata": {},
   "outputs": [],
   "source": []
  }
 ],
 "metadata": {
  "kernelspec": {
   "display_name": "dask-simulator",
   "language": "python",
   "name": "dask-simulator"
  },
  "language_info": {
   "codemirror_mode": {
    "name": "ipython",
    "version": 3
   },
   "file_extension": ".py",
   "mimetype": "text/x-python",
   "name": "python",
   "nbconvert_exporter": "python",
   "pygments_lexer": "ipython3",
   "version": "3.11.10"
  }
 },
 "nbformat": 4,
 "nbformat_minor": 5
}
