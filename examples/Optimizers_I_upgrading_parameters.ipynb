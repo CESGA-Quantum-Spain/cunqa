{
 "cells": [
  {
   "cell_type": "code",
   "execution_count": 1,
   "id": "c532632a",
   "metadata": {},
   "outputs": [],
   "source": [
    "import os, sys\n",
    "\n",
    "# path to access c++ files\n",
    "installation_path = os.getenv(\"INSTALL_PATH\")\n",
    "sys.path.append(installation_path)"
   ]
  },
  {
   "cell_type": "code",
   "execution_count": 2,
   "id": "c2d0c54e",
   "metadata": {},
   "outputs": [
    {
     "name": "stdout",
     "output_type": "stream",
     "text": [
      "QPU 0, backend: BasicAer, simulator: AerSimulator, version: 0.0.1.\n",
      "QPU 1, backend: BasicAer, simulator: AerSimulator, version: 0.0.1.\n",
      "QPU 2, backend: BasicAer, simulator: AerSimulator, version: 0.0.1.\n",
      "QPU 3, backend: BasicAer, simulator: AerSimulator, version: 0.0.1.\n",
      "QPU 4, backend: BasicAer, simulator: AerSimulator, version: 0.0.1.\n",
      "QPU 5, backend: BasicAer, simulator: AerSimulator, version: 0.0.1.\n",
      "QPU 6, backend: BasicAer, simulator: AerSimulator, version: 0.0.1.\n",
      "QPU 7, backend: BasicAer, simulator: AerSimulator, version: 0.0.1.\n",
      "QPU 8, backend: BasicAer, simulator: AerSimulator, version: 0.0.1.\n",
      "QPU 9, backend: BasicAer, simulator: AerSimulator, version: 0.0.1.\n"
     ]
    }
   ],
   "source": [
    "from cunqa.qpu import getQPUs\n",
    "\n",
    "qpus  = getQPUs()\n",
    "\n",
    "for q in qpus:\n",
    "    print(f\"QPU {q.id}, backend: {q.backend.name}, simulator: {q.backend.simulator}, version: {q.backend.version}.\")\n"
   ]
  },
  {
   "cell_type": "markdown",
   "id": "5db7e8c6",
   "metadata": {},
   "source": [
    "# Examples for optimizations"
   ]
  },
  {
   "cell_type": "markdown",
   "id": "4faa81e1",
   "metadata": {},
   "source": [
    "Before sending a circuit to the QClient, a transpilation process occurs (if not, it is done by the user). This process, in some cases, can take much time and resources, as well as sending it. If we were to execute a single circuit, it shouldn´t be a big problem, but it is when it comes to variational algorithms.\n",
    "\n",
    "This quantum-classical algorithms require several executions of the same circuit but changing the value of the parameters, which are optimized in the classical part. In order to optimize this, we developed a functionallity that allows the user to upgrade the circuit parameters with no extra transpilations of the circuit, sending to the `QClient` the list of the parameters **ONLY**. This is of much advantage to speed up the computation in the cases in which transpilation takes a significant part of the total time of the simulation.\n",
    "\n",
    "Let´s see how to work with tis feature taking as an example a _Variational Quantum Algorithm_ for state preparation.\n",
    "\n",
    "We start from a _Hardware Efficient Ansatz_ to build our parametrized circuit:"
   ]
  },
  {
   "cell_type": "code",
   "execution_count": 3,
   "id": "b0a68703",
   "metadata": {},
   "outputs": [],
   "source": [
    "from qiskit import QuantumCircuit\n",
    "from qiskit.circuit import Parameter\n",
    "\n",
    "def hardware_efficient_ansatz(num_qubits, num_layers):\n",
    "    qc = QuantumCircuit(num_qubits)\n",
    "    param_idx = 0\n",
    "    for _ in range(num_layers):\n",
    "        for qubit in range(num_qubits):\n",
    "            phi = Parameter(f'phi_{param_idx}_{qubit}')\n",
    "            lam = Parameter(f'lam_{param_idx}_{qubit}')\n",
    "            qc.ry(phi, qubit)\n",
    "            qc.rz(lam, qubit)\n",
    "        param_idx += 1\n",
    "        for qubit in range(num_qubits - 1):\n",
    "            qc.cx(qubit, qubit + 1)\n",
    "    qc.measure_all()\n",
    "    return qc"
   ]
  },
  {
   "cell_type": "markdown",
   "id": "6b9f1aa6",
   "metadata": {},
   "source": [
    "The we need a cost function. We will define a target distribution and measure how far we are from it. We choose to prepare a normal distribution among all the $2^n$ possible outcomes of the circuit."
   ]
  },
  {
   "cell_type": "code",
   "execution_count": 4,
   "id": "4e4b9c38",
   "metadata": {},
   "outputs": [],
   "source": [
    "def target_distribution(num_qubits):\n",
    "    # Define a normal distribution over the states\n",
    "    num_states = 2 ** num_qubits\n",
    "    states = np.arange(num_states)\n",
    "    mean = num_states / 2\n",
    "    std_dev = num_states / 4\n",
    "    target_probs = norm.pdf(states, mean, std_dev)\n",
    "    target_probs /= target_probs.sum()  # Normalize to make it a valid probability distribution\n",
    "    target_dist = {format(i, f'0{num_qubits}b'): target_probs[i] for i in range(num_states)}\n",
    "    return target_dist\n",
    "\n",
    "import pandas as pd\n",
    "from scipy.stats import entropy, norm\n",
    "\n",
    "def KL_divergence(counts, n_shots, target_dist):\n",
    "    # Convert counts to probabilities\n",
    "    pdf = pd.DataFrame.from_dict(counts, orient=\"index\").reset_index()\n",
    "    pdf.rename(columns={\"index\": \"state\", 0: \"counts\"}, inplace=True)\n",
    "    pdf[\"probability\"] = pdf[\"counts\"] / n_shots\n",
    "    \n",
    "    # Create a dictionary for the obtained distribution\n",
    "    obtained_dist = pdf.set_index(\"state\")[\"probability\"].to_dict()\n",
    "    \n",
    "    # Ensure all states are present in the obtained distribution\n",
    "    for state in target_dist:\n",
    "        if state not in obtained_dist:\n",
    "            obtained_dist[state] = 0.0\n",
    "    \n",
    "    # Convert distributions to lists for KL divergence calculation\n",
    "    target_probs = [target_dist[state] for state in sorted(target_dist)]\n",
    "    obtained_probs = [obtained_dist[state] for state in sorted(obtained_dist)]\n",
    "    \n",
    "    # Calculate KL divergence\n",
    "    kl_divergence = entropy(obtained_probs, target_probs)\n",
    "    \n",
    "    return kl_divergence\n",
    "    "
   ]
  },
  {
   "cell_type": "code",
   "execution_count": 5,
   "id": "c74e1438",
   "metadata": {},
   "outputs": [],
   "source": [
    "num_qubits = 6\n",
    "\n",
    "num_layers = 3\n",
    "\n",
    "n_shots = 1e5"
   ]
  },
  {
   "cell_type": "markdown",
   "id": "d23f13db",
   "metadata": {},
   "source": [
    "### Simply using the `QPU.run()` method"
   ]
  },
  {
   "cell_type": "markdown",
   "id": "fa26a3eb",
   "metadata": {},
   "source": [
    "At first we should try the intiutive alternative: upgrading parameters at the QClient, transpiling and sending the whole circuit to the QPU."
   ]
  },
  {
   "cell_type": "code",
   "execution_count": 6,
   "id": "5398907b",
   "metadata": {},
   "outputs": [],
   "source": [
    "def cost_function_run(params):\n",
    "    n_shots = 1e5\n",
    "    target_dist = target_distribution(num_qubits)\n",
    "    \n",
    "    circuit = ansatz.assign_parameters(params)\n",
    "    \n",
    "    result = qpu.run(circuit, transpile = True, opt_level = 0, shots = n_shots).result()\n",
    "    \n",
    "    counts = result.get_counts()\n",
    "    \n",
    "    return KL_divergence(counts, n_shots, target_dist)"
   ]
  },
  {
   "cell_type": "markdown",
   "id": "d3ec8a31",
   "metadata": {},
   "source": [
    "Our cost function updates the parameters given by the optimizer, asigns them to the ansatz and sends the circuit with the transpilation option set `True`. Let´s choose a QPU to work with and go ahead with the optimization:"
   ]
  },
  {
   "cell_type": "code",
   "execution_count": 7,
   "id": "6e2d80b8",
   "metadata": {},
   "outputs": [],
   "source": [
    "import numpy as np\n",
    "import time\n",
    "\n",
    "qpu = qpus[0]"
   ]
  },
  {
   "cell_type": "code",
   "execution_count": 8,
   "id": "052a5b83",
   "metadata": {
    "scrolled": true
   },
   "outputs": [
    {
     "name": "stdout",
     "output_type": "stream",
     "text": [
      "Iteration step 0: f(x) = 5.644885693319627\n",
      "Iteration step 20: f(x) = 3.2445195698171907\n",
      "Iteration step 40: f(x) = 0.6966290427761286\n",
      "Iteration step 60: f(x) = 0.5163598407043049\n",
      "Iteration step 80: f(x) = 0.44852083459660524\n",
      "Iteration step 100: f(x) = 0.38505451594736056\n",
      "Iteration step 120: f(x) = 0.17479915421919842\n",
      "Iteration step 140: f(x) = 0.1511853513109766\n",
      "Iteration step 160: f(x) = 0.13348275797727643\n",
      "Iteration step 180: f(x) = 0.10655229536961043\n",
      "Iteration step 200: f(x) = 0.09665262208743264\n",
      "Iteration step 220: f(x) = 0.08685229191509575\n",
      "Iteration step 240: f(x) = 0.07063672945028901\n",
      "Iteration step 260: f(x) = 0.06960771799104383\n",
      "Iteration step 280: f(x) = 0.05133451615697748\n",
      "Iteration step 300: f(x) = 0.04894541923002281\n",
      "Iteration step 320: f(x) = 0.047534190262688444\n",
      "Iteration step 340: f(x) = 0.04147522113315963\n",
      "Iteration step 360: f(x) = 0.03886220975496431\n",
      "Iteration step 380: f(x) = 0.038294459274605\n",
      "Iteration step 400: f(x) = 0.03575838785538424\n",
      "Iteration step 420: f(x) = 0.03518060106143858\n",
      "Iteration step 440: f(x) = 0.03522244021332664\n",
      "Iteration step 460: f(x) = 0.0346968916379928\n",
      "Iteration step 480: f(x) = 0.03356759746761495\n",
      "Iteration step 500: f(x) = 0.03344529632683385\n",
      "Iteration step 520: f(x) = 0.032948034313525436\n",
      "Iteration step 540: f(x) = 0.033057154643978424\n",
      "Iteration step 560: f(x) = 0.032266024176034025\n",
      "Iteration step 580: f(x) = 0.0326255186289507\n",
      "\n",
      "   Normal return from subroutine COBYLA\n",
      "\n",
      "   NFVALS =  596   F = 3.245562E-02    MAXCV = 0.000000E+00\n",
      "   X = 7.910117E-02  -3.210374E-01   7.780850E-01   5.264527E-01   7.066272E-01\n",
      "       1.338628E-01   3.144190E-01   9.073915E-02   4.992880E-01  -1.227891E-01\n",
      "       4.104913E-01   6.758425E-01   4.612213E-01   7.394781E-03   4.839659E-01\n",
      "      -1.625796E-01   1.504073E-01  -1.268537E+00   4.966998E-01   3.346681E-01\n",
      "       7.779850E-01   5.838258E-01   1.022564E+00   6.804922E-01   1.396909E+00\n",
      "      -1.658028E-01   1.131682E+00  -3.838892E-01   9.934762E-01  -9.246990E-02\n",
      "      -4.056561E-01   1.396216E+00   1.818971E-01   1.736490E+00  -3.436586E-01\n",
      "       1.588347E+00\n",
      "\n",
      "Total optimization time:  131.18688201904297  s\n",
      "\n"
     ]
    }
   ],
   "source": [
    "ansatz = hardware_efficient_ansatz(num_qubits, num_layers)\n",
    "\n",
    "num_parameters = ansatz.num_parameters\n",
    "\n",
    "initial_parameters = np.zeros(num_parameters)\n",
    "\n",
    "from scipy.optimize import minimize\n",
    "\n",
    "i = 0\n",
    "\n",
    "cost_run = []\n",
    "individuals_run = []\n",
    "\n",
    "def callback(xk):\n",
    "    global i\n",
    "    e = cost_function_run(xk)\n",
    "    individuals_run.append(xk)\n",
    "    cost_run.append(e)\n",
    "    if i%20 == 0:\n",
    "        print(f\"Iteration step {i}: f(x) = {e}\")\n",
    "    i+=1\n",
    "\n",
    "tick = time.time()\n",
    "optimization_result_run = minimize(cost_function_run, initial_parameters, method='COBYLA',\n",
    "        callback=callback, tol = 0.01,\n",
    "        options={\n",
    "        'disp': True,     # Print info at the end\n",
    "        'maxiter': 4000   # Limit the number of iterations\n",
    "    })\n",
    "tack = time.time()\n",
    "time_run = tack-tick\n",
    "print()\n",
    "print(\"Total optimization time: \", time_run, \" s\")\n",
    "print()"
   ]
  },
  {
   "cell_type": "code",
   "execution_count": 9,
   "id": "bcc4cf95",
   "metadata": {},
   "outputs": [],
   "source": [
    "import matplotlib.pyplot as plt\n",
    "plt.clf()\n",
    "plt.plot(np.linspace(0, optimization_result_run.nfev, optimization_result_run.nfev), cost_run, label=\"Optimization path (run())\")\n",
    "upper_bound = optimization_result_run.nfev\n",
    "plt.plot(np.linspace(0, upper_bound, upper_bound), np.zeros(upper_bound), \"--\", label=\"Target cost\")\n",
    "plt.xlabel(\"Step\"); plt.ylabel(\"Cost\"); plt.legend(loc=\"upper right\"); plt.title(f\"n = {num_qubits}, l = {num_layers}, # params = {num_parameters}\")\n",
    "plt.grid(True)\n",
    "plt.show()\n",
    "# plt.savefig(f\"optimization_run_n_{num_qubits}_p_{num_parameters}.png\", dpi=200)"
   ]
  },
  {
   "cell_type": "markdown",
   "id": "bdbc16b7",
   "metadata": {},
   "source": [
    "### Using `QJob.upgrade_parameters()`"
   ]
  },
  {
   "cell_type": "markdown",
   "id": "9113393a",
   "metadata": {},
   "source": [
    "The first step now is to create the `qjob.QJob` object that which parameters we are going to upgrade in each step of the optimization; for that, we must run a circuit with initial parameters in a QPU, the procedure is as we explained above:"
   ]
  },
  {
   "cell_type": "code",
   "execution_count": 10,
   "id": "d44dbc23",
   "metadata": {},
   "outputs": [],
   "source": [
    "ansatz = hardware_efficient_ansatz(num_qubits, num_layers)\n",
    "\n",
    "num_parameters = ansatz.num_parameters\n",
    "\n",
    "initial_parameters = np.zeros(num_parameters)\n",
    "\n",
    "circuit = ansatz.assign_parameters(initial_parameters)\n",
    "\n",
    "qjob = qpu.run(circuit, transpile = True, opt_level = 0, shots = n_shots)"
   ]
  },
  {
   "cell_type": "markdown",
   "id": "e90da639",
   "metadata": {},
   "source": [
    "Now that we have sent to the virtual QPU the transpiled circuit, we can use the method `qjob.QJob.upgrade_parameters()` to change the rotations of the gates:"
   ]
  },
  {
   "cell_type": "code",
   "execution_count": 11,
   "id": "ec54866c",
   "metadata": {
    "scrolled": false
   },
   "outputs": [
    {
     "name": "stdout",
     "output_type": "stream",
     "text": [
      "Result with initial_parameters: \n",
      "{'000000': 100000}\n",
      "\n",
      "Result with random_parameters: \n",
      "{'000000': 2606, '000001': 317, '010000': 1038, '010001': 3268, '010010': 356, '010011': 1645, '010100': 1907, '010101': 563, '010110': 173, '010111': 840, '011000': 1605, '011001': 1186, '011010': 1370, '011011': 1464, '011100': 2423, '011101': 577, '011110': 1224, '011111': 482, '000010': 1403, '100000': 969, '100001': 1182, '100010': 840, '100011': 1297, '100100': 2703, '100101': 960, '100110': 866, '100111': 647, '101000': 1514, '101001': 309, '101010': 878, '101011': 909, '101100': 2031, '101101': 1572, '101110': 1445, '101111': 526, '000011': 542, '110000': 1512, '110001': 116, '110010': 508, '110011': 27, '110100': 15141, '110101': 3270, '110110': 2260, '110111': 368, '111000': 1029, '111001': 491, '111010': 1060, '111011': 1891, '111100': 1271, '111101': 1274, '111110': 615, '111111': 1750, '000100': 3493, '000101': 414, '000110': 162, '000111': 1022, '001000': 774, '001001': 1953, '001010': 5802, '001011': 8195, '001100': 71, '001101': 838, '001110': 32, '001111': 1024}\n"
     ]
    }
   ],
   "source": [
    "print(\"Result with initial_parameters: \")\n",
    "print(qjob.result().get_counts())\n",
    "\n",
    "random_parameters = np.random.uniform(0, 2 * np.pi, num_parameters).tolist()\n",
    "qjob.upgrade_parameters(random_parameters)\n",
    "\n",
    "print()\n",
    "print(\"Result with random_parameters: \")\n",
    "print(qjob.result().get_counts())"
   ]
  },
  {
   "cell_type": "markdown",
   "id": "ada125fd",
   "metadata": {},
   "source": [
    "**Important considerations:**\n",
    "\n",
    "- The method acepts parameters in a `list`, if you have a `numpy.array`, simply apply `.tolist()` to transform it.\n",
    "\n",
    "- When sending the circuit and setting `transpile=True`, we should be carefull that the transpilation process doesn't condense gates and combine parameters, therefore, if the user wants `cunqa`to transpile, they must set `opt_level=0`.\n",
    "\n",
    "Note that `qjob.QJob.upgrade_parameters()` is a non-blocking call, as it was `qpu.QPU.run()`."
   ]
  },
  {
   "cell_type": "markdown",
   "id": "c2f430de",
   "metadata": {},
   "source": [
    "Now that we are familiar with the procedure, we can design a cost funtion that takes a set of parameters, upgrades the `qjob.QJob`, gets the result and calculates the divergence from the desired distribution:"
   ]
  },
  {
   "cell_type": "code",
   "execution_count": 12,
   "id": "8c416b9b",
   "metadata": {},
   "outputs": [],
   "source": [
    "def cost_function(params):\n",
    "    n_shots = 100000\n",
    "    target_dist = target_distribution(num_qubits)\n",
    "    \n",
    "    result = qjob.upgrade_parameters(params.tolist()).result()\n",
    "    \n",
    "    counts = result.get_counts()\n",
    "    \n",
    "    return KL_divergence(counts, n_shots, target_dist)\n"
   ]
  },
  {
   "cell_type": "markdown",
   "id": "a4f3a056",
   "metadata": {},
   "source": [
    "Now we are ready to start our optimization. We will use `scipy.optimize` to minimize the divergence of our result distribution from the target one:"
   ]
  },
  {
   "cell_type": "code",
   "execution_count": 13,
   "id": "3f9016ca",
   "metadata": {
    "scrolled": true
   },
   "outputs": [
    {
     "name": "stdout",
     "output_type": "stream",
     "text": [
      "Iteration step 0: f(x) = 4.80575155259839\n",
      "Iteration step 10: f(x) = 2.970696095355457\n",
      "Iteration step 20: f(x) = 1.4895029742719816\n",
      "Iteration step 30: f(x) = 0.7682504360329634\n",
      "Iteration step 40: f(x) = 0.6136147280902352\n",
      "Iteration step 50: f(x) = 0.5050298801455128\n",
      "Iteration step 60: f(x) = 0.3703560681052806\n",
      "Iteration step 70: f(x) = 0.43868942898909336\n",
      "Iteration step 80: f(x) = 0.3051056652102781\n",
      "Iteration step 90: f(x) = 0.26874179704963214\n",
      "Iteration step 100: f(x) = 0.24715239735400005\n",
      "Iteration step 110: f(x) = 0.17500395141070046\n",
      "Iteration step 120: f(x) = 0.1483477535655025\n",
      "Iteration step 130: f(x) = 0.17437809546627478\n",
      "Iteration step 140: f(x) = 0.11702749515006744\n",
      "Iteration step 150: f(x) = 0.08776698752871605\n",
      "Iteration step 160: f(x) = 0.0706629978904454\n",
      "Iteration step 170: f(x) = 0.09585863773004602\n",
      "Iteration step 180: f(x) = 0.07846120148530146\n",
      "Iteration step 190: f(x) = 0.0458618420080088\n",
      "Iteration step 200: f(x) = 0.055186400212641415\n",
      "Iteration step 210: f(x) = 0.04172759128503119\n",
      "Iteration step 220: f(x) = 0.05279657840286853\n",
      "Iteration step 230: f(x) = 0.03476654022615311\n",
      "Iteration step 240: f(x) = 0.026778955950644202\n",
      "Iteration step 250: f(x) = 0.020400382786268365\n",
      "Iteration step 260: f(x) = 0.021204144710846567\n",
      "Iteration step 270: f(x) = 0.020085311549680865\n",
      "Iteration step 280: f(x) = 0.021964540881109954\n",
      "Iteration step 290: f(x) = 0.016493747627121354\n",
      "Iteration step 300: f(x) = 0.014952735352087684\n",
      "Iteration step 310: f(x) = 0.014787749401657814\n",
      "Iteration step 320: f(x) = 0.013418040765261666\n",
      "Iteration step 330: f(x) = 0.013332014970635762\n",
      "Iteration step 340: f(x) = 0.012433621528268358\n",
      "Iteration step 350: f(x) = 0.011230677926605277\n",
      "Iteration step 360: f(x) = 0.010832873977548245\n",
      "Iteration step 370: f(x) = 0.010164722933826672\n",
      "Iteration step 380: f(x) = 0.011099739764515029\n",
      "Iteration step 390: f(x) = 0.008681228842612455\n",
      "Iteration step 400: f(x) = 0.008421088964938858\n",
      "Iteration step 410: f(x) = 0.008403438201384433\n",
      "Iteration step 420: f(x) = 0.007483574490042489\n",
      "Iteration step 430: f(x) = 0.0065209605665236805\n",
      "Iteration step 440: f(x) = 0.0064501090300567105\n",
      "Iteration step 450: f(x) = 0.006094918904994842\n",
      "Iteration step 460: f(x) = 0.005740644044439511\n",
      "Iteration step 470: f(x) = 0.005713604626577865\n",
      "Iteration step 480: f(x) = 0.005117364052706765\n",
      "Iteration step 490: f(x) = 0.005144283539395284\n",
      "Iteration step 500: f(x) = 0.005073163033936724\n",
      "Iteration step 510: f(x) = 0.004875155231533442\n",
      "Iteration step 520: f(x) = 0.004906320099812448\n",
      "Iteration step 530: f(x) = 0.004689577176371576\n",
      "Iteration step 540: f(x) = 0.004820926938405982\n",
      "Iteration step 550: f(x) = 0.0041616110769992715\n",
      "Iteration step 560: f(x) = 0.004434021209828585\n",
      "Iteration step 570: f(x) = 0.004471277107115581\n",
      "Iteration step 580: f(x) = 0.004108148776063536\n",
      "Iteration step 590: f(x) = 0.004086194758972364\n",
      "Iteration step 600: f(x) = 0.00411116208216622\n",
      "Iteration step 610: f(x) = 0.004268243866267055\n",
      "\n",
      "   Normal return from subroutine COBYLA\n",
      "\n",
      "   NFVALS =  618   F = 4.226597E-03    MAXCV = 0.000000E+00\n",
      "   X = 1.684973E+00   9.012795E-02   1.639923E-01   9.019255E-01   7.960620E-01\n",
      "      -5.094188E-02   1.570839E+00  -1.266025E-02   8.010646E-01  -6.359646E-01\n",
      "      -1.713548E-01  -2.111624E-02   8.181692E-01   1.102769E+00   1.287653E+00\n",
      "      -1.684530E-01   1.571496E+00  -2.846105E-01   1.509293E+00   1.551161E-02\n",
      "      -4.415954E-01  -1.315775E+00  -5.991323E-01  -1.342417E-01   6.634966E-01\n",
      "       9.339293E-03   5.774127E-01  -1.400322E-02   1.549716E+00   3.764144E-02\n",
      "      -3.001706E-01   2.022832E-01   1.027046E-01   3.729602E-02   2.111347E+00\n",
      "      -8.785274E-02\n",
      "\n",
      "Total optimization time:  130.2023572921753  s\n"
     ]
    }
   ],
   "source": [
    "from scipy.optimize import minimize\n",
    "import time\n",
    "\n",
    "i = 0\n",
    "\n",
    "initial_parameters = np.zeros(num_parameters)\n",
    "\n",
    "cost = []\n",
    "individuals = []\n",
    "\n",
    "def callback(xk):\n",
    "    global i\n",
    "    e = cost_function(xk)\n",
    "    individuals.append(xk)\n",
    "    cost.append(e)\n",
    "    if i%10 == 0:\n",
    "        print(f\"Iteration step {i}: f(x) = {e}\")\n",
    "    i+=1\n",
    "\n",
    "tick = time.time()\n",
    "optimization_result = minimize(cost_function, initial_parameters, method='COBYLA',\n",
    "        callback=callback, tol = 0.01,\n",
    "        options={\n",
    "        'disp': True,     # Print info during iterations\n",
    "        'maxiter': 4000     # Limit the number of iterations\n",
    "    })\n",
    "tack = time.time()\n",
    "time_up = tack-tick\n",
    "print()\n",
    "print(\"Total optimization time: \", time_up, \" s\")"
   ]
  },
  {
   "cell_type": "markdown",
   "id": "82f8a67e",
   "metadata": {},
   "source": [
    "We can plot the evolution of the cost function during the optimization:"
   ]
  },
  {
   "cell_type": "code",
   "execution_count": 14,
   "id": "0f269cf9",
   "metadata": {},
   "outputs": [],
   "source": [
    "import matplotlib.pyplot as plt\n",
    "plt.clf()\n",
    "plt.plot(np.linspace(0, optimization_result.nfev, optimization_result.nfev), cost, label=\"Optimization path (upgrade_params())\")\n",
    "plt.plot(np.linspace(0, optimization_result_run.nfev, optimization_result_run.nfev), cost_run, label=\"Optimization path (run())\")\n",
    "upper_bound = max(optimization_result_run.nfev, optimization_result.nfev)\n",
    "plt.plot(np.linspace(0, upper_bound, upper_bound), np.zeros(upper_bound), \"--\", label=\"Target cost\")\n",
    "plt.xlabel(\"Step\"); plt.ylabel(\"Cost\"); plt.legend(loc=\"upper right\"); plt.title(f\"n = {num_qubits}, l = {num_layers}, # params = {num_parameters}\")\n",
    "plt.grid(True)\n",
    "plt.show()\n",
    "# plt.savefig(f\"optimization_n_{num_qubits}_p_{num_parameters}.png\", dpi=200)"
   ]
  }
 ],
 "metadata": {
  "kernelspec": {
   "display_name": "Python 3 (ipykernel)",
   "language": "python",
   "name": "python3"
  },
  "language_info": {
   "codemirror_mode": {
    "name": "ipython",
    "version": 3
   },
   "file_extension": ".py",
   "mimetype": "text/x-python",
   "name": "python",
   "nbconvert_exporter": "python",
   "pygments_lexer": "ipython3",
   "version": "3.9.9"
  }
 },
 "nbformat": 4,
 "nbformat_minor": 5
}
