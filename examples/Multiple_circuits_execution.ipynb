{
 "cells": [
  {
   "cell_type": "markdown",
   "id": "26c21ec5",
   "metadata": {},
   "source": [
    "# Example for execution of multiple circuits in QPUs"
   ]
  },
  {
   "cell_type": "markdown",
   "id": "df8dc942",
   "metadata": {},
   "source": [
    "Before executing, you must set up and `qraise` the QPUs, check the `README.md` for instructions. For this examples it will be optimal to have more than one QPU and at least one of them with ideal AerSimulator."
   ]
  },
  {
   "cell_type": "markdown",
   "id": "86cdbafe",
   "metadata": {},
   "source": [
    "### Importing and adding paths to `sys.path`"
   ]
  },
  {
   "cell_type": "code",
   "execution_count": 1,
   "id": "c532632a",
   "metadata": {},
   "outputs": [
    {
     "name": "stdout",
     "output_type": "stream",
     "text": [
      "/mnt/netapp1/Store_CESGA/home/cesga/jvazquez/works/cunqa/installation\n"
     ]
    }
   ],
   "source": [
    "import os, sys\n",
    "\n",
    "# path to access c++ files\n",
    "installation_path = os.getenv(\"INSTALL_PATH\")\n",
    "sys.path.append(installation_path)\n",
    "\n",
    "print(installation_path)"
   ]
  },
  {
   "cell_type": "markdown",
   "id": "368e94bf",
   "metadata": {},
   "source": [
    "### Let's get the QPUs that we q-raised!"
   ]
  },
  {
   "cell_type": "code",
   "execution_count": 2,
   "id": "c2d0c54e",
   "metadata": {},
   "outputs": [
    {
     "name": "stdout",
     "output_type": "stream",
     "text": [
      "\u001b[32m\tinfo: Logger created.\u001b[0m\n",
      "\u001b[34m\tdebug: File accessed correctly.\u001b[0m\n",
      "\u001b[34m\tdebug: Object for QPU 0 created correctly.\u001b[0m\n",
      "\u001b[34m\tdebug: Object for QPU 1 created correctly.\u001b[0m\n",
      "\u001b[34m\tdebug: Object for QPU 2 created correctly.\u001b[0m\n",
      "\u001b[34m\tdebug: Object for QPU 3 created correctly.\u001b[0m\n",
      "\u001b[34m\tdebug: Object for QPU 4 created correctly.\u001b[0m\n",
      "\u001b[34m\tdebug: Object for QPU 5 created correctly.\u001b[0m\n",
      "\u001b[34m\tdebug: Object for QPU 6 created correctly.\u001b[0m\n",
      "\u001b[34m\tdebug: Object for QPU 7 created correctly.\u001b[0m\n",
      "\u001b[34m\tdebug: Object for QPU 8 created correctly.\u001b[0m\n",
      "\u001b[34m\tdebug: Object for QPU 9 created correctly.\u001b[0m\n",
      "\u001b[34m\tdebug: 10 QPU objects were created.\u001b[0m\n",
      "QPU 0, backend: BasicAer, simulator: AerSimulator, version: 0.0.1.\n",
      "QPU 1, backend: BasicAer, simulator: AerSimulator, version: 0.0.1.\n",
      "QPU 2, backend: BasicAer, simulator: AerSimulator, version: 0.0.1.\n",
      "QPU 3, backend: BasicAer, simulator: AerSimulator, version: 0.0.1.\n",
      "QPU 4, backend: BasicAer, simulator: AerSimulator, version: 0.0.1.\n",
      "QPU 5, backend: BasicAer, simulator: AerSimulator, version: 0.0.1.\n",
      "QPU 6, backend: BasicAer, simulator: AerSimulator, version: 0.0.1.\n",
      "QPU 7, backend: BasicAer, simulator: AerSimulator, version: 0.0.1.\n",
      "QPU 8, backend: BasicAer, simulator: AerSimulator, version: 0.0.1.\n",
      "QPU 9, backend: BasicAer, simulator: AerSimulator, version: 0.0.1.\n"
     ]
    }
   ],
   "source": [
    "from cunqa import getQPUs\n",
    "\n",
    "qpus  = getQPUs()\n",
    "\n",
    "for q in qpus:\n",
    "    print(f\"QPU {q.id}, backend: {q.backend.name}, simulator: {q.backend.simulator}, version: {q.backend.version}.\")\n"
   ]
  },
  {
   "cell_type": "markdown",
   "id": "0b312b18",
   "metadata": {},
   "source": [
    "The method `getQPUs()` accesses the information of the raised QPus and instanciates one `qpu.QPU` object for each, returning a list. If you are working with `jupyter notebook` we recomend to instanciate this method just once.\n",
    "\n",
    "About the `qpu.QPU` objects:\n",
    "\n",
    "- `QPU.id`: identificator of the virtual QPU, they will be asigned from 0 to n-1.\n",
    "\n",
    "\n",
    "- `QPU.backend`: object `backend.Backend` that has information about the simulator and backend for the given QPU.\n"
   ]
  },
  {
   "cell_type": "markdown",
   "id": "2ce62634",
   "metadata": {},
   "source": [
    "### Let's create a circuit to run in our QPUs!"
   ]
  },
  {
   "cell_type": "markdown",
   "id": "29555d4b",
   "metadata": {},
   "source": [
    "We can create the circuit using `qiskit` or writting the instructions in the `json` format specific for `cunqa` (check the `README.md`), `OpenQASM2` is also supported. Here we choose not to complicate things and we create a `qiskit.QuantumCircuit`:"
   ]
  },
  {
   "cell_type": "code",
   "execution_count": 3,
   "id": "c5350387",
   "metadata": {},
   "outputs": [
    {
     "data": {
      "text/html": [
       "<pre style=\"word-wrap: normal;white-space: pre;background: #fff0;line-height: 1.1;font-family: &quot;Courier New&quot;,Courier,monospace\">        ┌───┐┌──────┐┌───────┐ ░ ┌─┐            \n",
       "   q_0: ┤ X ├┤0     ├┤0      ├─░─┤M├────────────\n",
       "        └───┘│      ││       │ ░ └╥┘┌─┐         \n",
       "   q_1: ─────┤1     ├┤1      ├─░──╫─┤M├─────────\n",
       "             │      ││       │ ░  ║ └╥┘┌─┐      \n",
       "   q_2: ─────┤2 QFT ├┤2 IQFT ├─░──╫──╫─┤M├──────\n",
       "        ┌───┐│      ││       │ ░  ║  ║ └╥┘┌─┐   \n",
       "   q_3: ┤ X ├┤3     ├┤3      ├─░──╫──╫──╫─┤M├───\n",
       "        ├───┤│      ││       │ ░  ║  ║  ║ └╥┘┌─┐\n",
       "   q_4: ┤ X ├┤4     ├┤4      ├─░──╫──╫──╫──╫─┤M├\n",
       "        └───┘└──────┘└───────┘ ░  ║  ║  ║  ║ └╥┘\n",
       "meas: 5/══════════════════════════╩══╩══╩══╩══╩═\n",
       "                                  0  1  2  3  4 </pre>"
      ],
      "text/plain": [
       "        ┌───┐┌──────┐┌───────┐ ░ ┌─┐            \n",
       "   q_0: ┤ X ├┤0     ├┤0      ├─░─┤M├────────────\n",
       "        └───┘│      ││       │ ░ └╥┘┌─┐         \n",
       "   q_1: ─────┤1     ├┤1      ├─░──╫─┤M├─────────\n",
       "             │      ││       │ ░  ║ └╥┘┌─┐      \n",
       "   q_2: ─────┤2 QFT ├┤2 IQFT ├─░──╫──╫─┤M├──────\n",
       "        ┌───┐│      ││       │ ░  ║  ║ └╥┘┌─┐   \n",
       "   q_3: ┤ X ├┤3     ├┤3      ├─░──╫──╫──╫─┤M├───\n",
       "        ├───┤│      ││       │ ░  ║  ║  ║ └╥┘┌─┐\n",
       "   q_4: ┤ X ├┤4     ├┤4      ├─░──╫──╫──╫──╫─┤M├\n",
       "        └───┘└──────┘└───────┘ ░  ║  ║  ║  ║ └╥┘\n",
       "meas: 5/══════════════════════════╩══╩══╩══╩══╩═\n",
       "                                  0  1  2  3  4 "
      ]
     },
     "metadata": {},
     "output_type": "display_data"
    }
   ],
   "source": [
    "from qiskit import QuantumCircuit\n",
    "from qiskit.circuit.library import QFT\n",
    "\n",
    "n = 5 # number of qubits\n",
    "\n",
    "qc = QuantumCircuit(n)\n",
    "\n",
    "qc.x(0); qc.x(n-1); qc.x(n-2)\n",
    "\n",
    "qc.append(QFT(n), range(n))\n",
    "\n",
    "qc.append(QFT(n).inverse(), range(n))\n",
    "\n",
    "qc.measure_all()\n",
    "\n",
    "display(qc.draw())"
   ]
  },
  {
   "cell_type": "markdown",
   "id": "bf2f0f88",
   "metadata": {},
   "source": [
    "### Execution time! Let's do it sequentially"
   ]
  },
  {
   "cell_type": "code",
   "execution_count": 4,
   "id": "c5c6682c",
   "metadata": {},
   "outputs": [
    {
     "name": "stdout",
     "output_type": "stream",
     "text": [
      "For QPU 0, with backend BasicAer:\n",
      "\u001b[34m\tdebug: Transpilation done.\u001b[0m\n",
      "\u001b[34m\tdebug: A QuantumCircuit was provided.\u001b[0m\n",
      "\u001b[34m\tdebug: Translating to dict for AerSimulator...\u001b[0m\n",
      "\u001b[34m\tdebug: QJob created.\u001b[0m\n",
      "\u001b[34m\tdebug:  {\"config\":{\"shots\": 1000, \"method\": \"statevector\", \"memory_slots\": 5, \"seed\": 188}, \"instructions\":[{\"name\": \"x\", \"qubits\": [0], \"params\": []}, {\"name\": \"x\", \"qubits\": [3], \"params\": []}, {\"name\": \"u2\", \"qubits\": [4], \"params\": [-3.141592653589793, -3.141592653589793]}, {\"name\": \"cp\", \"qubits\": [4, 3], \"params\": [1.5707963267948966]}, {\"name\": \"h\", \"qubits\": [3], \"params\": []}, {\"name\": \"cp\", \"qubits\": [4, 2], \"params\": [0.7853981633974483]}, {\"name\": \"cp\", \"qubits\": [3, 2], \"params\": [1.5707963267948966]}, {\"name\": \"h\", \"qubits\": [2], \"params\": []}, {\"name\": \"cp\", \"qubits\": [4, 1], \"params\": [0.39269908169872414]}, {\"name\": \"cp\", \"qubits\": [3, 1], \"params\": [0.7853981633974483]}, {\"name\": \"cp\", \"qubits\": [2, 1], \"params\": [1.5707963267948966]}, {\"name\": \"h\", \"qubits\": [1], \"params\": []}, {\"name\": \"cp\", \"qubits\": [4, 0], \"params\": [0.19634954084936207]}, {\"name\": \"cp\", \"qubits\": [3, 0], \"params\": [0.39269908169872414]}, {\"name\": \"cp\", \"qubits\": [2, 0], \"params\": [0.7853981633974483]}, {\"name\": \"cp\", \"qubits\": [1, 0], \"params\": [1.5707963267948966]}, {\"name\": \"cp\", \"qubits\": [1, 0], \"params\": [-1.5707963267948966]}, {\"name\": \"h\", \"qubits\": [1], \"params\": []}, {\"name\": \"cp\", \"qubits\": [2, 0], \"params\": [-0.7853981633974483]}, {\"name\": \"cp\", \"qubits\": [2, 1], \"params\": [-1.5707963267948966]}, {\"name\": \"h\", \"qubits\": [2], \"params\": []}, {\"name\": \"cp\", \"qubits\": [3, 0], \"params\": [-0.39269908169872414]}, {\"name\": \"cp\", \"qubits\": [3, 1], \"params\": [-0.7853981633974483]}, {\"name\": \"cp\", \"qubits\": [3, 2], \"params\": [-1.5707963267948966]}, {\"name\": \"h\", \"qubits\": [3], \"params\": []}, {\"name\": \"cp\", \"qubits\": [4, 0], \"params\": [-0.19634954084936207]}, {\"name\": \"cp\", \"qubits\": [4, 1], \"params\": [-0.39269908169872414]}, {\"name\": \"cp\", \"qubits\": [4, 2], \"params\": [-0.7853981633974483]}, {\"name\": \"cp\", \"qubits\": [4, 3], \"params\": [-1.5707963267948966]}, {\"name\": \"h\", \"qubits\": [4], \"params\": []}, {\"name\": \"measure\", \"qubits\": [0], \"memory\": [0]}, {\"name\": \"measure\", \"qubits\": [1], \"memory\": [1]}, {\"name\": \"measure\", \"qubits\": [2], \"memory\": [2]}, {\"name\": \"measure\", \"qubits\": [3], \"memory\": [3]}, {\"name\": \"measure\", \"qubits\": [4], \"memory\": [4]}] }\u001b[0m\n",
      "\u001b[34m\tdebug: Circuit was sent.\u001b[0m\n",
      "\u001b[34m\tdebug: Qjob submitted to QPU 0.\u001b[0m\n",
      "\u001b[34m\tdebug: Result received: {'backend_name': '', 'backend_version': '', 'date': '', 'job_id': '', 'metadata': {'max_gpu_memory_mb': 0, 'max_memory_mb': 1031551, 'omp_enabled': True, 'parallel_experiments': 1, 'time_taken_execute': 0.025674336, 'time_taken_parameter_binding': 1.2361e-05}, 'qobj_id': '', 'results': [{'data': {'counts': {'0x19': 1000}}, 'metadata': {'active_input_qubits': [0, 1, 2, 3, 4], 'batched_shots_optimization': False, 'device': 'CPU', 'fusion': {'applied': False, 'enabled': True, 'max_fused_qubits': 5, 'threshold': 14}, 'input_qubit_map': [[4, 4], [3, 3], [2, 2], [1, 1], [0, 0]], 'max_memory_mb': 1031551, 'measure_sampling': True, 'method': 'statevector', 'noise': 'ideal', 'num_bind_params': 1, 'num_clbits': 5, 'num_qubits': 5, 'parallel_shots': 1, 'parallel_state_update': 2, 'remapped_qubits': False, 'required_memory_mb': 1, 'runtime_parameter_bind': False, 'sample_measure_time': 0.000286167, 'time_taken': 0.011786577}, 'seed_simulator': 188, 'shots': 1000, 'status': 'DONE', 'success': True, 'time_taken': 0.011786577}], 'status': 'COMPLETED', 'success': True}\n",
      "\u001b[0m\n",
      "\u001b[34m\tdebug: Results correctly loaded.\u001b[0m\n",
      "Result: \n",
      "{'11001': 1000}\n",
      " Time taken: 0.011786577 s.\n",
      "For QPU 1, with backend BasicAer:\n",
      "\u001b[34m\tdebug: Transpilation done.\u001b[0m\n",
      "\u001b[34m\tdebug: A QuantumCircuit was provided.\u001b[0m\n",
      "\u001b[34m\tdebug: Translating to dict for AerSimulator...\u001b[0m\n",
      "\u001b[34m\tdebug: QJob created.\u001b[0m\n",
      "\u001b[34m\tdebug:  {\"config\":{\"shots\": 1000, \"method\": \"statevector\", \"memory_slots\": 5, \"seed\": 188}, \"instructions\":[{\"name\": \"x\", \"qubits\": [0], \"params\": []}, {\"name\": \"x\", \"qubits\": [3], \"params\": []}, {\"name\": \"u2\", \"qubits\": [4], \"params\": [-3.141592653589793, -3.141592653589793]}, {\"name\": \"cp\", \"qubits\": [4, 3], \"params\": [1.5707963267948966]}, {\"name\": \"h\", \"qubits\": [3], \"params\": []}, {\"name\": \"cp\", \"qubits\": [4, 2], \"params\": [0.7853981633974483]}, {\"name\": \"cp\", \"qubits\": [3, 2], \"params\": [1.5707963267948966]}, {\"name\": \"h\", \"qubits\": [2], \"params\": []}, {\"name\": \"cp\", \"qubits\": [4, 1], \"params\": [0.39269908169872414]}, {\"name\": \"cp\", \"qubits\": [3, 1], \"params\": [0.7853981633974483]}, {\"name\": \"cp\", \"qubits\": [2, 1], \"params\": [1.5707963267948966]}, {\"name\": \"h\", \"qubits\": [1], \"params\": []}, {\"name\": \"cp\", \"qubits\": [4, 0], \"params\": [0.19634954084936207]}, {\"name\": \"cp\", \"qubits\": [3, 0], \"params\": [0.39269908169872414]}, {\"name\": \"cp\", \"qubits\": [2, 0], \"params\": [0.7853981633974483]}, {\"name\": \"cp\", \"qubits\": [1, 0], \"params\": [1.5707963267948966]}, {\"name\": \"cp\", \"qubits\": [1, 0], \"params\": [-1.5707963267948966]}, {\"name\": \"h\", \"qubits\": [1], \"params\": []}, {\"name\": \"cp\", \"qubits\": [2, 0], \"params\": [-0.7853981633974483]}, {\"name\": \"cp\", \"qubits\": [2, 1], \"params\": [-1.5707963267948966]}, {\"name\": \"h\", \"qubits\": [2], \"params\": []}, {\"name\": \"cp\", \"qubits\": [3, 0], \"params\": [-0.39269908169872414]}, {\"name\": \"cp\", \"qubits\": [3, 1], \"params\": [-0.7853981633974483]}, {\"name\": \"cp\", \"qubits\": [3, 2], \"params\": [-1.5707963267948966]}, {\"name\": \"h\", \"qubits\": [3], \"params\": []}, {\"name\": \"cp\", \"qubits\": [4, 0], \"params\": [-0.19634954084936207]}, {\"name\": \"cp\", \"qubits\": [4, 1], \"params\": [-0.39269908169872414]}, {\"name\": \"cp\", \"qubits\": [4, 2], \"params\": [-0.7853981633974483]}, {\"name\": \"cp\", \"qubits\": [4, 3], \"params\": [-1.5707963267948966]}, {\"name\": \"h\", \"qubits\": [4], \"params\": []}, {\"name\": \"measure\", \"qubits\": [0], \"memory\": [0]}, {\"name\": \"measure\", \"qubits\": [1], \"memory\": [1]}, {\"name\": \"measure\", \"qubits\": [2], \"memory\": [2]}, {\"name\": \"measure\", \"qubits\": [3], \"memory\": [3]}, {\"name\": \"measure\", \"qubits\": [4], \"memory\": [4]}] }\u001b[0m\n",
      "\u001b[34m\tdebug: Circuit was sent.\u001b[0m\n",
      "\u001b[34m\tdebug: Qjob submitted to QPU 1.\u001b[0m\n",
      "\u001b[34m\tdebug: Result received: {'backend_name': '', 'backend_version': '', 'date': '', 'job_id': '', 'metadata': {'max_gpu_memory_mb': 0, 'max_memory_mb': 1031551, 'omp_enabled': True, 'parallel_experiments': 1, 'time_taken_execute': 0.000940627, 'time_taken_parameter_binding': 1.2094e-05}, 'qobj_id': '', 'results': [{'data': {'counts': {'0x19': 1000}}, 'metadata': {'active_input_qubits': [0, 1, 2, 3, 4], 'batched_shots_optimization': False, 'device': 'CPU', 'fusion': {'applied': False, 'enabled': True, 'max_fused_qubits': 5, 'threshold': 14}, 'input_qubit_map': [[4, 4], [3, 3], [2, 2], [1, 1], [0, 0]], 'max_memory_mb': 1031551, 'measure_sampling': True, 'method': 'statevector', 'noise': 'ideal', 'num_bind_params': 1, 'num_clbits': 5, 'num_qubits': 5, 'parallel_shots': 1, 'parallel_state_update': 2, 'remapped_qubits': False, 'required_memory_mb': 1, 'runtime_parameter_bind': False, 'sample_measure_time': 0.000285251, 'time_taken': 0.000916978}, 'seed_simulator': 188, 'shots': 1000, 'status': 'DONE', 'success': True, 'time_taken': 0.000916978}], 'status': 'COMPLETED', 'success': True}\n",
      "\u001b[0m\n",
      "\u001b[34m\tdebug: Results correctly loaded.\u001b[0m\n",
      "Result: \n",
      "{'11001': 1000}\n",
      " Time taken: 0.000916978 s.\n",
      "For QPU 2, with backend BasicAer:\n",
      "\u001b[34m\tdebug: Transpilation done.\u001b[0m\n",
      "\u001b[34m\tdebug: A QuantumCircuit was provided.\u001b[0m\n",
      "\u001b[34m\tdebug: Translating to dict for AerSimulator...\u001b[0m\n",
      "\u001b[34m\tdebug: QJob created.\u001b[0m\n",
      "\u001b[34m\tdebug:  {\"config\":{\"shots\": 1000, \"method\": \"statevector\", \"memory_slots\": 5, \"seed\": 188}, \"instructions\":[{\"name\": \"x\", \"qubits\": [0], \"params\": []}, {\"name\": \"x\", \"qubits\": [3], \"params\": []}, {\"name\": \"u2\", \"qubits\": [4], \"params\": [-3.141592653589793, -3.141592653589793]}, {\"name\": \"cp\", \"qubits\": [4, 3], \"params\": [1.5707963267948966]}, {\"name\": \"h\", \"qubits\": [3], \"params\": []}, {\"name\": \"cp\", \"qubits\": [4, 2], \"params\": [0.7853981633974483]}, {\"name\": \"cp\", \"qubits\": [3, 2], \"params\": [1.5707963267948966]}, {\"name\": \"h\", \"qubits\": [2], \"params\": []}, {\"name\": \"cp\", \"qubits\": [4, 1], \"params\": [0.39269908169872414]}, {\"name\": \"cp\", \"qubits\": [3, 1], \"params\": [0.7853981633974483]}, {\"name\": \"cp\", \"qubits\": [2, 1], \"params\": [1.5707963267948966]}, {\"name\": \"h\", \"qubits\": [1], \"params\": []}, {\"name\": \"cp\", \"qubits\": [4, 0], \"params\": [0.19634954084936207]}, {\"name\": \"cp\", \"qubits\": [3, 0], \"params\": [0.39269908169872414]}, {\"name\": \"cp\", \"qubits\": [2, 0], \"params\": [0.7853981633974483]}, {\"name\": \"cp\", \"qubits\": [1, 0], \"params\": [1.5707963267948966]}, {\"name\": \"cp\", \"qubits\": [1, 0], \"params\": [-1.5707963267948966]}, {\"name\": \"h\", \"qubits\": [1], \"params\": []}, {\"name\": \"cp\", \"qubits\": [2, 0], \"params\": [-0.7853981633974483]}, {\"name\": \"cp\", \"qubits\": [2, 1], \"params\": [-1.5707963267948966]}, {\"name\": \"h\", \"qubits\": [2], \"params\": []}, {\"name\": \"cp\", \"qubits\": [3, 0], \"params\": [-0.39269908169872414]}, {\"name\": \"cp\", \"qubits\": [3, 1], \"params\": [-0.7853981633974483]}, {\"name\": \"cp\", \"qubits\": [3, 2], \"params\": [-1.5707963267948966]}, {\"name\": \"h\", \"qubits\": [3], \"params\": []}, {\"name\": \"cp\", \"qubits\": [4, 0], \"params\": [-0.19634954084936207]}, {\"name\": \"cp\", \"qubits\": [4, 1], \"params\": [-0.39269908169872414]}, {\"name\": \"cp\", \"qubits\": [4, 2], \"params\": [-0.7853981633974483]}, {\"name\": \"cp\", \"qubits\": [4, 3], \"params\": [-1.5707963267948966]}, {\"name\": \"h\", \"qubits\": [4], \"params\": []}, {\"name\": \"measure\", \"qubits\": [0], \"memory\": [0]}, {\"name\": \"measure\", \"qubits\": [1], \"memory\": [1]}, {\"name\": \"measure\", \"qubits\": [2], \"memory\": [2]}, {\"name\": \"measure\", \"qubits\": [3], \"memory\": [3]}, {\"name\": \"measure\", \"qubits\": [4], \"memory\": [4]}] }\u001b[0m\n"
     ]
    },
    {
     "name": "stdout",
     "output_type": "stream",
     "text": [
      "\u001b[34m\tdebug: Circuit was sent.\u001b[0m\n",
      "\u001b[34m\tdebug: Qjob submitted to QPU 2.\u001b[0m\n",
      "\u001b[34m\tdebug: Result received: {'backend_name': '', 'backend_version': '', 'date': '', 'job_id': '', 'metadata': {'max_gpu_memory_mb': 0, 'max_memory_mb': 1031551, 'omp_enabled': True, 'parallel_experiments': 1, 'time_taken_execute': 0.000890594, 'time_taken_parameter_binding': 1.1937e-05}, 'qobj_id': '', 'results': [{'data': {'counts': {'0x19': 1000}}, 'metadata': {'active_input_qubits': [0, 1, 2, 3, 4], 'batched_shots_optimization': False, 'device': 'CPU', 'fusion': {'applied': False, 'enabled': True, 'max_fused_qubits': 5, 'threshold': 14}, 'input_qubit_map': [[4, 4], [3, 3], [2, 2], [1, 1], [0, 0]], 'max_memory_mb': 1031551, 'measure_sampling': True, 'method': 'statevector', 'noise': 'ideal', 'num_bind_params': 1, 'num_clbits': 5, 'num_qubits': 5, 'parallel_shots': 1, 'parallel_state_update': 2, 'remapped_qubits': False, 'required_memory_mb': 1, 'runtime_parameter_bind': False, 'sample_measure_time': 0.000278908, 'time_taken': 0.00086731}, 'seed_simulator': 188, 'shots': 1000, 'status': 'DONE', 'success': True, 'time_taken': 0.00086731}], 'status': 'COMPLETED', 'success': True}\n",
      "\u001b[0m\n",
      "\u001b[34m\tdebug: Results correctly loaded.\u001b[0m\n",
      "Result: \n",
      "{'11001': 1000}\n",
      " Time taken: 0.00086731 s.\n",
      "For QPU 3, with backend BasicAer:\n",
      "\u001b[34m\tdebug: Transpilation done.\u001b[0m\n",
      "\u001b[34m\tdebug: A QuantumCircuit was provided.\u001b[0m\n",
      "\u001b[34m\tdebug: Translating to dict for AerSimulator...\u001b[0m\n",
      "\u001b[34m\tdebug: QJob created.\u001b[0m\n",
      "\u001b[34m\tdebug:  {\"config\":{\"shots\": 1000, \"method\": \"statevector\", \"memory_slots\": 5, \"seed\": 188}, \"instructions\":[{\"name\": \"x\", \"qubits\": [0], \"params\": []}, {\"name\": \"x\", \"qubits\": [3], \"params\": []}, {\"name\": \"u2\", \"qubits\": [4], \"params\": [-3.141592653589793, -3.141592653589793]}, {\"name\": \"cp\", \"qubits\": [4, 3], \"params\": [1.5707963267948966]}, {\"name\": \"h\", \"qubits\": [3], \"params\": []}, {\"name\": \"cp\", \"qubits\": [4, 2], \"params\": [0.7853981633974483]}, {\"name\": \"cp\", \"qubits\": [3, 2], \"params\": [1.5707963267948966]}, {\"name\": \"h\", \"qubits\": [2], \"params\": []}, {\"name\": \"cp\", \"qubits\": [4, 1], \"params\": [0.39269908169872414]}, {\"name\": \"cp\", \"qubits\": [3, 1], \"params\": [0.7853981633974483]}, {\"name\": \"cp\", \"qubits\": [2, 1], \"params\": [1.5707963267948966]}, {\"name\": \"h\", \"qubits\": [1], \"params\": []}, {\"name\": \"cp\", \"qubits\": [4, 0], \"params\": [0.19634954084936207]}, {\"name\": \"cp\", \"qubits\": [3, 0], \"params\": [0.39269908169872414]}, {\"name\": \"cp\", \"qubits\": [2, 0], \"params\": [0.7853981633974483]}, {\"name\": \"cp\", \"qubits\": [1, 0], \"params\": [1.5707963267948966]}, {\"name\": \"cp\", \"qubits\": [1, 0], \"params\": [-1.5707963267948966]}, {\"name\": \"h\", \"qubits\": [1], \"params\": []}, {\"name\": \"cp\", \"qubits\": [2, 0], \"params\": [-0.7853981633974483]}, {\"name\": \"cp\", \"qubits\": [2, 1], \"params\": [-1.5707963267948966]}, {\"name\": \"h\", \"qubits\": [2], \"params\": []}, {\"name\": \"cp\", \"qubits\": [3, 0], \"params\": [-0.39269908169872414]}, {\"name\": \"cp\", \"qubits\": [3, 1], \"params\": [-0.7853981633974483]}, {\"name\": \"cp\", \"qubits\": [3, 2], \"params\": [-1.5707963267948966]}, {\"name\": \"h\", \"qubits\": [3], \"params\": []}, {\"name\": \"cp\", \"qubits\": [4, 0], \"params\": [-0.19634954084936207]}, {\"name\": \"cp\", \"qubits\": [4, 1], \"params\": [-0.39269908169872414]}, {\"name\": \"cp\", \"qubits\": [4, 2], \"params\": [-0.7853981633974483]}, {\"name\": \"cp\", \"qubits\": [4, 3], \"params\": [-1.5707963267948966]}, {\"name\": \"h\", \"qubits\": [4], \"params\": []}, {\"name\": \"measure\", \"qubits\": [0], \"memory\": [0]}, {\"name\": \"measure\", \"qubits\": [1], \"memory\": [1]}, {\"name\": \"measure\", \"qubits\": [2], \"memory\": [2]}, {\"name\": \"measure\", \"qubits\": [3], \"memory\": [3]}, {\"name\": \"measure\", \"qubits\": [4], \"memory\": [4]}] }\u001b[0m\n",
      "\u001b[34m\tdebug: Circuit was sent.\u001b[0m\n",
      "\u001b[34m\tdebug: Qjob submitted to QPU 3.\u001b[0m\n",
      "\u001b[34m\tdebug: Result received: {'backend_name': '', 'backend_version': '', 'date': '', 'job_id': '', 'metadata': {'max_gpu_memory_mb': 0, 'max_memory_mb': 1031551, 'omp_enabled': True, 'parallel_experiments': 1, 'time_taken_execute': 0.000904763, 'time_taken_parameter_binding': 1.2019e-05}, 'qobj_id': '', 'results': [{'data': {'counts': {'0x19': 1000}}, 'metadata': {'active_input_qubits': [0, 1, 2, 3, 4], 'batched_shots_optimization': False, 'device': 'CPU', 'fusion': {'applied': False, 'enabled': True, 'max_fused_qubits': 5, 'threshold': 14}, 'input_qubit_map': [[4, 4], [3, 3], [2, 2], [1, 1], [0, 0]], 'max_memory_mb': 1031551, 'measure_sampling': True, 'method': 'statevector', 'noise': 'ideal', 'num_bind_params': 1, 'num_clbits': 5, 'num_qubits': 5, 'parallel_shots': 1, 'parallel_state_update': 2, 'remapped_qubits': False, 'required_memory_mb': 1, 'runtime_parameter_bind': False, 'sample_measure_time': 0.000285733, 'time_taken': 0.000881716}, 'seed_simulator': 188, 'shots': 1000, 'status': 'DONE', 'success': True, 'time_taken': 0.000881716}], 'status': 'COMPLETED', 'success': True}\n",
      "\u001b[0m\n",
      "\u001b[34m\tdebug: Results correctly loaded.\u001b[0m\n",
      "Result: \n",
      "{'11001': 1000}\n",
      " Time taken: 0.000881716 s.\n",
      "For QPU 4, with backend BasicAer:\n",
      "\u001b[34m\tdebug: Transpilation done.\u001b[0m\n",
      "\u001b[34m\tdebug: A QuantumCircuit was provided.\u001b[0m\n",
      "\u001b[34m\tdebug: Translating to dict for AerSimulator...\u001b[0m\n",
      "\u001b[34m\tdebug: QJob created.\u001b[0m\n",
      "\u001b[34m\tdebug:  {\"config\":{\"shots\": 1000, \"method\": \"statevector\", \"memory_slots\": 5, \"seed\": 188}, \"instructions\":[{\"name\": \"x\", \"qubits\": [0], \"params\": []}, {\"name\": \"x\", \"qubits\": [3], \"params\": []}, {\"name\": \"u2\", \"qubits\": [4], \"params\": [-3.141592653589793, -3.141592653589793]}, {\"name\": \"cp\", \"qubits\": [4, 3], \"params\": [1.5707963267948966]}, {\"name\": \"h\", \"qubits\": [3], \"params\": []}, {\"name\": \"cp\", \"qubits\": [4, 2], \"params\": [0.7853981633974483]}, {\"name\": \"cp\", \"qubits\": [3, 2], \"params\": [1.5707963267948966]}, {\"name\": \"h\", \"qubits\": [2], \"params\": []}, {\"name\": \"cp\", \"qubits\": [4, 1], \"params\": [0.39269908169872414]}, {\"name\": \"cp\", \"qubits\": [3, 1], \"params\": [0.7853981633974483]}, {\"name\": \"cp\", \"qubits\": [2, 1], \"params\": [1.5707963267948966]}, {\"name\": \"h\", \"qubits\": [1], \"params\": []}, {\"name\": \"cp\", \"qubits\": [4, 0], \"params\": [0.19634954084936207]}, {\"name\": \"cp\", \"qubits\": [3, 0], \"params\": [0.39269908169872414]}, {\"name\": \"cp\", \"qubits\": [2, 0], \"params\": [0.7853981633974483]}, {\"name\": \"cp\", \"qubits\": [1, 0], \"params\": [1.5707963267948966]}, {\"name\": \"cp\", \"qubits\": [1, 0], \"params\": [-1.5707963267948966]}, {\"name\": \"h\", \"qubits\": [1], \"params\": []}, {\"name\": \"cp\", \"qubits\": [2, 0], \"params\": [-0.7853981633974483]}, {\"name\": \"cp\", \"qubits\": [2, 1], \"params\": [-1.5707963267948966]}, {\"name\": \"h\", \"qubits\": [2], \"params\": []}, {\"name\": \"cp\", \"qubits\": [3, 0], \"params\": [-0.39269908169872414]}, {\"name\": \"cp\", \"qubits\": [3, 1], \"params\": [-0.7853981633974483]}, {\"name\": \"cp\", \"qubits\": [3, 2], \"params\": [-1.5707963267948966]}, {\"name\": \"h\", \"qubits\": [3], \"params\": []}, {\"name\": \"cp\", \"qubits\": [4, 0], \"params\": [-0.19634954084936207]}, {\"name\": \"cp\", \"qubits\": [4, 1], \"params\": [-0.39269908169872414]}, {\"name\": \"cp\", \"qubits\": [4, 2], \"params\": [-0.7853981633974483]}, {\"name\": \"cp\", \"qubits\": [4, 3], \"params\": [-1.5707963267948966]}, {\"name\": \"h\", \"qubits\": [4], \"params\": []}, {\"name\": \"measure\", \"qubits\": [0], \"memory\": [0]}, {\"name\": \"measure\", \"qubits\": [1], \"memory\": [1]}, {\"name\": \"measure\", \"qubits\": [2], \"memory\": [2]}, {\"name\": \"measure\", \"qubits\": [3], \"memory\": [3]}, {\"name\": \"measure\", \"qubits\": [4], \"memory\": [4]}] }\u001b[0m\n",
      "\u001b[34m\tdebug: Circuit was sent.\u001b[0m\n",
      "\u001b[34m\tdebug: Qjob submitted to QPU 4.\u001b[0m\n",
      "\u001b[34m\tdebug: Result received: {'backend_name': '', 'backend_version': '', 'date': '', 'job_id': '', 'metadata': {'max_gpu_memory_mb': 0, 'max_memory_mb': 1031551, 'omp_enabled': True, 'parallel_experiments': 1, 'time_taken_execute': 0.000911689, 'time_taken_parameter_binding': 1.1714e-05}, 'qobj_id': '', 'results': [{'data': {'counts': {'0x19': 1000}}, 'metadata': {'active_input_qubits': [0, 1, 2, 3, 4], 'batched_shots_optimization': False, 'device': 'CPU', 'fusion': {'applied': False, 'enabled': True, 'max_fused_qubits': 5, 'threshold': 14}, 'input_qubit_map': [[4, 4], [3, 3], [2, 2], [1, 1], [0, 0]], 'max_memory_mb': 1031551, 'measure_sampling': True, 'method': 'statevector', 'noise': 'ideal', 'num_bind_params': 1, 'num_clbits': 5, 'num_qubits': 5, 'parallel_shots': 1, 'parallel_state_update': 2, 'remapped_qubits': False, 'required_memory_mb': 1, 'runtime_parameter_bind': False, 'sample_measure_time': 0.00028794, 'time_taken': 0.000890106}, 'seed_simulator': 188, 'shots': 1000, 'status': 'DONE', 'success': True, 'time_taken': 0.000890106}], 'status': 'COMPLETED', 'success': True}\n",
      "\u001b[0m\n"
     ]
    },
    {
     "name": "stdout",
     "output_type": "stream",
     "text": [
      "\u001b[34m\tdebug: Results correctly loaded.\u001b[0m\n",
      "Result: \n",
      "{'11001': 1000}\n",
      " Time taken: 0.000890106 s.\n",
      "For QPU 5, with backend BasicAer:\n",
      "\u001b[34m\tdebug: Transpilation done.\u001b[0m\n",
      "\u001b[34m\tdebug: A QuantumCircuit was provided.\u001b[0m\n",
      "\u001b[34m\tdebug: Translating to dict for AerSimulator...\u001b[0m\n",
      "\u001b[34m\tdebug: QJob created.\u001b[0m\n",
      "\u001b[34m\tdebug:  {\"config\":{\"shots\": 1000, \"method\": \"statevector\", \"memory_slots\": 5, \"seed\": 188}, \"instructions\":[{\"name\": \"x\", \"qubits\": [0], \"params\": []}, {\"name\": \"x\", \"qubits\": [3], \"params\": []}, {\"name\": \"u2\", \"qubits\": [4], \"params\": [-3.141592653589793, -3.141592653589793]}, {\"name\": \"cp\", \"qubits\": [4, 3], \"params\": [1.5707963267948966]}, {\"name\": \"h\", \"qubits\": [3], \"params\": []}, {\"name\": \"cp\", \"qubits\": [4, 2], \"params\": [0.7853981633974483]}, {\"name\": \"cp\", \"qubits\": [3, 2], \"params\": [1.5707963267948966]}, {\"name\": \"h\", \"qubits\": [2], \"params\": []}, {\"name\": \"cp\", \"qubits\": [4, 1], \"params\": [0.39269908169872414]}, {\"name\": \"cp\", \"qubits\": [3, 1], \"params\": [0.7853981633974483]}, {\"name\": \"cp\", \"qubits\": [2, 1], \"params\": [1.5707963267948966]}, {\"name\": \"h\", \"qubits\": [1], \"params\": []}, {\"name\": \"cp\", \"qubits\": [4, 0], \"params\": [0.19634954084936207]}, {\"name\": \"cp\", \"qubits\": [3, 0], \"params\": [0.39269908169872414]}, {\"name\": \"cp\", \"qubits\": [2, 0], \"params\": [0.7853981633974483]}, {\"name\": \"cp\", \"qubits\": [1, 0], \"params\": [1.5707963267948966]}, {\"name\": \"cp\", \"qubits\": [1, 0], \"params\": [-1.5707963267948966]}, {\"name\": \"h\", \"qubits\": [1], \"params\": []}, {\"name\": \"cp\", \"qubits\": [2, 0], \"params\": [-0.7853981633974483]}, {\"name\": \"cp\", \"qubits\": [2, 1], \"params\": [-1.5707963267948966]}, {\"name\": \"h\", \"qubits\": [2], \"params\": []}, {\"name\": \"cp\", \"qubits\": [3, 0], \"params\": [-0.39269908169872414]}, {\"name\": \"cp\", \"qubits\": [3, 1], \"params\": [-0.7853981633974483]}, {\"name\": \"cp\", \"qubits\": [3, 2], \"params\": [-1.5707963267948966]}, {\"name\": \"h\", \"qubits\": [3], \"params\": []}, {\"name\": \"cp\", \"qubits\": [4, 0], \"params\": [-0.19634954084936207]}, {\"name\": \"cp\", \"qubits\": [4, 1], \"params\": [-0.39269908169872414]}, {\"name\": \"cp\", \"qubits\": [4, 2], \"params\": [-0.7853981633974483]}, {\"name\": \"cp\", \"qubits\": [4, 3], \"params\": [-1.5707963267948966]}, {\"name\": \"h\", \"qubits\": [4], \"params\": []}, {\"name\": \"measure\", \"qubits\": [0], \"memory\": [0]}, {\"name\": \"measure\", \"qubits\": [1], \"memory\": [1]}, {\"name\": \"measure\", \"qubits\": [2], \"memory\": [2]}, {\"name\": \"measure\", \"qubits\": [3], \"memory\": [3]}, {\"name\": \"measure\", \"qubits\": [4], \"memory\": [4]}] }\u001b[0m\n",
      "\u001b[34m\tdebug: Circuit was sent.\u001b[0m\n",
      "\u001b[34m\tdebug: Qjob submitted to QPU 5.\u001b[0m\n",
      "\u001b[34m\tdebug: Result received: {'backend_name': '', 'backend_version': '', 'date': '', 'job_id': '', 'metadata': {'max_gpu_memory_mb': 0, 'max_memory_mb': 1031551, 'omp_enabled': True, 'parallel_experiments': 1, 'time_taken_execute': 0.000896904, 'time_taken_parameter_binding': 1.1106e-05}, 'qobj_id': '', 'results': [{'data': {'counts': {'0x19': 1000}}, 'metadata': {'active_input_qubits': [0, 1, 2, 3, 4], 'batched_shots_optimization': False, 'device': 'CPU', 'fusion': {'applied': False, 'enabled': True, 'max_fused_qubits': 5, 'threshold': 14}, 'input_qubit_map': [[4, 4], [3, 3], [2, 2], [1, 1], [0, 0]], 'max_memory_mb': 1031551, 'measure_sampling': True, 'method': 'statevector', 'noise': 'ideal', 'num_bind_params': 1, 'num_clbits': 5, 'num_qubits': 5, 'parallel_shots': 1, 'parallel_state_update': 2, 'remapped_qubits': False, 'required_memory_mb': 1, 'runtime_parameter_bind': False, 'sample_measure_time': 0.000276664, 'time_taken': 0.000873812}, 'seed_simulator': 188, 'shots': 1000, 'status': 'DONE', 'success': True, 'time_taken': 0.000873812}], 'status': 'COMPLETED', 'success': True}\n",
      "\u001b[0m\n",
      "\u001b[34m\tdebug: Results correctly loaded.\u001b[0m\n",
      "Result: \n",
      "{'11001': 1000}\n",
      " Time taken: 0.000873812 s.\n",
      "For QPU 6, with backend BasicAer:\n",
      "\u001b[34m\tdebug: Transpilation done.\u001b[0m\n",
      "\u001b[34m\tdebug: A QuantumCircuit was provided.\u001b[0m\n",
      "\u001b[34m\tdebug: Translating to dict for AerSimulator...\u001b[0m\n",
      "\u001b[34m\tdebug: QJob created.\u001b[0m\n",
      "\u001b[34m\tdebug:  {\"config\":{\"shots\": 1000, \"method\": \"statevector\", \"memory_slots\": 5, \"seed\": 188}, \"instructions\":[{\"name\": \"x\", \"qubits\": [0], \"params\": []}, {\"name\": \"x\", \"qubits\": [3], \"params\": []}, {\"name\": \"u2\", \"qubits\": [4], \"params\": [-3.141592653589793, -3.141592653589793]}, {\"name\": \"cp\", \"qubits\": [4, 3], \"params\": [1.5707963267948966]}, {\"name\": \"h\", \"qubits\": [3], \"params\": []}, {\"name\": \"cp\", \"qubits\": [4, 2], \"params\": [0.7853981633974483]}, {\"name\": \"cp\", \"qubits\": [3, 2], \"params\": [1.5707963267948966]}, {\"name\": \"h\", \"qubits\": [2], \"params\": []}, {\"name\": \"cp\", \"qubits\": [4, 1], \"params\": [0.39269908169872414]}, {\"name\": \"cp\", \"qubits\": [3, 1], \"params\": [0.7853981633974483]}, {\"name\": \"cp\", \"qubits\": [2, 1], \"params\": [1.5707963267948966]}, {\"name\": \"h\", \"qubits\": [1], \"params\": []}, {\"name\": \"cp\", \"qubits\": [4, 0], \"params\": [0.19634954084936207]}, {\"name\": \"cp\", \"qubits\": [3, 0], \"params\": [0.39269908169872414]}, {\"name\": \"cp\", \"qubits\": [2, 0], \"params\": [0.7853981633974483]}, {\"name\": \"cp\", \"qubits\": [1, 0], \"params\": [1.5707963267948966]}, {\"name\": \"cp\", \"qubits\": [1, 0], \"params\": [-1.5707963267948966]}, {\"name\": \"h\", \"qubits\": [1], \"params\": []}, {\"name\": \"cp\", \"qubits\": [2, 0], \"params\": [-0.7853981633974483]}, {\"name\": \"cp\", \"qubits\": [2, 1], \"params\": [-1.5707963267948966]}, {\"name\": \"h\", \"qubits\": [2], \"params\": []}, {\"name\": \"cp\", \"qubits\": [3, 0], \"params\": [-0.39269908169872414]}, {\"name\": \"cp\", \"qubits\": [3, 1], \"params\": [-0.7853981633974483]}, {\"name\": \"cp\", \"qubits\": [3, 2], \"params\": [-1.5707963267948966]}, {\"name\": \"h\", \"qubits\": [3], \"params\": []}, {\"name\": \"cp\", \"qubits\": [4, 0], \"params\": [-0.19634954084936207]}, {\"name\": \"cp\", \"qubits\": [4, 1], \"params\": [-0.39269908169872414]}, {\"name\": \"cp\", \"qubits\": [4, 2], \"params\": [-0.7853981633974483]}, {\"name\": \"cp\", \"qubits\": [4, 3], \"params\": [-1.5707963267948966]}, {\"name\": \"h\", \"qubits\": [4], \"params\": []}, {\"name\": \"measure\", \"qubits\": [0], \"memory\": [0]}, {\"name\": \"measure\", \"qubits\": [1], \"memory\": [1]}, {\"name\": \"measure\", \"qubits\": [2], \"memory\": [2]}, {\"name\": \"measure\", \"qubits\": [3], \"memory\": [3]}, {\"name\": \"measure\", \"qubits\": [4], \"memory\": [4]}] }\u001b[0m\n",
      "\u001b[34m\tdebug: Circuit was sent.\u001b[0m\n",
      "\u001b[34m\tdebug: Qjob submitted to QPU 6.\u001b[0m\n",
      "\u001b[34m\tdebug: Result received: {'backend_name': '', 'backend_version': '', 'date': '', 'job_id': '', 'metadata': {'max_gpu_memory_mb': 0, 'max_memory_mb': 1031551, 'omp_enabled': True, 'parallel_experiments': 1, 'time_taken_execute': 0.000919426, 'time_taken_parameter_binding': 1.1654e-05}, 'qobj_id': '', 'results': [{'data': {'counts': {'0x19': 1000}}, 'metadata': {'active_input_qubits': [0, 1, 2, 3, 4], 'batched_shots_optimization': False, 'device': 'CPU', 'fusion': {'applied': False, 'enabled': True, 'max_fused_qubits': 5, 'threshold': 14}, 'input_qubit_map': [[4, 4], [3, 3], [2, 2], [1, 1], [0, 0]], 'max_memory_mb': 1031551, 'measure_sampling': True, 'method': 'statevector', 'noise': 'ideal', 'num_bind_params': 1, 'num_clbits': 5, 'num_qubits': 5, 'parallel_shots': 1, 'parallel_state_update': 2, 'remapped_qubits': False, 'required_memory_mb': 1, 'runtime_parameter_bind': False, 'sample_measure_time': 0.0002872, 'time_taken': 0.000898591}, 'seed_simulator': 188, 'shots': 1000, 'status': 'DONE', 'success': True, 'time_taken': 0.000898591}], 'status': 'COMPLETED', 'success': True}\n",
      "\u001b[0m\n",
      "\u001b[34m\tdebug: Results correctly loaded.\u001b[0m\n",
      "Result: \n",
      "{'11001': 1000}\n",
      " Time taken: 0.000898591 s.\n",
      "For QPU 7, with backend BasicAer:\n",
      "\u001b[34m\tdebug: Transpilation done.\u001b[0m\n",
      "\u001b[34m\tdebug: A QuantumCircuit was provided.\u001b[0m\n",
      "\u001b[34m\tdebug: Translating to dict for AerSimulator...\u001b[0m\n",
      "\u001b[34m\tdebug: QJob created.\u001b[0m\n",
      "\u001b[34m\tdebug:  {\"config\":{\"shots\": 1000, \"method\": \"statevector\", \"memory_slots\": 5, \"seed\": 188}, \"instructions\":[{\"name\": \"x\", \"qubits\": [0], \"params\": []}, {\"name\": \"x\", \"qubits\": [3], \"params\": []}, {\"name\": \"u2\", \"qubits\": [4], \"params\": [-3.141592653589793, -3.141592653589793]}, {\"name\": \"cp\", \"qubits\": [4, 3], \"params\": [1.5707963267948966]}, {\"name\": \"h\", \"qubits\": [3], \"params\": []}, {\"name\": \"cp\", \"qubits\": [4, 2], \"params\": [0.7853981633974483]}, {\"name\": \"cp\", \"qubits\": [3, 2], \"params\": [1.5707963267948966]}, {\"name\": \"h\", \"qubits\": [2], \"params\": []}, {\"name\": \"cp\", \"qubits\": [4, 1], \"params\": [0.39269908169872414]}, {\"name\": \"cp\", \"qubits\": [3, 1], \"params\": [0.7853981633974483]}, {\"name\": \"cp\", \"qubits\": [2, 1], \"params\": [1.5707963267948966]}, {\"name\": \"h\", \"qubits\": [1], \"params\": []}, {\"name\": \"cp\", \"qubits\": [4, 0], \"params\": [0.19634954084936207]}, {\"name\": \"cp\", \"qubits\": [3, 0], \"params\": [0.39269908169872414]}, {\"name\": \"cp\", \"qubits\": [2, 0], \"params\": [0.7853981633974483]}, {\"name\": \"cp\", \"qubits\": [1, 0], \"params\": [1.5707963267948966]}, {\"name\": \"cp\", \"qubits\": [1, 0], \"params\": [-1.5707963267948966]}, {\"name\": \"h\", \"qubits\": [1], \"params\": []}, {\"name\": \"cp\", \"qubits\": [2, 0], \"params\": [-0.7853981633974483]}, {\"name\": \"cp\", \"qubits\": [2, 1], \"params\": [-1.5707963267948966]}, {\"name\": \"h\", \"qubits\": [2], \"params\": []}, {\"name\": \"cp\", \"qubits\": [3, 0], \"params\": [-0.39269908169872414]}, {\"name\": \"cp\", \"qubits\": [3, 1], \"params\": [-0.7853981633974483]}, {\"name\": \"cp\", \"qubits\": [3, 2], \"params\": [-1.5707963267948966]}, {\"name\": \"h\", \"qubits\": [3], \"params\": []}, {\"name\": \"cp\", \"qubits\": [4, 0], \"params\": [-0.19634954084936207]}, {\"name\": \"cp\", \"qubits\": [4, 1], \"params\": [-0.39269908169872414]}, {\"name\": \"cp\", \"qubits\": [4, 2], \"params\": [-0.7853981633974483]}, {\"name\": \"cp\", \"qubits\": [4, 3], \"params\": [-1.5707963267948966]}, {\"name\": \"h\", \"qubits\": [4], \"params\": []}, {\"name\": \"measure\", \"qubits\": [0], \"memory\": [0]}, {\"name\": \"measure\", \"qubits\": [1], \"memory\": [1]}, {\"name\": \"measure\", \"qubits\": [2], \"memory\": [2]}, {\"name\": \"measure\", \"qubits\": [3], \"memory\": [3]}, {\"name\": \"measure\", \"qubits\": [4], \"memory\": [4]}] }\u001b[0m\n"
     ]
    },
    {
     "name": "stdout",
     "output_type": "stream",
     "text": [
      "\u001b[34m\tdebug: Circuit was sent.\u001b[0m\n",
      "\u001b[34m\tdebug: Qjob submitted to QPU 7.\u001b[0m\n",
      "\u001b[34m\tdebug: Result received: {'backend_name': '', 'backend_version': '', 'date': '', 'job_id': '', 'metadata': {'max_gpu_memory_mb': 0, 'max_memory_mb': 1031551, 'omp_enabled': True, 'parallel_experiments': 1, 'time_taken_execute': 0.000888361, 'time_taken_parameter_binding': 1.1392e-05}, 'qobj_id': '', 'results': [{'data': {'counts': {'0x19': 1000}}, 'metadata': {'active_input_qubits': [0, 1, 2, 3, 4], 'batched_shots_optimization': False, 'device': 'CPU', 'fusion': {'applied': False, 'enabled': True, 'max_fused_qubits': 5, 'threshold': 14}, 'input_qubit_map': [[4, 4], [3, 3], [2, 2], [1, 1], [0, 0]], 'max_memory_mb': 1031551, 'measure_sampling': True, 'method': 'statevector', 'noise': 'ideal', 'num_bind_params': 1, 'num_clbits': 5, 'num_qubits': 5, 'parallel_shots': 1, 'parallel_state_update': 2, 'remapped_qubits': False, 'required_memory_mb': 1, 'runtime_parameter_bind': False, 'sample_measure_time': 0.000288822, 'time_taken': 0.000867256}, 'seed_simulator': 188, 'shots': 1000, 'status': 'DONE', 'success': True, 'time_taken': 0.000867256}], 'status': 'COMPLETED', 'success': True}\n",
      "\u001b[0m\n",
      "\u001b[34m\tdebug: Results correctly loaded.\u001b[0m\n",
      "Result: \n",
      "{'11001': 1000}\n",
      " Time taken: 0.000867256 s.\n",
      "For QPU 8, with backend BasicAer:\n",
      "\u001b[34m\tdebug: Transpilation done.\u001b[0m\n",
      "\u001b[34m\tdebug: A QuantumCircuit was provided.\u001b[0m\n",
      "\u001b[34m\tdebug: Translating to dict for AerSimulator...\u001b[0m\n",
      "\u001b[34m\tdebug: QJob created.\u001b[0m\n",
      "\u001b[34m\tdebug:  {\"config\":{\"shots\": 1000, \"method\": \"statevector\", \"memory_slots\": 5, \"seed\": 188}, \"instructions\":[{\"name\": \"x\", \"qubits\": [0], \"params\": []}, {\"name\": \"x\", \"qubits\": [3], \"params\": []}, {\"name\": \"u2\", \"qubits\": [4], \"params\": [-3.141592653589793, -3.141592653589793]}, {\"name\": \"cp\", \"qubits\": [4, 3], \"params\": [1.5707963267948966]}, {\"name\": \"h\", \"qubits\": [3], \"params\": []}, {\"name\": \"cp\", \"qubits\": [4, 2], \"params\": [0.7853981633974483]}, {\"name\": \"cp\", \"qubits\": [3, 2], \"params\": [1.5707963267948966]}, {\"name\": \"h\", \"qubits\": [2], \"params\": []}, {\"name\": \"cp\", \"qubits\": [4, 1], \"params\": [0.39269908169872414]}, {\"name\": \"cp\", \"qubits\": [3, 1], \"params\": [0.7853981633974483]}, {\"name\": \"cp\", \"qubits\": [2, 1], \"params\": [1.5707963267948966]}, {\"name\": \"h\", \"qubits\": [1], \"params\": []}, {\"name\": \"cp\", \"qubits\": [4, 0], \"params\": [0.19634954084936207]}, {\"name\": \"cp\", \"qubits\": [3, 0], \"params\": [0.39269908169872414]}, {\"name\": \"cp\", \"qubits\": [2, 0], \"params\": [0.7853981633974483]}, {\"name\": \"cp\", \"qubits\": [1, 0], \"params\": [1.5707963267948966]}, {\"name\": \"cp\", \"qubits\": [1, 0], \"params\": [-1.5707963267948966]}, {\"name\": \"h\", \"qubits\": [1], \"params\": []}, {\"name\": \"cp\", \"qubits\": [2, 0], \"params\": [-0.7853981633974483]}, {\"name\": \"cp\", \"qubits\": [2, 1], \"params\": [-1.5707963267948966]}, {\"name\": \"h\", \"qubits\": [2], \"params\": []}, {\"name\": \"cp\", \"qubits\": [3, 0], \"params\": [-0.39269908169872414]}, {\"name\": \"cp\", \"qubits\": [3, 1], \"params\": [-0.7853981633974483]}, {\"name\": \"cp\", \"qubits\": [3, 2], \"params\": [-1.5707963267948966]}, {\"name\": \"h\", \"qubits\": [3], \"params\": []}, {\"name\": \"cp\", \"qubits\": [4, 0], \"params\": [-0.19634954084936207]}, {\"name\": \"cp\", \"qubits\": [4, 1], \"params\": [-0.39269908169872414]}, {\"name\": \"cp\", \"qubits\": [4, 2], \"params\": [-0.7853981633974483]}, {\"name\": \"cp\", \"qubits\": [4, 3], \"params\": [-1.5707963267948966]}, {\"name\": \"h\", \"qubits\": [4], \"params\": []}, {\"name\": \"measure\", \"qubits\": [0], \"memory\": [0]}, {\"name\": \"measure\", \"qubits\": [1], \"memory\": [1]}, {\"name\": \"measure\", \"qubits\": [2], \"memory\": [2]}, {\"name\": \"measure\", \"qubits\": [3], \"memory\": [3]}, {\"name\": \"measure\", \"qubits\": [4], \"memory\": [4]}] }\u001b[0m\n",
      "\u001b[34m\tdebug: Circuit was sent.\u001b[0m\n",
      "\u001b[34m\tdebug: Qjob submitted to QPU 8.\u001b[0m\n",
      "\u001b[34m\tdebug: Result received: {'backend_name': '', 'backend_version': '', 'date': '', 'job_id': '', 'metadata': {'max_gpu_memory_mb': 0, 'max_memory_mb': 1031551, 'omp_enabled': True, 'parallel_experiments': 1, 'time_taken_execute': 0.000889515, 'time_taken_parameter_binding': 1.1275e-05}, 'qobj_id': '', 'results': [{'data': {'counts': {'0x19': 1000}}, 'metadata': {'active_input_qubits': [0, 1, 2, 3, 4], 'batched_shots_optimization': False, 'device': 'CPU', 'fusion': {'applied': False, 'enabled': True, 'max_fused_qubits': 5, 'threshold': 14}, 'input_qubit_map': [[4, 4], [3, 3], [2, 2], [1, 1], [0, 0]], 'max_memory_mb': 1031551, 'measure_sampling': True, 'method': 'statevector', 'noise': 'ideal', 'num_bind_params': 1, 'num_clbits': 5, 'num_qubits': 5, 'parallel_shots': 1, 'parallel_state_update': 2, 'remapped_qubits': False, 'required_memory_mb': 1, 'runtime_parameter_bind': False, 'sample_measure_time': 0.000280684, 'time_taken': 0.000870014}, 'seed_simulator': 188, 'shots': 1000, 'status': 'DONE', 'success': True, 'time_taken': 0.000870014}], 'status': 'COMPLETED', 'success': True}\n",
      "\u001b[0m\n",
      "\u001b[34m\tdebug: Results correctly loaded.\u001b[0m\n",
      "Result: \n",
      "{'11001': 1000}\n",
      " Time taken: 0.000870014 s.\n",
      "For QPU 9, with backend BasicAer:\n",
      "\u001b[34m\tdebug: Transpilation done.\u001b[0m\n",
      "\u001b[34m\tdebug: A QuantumCircuit was provided.\u001b[0m\n",
      "\u001b[34m\tdebug: Translating to dict for AerSimulator...\u001b[0m\n",
      "\u001b[34m\tdebug: QJob created.\u001b[0m\n",
      "\u001b[34m\tdebug:  {\"config\":{\"shots\": 1000, \"method\": \"statevector\", \"memory_slots\": 5, \"seed\": 188}, \"instructions\":[{\"name\": \"x\", \"qubits\": [0], \"params\": []}, {\"name\": \"x\", \"qubits\": [3], \"params\": []}, {\"name\": \"u2\", \"qubits\": [4], \"params\": [-3.141592653589793, -3.141592653589793]}, {\"name\": \"cp\", \"qubits\": [4, 3], \"params\": [1.5707963267948966]}, {\"name\": \"h\", \"qubits\": [3], \"params\": []}, {\"name\": \"cp\", \"qubits\": [4, 2], \"params\": [0.7853981633974483]}, {\"name\": \"cp\", \"qubits\": [3, 2], \"params\": [1.5707963267948966]}, {\"name\": \"h\", \"qubits\": [2], \"params\": []}, {\"name\": \"cp\", \"qubits\": [4, 1], \"params\": [0.39269908169872414]}, {\"name\": \"cp\", \"qubits\": [3, 1], \"params\": [0.7853981633974483]}, {\"name\": \"cp\", \"qubits\": [2, 1], \"params\": [1.5707963267948966]}, {\"name\": \"h\", \"qubits\": [1], \"params\": []}, {\"name\": \"cp\", \"qubits\": [4, 0], \"params\": [0.19634954084936207]}, {\"name\": \"cp\", \"qubits\": [3, 0], \"params\": [0.39269908169872414]}, {\"name\": \"cp\", \"qubits\": [2, 0], \"params\": [0.7853981633974483]}, {\"name\": \"cp\", \"qubits\": [1, 0], \"params\": [1.5707963267948966]}, {\"name\": \"cp\", \"qubits\": [1, 0], \"params\": [-1.5707963267948966]}, {\"name\": \"h\", \"qubits\": [1], \"params\": []}, {\"name\": \"cp\", \"qubits\": [2, 0], \"params\": [-0.7853981633974483]}, {\"name\": \"cp\", \"qubits\": [2, 1], \"params\": [-1.5707963267948966]}, {\"name\": \"h\", \"qubits\": [2], \"params\": []}, {\"name\": \"cp\", \"qubits\": [3, 0], \"params\": [-0.39269908169872414]}, {\"name\": \"cp\", \"qubits\": [3, 1], \"params\": [-0.7853981633974483]}, {\"name\": \"cp\", \"qubits\": [3, 2], \"params\": [-1.5707963267948966]}, {\"name\": \"h\", \"qubits\": [3], \"params\": []}, {\"name\": \"cp\", \"qubits\": [4, 0], \"params\": [-0.19634954084936207]}, {\"name\": \"cp\", \"qubits\": [4, 1], \"params\": [-0.39269908169872414]}, {\"name\": \"cp\", \"qubits\": [4, 2], \"params\": [-0.7853981633974483]}, {\"name\": \"cp\", \"qubits\": [4, 3], \"params\": [-1.5707963267948966]}, {\"name\": \"h\", \"qubits\": [4], \"params\": []}, {\"name\": \"measure\", \"qubits\": [0], \"memory\": [0]}, {\"name\": \"measure\", \"qubits\": [1], \"memory\": [1]}, {\"name\": \"measure\", \"qubits\": [2], \"memory\": [2]}, {\"name\": \"measure\", \"qubits\": [3], \"memory\": [3]}, {\"name\": \"measure\", \"qubits\": [4], \"memory\": [4]}] }\u001b[0m\n",
      "\u001b[34m\tdebug: Circuit was sent.\u001b[0m\n",
      "\u001b[34m\tdebug: Qjob submitted to QPU 9.\u001b[0m\n",
      "\u001b[34m\tdebug: Result received: {'backend_name': '', 'backend_version': '', 'date': '', 'job_id': '', 'metadata': {'max_gpu_memory_mb': 0, 'max_memory_mb': 1031551, 'omp_enabled': True, 'parallel_experiments': 1, 'time_taken_execute': 0.000893251, 'time_taken_parameter_binding': 1.121e-05}, 'qobj_id': '', 'results': [{'data': {'counts': {'0x19': 1000}}, 'metadata': {'active_input_qubits': [0, 1, 2, 3, 4], 'batched_shots_optimization': False, 'device': 'CPU', 'fusion': {'applied': False, 'enabled': True, 'max_fused_qubits': 5, 'threshold': 14}, 'input_qubit_map': [[4, 4], [3, 3], [2, 2], [1, 1], [0, 0]], 'max_memory_mb': 1031551, 'measure_sampling': True, 'method': 'statevector', 'noise': 'ideal', 'num_bind_params': 1, 'num_clbits': 5, 'num_qubits': 5, 'parallel_shots': 1, 'parallel_state_update': 2, 'remapped_qubits': False, 'required_memory_mb': 1, 'runtime_parameter_bind': False, 'sample_measure_time': 0.000292109, 'time_taken': 0.000874751}, 'seed_simulator': 188, 'shots': 1000, 'status': 'DONE', 'success': True, 'time_taken': 0.000874751}], 'status': 'COMPLETED', 'success': True}\n",
      "\u001b[0m\n"
     ]
    },
    {
     "name": "stdout",
     "output_type": "stream",
     "text": [
      "\u001b[34m\tdebug: Results correctly loaded.\u001b[0m\n",
      "Result: \n",
      "{'11001': 1000}\n",
      " Time taken: 0.000874751 s.\n"
     ]
    }
   ],
   "source": [
    "counts = []\n",
    "\n",
    "for i, qpu in enumerate(qpus):\n",
    "\n",
    "    print(f\"For QPU {qpu.id}, with backend {qpu.backend.name}:\")\n",
    "    \n",
    "    # 1)\n",
    "    qjob = qpu.run(qc, transpile = True, shots = 1000)# non-blocking call\n",
    "\n",
    "    # 2)\n",
    "    result = qjob.result() # bloking call\n",
    "\n",
    "    # 3)\n",
    "    time = qjob.time_taken()\n",
    "    counts.append(result.get_counts())\n",
    "\n",
    "    print(f\"Result: \\n{result.get_counts()}\\n Time taken: {time} s.\")"
   ]
  },
  {
   "cell_type": "markdown",
   "id": "a0ed6a3b",
   "metadata": {},
   "source": [
    "1. First we run the circuit with the method `QPU.run()`, passing the circuit, transpilation options and other run parameters. It is important to note that if we don´t specify `transpilation=True`, default is `False`, therefore the user will be responsible for the tranpilation of the circuit accordingly to the native gates and topology of the backend. This method will return a `qjob.QJob` object. Be aware that the key point is that the `QPU.run()`  method is **asynchronous**.\n",
    "\n",
    "\n",
    "2. To get the results of the simulation, we apply the method `QJob.result()`, which will return a `qjob.Result` object that stores the information in its class atributes. Depending on the simulator, we will have more or less information. Note that this is a **synchronous** method.\n",
    "\n",
    "\n",
    "3. Once we have the `qjob.Result` object, we can obtain the counts dictionary by `Result.get_counts()`. Another method independent from the simulator is `Result.time_taken()`, that gives us the time of the simulation in seconds."
   ]
  },
  {
   "cell_type": "code",
   "execution_count": null,
   "id": "94a4e3b4",
   "metadata": {},
   "outputs": [],
   "source": [
    "%matplotlib inline\n",
    "\n",
    "from qiskit.visualization import plot_histogram\n",
    "import matplotlib.pyplot as plt\n",
    "plot_histogram(counts, figsize = (10, 5), bar_labels=False); plt.legend([f\"QPU {i}\" for i in range(len(qpus))])\n",
    "plt.show()\n",
    "# plt.savefig(f\"counts_{len(qpus)}_qpus.png\", dpi=200)"
   ]
  },
  {
   "cell_type": "markdown",
   "id": "74236b95",
   "metadata": {},
   "source": [
    "### Cool isn't it? But this circuit is too simple, let's try with a more complex one!"
   ]
  },
  {
   "cell_type": "code",
   "execution_count": null,
   "id": "d38536e0",
   "metadata": {},
   "outputs": [],
   "source": [
    "import json\n",
    "\n",
    "# impoting from examples/circuits/\n",
    "with open(\"circuits/circuit_15qubits_10layers.json\", \"r\") as file:\n",
    "    circuit = json.load(file)"
   ]
  },
  {
   "cell_type": "markdown",
   "id": "375c1c91",
   "metadata": {},
   "source": [
    "We have examples of circuit in `json` format so you can create your own, but as we said, it is not necessary since `qiskit.QuantumCircuit` and `OpenQASM2` are supported."
   ]
  },
  {
   "cell_type": "markdown",
   "id": "f377bb38",
   "metadata": {},
   "source": [
    "### This circuit has 15 qubits and 10 intermidiate measurements, let's run it in AerSimulator"
   ]
  },
  {
   "cell_type": "code",
   "execution_count": 8,
   "id": "9826b567",
   "metadata": {},
   "outputs": [
    {
     "name": "stdout",
     "output_type": "stream",
     "text": [
      "Result: Time taken: 13.459400542 s.\n"
     ]
    }
   ],
   "source": [
    "for qpu in qpus:\n",
    "    if qpu.backend.name == \"BasicAer\":\n",
    "        qpu0 = qpu\n",
    "        break\n",
    "\n",
    "qjob = qpu0.run(circuit, transpile = True, shots = 1000)\n",
    "\n",
    "result = qjob.result() # bloking call\n",
    "\n",
    "time = qjob.time_taken()\n",
    "\n",
    "counts.append(result.get_counts())\n",
    "\n",
    "print(f\"Result: Time taken: {time} s.\")"
   ]
  },
  {
   "cell_type": "markdown",
   "id": "ddcc3435",
   "metadata": {},
   "source": [
    "### Takes much longer ... let's parallelize n executions in n different QPUs"
   ]
  },
  {
   "cell_type": "markdown",
   "id": "3a29ee22",
   "metadata": {},
   "source": [
    "Remenber that sending circuits to a given QPU is a **non-blocking call**, so we can use a loop, keeping the `qjob.QJob` objects in a list."
   ]
  },
  {
   "cell_type": "markdown",
   "id": "5c5046bd",
   "metadata": {},
   "source": [
    "Then, we can wait for all the jobs to finish with the `qjob.gather()` function. Let's measure time to check that we are parallelizing:"
   ]
  },
  {
   "cell_type": "code",
   "execution_count": 9,
   "id": "7d72f869",
   "metadata": {},
   "outputs": [],
   "source": [
    "import time\n",
    "from cunqa import gather\n",
    "\n",
    "qjobs = []\n",
    "n = len(qpus)\n",
    "\n",
    "tick = time.time()\n",
    "\n",
    "for qpu in qpus:\n",
    "    qjobs.append(qpu.run(circuit, transpile = True, shots = 1000))\n",
    "    \n",
    "results = gather(qjobs) # this is a bloking call\n",
    "tack = time.time()"
   ]
  },
  {
   "cell_type": "code",
   "execution_count": 10,
   "id": "1a617a88",
   "metadata": {},
   "outputs": [
    {
     "name": "stdout",
     "output_type": "stream",
     "text": [
      "Time taken to run 2 circuits in parallel: 13.609957695007324 s.\n",
      "Time for each execution:\n",
      "For QJob 0, time taken: 13.411032974 s.\n",
      "For QJob 1, time taken: 13.45488732 s.\n"
     ]
    }
   ],
   "source": [
    "print(f\"Time taken to run {n} circuits in parallel: {tack - tick} s.\")\n",
    "print(\"Time for each execution:\")\n",
    "for i, result in enumerate(results):\n",
    "    print(f\"For QJob {i}, time taken: {result.time_taken} s.\")"
   ]
  },
  {
   "cell_type": "markdown",
   "id": "ce72b755",
   "metadata": {},
   "source": [
    "Looking at the times we confirm that the circuits were run in parallel."
   ]
  }
 ],
 "metadata": {
  "kernelspec": {
   "display_name": "Python 3 (ipykernel)",
   "language": "python",
   "name": "python3"
  },
  "language_info": {
   "codemirror_mode": {
    "name": "ipython",
    "version": 3
   },
   "file_extension": ".py",
   "mimetype": "text/x-python",
   "name": "python",
   "nbconvert_exporter": "python",
   "pygments_lexer": "ipython3",
   "version": "3.9.9"
  }
 },
 "nbformat": 4,
 "nbformat_minor": 5
}
