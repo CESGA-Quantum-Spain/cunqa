{
 "cells": [
  {
   "cell_type": "markdown",
   "id": "26c21ec5",
   "metadata": {},
   "source": [
    "# Example for execution of multiple circuits in QPUs"
   ]
  },
  {
   "cell_type": "markdown",
   "id": "df8dc942",
   "metadata": {},
   "source": [
    "Before executing, you must set up and `qraise` the QPUs, check the `README.md` for instructions. For this examples it will be optimal to have more than one QPU and at least one of them with ideal AerSimulator."
   ]
  },
  {
   "cell_type": "markdown",
   "id": "86cdbafe",
   "metadata": {},
   "source": [
    "### Importing and adding paths to `sys.path`"
   ]
  },
  {
   "cell_type": "code",
   "execution_count": null,
   "id": "c532632a",
   "metadata": {},
   "outputs": [],
   "source": [
    "import os, sys\n",
    "\n",
    "# path to access c++ files\n",
    "installation_path = os.getenv(\"INSTALL_PATH\")\n",
    "sys.path.append(installation_path)\n",
    "\n",
    "print(installation_path)\n",
    "print(os.getenv(\"INFO_PATH\"))\n"
   ]
  },
  {
   "cell_type": "markdown",
   "id": "368e94bf",
   "metadata": {},
   "source": [
    "### Let's get the QPUs that we q-raised!"
   ]
  },
  {
   "cell_type": "code",
   "execution_count": null,
   "id": "c2d0c54e",
   "metadata": {
    "scrolled": false
   },
   "outputs": [],
   "source": [
    "from cunqa import getQPUs\n",
    "\n",
    "qpus  = getQPUs()\n",
    "\n",
    "for q in qpus:\n",
    "    print(f\"QPU {q.id}, backend: {q.backend.name}, simulator: {q.backend.simulator}, version: {q.backend.version}.\")\n"
   ]
  },
  {
   "cell_type": "markdown",
   "id": "0b312b18",
   "metadata": {},
   "source": [
    "The method `getQPUs()` accesses the information of the raised QPus and instanciates one `qpu.QPU` object for each, returning a list. If you are working with `jupyter notebook` we recomend to instanciate this method just once.\n",
    "\n",
    "About the `qpu.QPU` objects:\n",
    "\n",
    "- `QPU.id`: identificator of the virtual QPU, they will be asigned from 0 to n-1.\n",
    "\n",
    "\n",
    "- `QPU.backend`: object `backend.Backend` that has information about the simulator and backend for the given QPU.\n"
   ]
  },
  {
   "cell_type": "markdown",
   "id": "2ce62634",
   "metadata": {},
   "source": [
    "### Let's create a circuit to run in our QPUs!"
   ]
  },
  {
   "cell_type": "markdown",
   "id": "29555d4b",
   "metadata": {},
   "source": [
    "We can create the circuit using `qiskit` or writting the instructions in the `json` format specific for `cunqa` (check the `README.md`), `OpenQASM2` is also supported. Here we choose not to complicate things and we create a `qiskit.QuantumCircuit`:"
   ]
  },
  {
   "cell_type": "code",
   "execution_count": null,
   "id": "c5350387",
   "metadata": {},
   "outputs": [],
   "source": [
    "from qiskit import QuantumCircuit\n",
    "from qiskit.circuit.library import QFT\n",
    "\n",
    "n = 5 # number of qubits\n",
    "\n",
    "qc = QuantumCircuit(n)\n",
    "\n",
    "qc.x(0); qc.x(n-1); qc.x(n-2)\n",
    "\n",
    "qc.append(QFT(n), range(n))\n",
    "\n",
    "qc.append(QFT(n).inverse(), range(n))\n",
    "\n",
    "qc.measure_all()\n",
    "\n",
    "display(qc.draw())"
   ]
  },
  {
   "cell_type": "markdown",
   "id": "bf2f0f88",
   "metadata": {},
   "source": [
    "### Execution time! Let's do it sequentially"
   ]
  },
  {
   "cell_type": "code",
   "execution_count": null,
   "id": "c5c6682c",
   "metadata": {
    "scrolled": false
   },
   "outputs": [],
   "source": [
    "counts = []\n",
    "\n",
    "for i, qpu in enumerate(qpus):\n",
    "\n",
    "    print(f\"For QPU {qpu.id}, with backend {qpu.backend.name}:\")\n",
    "    \n",
    "    # 1)\n",
    "    qjob = qpu.run(qc, transpile = True, shots = 1000)# non-blocking call\n",
    "\n",
    "    # 2)\n",
    "    result = qjob.result() # bloking call\n",
    "\n",
    "    # 3)\n",
    "    time = qjob.time_taken()\n",
    "    counts.append(result.get_counts())\n",
    "\n",
    "    print(f\"Result: \\n{result.get_counts()}\\n Time taken: {time} s.\")"
   ]
  },
  {
   "cell_type": "markdown",
   "id": "a0ed6a3b",
   "metadata": {},
   "source": [
    "1. First we run the circuit with the method `QPU.run()`, passing the circuit, transpilation options and other run parameters. It is important to note that if we don´t specify `transpilation=True`, default is `False`, therefore the user will be responsible for the tranpilation of the circuit accordingly to the native gates and topology of the backend. This method will return a `qjob.QJob` object. Be aware that the key point is that the `QPU.run()`  method is **asynchronous**.\n",
    "\n",
    "\n",
    "2. To get the results of the simulation, we apply the method `QJob.result()`, which will return a `qjob.Result` object that stores the information in its class atributes. Depending on the simulator, we will have more or less information. Note that this is a **synchronous** method.\n",
    "\n",
    "\n",
    "3. Once we have the `qjob.Result` object, we can obtain the counts dictionary by `Result.get_counts()`. Another method independent from the simulator is `Result.time_taken()`, that gives us the time of the simulation in seconds."
   ]
  },
  {
   "cell_type": "code",
   "execution_count": null,
   "id": "94a4e3b4",
   "metadata": {},
   "outputs": [],
   "source": [
    "%matplotlib inline\n",
    "\n",
    "from qiskit.visualization import plot_histogram\n",
    "import matplotlib.pyplot as plt\n",
    "plot_histogram(counts, figsize = (10, 5), bar_labels=False, legend = [f\"QPU {i}\" for i in range(len(qpus))])\n",
    "# plt.savefig(f\"counts_{len(qpus)}_qpus.png\", dpi=200)"
   ]
  },
  {
   "cell_type": "markdown",
   "id": "74236b95",
   "metadata": {},
   "source": [
    "### Cool isn't it? But this circuit is too simple, let's try with a more complex one!"
   ]
  },
  {
   "cell_type": "code",
   "execution_count": null,
   "id": "d38536e0",
   "metadata": {},
   "outputs": [],
   "source": [
    "import json\n",
    "\n",
    "# impoting from examples/circuits/\n",
    "with open(\"circuits/circuit_15qubits_10layers.json\", \"r\") as file:\n",
    "    circuit = json.load(file)"
   ]
  },
  {
   "cell_type": "markdown",
   "id": "375c1c91",
   "metadata": {},
   "source": [
    "We have examples of circuit in `json` format so you can create your own, but as we said, it is not necessary since `qiskit.QuantumCircuit` and `OpenQASM2` are supported."
   ]
  },
  {
   "cell_type": "markdown",
   "id": "f377bb38",
   "metadata": {},
   "source": [
    "### This circuit has 15 qubits and 10 intermidiate measurements, let's run it in AerSimulator"
   ]
  },
  {
   "cell_type": "code",
   "execution_count": null,
   "id": "9826b567",
   "metadata": {},
   "outputs": [],
   "source": [
    "for qpu in qpus:\n",
    "    if qpu.backend.name == \"BasicAer\":\n",
    "        qpu0 = qpu\n",
    "        break\n",
    "\n",
    "qjob = qpu0.run(circuit, transpile = True, shots = 1000)\n",
    "\n",
    "result = qjob.result() # bloking call\n",
    "\n",
    "time = qjob.time_taken()\n",
    "\n",
    "counts = result.get_counts()\n",
    "\n",
    "print(f\"Result: Time taken: {time} s.\")"
   ]
  },
  {
   "cell_type": "markdown",
   "id": "ddcc3435",
   "metadata": {},
   "source": [
    "### Takes much longer ... let's parallelize n executions in n different QPUs"
   ]
  },
  {
   "cell_type": "markdown",
   "id": "3a29ee22",
   "metadata": {},
   "source": [
    "Remenber that sending circuits to a given QPU is a **non-blocking call**, so we can use a loop, keeping the `qjob.QJob` objects in a list."
   ]
  },
  {
   "cell_type": "markdown",
   "id": "5c5046bd",
   "metadata": {},
   "source": [
    "Then, we can wait for all the jobs to finish with the `qjob.gather()` function. Let's measure time to check that we are parallelizing:"
   ]
  },
  {
   "cell_type": "code",
   "execution_count": null,
   "id": "7d72f869",
   "metadata": {
    "scrolled": false
   },
   "outputs": [],
   "source": [
    "import time\n",
    "from cunqa import gather\n",
    "\n",
    "qjobs = []\n",
    "n = len(qpus)\n",
    "\n",
    "tick = time.time()\n",
    "\n",
    "for qpu in qpus:\n",
    "    qjobs.append(qpu.run(circuit, transpile = True, shots = 1000))\n",
    "    \n",
    "results = gather(qjobs) # this is a bloking call\n",
    "tack = time.time()"
   ]
  },
  {
   "cell_type": "code",
   "execution_count": null,
   "id": "1a617a88",
   "metadata": {},
   "outputs": [],
   "source": [
    "print(f\"Time taken to run {n} circuits in parallel: {tack - tick} s.\")\n",
    "print(\"Time for each execution:\")\n",
    "for i, result in enumerate(results):\n",
    "    print(f\"For QJob {i}, time taken: {result.time_taken} s.\")"
   ]
  },
  {
   "cell_type": "markdown",
   "id": "ce72b755",
   "metadata": {},
   "source": [
    "Looking at the times we confirm that the circuits were run in parallel."
   ]
  }
 ],
 "metadata": {
  "kernelspec": {
   "display_name": "Python 3 (ipykernel)",
   "language": "python",
   "name": "python3"
  },
  "language_info": {
   "codemirror_mode": {
    "name": "ipython",
    "version": 3
   },
   "file_extension": ".py",
   "mimetype": "text/x-python",
   "name": "python",
   "nbconvert_exporter": "python",
   "pygments_lexer": "ipython3",
   "version": "3.9.9"
  }
 },
 "nbformat": 4,
 "nbformat_minor": 5
}
