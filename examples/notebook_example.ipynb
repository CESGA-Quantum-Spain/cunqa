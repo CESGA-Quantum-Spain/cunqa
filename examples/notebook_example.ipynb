{
 "cells": [
  {
   "cell_type": "markdown",
   "id": "26c21ec5",
   "metadata": {},
   "source": [
    "# Example for execution of multiple circuits in QPUs"
   ]
  },
  {
   "cell_type": "markdown",
   "id": "86cdbafe",
   "metadata": {},
   "source": [
    "### Importing and adding paths to `sys.path`"
   ]
  },
  {
   "cell_type": "code",
   "execution_count": 17,
   "id": "c532632a",
   "metadata": {},
   "outputs": [],
   "source": [
    "import os, sys\n",
    "\n",
    "# adding pyhton folder path to detect modules\n",
    "#sys.path.insert(0, \"/mnt/netapp1/Store_CESGA/home/cesga/mlosada/api/api-simulator/cunqa\")\n",
    "\n",
    "# path to access c++ files\n",
    "installation_path = os.getenv(\"INSTALL_PATH\")\n",
    "sys.path.append(installation_path)"
   ]
  },
  {
   "cell_type": "markdown",
   "id": "368e94bf",
   "metadata": {},
   "source": [
    "### Let's get the QPUs that we q-raised!"
   ]
  },
  {
   "cell_type": "code",
   "execution_count": 18,
   "id": "c2d0c54e",
   "metadata": {},
   "outputs": [
    {
     "name": "stdout",
     "output_type": "stream",
     "text": [
      "\u001b[34m\tdebug: File accessed correctly.\u001b[0m\n",
      "/mnt/netapp1/Store_CESGA/home/cesga/mlosada/api/api-simulator/installation/cunqa/qpu.py:162\n",
      "\u001b[31m\u001b[1m\terror: No QPUs were found, /mnt/netapp1/Store_CESGA//home/cesga/mlosada/.api_simulator/qpu.json is empty.\u001b[0m\n"
     ]
    },
    {
     "ename": "SystemExit",
     "evalue": "",
     "output_type": "error",
     "traceback": [
      "An exception has occurred, use %tb to see the full traceback.\n",
      "\u001b[0;31mSystemExit\u001b[0m\n"
     ]
    },
    {
     "name": "stderr",
     "output_type": "stream",
     "text": [
      "/opt/cesga/qmio/hpc/software/Compiler/gcccore/12.3.0/python/3.9.9/lib/python3.9/site-packages/IPython/core/interactiveshell.py:3452: UserWarning: To exit: use 'exit', 'quit', or Ctrl-D.\n",
      "  warn(\"To exit: use 'exit', 'quit', or Ctrl-D.\", stacklevel=1)\n"
     ]
    }
   ],
   "source": [
    "from cunqa.qpu import getQPUs\n",
    "\n",
    "qpus  = getQPUs()\n",
    "\n",
    "for q in qpus:\n",
    "    print(f\"QPU {q.id}, name: {q.backend.name}, backend: {q.backend.simulator}, version: {q.backend.version}.\")\n"
   ]
  },
  {
   "cell_type": "markdown",
   "id": "2ce62634",
   "metadata": {},
   "source": [
    "### Let's create a circuit to run in our QPUs!"
   ]
  },
  {
   "cell_type": "code",
   "execution_count": 8,
   "id": "c5350387",
   "metadata": {},
   "outputs": [
    {
     "data": {
      "text/html": [
       "<pre style=\"word-wrap: normal;white-space: pre;background: #fff0;line-height: 1.1;font-family: &quot;Courier New&quot;,Courier,monospace\">        ┌───┐┌──────┐┌───────┐ ░ ┌─┐            \n",
       "   q_0: ┤ X ├┤0     ├┤0      ├─░─┤M├────────────\n",
       "        └───┘│      ││       │ ░ └╥┘┌─┐         \n",
       "   q_1: ─────┤1     ├┤1      ├─░──╫─┤M├─────────\n",
       "             │      ││       │ ░  ║ └╥┘┌─┐      \n",
       "   q_2: ─────┤2 QFT ├┤2 IQFT ├─░──╫──╫─┤M├──────\n",
       "        ┌───┐│      ││       │ ░  ║  ║ └╥┘┌─┐   \n",
       "   q_3: ┤ X ├┤3     ├┤3      ├─░──╫──╫──╫─┤M├───\n",
       "        ├───┤│      ││       │ ░  ║  ║  ║ └╥┘┌─┐\n",
       "   q_4: ┤ X ├┤4     ├┤4      ├─░──╫──╫──╫──╫─┤M├\n",
       "        └───┘└──────┘└───────┘ ░  ║  ║  ║  ║ └╥┘\n",
       "meas: 5/══════════════════════════╩══╩══╩══╩══╩═\n",
       "                                  0  1  2  3  4 </pre>"
      ],
      "text/plain": [
       "        ┌───┐┌──────┐┌───────┐ ░ ┌─┐            \n",
       "   q_0: ┤ X ├┤0     ├┤0      ├─░─┤M├────────────\n",
       "        └───┘│      ││       │ ░ └╥┘┌─┐         \n",
       "   q_1: ─────┤1     ├┤1      ├─░──╫─┤M├─────────\n",
       "             │      ││       │ ░  ║ └╥┘┌─┐      \n",
       "   q_2: ─────┤2 QFT ├┤2 IQFT ├─░──╫──╫─┤M├──────\n",
       "        ┌───┐│      ││       │ ░  ║  ║ └╥┘┌─┐   \n",
       "   q_3: ┤ X ├┤3     ├┤3      ├─░──╫──╫──╫─┤M├───\n",
       "        ├───┤│      ││       │ ░  ║  ║  ║ └╥┘┌─┐\n",
       "   q_4: ┤ X ├┤4     ├┤4      ├─░──╫──╫──╫──╫─┤M├\n",
       "        └───┘└──────┘└───────┘ ░  ║  ║  ║  ║ └╥┘\n",
       "meas: 5/══════════════════════════╩══╩══╩══╩══╩═\n",
       "                                  0  1  2  3  4 "
      ]
     },
     "metadata": {},
     "output_type": "display_data"
    }
   ],
   "source": [
    "from qiskit import QuantumCircuit\n",
    "from qiskit.circuit.library import QFT\n",
    "\n",
    "n = 5 # number of qubits\n",
    "\n",
    "qc = QuantumCircuit(n)\n",
    "\n",
    "qc.x(0); qc.x(n-1); qc.x(n-2)\n",
    "\n",
    "qc.append(QFT(n), range(n))\n",
    "\n",
    "qc.append(QFT(n).inverse(), range(n))\n",
    "\n",
    "qc.measure_all()\n",
    "\n",
    "display(qc.draw())"
   ]
  },
  {
   "cell_type": "markdown",
   "id": "bf2f0f88",
   "metadata": {},
   "source": [
    "### Execution time! Let's do it sequentially"
   ]
  },
  {
   "cell_type": "code",
   "execution_count": 9,
   "id": "c5c6682c",
   "metadata": {},
   "outputs": [
    {
     "name": "stdout",
     "output_type": "stream",
     "text": [
      "For QPU 0, with backend BasicAer:\n",
      "\u001b[34m\tdebug: Transpilation done.\u001b[0m\n",
      "\u001b[34m\tdebug: A circuit dict was provided.\u001b[0m\n",
      "\u001b[34m\tdebug: Translating to dict for AerSimulator...\u001b[0m\n",
      "\u001b[34m\tdebug: Qjob submitted to QPU 0.\u001b[0m\n",
      "\u001b[34m\tdebug: Results correctly loaded.\u001b[0m\n",
      "Result: \n",
      "{'11001': 1000}\n",
      " Time taken: 0.005048949 s.\n",
      "For QPU 2, with backend BasicMunich:\n",
      "\u001b[34m\tdebug: Transpilation done.\u001b[0m\n",
      "\u001b[34m\tdebug: A circuit dict was provided.\u001b[0m\n",
      "\u001b[34m\tdebug: Translating to QASM2 for MunichSimulator...\u001b[0m\n",
      "\u001b[34m\tdebug: Qjob submitted to QPU 2.\u001b[0m\n",
      "\u001b[34m\tdebug: Results correctly loaded.\u001b[0m\n",
      "Result: \n",
      "{'11001': 1000}\n",
      " Time taken: 0.001124921953305602 s.\n",
      "For QPU 4, with backend FakeQmio:\n",
      "\u001b[34m\tdebug: Transpilation done.\u001b[0m\n",
      "\u001b[34m\tdebug: A circuit dict was provided.\u001b[0m\n",
      "\u001b[34m\tdebug: Translating to dict for AerSimulator...\u001b[0m\n",
      "\u001b[34m\tdebug: Qjob submitted to QPU 4.\u001b[0m\n",
      "\u001b[34m\tdebug: Results correctly loaded.\u001b[0m\n",
      "Result: \n",
      "{'00000': 22, '00001': 25, '10000': 28, '10001': 38, '10010': 15, '10011': 19, '10100': 34, '10101': 34, '10110': 18, '10111': 35, '11000': 92, '11001': 114, '11010': 39, '11011': 27, '11100': 54, '11101': 46, '11110': 21, '11111': 15, '00010': 10, '00011': 11, '00100': 16, '00101': 20, '00110': 10, '00111': 19, '01000': 36, '01001': 76, '01010': 18, '01011': 23, '01100': 27, '01101': 30, '01110': 13, '01111': 15}\n",
      " Time taken: 0.075707833 s.\n",
      "For QPU 5, with backend FakeQmio:\n",
      "\u001b[34m\tdebug: Transpilation done.\u001b[0m\n",
      "\u001b[34m\tdebug: A circuit dict was provided.\u001b[0m\n",
      "\u001b[34m\tdebug: Translating to dict for AerSimulator...\u001b[0m\n",
      "\u001b[34m\tdebug: Qjob submitted to QPU 5.\u001b[0m\n",
      "\u001b[34m\tdebug: Results correctly loaded.\u001b[0m\n",
      "Result: \n",
      "{'00000': 24, '00001': 71, '10000': 31, '10001': 77, '10010': 9, '10011': 40, '10100': 20, '10101': 46, '10110': 12, '10111': 22, '11000': 48, '11001': 184, '11010': 17, '11011': 52, '11100': 21, '11101': 53, '11110': 10, '11111': 22, '00010': 14, '00011': 16, '00100': 7, '00101': 25, '00110': 6, '00111': 11, '01000': 26, '01001': 55, '01010': 11, '01011': 17, '01100': 10, '01101': 31, '01110': 3, '01111': 9}\n",
      " Time taken: 0.065526731 s.\n"
     ]
    }
   ],
   "source": [
    "counts = []\n",
    "\n",
    "for i, qpu in enumerate([qpus[0], qpus[2], qpus[4], qpus[5]]):\n",
    "\n",
    "    print(f\"For QPU {qpu.id}, with backend {qpu.backend.name}:\")\n",
    "\n",
    "    if i == 3:\n",
    "        qjob = qpu.run(qc, transpile = True, initial_layout = [31, 30, 29, 28, 27], shots = 1000)\n",
    "    else:\n",
    "        qjob = qpu.run(qc, transpile = True, shots = 1000)\n",
    "\n",
    "    result = qjob.result() # bloking call\n",
    "\n",
    "    time = qjob.time_taken()\n",
    "\n",
    "    counts.append(result.get_counts())\n",
    "\n",
    "    print(f\"Result: \\n{result.get_counts()}\\n Time taken: {time} s.\")"
   ]
  },
  {
   "cell_type": "code",
   "execution_count": 10,
   "id": "94a4e3b4",
   "metadata": {},
   "outputs": [],
   "source": [
    "from qiskit.visualization import plot_histogram\n",
    "import matplotlib.pyplot as plt\n",
    "plot_histogram(counts, figsize = (10, 5), bar_labels=False); plt.legend([\"QPU 0\", \"QPU 2\", \"QPU 4\", \"QPU 5\"])\n",
    "plt.savefig('counts.png')\n",
    "plt.show()"
   ]
  },
  {
   "cell_type": "markdown",
   "id": "74236b95",
   "metadata": {},
   "source": [
    "### Cool isn't it? But this circuit is too simple, let's try with a more complex one!"
   ]
  },
  {
   "cell_type": "code",
   "execution_count": 11,
   "id": "d38536e0",
   "metadata": {},
   "outputs": [],
   "source": [
    "import json\n",
    "\n",
    "with open(\"circuits/circuit_15qubits_10layers.json\", \"r\") as file:\n",
    "    circuit = json.load(file)"
   ]
  },
  {
   "cell_type": "markdown",
   "id": "f377bb38",
   "metadata": {},
   "source": [
    "### This circuit has 15 qubits and 10 intermidiate measurements, let's run it in AerSimulator"
   ]
  },
  {
   "cell_type": "code",
   "execution_count": 12,
   "id": "9826b567",
   "metadata": {},
   "outputs": [
    {
     "name": "stdout",
     "output_type": "stream",
     "text": [
      "\u001b[34m\tdebug: Transpilation done.\u001b[0m\n",
      "\u001b[34m\tdebug: A circuit dict was provided.\u001b[0m\n",
      "\u001b[34m\tdebug: Translating to dict for AerSimulator...\u001b[0m\n",
      "\u001b[34m\tdebug: Qjob submitted to QPU 0.\u001b[0m\n",
      "\u001b[34m\tdebug: Results correctly loaded.\u001b[0m\n",
      "Result: Time taken: 9.002360148 s.\n"
     ]
    }
   ],
   "source": [
    "for qpu in qpus:\n",
    "    if qpu.backend.name == \"BasicAer\":\n",
    "        qpu0 = qpu\n",
    "        break\n",
    "\n",
    "qjob = qpu0.run(circuit, transpile = True, shots = 1000)\n",
    "\n",
    "result = qjob.result() # bloking call\n",
    "\n",
    "time = qjob.time_taken()\n",
    "\n",
    "counts.append(result.get_counts())\n",
    "\n",
    "print(f\"Result: Time taken: {time} s.\")"
   ]
  },
  {
   "cell_type": "markdown",
   "id": "ddcc3435",
   "metadata": {},
   "source": [
    "### Takes much longer ... let's parallelize 3 executions in 3 different QPUs"
   ]
  },
  {
   "cell_type": "markdown",
   "id": "3a29ee22",
   "metadata": {},
   "source": [
    "### Remenber that sending circuits to a given QPU is a non blocking call, so we can use a loop, keeping the QJOb objects in a list."
   ]
  },
  {
   "cell_type": "markdown",
   "id": "5c5046bd",
   "metadata": {},
   "source": [
    "### Then, we can wait for all the jobs to finish with the gather function. Let's measure time to check that we are parallelizing:"
   ]
  },
  {
   "cell_type": "code",
   "execution_count": 15,
   "id": "7d72f869",
   "metadata": {},
   "outputs": [
    {
     "name": "stdout",
     "output_type": "stream",
     "text": [
      "\u001b[34m\tdebug: Transpilation done.\u001b[0m\n",
      "\u001b[34m\tdebug: A circuit dict was provided.\u001b[0m\n",
      "\u001b[34m\tdebug: Translating to dict for AerSimulator...\u001b[0m\n",
      "\u001b[34m\tdebug: Qjob submitted to QPU 0.\u001b[0m\n",
      "\u001b[34m\tdebug: Transpilation done.\u001b[0m\n",
      "\u001b[34m\tdebug: A circuit dict was provided.\u001b[0m\n",
      "\u001b[34m\tdebug: Translating to QASM2 for MunichSimulator...\u001b[0m\n",
      "\u001b[34m\tdebug: Qjob submitted to QPU 2.\u001b[0m\n",
      "\u001b[34m\tdebug: Transpilation done.\u001b[0m\n",
      "\u001b[34m\tdebug: A circuit dict was provided.\u001b[0m\n",
      "\u001b[34m\tdebug: Translating to dict for AerSimulator...\u001b[0m\n",
      "\u001b[34m\tdebug: Qjob submitted to QPU 4.\u001b[0m\n",
      "\u001b[34m\tdebug: Results correctly loaded.\u001b[0m\n",
      "\u001b[34m\tdebug: Results correctly loaded.\u001b[0m\n",
      "\u001b[34m\tdebug: Results correctly loaded.\u001b[0m\n"
     ]
    }
   ],
   "source": [
    "import time\n",
    "from cunqa.qpu import gather\n",
    "\n",
    "qjobs = []\n",
    "\n",
    "\n",
    "tick = time.time()\n",
    "\n",
    "for qpu in [qpus[0], qpus[2], qpus[4]]:\n",
    "    qjobs.append(qpu.run(circuit, transpile = True, shots = 1000))\n",
    "    \n",
    "results = gather(qjobs) # this is a bloking call\n",
    "tack = time.time()"
   ]
  },
  {
   "cell_type": "code",
   "execution_count": 16,
   "id": "1a617a88",
   "metadata": {},
   "outputs": [
    {
     "name": "stdout",
     "output_type": "stream",
     "text": [
      "Time taken to run 3 circuits in parallel: 17.673771858215332 s.\n",
      "Time for each execution:\n",
      "For job 0, time taken: 9.334006437 s.\n",
      "For job 1, time taken: 1.679389238357544 s.\n",
      "For job 2, time taken: 17.271146456 s.\n"
     ]
    }
   ],
   "source": [
    "print(f\"Time taken to run 3 circuits in parallel: {tack - tick} s.\")\n",
    "print(\"Time for each execution:\")\n",
    "for i, result in enumerate(results):\n",
    "    print(f\"For job {i}, time taken: {result.time_taken} s.\")"
   ]
  },
  {
   "cell_type": "code",
   "execution_count": null,
   "id": "c60255b2",
   "metadata": {},
   "outputs": [],
   "source": []
  }
 ],
 "metadata": {
  "kernelspec": {
   "display_name": "Python 3 (ipykernel)",
   "language": "python",
   "name": "python3"
  },
  "language_info": {
   "codemirror_mode": {
    "name": "ipython",
    "version": 3
   },
   "file_extension": ".py",
   "mimetype": "text/x-python",
   "name": "python",
   "nbconvert_exporter": "python",
   "pygments_lexer": "ipython3",
   "version": "3.9.9"
  }
 },
 "nbformat": 4,
 "nbformat_minor": 5
}
