{
 "cells": [
  {
   "cell_type": "markdown",
   "id": "26c21ec5",
   "metadata": {},
   "source": [
    "# Benchmarking for the api - version 0"
   ]
  },
  {
   "cell_type": "markdown",
   "id": "86cdbafe",
   "metadata": {},
   "source": [
    "### QFT + QFT^-1"
   ]
  },
  {
   "cell_type": "markdown",
   "id": "58765a19",
   "metadata": {},
   "source": [
    "#### Probamos con AerSimulator en la interfaz de qiskit"
   ]
  },
  {
   "cell_type": "code",
   "execution_count": 1,
   "id": "c532632a",
   "metadata": {},
   "outputs": [
    {
     "data": {
      "text/html": [
       "<pre style=\"word-wrap: normal;white-space: pre;background: #fff0;line-height: 1.1;font-family: &quot;Courier New&quot;,Courier,monospace\">         ┌───┐┌──────┐┌───────┐ ░ ┌─┐                           \n",
       "    q_0: ┤ X ├┤0     ├┤0      ├─░─┤M├───────────────────────────\n",
       "         └───┘│      ││       │ ░ └╥┘┌─┐                        \n",
       "    q_1: ─────┤1     ├┤1      ├─░──╫─┤M├────────────────────────\n",
       "              │      ││       │ ░  ║ └╥┘┌─┐                     \n",
       "    q_2: ─────┤2     ├┤2      ├─░──╫──╫─┤M├─────────────────────\n",
       "              │      ││       │ ░  ║  ║ └╥┘┌─┐                  \n",
       "    q_3: ─────┤3     ├┤3      ├─░──╫──╫──╫─┤M├──────────────────\n",
       "              │      ││       │ ░  ║  ║  ║ └╥┘┌─┐               \n",
       "    q_4: ─────┤4     ├┤4      ├─░──╫──╫──╫──╫─┤M├───────────────\n",
       "              │  QFT ││  IQFT │ ░  ║  ║  ║  ║ └╥┘┌─┐            \n",
       "    q_5: ─────┤5     ├┤5      ├─░──╫──╫──╫──╫──╫─┤M├────────────\n",
       "              │      ││       │ ░  ║  ║  ║  ║  ║ └╥┘┌─┐         \n",
       "    q_6: ─────┤6     ├┤6      ├─░──╫──╫──╫──╫──╫──╫─┤M├─────────\n",
       "              │      ││       │ ░  ║  ║  ║  ║  ║  ║ └╥┘┌─┐      \n",
       "    q_7: ─────┤7     ├┤7      ├─░──╫──╫──╫──╫──╫──╫──╫─┤M├──────\n",
       "         ┌───┐│      ││       │ ░  ║  ║  ║  ║  ║  ║  ║ └╥┘┌─┐   \n",
       "    q_8: ┤ X ├┤8     ├┤8      ├─░──╫──╫──╫──╫──╫──╫──╫──╫─┤M├───\n",
       "         ├───┤│      ││       │ ░  ║  ║  ║  ║  ║  ║  ║  ║ └╥┘┌─┐\n",
       "    q_9: ┤ X ├┤9     ├┤9      ├─░──╫──╫──╫──╫──╫──╫──╫──╫──╫─┤M├\n",
       "         └───┘└──────┘└───────┘ ░  ║  ║  ║  ║  ║  ║  ║  ║  ║ └╥┘\n",
       "meas: 10/══════════════════════════╩══╩══╩══╩══╩══╩══╩══╩══╩══╩═\n",
       "                                   0  1  2  3  4  5  6  7  8  9 </pre>"
      ],
      "text/plain": [
       "         ┌───┐┌──────┐┌───────┐ ░ ┌─┐                           \n",
       "    q_0: ┤ X ├┤0     ├┤0      ├─░─┤M├───────────────────────────\n",
       "         └───┘│      ││       │ ░ └╥┘┌─┐                        \n",
       "    q_1: ─────┤1     ├┤1      ├─░──╫─┤M├────────────────────────\n",
       "              │      ││       │ ░  ║ └╥┘┌─┐                     \n",
       "    q_2: ─────┤2     ├┤2      ├─░──╫──╫─┤M├─────────────────────\n",
       "              │      ││       │ ░  ║  ║ └╥┘┌─┐                  \n",
       "    q_3: ─────┤3     ├┤3      ├─░──╫──╫──╫─┤M├──────────────────\n",
       "              │      ││       │ ░  ║  ║  ║ └╥┘┌─┐               \n",
       "    q_4: ─────┤4     ├┤4      ├─░──╫──╫──╫──╫─┤M├───────────────\n",
       "              │  QFT ││  IQFT │ ░  ║  ║  ║  ║ └╥┘┌─┐            \n",
       "    q_5: ─────┤5     ├┤5      ├─░──╫──╫──╫──╫──╫─┤M├────────────\n",
       "              │      ││       │ ░  ║  ║  ║  ║  ║ └╥┘┌─┐         \n",
       "    q_6: ─────┤6     ├┤6      ├─░──╫──╫──╫──╫──╫──╫─┤M├─────────\n",
       "              │      ││       │ ░  ║  ║  ║  ║  ║  ║ └╥┘┌─┐      \n",
       "    q_7: ─────┤7     ├┤7      ├─░──╫──╫──╫──╫──╫──╫──╫─┤M├──────\n",
       "         ┌───┐│      ││       │ ░  ║  ║  ║  ║  ║  ║  ║ └╥┘┌─┐   \n",
       "    q_8: ┤ X ├┤8     ├┤8      ├─░──╫──╫──╫──╫──╫──╫──╫──╫─┤M├───\n",
       "         ├───┤│      ││       │ ░  ║  ║  ║  ║  ║  ║  ║  ║ └╥┘┌─┐\n",
       "    q_9: ┤ X ├┤9     ├┤9      ├─░──╫──╫──╫──╫──╫──╫──╫──╫──╫─┤M├\n",
       "         └───┘└──────┘└───────┘ ░  ║  ║  ║  ║  ║  ║  ║  ║  ║ └╥┘\n",
       "meas: 10/══════════════════════════╩══╩══╩══╩══╩══╩══╩══╩══╩══╩═\n",
       "                                   0  1  2  3  4  5  6  7  8  9 "
      ]
     },
     "metadata": {},
     "output_type": "display_data"
    }
   ],
   "source": [
    "from qiskit import QuantumCircuit\n",
    "from qiskit.circuit.library import QFT\n",
    "\n",
    "n = 10\n",
    "\n",
    "qc = QuantumCircuit(n)\n",
    "\n",
    "qc.x(0); qc.x(n-1); qc.x(n-2)\n",
    "\n",
    "qc.append(QFT(n), range(n))\n",
    "\n",
    "qc.append(QFT(n).inverse(), range(n))\n",
    "\n",
    "qc.measure_all()\n",
    "\n",
    "display(qc.draw())\n",
    "\n",
    "qc = qc.decompose().decompose().decompose()"
   ]
  },
  {
   "cell_type": "markdown",
   "id": "b775a306",
   "metadata": {},
   "source": [
    "Voy a probar con `qiskit`, usando `AerSimulator` de `qiskit_aer`."
   ]
  },
  {
   "cell_type": "code",
   "execution_count": 2,
   "id": "9112b165",
   "metadata": {},
   "outputs": [
    {
     "name": "stdout",
     "output_type": "stream",
     "text": [
      "1100000001: 4000\n"
     ]
    }
   ],
   "source": [
    "from qiskit_aer import AerSimulator\n",
    "from qiskit import transpile\n",
    "from qiskit.visualization import plot_histogram\n",
    "backend = AerSimulator()\n",
    "qct = transpile(qc, backend)\n",
    "result = backend.run(qct, shots = 4000).result()\n",
    "counts_qiskit_aer = result.get_counts()\n",
    "\n",
    "for b, c in counts_qiskit_aer.items():\n",
    "    print(f'{b}: {c}')\n"
   ]
  },
  {
   "cell_type": "markdown",
   "id": "a9724ea6",
   "metadata": {},
   "source": [
    "Esto es evidente: al aplicar la `QFT` y la `IQFT` deberíamos obtener el valor de entrada."
   ]
  },
  {
   "cell_type": "markdown",
   "id": "45fc2789",
   "metadata": {},
   "source": [
    "#### Probamos con la api sin ruido, con una sola qpu"
   ]
  },
  {
   "cell_type": "markdown",
   "id": "214a03e8",
   "metadata": {},
   "source": [
    "En primer lugar, cargamos lo módulos y las variables de entorno que necesitamos:"
   ]
  },
  {
   "cell_type": "code",
   "execution_count": 1,
   "id": "ac9e5322",
   "metadata": {},
   "outputs": [
    {
     "name": "stdout",
     "output_type": "stream",
     "text": [
      "/mnt/netapp1/Store_CESGA/home/cesga/mlosada/api/api-simulator/installation\n"
     ]
    }
   ],
   "source": [
    "import os\n",
    "import sys\n",
    "import json\n",
    "import time\n",
    "\n",
    "install_path = os.getenv(\"INSTALL_PATH\")\n",
    "print(install_path)# como no me lo pilla pues lo pongo a mano\n",
    "sys.path.insert(0, \"/mnt/netapp1/Store_CESGA/home/cesga/mlosada/api/api-simulator/installation\")\n",
    "sys.path.insert(0, \"/mnt/netapp1/Store_CESGA/home/cesga/mlosada/api/api-simulator/python\")"
   ]
  },
  {
   "cell_type": "code",
   "execution_count": 2,
   "id": "dd144fd3",
   "metadata": {},
   "outputs": [],
   "source": [
    "from qpu import QPU, getQPUs\n",
    "from qjob import gather"
   ]
  },
  {
   "cell_type": "markdown",
   "id": "6c6ca5a5",
   "metadata": {},
   "source": [
    "En primer lugar usamos la función `get_QPUs()` para crear nuestra lista de máquinas."
   ]
  },
  {
   "cell_type": "code",
   "execution_count": 3,
   "id": "ffd4f669",
   "metadata": {},
   "outputs": [
    {
     "name": "stdout",
     "output_type": "stream",
     "text": [
      "QPUs disponibles:\n",
      "QPU 0, backend: FakeQmio.\n"
     ]
    }
   ],
   "source": [
    "qpus = getQPUs()\n",
    "\n",
    "print(\"QPUs disponibles:\")\n",
    "for q in qpus:\n",
    "    print(f\"QPU {q.id_}, backend: {q.backend.name}.\")"
   ]
  },
  {
   "cell_type": "markdown",
   "id": "a0841da5",
   "metadata": {},
   "source": [
    "Vamos a obtener información sobre el backend de la primera QPU:"
   ]
  },
  {
   "cell_type": "code",
   "execution_count": 4,
   "id": "6f7714e3",
   "metadata": {},
   "outputs": [
    {
     "name": "stdout",
     "output_type": "stream",
     "text": [
      "--- Backend configuration ---\n",
      "basis_gates: ['sx', 'x', 'rz', 'ecr']\n",
      "conditional: True\n",
      "coupling_map: []\n",
      "custom_instructions: \n",
      "description: FakeQmio backend\n",
      "gates: []\n",
      "is_simulator: True\n",
      "max_shots: 1000000\n",
      "memory: True\n",
      "n_qubits: 32\n",
      "name: FakeQmio\n",
      "simulator: AerSimulator\n",
      "url: \n",
      "version: \n"
     ]
    }
   ],
   "source": [
    "qpu0 = qpus[0]\n",
    "qpu0.backend.set(\"coupling_map\", [])\n",
    "qpu0.backend.info()"
   ]
  },
  {
   "cell_type": "markdown",
   "id": "098c0b70",
   "metadata": {},
   "source": [
    "Probamos a mandar un `QJob` a `qpu0`, con el mismo número de shots."
   ]
  },
  {
   "cell_type": "code",
   "execution_count": 8,
   "id": "c06edc3e",
   "metadata": {},
   "outputs": [],
   "source": [
    "qjob0 = qpu0.run(qc, shots = 4000, transpile = True)"
   ]
  },
  {
   "cell_type": "code",
   "execution_count": 9,
   "id": "99cd513c",
   "metadata": {},
   "outputs": [],
   "source": [
    "result = qjob0.result()"
   ]
  },
  {
   "cell_type": "code",
   "execution_count": 10,
   "id": "2b05af62",
   "metadata": {},
   "outputs": [],
   "source": [
    "from qiskit.visualization import plot_histogram\n",
    "plot_histogram(result.get_counts()).savefig(\"histograma_fakeqmio.png\")"
   ]
  },
  {
   "cell_type": "code",
   "execution_count": 5,
   "id": "256a6457",
   "metadata": {},
   "outputs": [
    {
     "data": {
      "text/plain": [
       "<qiskit.circuit.instructionset.InstructionSet at 0x146e80634670>"
      ]
     },
     "execution_count": 5,
     "metadata": {},
     "output_type": "execute_result"
    }
   ],
   "source": [
    "from qiskit import QuantumCircuit\n",
    "qc = QuantumCircuit(32,2); qc.h(30); qc.cx(30,31); qc.measure(30,0); qc.measure(31,1)"
   ]
  },
  {
   "cell_type": "code",
   "execution_count": 6,
   "id": "182cadfe",
   "metadata": {},
   "outputs": [
    {
     "name": "stdout",
     "output_type": "stream",
     "text": [
      " {\"config\":{\"shots\": 4000, \"method\": \"statevector\", \"memory_slots\": 2}, \"instructions\":[{\"name\": \"h\", \"qubits\": [30], \"params\": []}, {\"name\": \"cx\", \"qubits\": [30, 31], \"params\": []}, {\"name\": \"measure\", \"qubits\": [30], \"memory\": [0]}, {\"name\": \"measure\", \"qubits\": [31], \"memory\": [1]}] }\n"
     ]
    }
   ],
   "source": [
    "qjob0 = qpu0.run(qc, shots = 4000, transpile = False)"
   ]
  },
  {
   "cell_type": "code",
   "execution_count": 9,
   "id": "9e05fbde",
   "metadata": {},
   "outputs": [],
   "source": [
    "result = qjob0.result()"
   ]
  },
  {
   "cell_type": "code",
   "execution_count": 10,
   "id": "b8976122",
   "metadata": {
    "scrolled": false
   },
   "outputs": [],
   "source": [
    "from qiskit.visualization import plot_histogram\n",
    "plot_histogram(result.get_counts()).savefig(\"histograma_fakeqmio.png\")"
   ]
  },
  {
   "cell_type": "code",
   "execution_count": 7,
   "id": "9e1bfc9c",
   "metadata": {},
   "outputs": [],
   "source": [
    "conf1 = {\"config\":{\"shots\": 4000, \"method\": \"statevector\", \"memory_slots\": 2}, \"instructions\":[{\"name\": \"h\", \"qubits\": [30], \"params\": []}, {\"name\": \"cx\", \"qubits\": [30, 31], \"params\": []}, {\"name\": \"measure\", \"qubits\": [30], \"memory\": [0]}, {\"name\": \"measure\", \"qubits\": [31], \"memory\": [1]}] }"
   ]
  },
  {
   "cell_type": "code",
   "execution_count": 8,
   "id": "da11fca1",
   "metadata": {},
   "outputs": [
    {
     "data": {
      "text/plain": [
       "{'config': {'shots': 4000, 'method': 'statevector', 'memory_slots': 2},\n",
       " 'instructions': [{'name': 'h', 'qubits': [30], 'params': []},\n",
       "  {'name': 'cx', 'qubits': [30, 31], 'params': []},\n",
       "  {'name': 'measure', 'qubits': [30], 'memory': [0]},\n",
       "  {'name': 'measure', 'qubits': [31], 'memory': [1]}]}"
      ]
     },
     "execution_count": 8,
     "metadata": {},
     "output_type": "execute_result"
    }
   ],
   "source": [
    "conf1"
   ]
  },
  {
   "cell_type": "code",
   "execution_count": 11,
   "id": "ec8c89f2",
   "metadata": {},
   "outputs": [
    {
     "name": "stdout",
     "output_type": "stream",
     "text": [
      " {\"config\":{\"shots\": 4000, \"method\": \"statevector\", \"memory_slots\": 2}, \"instructions\":[{\"name\": \"rz\", \"qubits\": [30], \"params\": [1.5707963267948966]}, {\"name\": \"sx\", \"qubits\": [30], \"params\": []}, {\"name\": \"rz\", \"qubits\": [31], \"params\": [-3.141592653589793]}, {\"name\": \"sx\", \"qubits\": [31], \"params\": []}, {\"name\": \"rz\", \"qubits\": [31], \"params\": [-3.141592653589793]}, {\"name\": \"ecr\", \"qubits\": [30, 31], \"params\": []}, {\"name\": \"x\", \"qubits\": [30], \"params\": []}, {\"name\": \"measure\", \"qubits\": [30], \"memory\": [0]}, {\"name\": \"measure\", \"qubits\": [31], \"memory\": [1]}] }\n"
     ]
    }
   ],
   "source": [
    "qjob0 = qpu0.run(qc, shots = 4000, transpile = True)"
   ]
  },
  {
   "cell_type": "code",
   "execution_count": 12,
   "id": "7a49a5bb",
   "metadata": {},
   "outputs": [],
   "source": [
    "conf2 = {\"config\":{\"shots\": 4000, \"method\": \"statevector\", \"memory_slots\": 2}, \"instructions\":[{\"name\": \"rz\", \"qubits\": [30], \"params\": [1.5707963267948966]}, {\"name\": \"sx\", \"qubits\": [30], \"params\": []}, {\"name\": \"rz\", \"qubits\": [31], \"params\": [-3.141592653589793]}, {\"name\": \"sx\", \"qubits\": [31], \"params\": []}, {\"name\": \"rz\", \"qubits\": [31], \"params\": [-3.141592653589793]}, {\"name\": \"ecr\", \"qubits\": [30, 31], \"params\": []}, {\"name\": \"x\", \"qubits\": [30], \"params\": []}, {\"name\": \"measure\", \"qubits\": [30], \"memory\": [0]}, {\"name\": \"measure\", \"qubits\": [31], \"memory\": [1]}] }"
   ]
  },
  {
   "cell_type": "code",
   "execution_count": 13,
   "id": "79e1ae4f",
   "metadata": {},
   "outputs": [],
   "source": [
    "result = qjob0.result()\n",
    "from qiskit.visualization import plot_histogram\n",
    "plot_histogram(result.get_counts()).savefig(\"histograma_fakeqmio_trans.png\")"
   ]
  },
  {
   "cell_type": "code",
   "execution_count": null,
   "id": "3b48c9a7",
   "metadata": {},
   "outputs": [],
   "source": []
  }
 ],
 "metadata": {
  "kernelspec": {
   "display_name": "Python 3 (ipykernel)",
   "language": "python",
   "name": "python3"
  },
  "language_info": {
   "codemirror_mode": {
    "name": "ipython",
    "version": 3
   },
   "file_extension": ".py",
   "mimetype": "text/x-python",
   "name": "python",
   "nbconvert_exporter": "python",
   "pygments_lexer": "ipython3",
   "version": "3.9.9"
  }
 },
 "nbformat": 4,
 "nbformat_minor": 5
}
